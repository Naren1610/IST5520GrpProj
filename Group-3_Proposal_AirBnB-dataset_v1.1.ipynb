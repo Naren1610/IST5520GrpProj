{
 "cells": [
  {
   "cell_type": "markdown",
   "metadata": {},
   "source": [
    "<h1 align=\"center\"> IST 5520 Milestone 1: Proposal </h1>\n",
    "<h3 align=\"center\"> AirBnB Dataset </h3>\n",
    "\n",
    "<h4 align=\"left\"> Student: Ronald Adomako </h3>\n",
    "<h4 align=\"left\"> Student: Idris Dobbs </h3>\n",
    "<h4 align=\"left\"> Student: Narendra Chigili </h3>\n",
    "<h4 align=\"left\"> Student: Nikhil Srirama Sai </h3>"
   ]
  },
  {
   "cell_type": "markdown",
   "metadata": {},
   "source": [
    "# Instruction 1: discussion and dataset"
   ]
  },
  {
   "cell_type": "markdown",
   "metadata": {},
   "source": [
    "1. Discuss with your group members. Choose one of the datasets provided by the\n",
    "instructor for your group project."
   ]
  },
  {
   "cell_type": "markdown",
   "metadata": {},
   "source": [
    "#### We chose the AirBnB dataset for New York City (NYC). We want to build a model that indicates whether hosts are charging an optimum amount for their rental.\n",
    "\n",
    "http://insideairbnb.com/new-york-city/\n",
    "\n",
    "https://docs.google.com/spreadsheets/d/1iWCNJcSutYqpULSQHlNyGInUvHg2BoUGoNRIGa6Szc4/edit?usp=sharing\n",
    "\n",
    "http://insideairbnb.com/get-the-data\n",
    "\n",
    "http://data.insideairbnb.com/united-states/ny/new-york-city/2022-09-07/visualisations/listings.csv\n",
    "\n"
   ]
  },
  {
   "cell_type": "markdown",
   "metadata": {},
   "source": [
    "# Instruction 2: Articles"
   ]
  },
  {
   "cell_type": "markdown",
   "metadata": {},
   "source": [
    "Review at least three articles (peer-reviewed journal or conference articles) that are\n",
    "relevant to your selected dataset. Identify an interesting business problem that can be\n",
    "solved by using business analytics methods. Submit your project proposal."
   ]
  },
  {
   "cell_type": "markdown",
   "metadata": {},
   "source": [
    "### [Analysis of Airbnb Prices using Machine Learning Techniques, Dhillon et. al, 2021](https://ieeexplore.ieee.org/document/9376144)\n",
    "\n",
    "### [Airbnb and House Prices in Amsterdam – part-2, Charles Fried, Nov. 30, 2017](https://medium.com/mobgen/airbnb-and-house-prices-in-amsterdam-part-2-b0fd12db4ed2)\n",
    "\n",
    "### [Insights from Airbnb dataset, Gustavo Santos, Jul 23, 2020](https://medium.com/gustavorsantos/insights-from-airbnb-dataset-7173e03a85ef)\n",
    "\n",
    "### [Data Cleaning and EDA on Airbnb Dataset with Python Pandas and Seaborn, Soner Yıldırım, Dec 14, 2021](https://towardsdatascience.com/data-cleaning-and-eda-on-airbnb-dataset-with-python-pandas-and-seaborn-7c276116b650)"
   ]
  },
  {
   "cell_type": "markdown",
   "metadata": {},
   "source": [
    "# Instruction 3: Proposal (Intro, Lit Rev., Hypothesis, Data)\n",
    "\n",
    "The project proposal should include four sections:\n",
    "\n",
    "• Introduction (background, business settings and scenarios etc.)\n",
    "\n",
    "• Literature Review (a brief review of at least three peer-reviewed articles relevant\n",
    "to your project)\n",
    "\n",
    "• Research Questions (what problems you intend to solve with the selected dataset)\n",
    "\n",
    "• Data (specify data source; provide a data dictionary explaining the meaning of all\n",
    "columns; explain why the dataset is appropriate for addressing your research\n",
    "questions)"
   ]
  },
  {
   "cell_type": "markdown",
   "metadata": {},
   "source": [
    "## Introduction"
   ]
  },
  {
   "cell_type": "markdown",
   "metadata": {},
   "source": [
    "Business Background\n",
    "\n",
    "AirBnB is a PaaS for the short term rental market. Users use the platform to list residences for short term rentals. We noticed that for big cities, such as New York City, there are many host and some may want to use AirBnB for lucrative means. Given location and characteristics of a property, a new host would want to know whether he or she is charging the optimal amount to rent the space to lodgers.\n",
    "\n",
    "We noticed that from the New York City dataset for AirBnB, the categorical variable for location  is too coarse. The descriptor says the location is categorized into five boroughs. For a big city such as New York City, there are a lot of insights missing from a business perspective because neighborhoods vary in propertly drastically even within a single borough. Moreso, the geo-coordinates are to fine for business purposes. To handle this we implement a zip code converter to categorize properies based on their location - Feature Selection."
   ]
  },
  {
   "cell_type": "markdown",
   "metadata": {},
   "source": [
    "## Literature Review"
   ]
  },
  {
   "cell_type": "markdown",
   "metadata": {},
   "source": [
    "Review of “Insights from an Air BnB Dataset”\n",
    "This article explored the “New York City Airbnb Open Data” dataset to get more insight into price average, rent length, distribution of traffic, and reviews for different hosts and areas.\n",
    "\n",
    "Takeaways from the data analysis\n",
    "The top host name is Michael\n",
    "Most properties are in Manhattan, and half of the rentals are for the entire residence as opposed to just a room.\n",
    "The average rate is 152 dollars, and 3/4 of the observations are under 175 dollars.\n",
    "Minimum night mean is seven nights.\n",
    "\n",
    "The top rentals tend to be focused on business more so than tourism. Most of the listings are in Manhattan and Brooklyn, which allows access to the major economic and tourist activity.\n",
    "\n",
    "\n",
    "Review of “Data Cleaning and EDA on AirBnB Dataset with Python Pandas and Seaborn”\n",
    "This article explores the relationship between the list price and the host ID verification, response time, # people accommodated, # days available, amenities, and location. These observations were made based on aggregating the data and averaging the price.\n"
   ]
  },
  {
   "cell_type": "markdown",
   "metadata": {},
   "source": [
    "## Research Question"
   ]
  },
  {
   "cell_type": "markdown",
   "metadata": {},
   "source": [
    "## Data"
   ]
  },
  {
   "cell_type": "markdown",
   "metadata": {},
   "source": [
    "# Instruction 4: Jupyter Notebook"
   ]
  },
  {
   "cell_type": "code",
   "execution_count": 5,
   "metadata": {},
   "outputs": [
    {
     "name": "stdout",
     "output_type": "stream",
     "text": [
      "/opt/anaconda3/envs/MyEnv/bin/python\r\n"
     ]
    }
   ],
   "source": [
    "!which python"
   ]
  },
  {
   "cell_type": "code",
   "execution_count": 6,
   "metadata": {},
   "outputs": [
    {
     "name": "stdout",
     "output_type": "stream",
     "text": [
      "/opt/anaconda3/envs/MyEnv/bin/jupyter\r\n"
     ]
    }
   ],
   "source": [
    "!which jupyter"
   ]
  },
  {
   "cell_type": "code",
   "execution_count": 7,
   "metadata": {},
   "outputs": [
    {
     "name": "stdout",
     "output_type": "stream",
     "text": [
      "/opt/anaconda3/envs/MyEnv/bin/python3\r\n"
     ]
    }
   ],
   "source": [
    "!which python3"
   ]
  },
  {
   "cell_type": "markdown",
   "metadata": {},
   "source": [
    "# Instruction 5: Github Repository and Handles"
   ]
  },
  {
   "cell_type": "markdown",
   "metadata": {},
   "source": [
    "https://github.com/Naren1610/IST5520GrpProj/\n",
    "\n",
    "## IST5520GrpProj\n",
    "\n",
    "<h4 align=\"left\"> Ronald Adomako, adomakor412 </h3>\n",
    "<h4 align=\"left\"> Idris Dobbs, Naren1610 </h3>\n",
    "<h4 align=\"left\"> Narendra Chigili, Naren1610 </h3>\n",
    "<h4 align=\"left\"> Nikhil Srirama Sai </h3>"
   ]
  },
  {
   "cell_type": "markdown",
   "metadata": {},
   "source": [
    "# Instruction 6: Submisssion"
   ]
  },
  {
   "cell_type": "markdown",
   "metadata": {},
   "source": [
    "see Canvas for Group 3"
   ]
  }
 ],
 "metadata": {
  "kernelspec": {
   "display_name": "Python 3",
   "language": "python",
   "name": "python3"
  },
  "language_info": {
   "codemirror_mode": {
    "name": "ipython",
    "version": 3
   },
   "file_extension": ".py",
   "mimetype": "text/x-python",
   "name": "python",
   "nbconvert_exporter": "python",
   "pygments_lexer": "ipython3",
   "version": "3.7.9"
  }
 },
 "nbformat": 4,
 "nbformat_minor": 4
}
