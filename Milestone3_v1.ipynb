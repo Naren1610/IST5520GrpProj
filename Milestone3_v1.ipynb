{
 "cells": [
  {
   "cell_type": "markdown",
   "metadata": {},
   "source": [
    "<h1 align=\"center\"> IST 5520 Milestone 2: Data Analysis I <h1>\n",
    "<h3 align=\"center\"> AirBnB Dataset <h3>\n",
    "\n",
    "#### Student: Ronald Adomako\n",
    "#### Student: Idris Dobbs\n",
    "#### Student: Narendra Chigili\n",
    "#### Student: Nikhil Srirama Sai"
   ]
  },
  {
   "cell_type": "markdown",
   "metadata": {},
   "source": [
    "# Cleanse and visualize data"
   ]
  },
  {
   "cell_type": "markdown",
   "metadata": {},
   "source": [
    "## Introduction"
   ]
  },
  {
   "cell_type": "markdown",
   "metadata": {},
   "source": [
    "AirBnB is a PaaS for the short term rental market. Users use the platform to list residences for short term rentals. We noticed that for big cities, such as New York City, there are many host and some may want to use AirBnB for lucrative means. Given location and characteristics of a property, a new host would want to know whether he or she is charging the optimal amount to rent the space to lodgers.\n",
    "\n",
    "We noticed that from the New York City dataset for AirBnB, the categorical variable for location  was too coarse. The descriptor says the location is categorized into five boroughs. For a big city such as New York City, there are a lot of insights missing from a business perspective because neighborhoods vary drastically in property amenities even within a single borough. Moreso, the geo-coordinates are too fine for business purposes. To handle this we implement a zip code converter to categorize properties based on their location - Feature Selection.\n",
    "\n",
    "- What are the largest determinants / predictors of AirBnB rental prices?\n",
    "- How can we optimize rental revenue based on rental location and other characteristics?\n",
    "- What price should be charged based on rental location/ characteristics?\n",
    "\n",
    "We are opperating under the assumption that NYC AirBnB prices has reached a *steady-state*: i.e. the market has been active for long enough in NYC and there are enough data points (observations) in NYC that the **mean** is meaningful.\n",
    "\n",
    "We want to know whether a host is charging an optimal price. To do this we group the observations by neigborhood and then take the average price. Hosts who charge at or above this price are considered optimal in their respective neighborhood while hosts who charge below the average price for their neighborhood are sub-optimal. Consider the case where all hosts charge the same price within a neighborhood, then the mean is the mode is the median- uniform data, no variance. All the hosts in this neighborhood would be optimal.\n",
    "\n",
    "Consider the case where one of those hosts charge below what would have been the average, then only that host is sub-optimal while the rest are optimal. Conversely, if one host charge above the rest while everyone else charges the same, then that one host would be optimal while the rest are suboptimal.\n",
    "\n",
    "Along with the *steady-state* assumption, by grouping the data by neighborhoods we assume that on average homes and amenities are similar by neighborhood. The geo-coordinates are too fine a scale and the boroughs are too coarse a scale. A meso-scale would be by zipcode, which we would expect to have higher precision of similarities between host, or by neighborhood. For a dataset with 39881 observations, transforming geo-coordinates prove to be computationally expensive (22 hours on standard household computer). We chose the next best meso-scale: what AirBnB features as \"neighbourhood\".\n",
    "\n",
    "From a business perspective, we want to know what percent of hosts per neighborhood are charging an optimal price, and aggregating this data the percent hosts charge an optimal price in NYC overall. We see that using the neighborhood grouping allows us to compare on a common scale for all hosts. We don't have hosts income, so we wouldn't be able to measure profit. Likewise, revenue wouldn't be a fair scale because hosts with more units will outperform host with smaller units just by volume. A nieghborhood comparison allows a better metric to assess price per room, where we expect reasonably small variance per neighborhood. Furthermore, comparing by percentage is normalizes our comparison in general."
   ]
  },
  {
   "cell_type": "markdown",
   "metadata": {},
   "source": [
    "## Data Source and Collection"
   ]
  },
  {
   "cell_type": "markdown",
   "metadata": {},
   "source": [
    "#### We chose the AirBnB dataset for New York City (NYC). We want to build a model that indicates whether hosts are charging an optimum amount for their rental.\n",
    "\n",
    "http://insideairbnb.com/new-york-city/\n",
    "\n",
    "[data dictionary](https://docs.google.com/spreadsheets/d/1iWCNJcSutYqpULSQHlNyGInUvHg2BoUGoNRIGa6Szc4/edit?usp=sharing)\n",
    "\n",
    "http://insideairbnb.com/get-the-data\n",
    "\n",
    "http://data.insideairbnb.com/united-states/ny/new-york-city/2022-09-07/visualisations/listings.csv\n",
    "\n"
   ]
  },
  {
   "cell_type": "code",
   "execution_count": 58,
   "metadata": {},
   "outputs": [],
   "source": [
    "import pandas as pd\n",
    "import matplotlib.pyplot as plt\n",
    "import sidetable as stb\n",
    "import numpy as np\n",
    "import seaborn as sns\n",
    "from scipy import stats as st\n",
    "import statsmodels as sts\n",
    "%matplotlib inline"
   ]
  },
  {
   "cell_type": "code",
   "execution_count": 2,
   "metadata": {},
   "outputs": [],
   "source": [
    "data = pd.read_csv('data_dictionary.csv')\n",
    "\n",
    "csv_URL = \"http://data.insideairbnb.com/united-states/ny/new-york-city/2022-09-07/visualisations/listings.csv\"\n",
    "df2 = pd.read_csv(csv_URL)"
   ]
  },
  {
   "cell_type": "code",
   "execution_count": 3,
   "metadata": {},
   "outputs": [],
   "source": [
    "data_dict = pd.DataFrame(df2.columns, columns=['Features'])\n",
    "data_dict['Description']=None"
   ]
  },
  {
   "cell_type": "markdown",
   "metadata": {},
   "source": [
    "### Dimensional Analysis"
   ]
  },
  {
   "cell_type": "markdown",
   "metadata": {},
   "source": [
    "The data dictionary for New York City AirBnB dataset consists of 75 columns (variables or features) and 39881 observations. Based on our research question and several [Kaggle challenges](https://www.kaggle.com/search?q=airbnb-listing-in-nyc) (www.kaggle.com/search?q=airbnb-listing-in-nyc) we reduced our dimensions to the following **18** features for preliminary analysis."
   ]
  },
  {
   "cell_type": "code",
   "execution_count": 4,
   "metadata": {},
   "outputs": [
    {
     "data": {
      "text/html": [
       "<div>\n",
       "<style scoped>\n",
       "    .dataframe tbody tr th:only-of-type {\n",
       "        vertical-align: middle;\n",
       "    }\n",
       "\n",
       "    .dataframe tbody tr th {\n",
       "        vertical-align: top;\n",
       "    }\n",
       "\n",
       "    .dataframe thead th {\n",
       "        text-align: right;\n",
       "    }\n",
       "</style>\n",
       "<table border=\"1\" class=\"dataframe\">\n",
       "  <thead>\n",
       "    <tr style=\"text-align: right;\">\n",
       "      <th></th>\n",
       "      <th>Features</th>\n",
       "      <th>Description</th>\n",
       "    </tr>\n",
       "  </thead>\n",
       "  <tbody>\n",
       "    <tr>\n",
       "      <th>0</th>\n",
       "      <td>id</td>\n",
       "      <td>Airbnb's unique identifier for the listing</td>\n",
       "    </tr>\n",
       "    <tr>\n",
       "      <th>1</th>\n",
       "      <td>name</td>\n",
       "      <td>Name of the listing</td>\n",
       "    </tr>\n",
       "    <tr>\n",
       "      <th>2</th>\n",
       "      <td>host_id</td>\n",
       "      <td>Airbnb's unique identifier for the host/user</td>\n",
       "    </tr>\n",
       "    <tr>\n",
       "      <th>3</th>\n",
       "      <td>host_name</td>\n",
       "      <td>Name of the host. Usually just the first name(s).</td>\n",
       "    </tr>\n",
       "    <tr>\n",
       "      <th>4</th>\n",
       "      <td>neighbourhood_group</td>\n",
       "      <td>Borough</td>\n",
       "    </tr>\n",
       "    <tr>\n",
       "      <th>5</th>\n",
       "      <td>neighbourhood</td>\n",
       "      <td>Neighborhood equivalent for zip code group</td>\n",
       "    </tr>\n",
       "    <tr>\n",
       "      <th>6</th>\n",
       "      <td>latitude</td>\n",
       "      <td>Uses the World Geodetic System (WGS84) projection for latitude and longitude.</td>\n",
       "    </tr>\n",
       "    <tr>\n",
       "      <th>7</th>\n",
       "      <td>longitude</td>\n",
       "      <td>Uses the World Geodetic System (WGS84) projection for latitude and longitude.</td>\n",
       "    </tr>\n",
       "    <tr>\n",
       "      <th>8</th>\n",
       "      <td>room_type</td>\n",
       "      <td>[Entire home/apt|Private room|Shared room|Hotel]</td>\n",
       "    </tr>\n",
       "    <tr>\n",
       "      <th>9</th>\n",
       "      <td>price</td>\n",
       "      <td>daily price in local currency</td>\n",
       "    </tr>\n",
       "    <tr>\n",
       "      <th>10</th>\n",
       "      <td>minimum_nights</td>\n",
       "      <td>minimum number of night stay for the listing (calendar rules may be different)</td>\n",
       "    </tr>\n",
       "    <tr>\n",
       "      <th>11</th>\n",
       "      <td>number_of_reviews</td>\n",
       "      <td>The number of reviews the listing has</td>\n",
       "    </tr>\n",
       "    <tr>\n",
       "      <th>12</th>\n",
       "      <td>last_review</td>\n",
       "      <td>The date of the last/newest review</td>\n",
       "    </tr>\n",
       "    <tr>\n",
       "      <th>13</th>\n",
       "      <td>reviews_per_month</td>\n",
       "      <td>The number of reviews the listing has over the lifetime of the listing</td>\n",
       "    </tr>\n",
       "    <tr>\n",
       "      <th>14</th>\n",
       "      <td>calculated_host_listings_count</td>\n",
       "      <td>The number of listings the host has in the current scrape, in the city/region geography.</td>\n",
       "    </tr>\n",
       "    <tr>\n",
       "      <th>15</th>\n",
       "      <td>availability_365</td>\n",
       "      <td>avaliability_x. The availability of the listing x days in the future as determined by the calend...</td>\n",
       "    </tr>\n",
       "    <tr>\n",
       "      <th>16</th>\n",
       "      <td>number_of_reviews_ltm</td>\n",
       "      <td>The number of reviews the listing has (in the last 12 months)</td>\n",
       "    </tr>\n",
       "    <tr>\n",
       "      <th>17</th>\n",
       "      <td>license</td>\n",
       "      <td>The licence/permit/registration number</td>\n",
       "    </tr>\n",
       "  </tbody>\n",
       "</table>\n",
       "</div>"
      ],
      "text/plain": [
       "                          Features  \\\n",
       "0                               id   \n",
       "1                             name   \n",
       "2                          host_id   \n",
       "3                        host_name   \n",
       "4              neighbourhood_group   \n",
       "5                    neighbourhood   \n",
       "6                         latitude   \n",
       "7                        longitude   \n",
       "8                        room_type   \n",
       "9                            price   \n",
       "10                  minimum_nights   \n",
       "11               number_of_reviews   \n",
       "12                     last_review   \n",
       "13               reviews_per_month   \n",
       "14  calculated_host_listings_count   \n",
       "15                availability_365   \n",
       "16           number_of_reviews_ltm   \n",
       "17                         license   \n",
       "\n",
       "                                                                                            Description  \n",
       "0                                                            Airbnb's unique identifier for the listing  \n",
       "1                                                                                   Name of the listing  \n",
       "2                                                          Airbnb's unique identifier for the host/user  \n",
       "3                                                     Name of the host. Usually just the first name(s).  \n",
       "4                                                                                               Borough  \n",
       "5                                                            Neighborhood equivalent for zip code group  \n",
       "6                         Uses the World Geodetic System (WGS84) projection for latitude and longitude.  \n",
       "7                         Uses the World Geodetic System (WGS84) projection for latitude and longitude.  \n",
       "8                                                      [Entire home/apt|Private room|Shared room|Hotel]  \n",
       "9                                                                         daily price in local currency  \n",
       "10                       minimum number of night stay for the listing (calendar rules may be different)  \n",
       "11                                                                The number of reviews the listing has  \n",
       "12                                                                   The date of the last/newest review  \n",
       "13                               The number of reviews the listing has over the lifetime of the listing  \n",
       "14             The number of listings the host has in the current scrape, in the city/region geography.  \n",
       "15  avaliability_x. The availability of the listing x days in the future as determined by the calend...  \n",
       "16                                        The number of reviews the listing has (in the last 12 months)  \n",
       "17                                                               The licence/permit/registration number  "
      ]
     },
     "execution_count": 4,
     "metadata": {},
     "output_type": "execute_result"
    }
   ],
   "source": [
    "for i,feature in enumerate(df2.columns):\n",
    "    #print(feature)\n",
    "    #print(type(feature))\n",
    "    val = data[data['Field']==feature]['Description'].values\n",
    "    try:\n",
    "        data_dict.loc[i,'Description'] = val[0]\n",
    "    except: #IndexError\n",
    "        data_dict.loc[i,'Description'] = None\n",
    "        \n",
    "    if feature == 'neighbourhood':\n",
    "        data_dict.loc[i,'Description'] = \\\n",
    "            'Neighborhood equivalent for zip code group'\n",
    "    if feature == 'neighbourhood_group':\n",
    "        data_dict.loc[i,'Description'] = \\\n",
    "            'Borough'        \n",
    "        \n",
    "pd.set_option('display.max_colwidth', 100)\n",
    "data_dict\n"
   ]
  },
  {
   "cell_type": "code",
   "execution_count": 5,
   "metadata": {},
   "outputs": [],
   "source": [
    "csv_URL = \"http://data.insideairbnb.com/united-states/ny/new-york-city/2022-09-07/visualisations/listings.csv\"\n",
    "df = pd.read_csv(csv_URL)"
   ]
  },
  {
   "cell_type": "markdown",
   "metadata": {},
   "source": [
    "## Data Manipulation"
   ]
  },
  {
   "cell_type": "code",
   "execution_count": 6,
   "metadata": {},
   "outputs": [
    {
     "data": {
      "text/plain": [
       "array(['Brooklyn', 'Queens', 'Bronx', 'Manhattan', 'Staten Island'],\n",
       "      dtype=object)"
      ]
     },
     "execution_count": 6,
     "metadata": {},
     "output_type": "execute_result"
    }
   ],
   "source": [
    "df['neighbourhood_group'].unique()"
   ]
  },
  {
   "cell_type": "code",
   "execution_count": 7,
   "metadata": {},
   "outputs": [
    {
     "data": {
      "text/html": [
       "<div>\n",
       "<style scoped>\n",
       "    .dataframe tbody tr th:only-of-type {\n",
       "        vertical-align: middle;\n",
       "    }\n",
       "\n",
       "    .dataframe tbody tr th {\n",
       "        vertical-align: top;\n",
       "    }\n",
       "\n",
       "    .dataframe thead th {\n",
       "        text-align: right;\n",
       "    }\n",
       "</style>\n",
       "<table border=\"1\" class=\"dataframe\">\n",
       "  <thead>\n",
       "    <tr style=\"text-align: right;\">\n",
       "      <th></th>\n",
       "      <th>price</th>\n",
       "    </tr>\n",
       "    <tr>\n",
       "      <th>neighbourhood</th>\n",
       "      <th></th>\n",
       "    </tr>\n",
       "  </thead>\n",
       "  <tbody>\n",
       "    <tr>\n",
       "      <th>Allerton</th>\n",
       "      <td>118.78</td>\n",
       "    </tr>\n",
       "    <tr>\n",
       "      <th>Arden Heights</th>\n",
       "      <td>113.86</td>\n",
       "    </tr>\n",
       "    <tr>\n",
       "      <th>Arrochar</th>\n",
       "      <td>132.06</td>\n",
       "    </tr>\n",
       "    <tr>\n",
       "      <th>Arverne</th>\n",
       "      <td>230.26</td>\n",
       "    </tr>\n",
       "    <tr>\n",
       "      <th>Astoria</th>\n",
       "      <td>109.01</td>\n",
       "    </tr>\n",
       "    <tr>\n",
       "      <th>...</th>\n",
       "      <td>...</td>\n",
       "    </tr>\n",
       "    <tr>\n",
       "      <th>Windsor Terrace</th>\n",
       "      <td>175.40</td>\n",
       "    </tr>\n",
       "    <tr>\n",
       "      <th>Woodhaven</th>\n",
       "      <td>94.53</td>\n",
       "    </tr>\n",
       "    <tr>\n",
       "      <th>Woodlawn</th>\n",
       "      <td>141.00</td>\n",
       "    </tr>\n",
       "    <tr>\n",
       "      <th>Woodrow</th>\n",
       "      <td>115.00</td>\n",
       "    </tr>\n",
       "    <tr>\n",
       "      <th>Woodside</th>\n",
       "      <td>84.72</td>\n",
       "    </tr>\n",
       "  </tbody>\n",
       "</table>\n",
       "<p>244 rows × 1 columns</p>\n",
       "</div>"
      ],
      "text/plain": [
       "                  price\n",
       "neighbourhood          \n",
       "Allerton         118.78\n",
       "Arden Heights    113.86\n",
       "Arrochar         132.06\n",
       "Arverne          230.26\n",
       "Astoria          109.01\n",
       "...                 ...\n",
       "Windsor Terrace  175.40\n",
       "Woodhaven         94.53\n",
       "Woodlawn         141.00\n",
       "Woodrow          115.00\n",
       "Woodside          84.72\n",
       "\n",
       "[244 rows x 1 columns]"
      ]
     },
     "execution_count": 7,
     "metadata": {},
     "output_type": "execute_result"
    }
   ],
   "source": [
    "#Create a data frame grouping by neighborhood for average price\n",
    "hood_price_obj = df[['neighbourhood','price']].groupby('neighbourhood')\n",
    "df_mean_price = hood_price_obj.mean()\n",
    "df_mean_price[['price']] = df_mean_price[['price']].round(2)\n",
    "df_mean_price"
   ]
  },
  {
   "cell_type": "code",
   "execution_count": 8,
   "metadata": {},
   "outputs": [
    {
     "name": "stdout",
     "output_type": "stream",
     "text": [
      "<class 'pandas.core.frame.DataFrame'>\n",
      "Index: 244 entries, Allerton to Woodside\n",
      "Data columns (total 1 columns):\n",
      " #   Column  Non-Null Count  Dtype  \n",
      "---  ------  --------------  -----  \n",
      " 0   price   244 non-null    float64\n",
      "dtypes: float64(1)\n",
      "memory usage: 3.8+ KB\n"
     ]
    }
   ],
   "source": [
    "df_mean_price.info()"
   ]
  },
  {
   "cell_type": "markdown",
   "metadata": {},
   "source": [
    "**We have reduced 39881 into 244 rows of manageable data!**"
   ]
  },
  {
   "cell_type": "code",
   "execution_count": 9,
   "metadata": {},
   "outputs": [
    {
     "data": {
      "text/html": [
       "<div>\n",
       "<style scoped>\n",
       "    .dataframe tbody tr th:only-of-type {\n",
       "        vertical-align: middle;\n",
       "    }\n",
       "\n",
       "    .dataframe tbody tr th {\n",
       "        vertical-align: top;\n",
       "    }\n",
       "\n",
       "    .dataframe thead th {\n",
       "        text-align: right;\n",
       "    }\n",
       "</style>\n",
       "<table border=\"1\" class=\"dataframe\">\n",
       "  <thead>\n",
       "    <tr style=\"text-align: right;\">\n",
       "      <th></th>\n",
       "      <th>neighbourhood</th>\n",
       "      <th>count</th>\n",
       "      <th>percent</th>\n",
       "      <th>cumulative_count</th>\n",
       "      <th>cumulative_percent</th>\n",
       "    </tr>\n",
       "  </thead>\n",
       "  <tbody>\n",
       "    <tr>\n",
       "      <th>0</th>\n",
       "      <td>Bedford-Stuyvesant</td>\n",
       "      <td>2779</td>\n",
       "      <td>6.968230</td>\n",
       "      <td>2779</td>\n",
       "      <td>6.968230</td>\n",
       "    </tr>\n",
       "    <tr>\n",
       "      <th>1</th>\n",
       "      <td>Williamsburg</td>\n",
       "      <td>2456</td>\n",
       "      <td>6.158321</td>\n",
       "      <td>5235</td>\n",
       "      <td>13.126551</td>\n",
       "    </tr>\n",
       "    <tr>\n",
       "      <th>2</th>\n",
       "      <td>Harlem</td>\n",
       "      <td>1878</td>\n",
       "      <td>4.709009</td>\n",
       "      <td>7113</td>\n",
       "      <td>17.835561</td>\n",
       "    </tr>\n",
       "    <tr>\n",
       "      <th>3</th>\n",
       "      <td>Midtown</td>\n",
       "      <td>1701</td>\n",
       "      <td>4.265189</td>\n",
       "      <td>8814</td>\n",
       "      <td>22.100750</td>\n",
       "    </tr>\n",
       "    <tr>\n",
       "      <th>4</th>\n",
       "      <td>Bushwick</td>\n",
       "      <td>1657</td>\n",
       "      <td>4.154861</td>\n",
       "      <td>10471</td>\n",
       "      <td>26.255610</td>\n",
       "    </tr>\n",
       "    <tr>\n",
       "      <th>...</th>\n",
       "      <td>...</td>\n",
       "      <td>...</td>\n",
       "      <td>...</td>\n",
       "      <td>...</td>\n",
       "      <td>...</td>\n",
       "    </tr>\n",
       "    <tr>\n",
       "      <th>239</th>\n",
       "      <td>Fort Wadsworth</td>\n",
       "      <td>1</td>\n",
       "      <td>0.002507</td>\n",
       "      <td>39877</td>\n",
       "      <td>99.989970</td>\n",
       "    </tr>\n",
       "    <tr>\n",
       "      <th>240</th>\n",
       "      <td>Ferry Point Park</td>\n",
       "      <td>1</td>\n",
       "      <td>0.002507</td>\n",
       "      <td>39878</td>\n",
       "      <td>99.992478</td>\n",
       "    </tr>\n",
       "    <tr>\n",
       "      <th>241</th>\n",
       "      <td>Country Club</td>\n",
       "      <td>1</td>\n",
       "      <td>0.002507</td>\n",
       "      <td>39879</td>\n",
       "      <td>99.994985</td>\n",
       "    </tr>\n",
       "    <tr>\n",
       "      <th>242</th>\n",
       "      <td>Bull's Head</td>\n",
       "      <td>1</td>\n",
       "      <td>0.002507</td>\n",
       "      <td>39880</td>\n",
       "      <td>99.997493</td>\n",
       "    </tr>\n",
       "    <tr>\n",
       "      <th>243</th>\n",
       "      <td>Bloomfield</td>\n",
       "      <td>1</td>\n",
       "      <td>0.002507</td>\n",
       "      <td>39881</td>\n",
       "      <td>100.000000</td>\n",
       "    </tr>\n",
       "  </tbody>\n",
       "</table>\n",
       "<p>244 rows × 5 columns</p>\n",
       "</div>"
      ],
      "text/plain": [
       "          neighbourhood  count   percent  cumulative_count  cumulative_percent\n",
       "0    Bedford-Stuyvesant   2779  6.968230              2779            6.968230\n",
       "1          Williamsburg   2456  6.158321              5235           13.126551\n",
       "2                Harlem   1878  4.709009              7113           17.835561\n",
       "3               Midtown   1701  4.265189              8814           22.100750\n",
       "4              Bushwick   1657  4.154861             10471           26.255610\n",
       "..                  ...    ...       ...               ...                 ...\n",
       "239      Fort Wadsworth      1  0.002507             39877           99.989970\n",
       "240    Ferry Point Park      1  0.002507             39878           99.992478\n",
       "241        Country Club      1  0.002507             39879           99.994985\n",
       "242         Bull's Head      1  0.002507             39880           99.997493\n",
       "243          Bloomfield      1  0.002507             39881          100.000000\n",
       "\n",
       "[244 rows x 5 columns]"
      ]
     },
     "execution_count": 9,
     "metadata": {},
     "output_type": "execute_result"
    }
   ],
   "source": [
    "df.stb.freq(['neighbourhood'])"
   ]
  },
  {
   "cell_type": "code",
   "execution_count": 10,
   "metadata": {},
   "outputs": [],
   "source": [
    "#df.stb.freq(['neighbourhood']).describe()"
   ]
  },
  {
   "cell_type": "code",
   "execution_count": 11,
   "metadata": {},
   "outputs": [],
   "source": [
    "#df = df2.sort_values('neighbourhood')\n",
    "df_hood = df.stb.freq(['neighbourhood'])\n",
    "df_hood = df_hood.loc[:,'neighbourhood':'percent']\n",
    "df_hood = df_hood.sort_values('neighbourhood')"
   ]
  },
  {
   "cell_type": "code",
   "execution_count": 12,
   "metadata": {},
   "outputs": [],
   "source": [
    "df_hood.reset_index(inplace=True)"
   ]
  },
  {
   "cell_type": "code",
   "execution_count": 13,
   "metadata": {},
   "outputs": [
    {
     "data": {
      "text/html": [
       "<div>\n",
       "<style scoped>\n",
       "    .dataframe tbody tr th:only-of-type {\n",
       "        vertical-align: middle;\n",
       "    }\n",
       "\n",
       "    .dataframe tbody tr th {\n",
       "        vertical-align: top;\n",
       "    }\n",
       "\n",
       "    .dataframe thead th {\n",
       "        text-align: right;\n",
       "    }\n",
       "</style>\n",
       "<table border=\"1\" class=\"dataframe\">\n",
       "  <thead>\n",
       "    <tr style=\"text-align: right;\">\n",
       "      <th></th>\n",
       "      <th>neighbourhood</th>\n",
       "      <th>price</th>\n",
       "    </tr>\n",
       "  </thead>\n",
       "  <tbody>\n",
       "    <tr>\n",
       "      <th>0</th>\n",
       "      <td>Allerton</td>\n",
       "      <td>118.78</td>\n",
       "    </tr>\n",
       "    <tr>\n",
       "      <th>1</th>\n",
       "      <td>Arden Heights</td>\n",
       "      <td>113.86</td>\n",
       "    </tr>\n",
       "    <tr>\n",
       "      <th>2</th>\n",
       "      <td>Arrochar</td>\n",
       "      <td>132.06</td>\n",
       "    </tr>\n",
       "    <tr>\n",
       "      <th>3</th>\n",
       "      <td>Arverne</td>\n",
       "      <td>230.26</td>\n",
       "    </tr>\n",
       "    <tr>\n",
       "      <th>4</th>\n",
       "      <td>Astoria</td>\n",
       "      <td>109.01</td>\n",
       "    </tr>\n",
       "  </tbody>\n",
       "</table>\n",
       "</div>"
      ],
      "text/plain": [
       "   neighbourhood   price\n",
       "0       Allerton  118.78\n",
       "1  Arden Heights  113.86\n",
       "2       Arrochar  132.06\n",
       "3        Arverne  230.26\n",
       "4        Astoria  109.01"
      ]
     },
     "execution_count": 13,
     "metadata": {},
     "output_type": "execute_result"
    }
   ],
   "source": [
    "df_mean = df_mean_price[['price']].reset_index()\n",
    "df_mean.head()"
   ]
  },
  {
   "cell_type": "code",
   "execution_count": 14,
   "metadata": {},
   "outputs": [
    {
     "data": {
      "text/html": [
       "<div>\n",
       "<style scoped>\n",
       "    .dataframe tbody tr th:only-of-type {\n",
       "        vertical-align: middle;\n",
       "    }\n",
       "\n",
       "    .dataframe tbody tr th {\n",
       "        vertical-align: top;\n",
       "    }\n",
       "\n",
       "    .dataframe thead th {\n",
       "        text-align: right;\n",
       "    }\n",
       "</style>\n",
       "<table border=\"1\" class=\"dataframe\">\n",
       "  <thead>\n",
       "    <tr style=\"text-align: right;\">\n",
       "      <th></th>\n",
       "      <th>pop_rank</th>\n",
       "      <th>neighbourhood</th>\n",
       "      <th>count</th>\n",
       "      <th>percent</th>\n",
       "      <th>price</th>\n",
       "    </tr>\n",
       "  </thead>\n",
       "  <tbody>\n",
       "    <tr>\n",
       "      <th>0</th>\n",
       "      <td>107</td>\n",
       "      <td>Allerton</td>\n",
       "      <td>45</td>\n",
       "      <td>0.112836</td>\n",
       "      <td>118.78</td>\n",
       "    </tr>\n",
       "    <tr>\n",
       "      <th>1</th>\n",
       "      <td>204</td>\n",
       "      <td>Arden Heights</td>\n",
       "      <td>7</td>\n",
       "      <td>0.017552</td>\n",
       "      <td>113.86</td>\n",
       "    </tr>\n",
       "    <tr>\n",
       "      <th>2</th>\n",
       "      <td>158</td>\n",
       "      <td>Arrochar</td>\n",
       "      <td>17</td>\n",
       "      <td>0.042627</td>\n",
       "      <td>132.06</td>\n",
       "    </tr>\n",
       "    <tr>\n",
       "      <th>3</th>\n",
       "      <td>64</td>\n",
       "      <td>Arverne</td>\n",
       "      <td>110</td>\n",
       "      <td>0.275821</td>\n",
       "      <td>230.26</td>\n",
       "    </tr>\n",
       "    <tr>\n",
       "      <th>4</th>\n",
       "      <td>14</td>\n",
       "      <td>Astoria</td>\n",
       "      <td>686</td>\n",
       "      <td>1.720117</td>\n",
       "      <td>109.01</td>\n",
       "    </tr>\n",
       "  </tbody>\n",
       "</table>\n",
       "</div>"
      ],
      "text/plain": [
       "   pop_rank  neighbourhood  count   percent   price\n",
       "0       107       Allerton     45  0.112836  118.78\n",
       "1       204  Arden Heights      7  0.017552  113.86\n",
       "2       158       Arrochar     17  0.042627  132.06\n",
       "3        64        Arverne    110  0.275821  230.26\n",
       "4        14        Astoria    686  1.720117  109.01"
      ]
     },
     "execution_count": 14,
     "metadata": {},
     "output_type": "execute_result"
    }
   ],
   "source": [
    "df_hood['price'] = df_mean['price']\n",
    "df_hood.rename(columns={'index':'pop_rank'}, inplace=True)\n",
    "df_hood.head()"
   ]
  },
  {
   "cell_type": "markdown",
   "metadata": {},
   "source": [
    "## Data Summarization and Visualization"
   ]
  },
  {
   "cell_type": "markdown",
   "metadata": {},
   "source": [
    "### Inspect distribution of top three most populous neighborhoods"
   ]
  },
  {
   "cell_type": "code",
   "execution_count": 15,
   "metadata": {},
   "outputs": [],
   "source": [
    "df2_s1 = df.groupby('neighbourhood').get_group('Bedford-Stuyvesant')\n",
    "df2_s2 = df.groupby('neighbourhood').get_group('Williamsburg')\n",
    "df2_s3 = df.groupby('neighbourhood').get_group('Harlem')"
   ]
  },
  {
   "cell_type": "code",
   "execution_count": 16,
   "metadata": {},
   "outputs": [],
   "source": [
    "df_top3= pd.concat([df2_s1,df2_s2,df2_s3])"
   ]
  },
  {
   "cell_type": "markdown",
   "metadata": {},
   "source": [
    "#### Bedford-Stuyvesant"
   ]
  },
  {
   "cell_type": "code",
   "execution_count": 17,
   "metadata": {},
   "outputs": [
    {
     "data": {
      "image/png": "[encoded data removed]",
      "text/plain": [
       "<Figure size 432x288 with 1 Axes>"
      ]
     },
     "metadata": {
      "needs_background": "light"
     },
     "output_type": "display_data"
    }
   ],
   "source": [
    "plt.hist(df2_s1.price, bins=50)\n",
    "plt.xlabel('Bedford-Stuyvesant')\n",
    "plt.ylabel(\"Price\");"
   ]
  },
  {
   "cell_type": "code",
   "execution_count": 18,
   "metadata": {},
   "outputs": [],
   "source": [
    "def reject_outliers(data, m=2):\n",
    "    return data[abs(data - np.mean(data)) < m * np.std(data)]"
   ]
  },
  {
   "cell_type": "code",
   "execution_count": 19,
   "metadata": {},
   "outputs": [
    {
     "data": {
      "image/png": "[encoded data removed]",
      "text/plain": [
       "<Figure size 432x288 with 1 Axes>"
      ]
     },
     "metadata": {
      "needs_background": "light"
     },
     "output_type": "display_data"
    }
   ],
   "source": [
    "sns.histplot(reject_outliers(df2_s1['price']))\n",
    "plt.title('Bedford-Stuyvesant Histogram \\n of central 95%')\n",
    "plt.show()"
   ]
  },
  {
   "cell_type": "code",
   "execution_count": 20,
   "metadata": {},
   "outputs": [
    {
     "data": {
      "text/plain": [
       "105.0"
      ]
     },
     "execution_count": 20,
     "metadata": {},
     "output_type": "execute_result"
    }
   ],
   "source": [
    "bed_stuy = np.array(df2_s1['price'])\n",
    "\n",
    "bed_stuy_median = np.median(bed_stuy)\n",
    "bed_stuy_median "
   ]
  },
  {
   "cell_type": "code",
   "execution_count": 21,
   "metadata": {},
   "outputs": [
    {
     "data": {
      "text/plain": [
       "ModeResult(mode=array([150]), count=array([66]))"
      ]
     },
     "execution_count": 21,
     "metadata": {},
     "output_type": "execute_result"
    }
   ],
   "source": [
    "bed_stuy_mode = st.mode(bed_stuy)\n",
    "bed_stuy_mode"
   ]
  },
  {
   "cell_type": "code",
   "execution_count": 60,
   "metadata": {},
   "outputs": [
    {
     "data": {
      "text/plain": [
       "2779"
      ]
     },
     "execution_count": 60,
     "metadata": {},
     "output_type": "execute_result"
    }
   ],
   "source": [
    "len(bed_stuy)"
   ]
  },
  {
   "cell_type": "code",
   "execution_count": 52,
   "metadata": {},
   "outputs": [],
   "source": [
    "df2_bedstuy = df.groupby('neighbourhood').get_group('Bedford-Stuyvesant')\n",
    "df2_bedstuy;"
   ]
  },
  {
   "cell_type": "code",
   "execution_count": 51,
   "metadata": {},
   "outputs": [],
   "source": [
    "df2_bedstuy_apt = df2_bedstuy.groupby('room_type').get_group('Entire home/apt')\n",
    "df2_bedstuy_apt;"
   ]
  },
  {
   "cell_type": "code",
   "execution_count": 54,
   "metadata": {},
   "outputs": [
    {
     "data": {
      "image/png": "[encoded data removed]",
      "text/plain": [
       "<Figure size 432x288 with 1 Axes>"
      ]
     },
     "metadata": {
      "needs_background": "light"
     },
     "output_type": "display_data"
    }
   ],
   "source": [
    "plt.hist(df2_bedstuy_apt.price, bins=50)\n",
    "plt.title('Bedstuy- Entire home/apt')\n",
    "plt.xlabel('price')\n",
    "plt.ylabel(\"Count\");"
   ]
  },
  {
   "cell_type": "code",
   "execution_count": 55,
   "metadata": {},
   "outputs": [
    {
     "data": {
      "image/png": "[encoded data removed]",
      "text/plain": [
       "<Figure size 432x288 with 1 Axes>"
      ]
     },
     "metadata": {
      "needs_background": "light"
     },
     "output_type": "display_data"
    }
   ],
   "source": [
    "sns.histplot(reject_outliers(df2_bedstuy_apt.price))\n",
    "plt.title('Bedford-Stuyvesant Histogram \\n of central 95%')\n",
    "plt.show();"
   ]
  },
  {
   "cell_type": "code",
   "execution_count": 59,
   "metadata": {},
   "outputs": [
    {
     "data": {
      "text/plain": [
       "ModeResult(mode=array([150]), count=array([53]))"
      ]
     },
     "execution_count": 59,
     "metadata": {},
     "output_type": "execute_result"
    }
   ],
   "source": [
    "bed_stuy_apt_mode = st.mode(df2_bedstuy_apt.price)\n",
    "bed_stuy_apt_mode"
   ]
  },
  {
   "cell_type": "code",
   "execution_count": 61,
   "metadata": {},
   "outputs": [
    {
     "data": {
      "text/plain": [
       "1416"
      ]
     },
     "execution_count": 61,
     "metadata": {},
     "output_type": "execute_result"
    }
   ],
   "source": [
    "len(df2_bedstuy_apt)"
   ]
  },
  {
   "cell_type": "markdown",
   "metadata": {},
   "source": [
    "#### Williamsburg"
   ]
  },
  {
   "cell_type": "code",
   "execution_count": 32,
   "metadata": {},
   "outputs": [
    {
     "data": {
      "image/png": "[encoded data removed]",
      "text/plain": [
       "<Figure size 432x288 with 1 Axes>"
      ]
     },
     "metadata": {
      "needs_background": "light"
     },
     "output_type": "display_data"
    }
   ],
   "source": [
    "plt.hist(df2_s2.price, bins=50)\n",
    "plt.xlabel('Williamsburg')\n",
    "plt.ylabel(\"Price\");"
   ]
  },
  {
   "cell_type": "code",
   "execution_count": 23,
   "metadata": {},
   "outputs": [
    {
     "data": {
      "text/html": [
       "<div>\n",
       "<style scoped>\n",
       "    .dataframe tbody tr th:only-of-type {\n",
       "        vertical-align: middle;\n",
       "    }\n",
       "\n",
       "    .dataframe tbody tr th {\n",
       "        vertical-align: top;\n",
       "    }\n",
       "\n",
       "    .dataframe thead th {\n",
       "        text-align: right;\n",
       "    }\n",
       "</style>\n",
       "<table border=\"1\" class=\"dataframe\">\n",
       "  <thead>\n",
       "    <tr style=\"text-align: right;\">\n",
       "      <th></th>\n",
       "      <th>price</th>\n",
       "    </tr>\n",
       "  </thead>\n",
       "  <tbody>\n",
       "    <tr>\n",
       "      <th>20</th>\n",
       "      <td>84</td>\n",
       "    </tr>\n",
       "    <tr>\n",
       "      <th>33</th>\n",
       "      <td>95</td>\n",
       "    </tr>\n",
       "    <tr>\n",
       "      <th>36</th>\n",
       "      <td>395</td>\n",
       "    </tr>\n",
       "    <tr>\n",
       "      <th>50</th>\n",
       "      <td>235</td>\n",
       "    </tr>\n",
       "    <tr>\n",
       "      <th>57</th>\n",
       "      <td>150</td>\n",
       "    </tr>\n",
       "    <tr>\n",
       "      <th>...</th>\n",
       "      <td>...</td>\n",
       "    </tr>\n",
       "    <tr>\n",
       "      <th>38483</th>\n",
       "      <td>404</td>\n",
       "    </tr>\n",
       "    <tr>\n",
       "      <th>38501</th>\n",
       "      <td>182</td>\n",
       "    </tr>\n",
       "    <tr>\n",
       "      <th>38597</th>\n",
       "      <td>280</td>\n",
       "    </tr>\n",
       "    <tr>\n",
       "      <th>38946</th>\n",
       "      <td>134</td>\n",
       "    </tr>\n",
       "    <tr>\n",
       "      <th>39879</th>\n",
       "      <td>400</td>\n",
       "    </tr>\n",
       "  </tbody>\n",
       "</table>\n",
       "<p>2456 rows × 1 columns</p>\n",
       "</div>"
      ],
      "text/plain": [
       "       price\n",
       "20        84\n",
       "33        95\n",
       "36       395\n",
       "50       235\n",
       "57       150\n",
       "...      ...\n",
       "38483    404\n",
       "38501    182\n",
       "38597    280\n",
       "38946    134\n",
       "39879    400\n",
       "\n",
       "[2456 rows x 1 columns]"
      ]
     },
     "execution_count": 23,
     "metadata": {},
     "output_type": "execute_result"
    }
   ],
   "source": [
    "df2_s2[['price']]"
   ]
  },
  {
   "cell_type": "code",
   "execution_count": 55,
   "metadata": {},
   "outputs": [
    {
     "data": {
      "text/plain": [
       "136.0"
      ]
     },
     "execution_count": 55,
     "metadata": {},
     "output_type": "execute_result"
    }
   ],
   "source": [
    "williamsburg = np.array(df2_s2['price'])\n",
    "\n",
    "williamsburg_median = np.median(williamsburg)\n",
    "williamsburg_median "
   ]
  },
  {
   "cell_type": "code",
   "execution_count": 63,
   "metadata": {},
   "outputs": [
    {
     "data": {
      "text/plain": [
       "ModeResult(mode=array([200]), count=array([75]))"
      ]
     },
     "execution_count": 63,
     "metadata": {},
     "output_type": "execute_result"
    }
   ],
   "source": [
    "williamsburg_mode = st.mode(williamsburg)\n",
    "williamsburg_mode"
   ]
  },
  {
   "cell_type": "markdown",
   "metadata": {},
   "source": [
    "#### Harlem"
   ]
  },
  {
   "cell_type": "code",
   "execution_count": 33,
   "metadata": {},
   "outputs": [
    {
     "data": {
      "image/png": "[encoded data removed]",
      "text/plain": [
       "<Figure size 432x288 with 1 Axes>"
      ]
     },
     "metadata": {
      "needs_background": "light"
     },
     "output_type": "display_data"
    }
   ],
   "source": [
    "plt.hist(df2_s3.price,bins = 50)\n",
    "plt.xlabel('Harlem')\n",
    "plt.ylabel(\"Price\");"
   ]
  },
  {
   "cell_type": "code",
   "execution_count": 56,
   "metadata": {},
   "outputs": [
    {
     "data": {
      "text/plain": [
       "101.0"
      ]
     },
     "execution_count": 56,
     "metadata": {},
     "output_type": "execute_result"
    }
   ],
   "source": [
    "harlem = np.array(df2_s3['price'])\n",
    "\n",
    "williamsburg_harlem = np.median(harlem)\n",
    "williamsburg_harlem"
   ]
  },
  {
   "cell_type": "code",
   "execution_count": 60,
   "metadata": {},
   "outputs": [
    {
     "data": {
      "text/plain": [
       "ModeResult(mode=array([100]), count=array([73]))"
      ]
     },
     "execution_count": 60,
     "metadata": {},
     "output_type": "execute_result"
    }
   ],
   "source": [
    "harlem_mode = st.mode(harlem)\n",
    "harlem_mode"
   ]
  },
  {
   "cell_type": "markdown",
   "metadata": {},
   "source": [
    "#### Interpretation\n",
    "\n",
    "The aim was to get a normally distributed curve for our assumptions in obtaining a mean price per night. Without correcting for outliers, the data seems to approach a logarithmic or skewed normally distributed curve, in which case taking the median or mode for the optimum price would be most appropriate."
   ]
  },
  {
   "cell_type": "markdown",
   "metadata": {},
   "source": [
    "### Proportion of AirBNB Listings by Borough and Room Type in NYC"
   ]
  },
  {
   "cell_type": "markdown",
   "metadata": {},
   "source": [
    "The 1st pie chart shows 95% of the AirBnB listings are in Manhattan, Brooklyn and Queens. Brooklyn and Staten Island make up the remaining listings. Manhattan and Brooklyn alone make up neary 80% of the listings.\n",
    "\n",
    "The 2nd pie chart shows the listings distributed by room type. Most of the observations consist of entire home / apartments, or private rooms. Hotel and shared rooms are an insignificant proportion of the distribution."
   ]
  },
  {
   "cell_type": "code",
   "execution_count": 34,
   "metadata": {},
   "outputs": [
    {
     "data": {
      "image/png": "[encoded data removed]",
      "text/plain": [
       "<Figure size 432x288 with 1 Axes>"
      ]
     },
     "metadata": {},
     "output_type": "display_data"
    },
    {
     "data": {
      "image/png": "[encoded data removed]",
      "text/plain": [
       "<Figure size 432x288 with 1 Axes>"
      ]
     },
     "metadata": {},
     "output_type": "display_data"
    }
   ],
   "source": [
    "#Create a pie chart showing the percentage of listings per bourrough.\n",
    "df1 = df.neighbourhood_group.value_counts()\n",
    "df1.plot.pie(autopct=\"%.1f%%\")\n",
    "plt.show()\n",
    "\n",
    "df2 = df.room_type.value_counts()\n",
    "df2.plot.pie(autopct=\"%.1f%%\")\n",
    "plt.show()"
   ]
  },
  {
   "cell_type": "markdown",
   "metadata": {},
   "source": [
    "### NYC AirBNB Listing Price Statistics by Borough"
   ]
  },
  {
   "cell_type": "markdown",
   "metadata": {},
   "source": [
    "The table and box/whisker plots above provide illustration of the frequency, price statistics, and price distribution by neighborhood group or burrough in New York City. There is wide variability in the observations, with standard deviations consistently higher than the mean for each burrough. Mean prices are consistently higher than the median price, which suggest the prevalance of high values or outliers in the dataset that are pulling up the average. Average prices are highest in Manhattan, Brooklyn, and Queens respectively."
   ]
  },
  {
   "cell_type": "code",
   "execution_count": 35,
   "metadata": {},
   "outputs": [
    {
     "data": {
      "text/html": [
       "<div>\n",
       "<style scoped>\n",
       "    .dataframe tbody tr th:only-of-type {\n",
       "        vertical-align: middle;\n",
       "    }\n",
       "\n",
       "    .dataframe tbody tr th {\n",
       "        vertical-align: top;\n",
       "    }\n",
       "\n",
       "    .dataframe thead tr th {\n",
       "        text-align: left;\n",
       "    }\n",
       "\n",
       "    .dataframe thead tr:last-of-type th {\n",
       "        text-align: right;\n",
       "    }\n",
       "</style>\n",
       "<table border=\"1\" class=\"dataframe\">\n",
       "  <thead>\n",
       "    <tr>\n",
       "      <th></th>\n",
       "      <th>neighbourhood_group</th>\n",
       "      <th colspan=\"5\" halign=\"left\">price</th>\n",
       "    </tr>\n",
       "    <tr>\n",
       "      <th></th>\n",
       "      <th>count</th>\n",
       "      <th>mean</th>\n",
       "      <th>median</th>\n",
       "      <th>std</th>\n",
       "      <th>min</th>\n",
       "      <th>max</th>\n",
       "    </tr>\n",
       "    <tr>\n",
       "      <th>neighbourhood_group</th>\n",
       "      <th></th>\n",
       "      <th></th>\n",
       "      <th></th>\n",
       "      <th></th>\n",
       "      <th></th>\n",
       "      <th></th>\n",
       "    </tr>\n",
       "  </thead>\n",
       "  <tbody>\n",
       "    <tr>\n",
       "      <th>Bronx</th>\n",
       "      <td>1568</td>\n",
       "      <td>124.737245</td>\n",
       "      <td>90.0</td>\n",
       "      <td>278.572839</td>\n",
       "      <td>0</td>\n",
       "      <td>9994</td>\n",
       "    </tr>\n",
       "    <tr>\n",
       "      <th>Brooklyn</th>\n",
       "      <td>14845</td>\n",
       "      <td>157.927114</td>\n",
       "      <td>115.0</td>\n",
       "      <td>209.526092</td>\n",
       "      <td>0</td>\n",
       "      <td>10000</td>\n",
       "    </tr>\n",
       "    <tr>\n",
       "      <th>Manhattan</th>\n",
       "      <td>16847</td>\n",
       "      <td>264.933341</td>\n",
       "      <td>175.0</td>\n",
       "      <td>473.171623</td>\n",
       "      <td>0</td>\n",
       "      <td>16500</td>\n",
       "    </tr>\n",
       "    <tr>\n",
       "      <th>Queens</th>\n",
       "      <td>6175</td>\n",
       "      <td>131.365506</td>\n",
       "      <td>94.0</td>\n",
       "      <td>213.120396</td>\n",
       "      <td>0</td>\n",
       "      <td>10000</td>\n",
       "    </tr>\n",
       "    <tr>\n",
       "      <th>Staten Island</th>\n",
       "      <td>446</td>\n",
       "      <td>143.163677</td>\n",
       "      <td>103.5</td>\n",
       "      <td>194.997315</td>\n",
       "      <td>33</td>\n",
       "      <td>2500</td>\n",
       "    </tr>\n",
       "  </tbody>\n",
       "</table>\n",
       "</div>"
      ],
      "text/plain": [
       "                    neighbourhood_group       price                         \\\n",
       "                                  count        mean median         std min   \n",
       "neighbourhood_group                                                          \n",
       "Bronx                              1568  124.737245   90.0  278.572839   0   \n",
       "Brooklyn                          14845  157.927114  115.0  209.526092   0   \n",
       "Manhattan                         16847  264.933341  175.0  473.171623   0   \n",
       "Queens                             6175  131.365506   94.0  213.120396   0   \n",
       "Staten Island                       446  143.163677  103.5  194.997315  33   \n",
       "\n",
       "                            \n",
       "                       max  \n",
       "neighbourhood_group         \n",
       "Bronx                 9994  \n",
       "Brooklyn             10000  \n",
       "Manhattan            16500  \n",
       "Queens               10000  \n",
       "Staten Island         2500  "
      ]
     },
     "metadata": {},
     "output_type": "display_data"
    },
    {
     "data": {
      "image/png": "[encoded data removed]",
      "text/plain": [
       "<Figure size 432x288 with 1 Axes>"
      ]
     },
     "metadata": {
      "needs_background": "light"
     },
     "output_type": "display_data"
    },
    {
     "data": {
      "image/png": "[encoded data removed]",
      "text/plain": [
       "<Figure size 432x288 with 1 Axes>"
      ]
     },
     "metadata": {
      "needs_background": "light"
     },
     "output_type": "display_data"
    }
   ],
   "source": [
    "#Display the table of price statistics and counts by New York City burrough.\n",
    "display(df.groupby('neighbourhood_group').aggregate({'neighbourhood_group':'count',\n",
    "                                    'price':['mean','median','std','min','max']}))\n",
    "\n",
    "#Plot boxplot with outliers turned off.\n",
    "sns.boxplot(y = df['price'], \n",
    "            x = df['neighbourhood_group'], \n",
    "            showfliers = False)\n",
    "plt.title('Borough boxplot corrected \\n for interquartile rule')\n",
    "plt.show()\n",
    "\n",
    "sns.boxplot(y = df['price'], x = df['neighbourhood_group'], showfliers = True)\n",
    "plt.title('Borough boxplot uncorrected')\n",
    "plt.show()"
   ]
  },
  {
   "cell_type": "markdown",
   "metadata": {},
   "source": [
    "### NYC AirBNB Listing Price Statistics by Room Type\n",
    "The table and box/whisker plots above provide illustration of the frequency, price statistics, and price distribution by room type in New York City. As in the distribution by borough section, there is wide variuability with standard deviations consistently higher than the mean for each burrough (Hotel rooms being the exception). Mean prices are also consistently higher than the median price, which suggest the prevalance of high values or outliers in the dataset that are pulling up the average. Comparisons of the 1st boxplot (corrected for outliers) with the second (not corrected for outliers bear this out.\n",
    "\n",
    "#### Major Room Type Categories\n",
    "These categories encompass 98% of the listings and are likely to be more useful for informing business decisions.\n",
    "- Entire home/apt: Entire residences make up 57% of the dataset and are the category with the second highest average price. Prices range from \\\\$10 to \\\\$15K which could be indicative of data errors and/ or outliers.\n",
    "- Private room: Private rooms constitute 42% of the listings in the data and are the category with the third highest average price. Prices range from \\\\$10 to \\\\$16.5K which could be indicative of data errors and/ or outliers.\n",
    "\n",
    "#### Minor Room Type Categories\n",
    "Categories that are a significantly smaller number of the overall listings in the dataset. They are less likely to be useful for informing business decisions.\n",
    "- Shared room: Shared rooms constitute 1.4% of the listings with the lowest average price of all room type categories. Prices range from \\\\$10 to \\\\$10K which seems to indicate data entry errors and/or outliers.\n",
    "- Hotel room: Hotel rooms seem to have the highest average price and the least number of observations. This is the only category where the standard deviation is less than the mean, which suggest a more limited number of high priced outliers.\n"
   ]
  },
  {
   "cell_type": "code",
   "execution_count": 36,
   "metadata": {},
   "outputs": [
    {
     "data": {
      "text/html": [
       "<div>\n",
       "<style scoped>\n",
       "    .dataframe tbody tr th:only-of-type {\n",
       "        vertical-align: middle;\n",
       "    }\n",
       "\n",
       "    .dataframe tbody tr th {\n",
       "        vertical-align: top;\n",
       "    }\n",
       "\n",
       "    .dataframe thead tr th {\n",
       "        text-align: left;\n",
       "    }\n",
       "\n",
       "    .dataframe thead tr:last-of-type th {\n",
       "        text-align: right;\n",
       "    }\n",
       "</style>\n",
       "<table border=\"1\" class=\"dataframe\">\n",
       "  <thead>\n",
       "    <tr>\n",
       "      <th></th>\n",
       "      <th>room_type</th>\n",
       "      <th colspan=\"5\" halign=\"left\">price</th>\n",
       "    </tr>\n",
       "    <tr>\n",
       "      <th></th>\n",
       "      <th>count</th>\n",
       "      <th>mean</th>\n",
       "      <th>median</th>\n",
       "      <th>std</th>\n",
       "      <th>min</th>\n",
       "      <th>max</th>\n",
       "    </tr>\n",
       "    <tr>\n",
       "      <th>room_type</th>\n",
       "      <th></th>\n",
       "      <th></th>\n",
       "      <th></th>\n",
       "      <th></th>\n",
       "      <th></th>\n",
       "      <th></th>\n",
       "    </tr>\n",
       "  </thead>\n",
       "  <tbody>\n",
       "    <tr>\n",
       "      <th>Entire home/apt</th>\n",
       "      <td>22761</td>\n",
       "      <td>251.546022</td>\n",
       "      <td>180.0</td>\n",
       "      <td>338.044654</td>\n",
       "      <td>10</td>\n",
       "      <td>15000</td>\n",
       "    </tr>\n",
       "    <tr>\n",
       "      <th>Hotel room</th>\n",
       "      <td>202</td>\n",
       "      <td>371.648515</td>\n",
       "      <td>291.0</td>\n",
       "      <td>303.482491</td>\n",
       "      <td>0</td>\n",
       "      <td>1998</td>\n",
       "    </tr>\n",
       "    <tr>\n",
       "      <th>Private room</th>\n",
       "      <td>16361</td>\n",
       "      <td>122.936495</td>\n",
       "      <td>75.0</td>\n",
       "      <td>356.373737</td>\n",
       "      <td>10</td>\n",
       "      <td>16500</td>\n",
       "    </tr>\n",
       "    <tr>\n",
       "      <th>Shared room</th>\n",
       "      <td>557</td>\n",
       "      <td>119.398564</td>\n",
       "      <td>66.0</td>\n",
       "      <td>454.106078</td>\n",
       "      <td>10</td>\n",
       "      <td>10000</td>\n",
       "    </tr>\n",
       "  </tbody>\n",
       "</table>\n",
       "</div>"
      ],
      "text/plain": [
       "                room_type       price                              \n",
       "                    count        mean median         std min    max\n",
       "room_type                                                          \n",
       "Entire home/apt     22761  251.546022  180.0  338.044654  10  15000\n",
       "Hotel room            202  371.648515  291.0  303.482491   0   1998\n",
       "Private room        16361  122.936495   75.0  356.373737  10  16500\n",
       "Shared room           557  119.398564   66.0  454.106078  10  10000"
      ]
     },
     "metadata": {},
     "output_type": "display_data"
    },
    {
     "data": {
      "image/png": "[encoded data removed]",
      "text/plain": [
       "<Figure size 432x288 with 1 Axes>"
      ]
     },
     "metadata": {
      "needs_background": "light"
     },
     "output_type": "display_data"
    },
    {
     "data": {
      "image/png": "[encoded data removed]",
      "text/plain": [
       "<Figure size 432x288 with 1 Axes>"
      ]
     },
     "metadata": {
      "needs_background": "light"
     },
     "output_type": "display_data"
    }
   ],
   "source": [
    "#Display the table of price statistics and counts by New York City burrough.\n",
    "display(df.groupby('room_type').aggregate({'room_type':'count','price':['mean', 'median','std','min','max']}))\n",
    "\n",
    "#Plot boxplot with outliers turned off.\n",
    "sns.boxplot(y = df['price'], x = df['room_type'], showfliers = False)\n",
    "plt.title('Room Type boxplot corrected \\n for interquartile rule')\n",
    "plt.show()\n",
    "sns.boxplot(y = df['price'], x = df['room_type'], showfliers = True,saturation=0.75)\n",
    "plt.title('Room Type boxplot uncorrected')\n",
    "plt.show()"
   ]
  },
  {
   "cell_type": "markdown",
   "metadata": {},
   "source": [
    "### AirBNB Listings Statistics by Borough and Room Type in NYC\n",
    "The listings dataset was aggregated by borough and room type for statistical analysis. The results underscore the need to remove outliers and illogical values from the data."
   ]
  },
  {
   "cell_type": "code",
   "execution_count": 37,
   "metadata": {},
   "outputs": [
    {
     "data": {
      "text/html": [
       "<div>\n",
       "<style scoped>\n",
       "    .dataframe tbody tr th:only-of-type {\n",
       "        vertical-align: middle;\n",
       "    }\n",
       "\n",
       "    .dataframe tbody tr th {\n",
       "        vertical-align: top;\n",
       "    }\n",
       "\n",
       "    .dataframe thead tr th {\n",
       "        text-align: left;\n",
       "    }\n",
       "\n",
       "    .dataframe thead tr:last-of-type th {\n",
       "        text-align: right;\n",
       "    }\n",
       "</style>\n",
       "<table border=\"1\" class=\"dataframe\">\n",
       "  <thead>\n",
       "    <tr>\n",
       "      <th></th>\n",
       "      <th></th>\n",
       "      <th colspan=\"6\" halign=\"left\">price</th>\n",
       "    </tr>\n",
       "    <tr>\n",
       "      <th></th>\n",
       "      <th></th>\n",
       "      <th>count</th>\n",
       "      <th>max</th>\n",
       "      <th>std</th>\n",
       "      <th>median</th>\n",
       "      <th>min</th>\n",
       "      <th>mean</th>\n",
       "    </tr>\n",
       "    <tr>\n",
       "      <th>neighbourhood_group</th>\n",
       "      <th>room_type</th>\n",
       "      <th></th>\n",
       "      <th></th>\n",
       "      <th></th>\n",
       "      <th></th>\n",
       "      <th></th>\n",
       "      <th></th>\n",
       "    </tr>\n",
       "  </thead>\n",
       "  <tbody>\n",
       "    <tr>\n",
       "      <th rowspan=\"4\" valign=\"top\">Bronx</th>\n",
       "      <th>Entire home/apt</th>\n",
       "      <td>736</td>\n",
       "      <td>2000</td>\n",
       "      <td>156.115405</td>\n",
       "      <td>130.0</td>\n",
       "      <td>28</td>\n",
       "      <td>164.569293</td>\n",
       "    </tr>\n",
       "    <tr>\n",
       "      <th>Hotel room</th>\n",
       "      <td>1</td>\n",
       "      <td>0</td>\n",
       "      <td>NaN</td>\n",
       "      <td>0.0</td>\n",
       "      <td>0</td>\n",
       "      <td>0.000000</td>\n",
       "    </tr>\n",
       "    <tr>\n",
       "      <th>Private room</th>\n",
       "      <td>793</td>\n",
       "      <td>9994</td>\n",
       "      <td>356.925302</td>\n",
       "      <td>65.0</td>\n",
       "      <td>11</td>\n",
       "      <td>90.527112</td>\n",
       "    </tr>\n",
       "    <tr>\n",
       "      <th>Shared room</th>\n",
       "      <td>38</td>\n",
       "      <td>775</td>\n",
       "      <td>124.059423</td>\n",
       "      <td>35.0</td>\n",
       "      <td>10</td>\n",
       "      <td>70.447368</td>\n",
       "    </tr>\n",
       "    <tr>\n",
       "      <th rowspan=\"4\" valign=\"top\">Brooklyn</th>\n",
       "      <th>Entire home/apt</th>\n",
       "      <td>8154</td>\n",
       "      <td>7184</td>\n",
       "      <td>228.702022</td>\n",
       "      <td>169.0</td>\n",
       "      <td>30</td>\n",
       "      <td>216.452539</td>\n",
       "    </tr>\n",
       "    <tr>\n",
       "      <th>Hotel room</th>\n",
       "      <td>9</td>\n",
       "      <td>529</td>\n",
       "      <td>194.204860</td>\n",
       "      <td>145.0</td>\n",
       "      <td>0</td>\n",
       "      <td>177.555556</td>\n",
       "    </tr>\n",
       "    <tr>\n",
       "      <th>Private room</th>\n",
       "      <td>6510</td>\n",
       "      <td>10000</td>\n",
       "      <td>157.575675</td>\n",
       "      <td>69.0</td>\n",
       "      <td>10</td>\n",
       "      <td>86.907680</td>\n",
       "    </tr>\n",
       "    <tr>\n",
       "      <th>Shared room</th>\n",
       "      <td>172</td>\n",
       "      <td>1000</td>\n",
       "      <td>84.576582</td>\n",
       "      <td>45.0</td>\n",
       "      <td>15</td>\n",
       "      <td>70.389535</td>\n",
       "    </tr>\n",
       "    <tr>\n",
       "      <th rowspan=\"4\" valign=\"top\">Manhattan</th>\n",
       "      <th>Entire home/apt</th>\n",
       "      <td>10862</td>\n",
       "      <td>15000</td>\n",
       "      <td>420.865138</td>\n",
       "      <td>205.0</td>\n",
       "      <td>29</td>\n",
       "      <td>300.645829</td>\n",
       "    </tr>\n",
       "    <tr>\n",
       "      <th>Hotel room</th>\n",
       "      <td>183</td>\n",
       "      <td>1998</td>\n",
       "      <td>308.268374</td>\n",
       "      <td>307.0</td>\n",
       "      <td>0</td>\n",
       "      <td>392.163934</td>\n",
       "    </tr>\n",
       "    <tr>\n",
       "      <th>Private room</th>\n",
       "      <td>5552</td>\n",
       "      <td>16500</td>\n",
       "      <td>549.384274</td>\n",
       "      <td>100.0</td>\n",
       "      <td>10</td>\n",
       "      <td>194.915346</td>\n",
       "    </tr>\n",
       "    <tr>\n",
       "      <th>Shared room</th>\n",
       "      <td>250</td>\n",
       "      <td>10000</td>\n",
       "      <td>662.012440</td>\n",
       "      <td>82.0</td>\n",
       "      <td>29</td>\n",
       "      <td>175.124000</td>\n",
       "    </tr>\n",
       "    <tr>\n",
       "      <th rowspan=\"4\" valign=\"top\">Queens</th>\n",
       "      <th>Entire home/apt</th>\n",
       "      <td>2736</td>\n",
       "      <td>10000</td>\n",
       "      <td>245.295887</td>\n",
       "      <td>150.0</td>\n",
       "      <td>10</td>\n",
       "      <td>191.693713</td>\n",
       "    </tr>\n",
       "    <tr>\n",
       "      <th>Hotel room</th>\n",
       "      <td>9</td>\n",
       "      <td>282</td>\n",
       "      <td>89.324471</td>\n",
       "      <td>209.0</td>\n",
       "      <td>0</td>\n",
       "      <td>189.888889</td>\n",
       "    </tr>\n",
       "    <tr>\n",
       "      <th>Private room</th>\n",
       "      <td>3334</td>\n",
       "      <td>9000</td>\n",
       "      <td>169.268863</td>\n",
       "      <td>65.0</td>\n",
       "      <td>19</td>\n",
       "      <td>83.118776</td>\n",
       "    </tr>\n",
       "    <tr>\n",
       "      <th>Shared room</th>\n",
       "      <td>96</td>\n",
       "      <td>1250</td>\n",
       "      <td>156.164089</td>\n",
       "      <td>50.0</td>\n",
       "      <td>16</td>\n",
       "      <td>82.093750</td>\n",
       "    </tr>\n",
       "    <tr>\n",
       "      <th rowspan=\"3\" valign=\"top\">Staten Island</th>\n",
       "      <th>Entire home/apt</th>\n",
       "      <td>273</td>\n",
       "      <td>2500</td>\n",
       "      <td>236.437035</td>\n",
       "      <td>129.0</td>\n",
       "      <td>39</td>\n",
       "      <td>180.487179</td>\n",
       "    </tr>\n",
       "    <tr>\n",
       "      <th>Private room</th>\n",
       "      <td>172</td>\n",
       "      <td>500</td>\n",
       "      <td>65.521555</td>\n",
       "      <td>68.0</td>\n",
       "      <td>33</td>\n",
       "      <td>84.412791</td>\n",
       "    </tr>\n",
       "    <tr>\n",
       "      <th>Shared room</th>\n",
       "      <td>1</td>\n",
       "      <td>59</td>\n",
       "      <td>NaN</td>\n",
       "      <td>59.0</td>\n",
       "      <td>59</td>\n",
       "      <td>59.000000</td>\n",
       "    </tr>\n",
       "  </tbody>\n",
       "</table>\n",
       "</div>"
      ],
      "text/plain": [
       "                                     price                                \\\n",
       "                                     count    max         std median min   \n",
       "neighbourhood_group room_type                                              \n",
       "Bronx               Entire home/apt    736   2000  156.115405  130.0  28   \n",
       "                    Hotel room           1      0         NaN    0.0   0   \n",
       "                    Private room       793   9994  356.925302   65.0  11   \n",
       "                    Shared room         38    775  124.059423   35.0  10   \n",
       "Brooklyn            Entire home/apt   8154   7184  228.702022  169.0  30   \n",
       "                    Hotel room           9    529  194.204860  145.0   0   \n",
       "                    Private room      6510  10000  157.575675   69.0  10   \n",
       "                    Shared room        172   1000   84.576582   45.0  15   \n",
       "Manhattan           Entire home/apt  10862  15000  420.865138  205.0  29   \n",
       "                    Hotel room         183   1998  308.268374  307.0   0   \n",
       "                    Private room      5552  16500  549.384274  100.0  10   \n",
       "                    Shared room        250  10000  662.012440   82.0  29   \n",
       "Queens              Entire home/apt   2736  10000  245.295887  150.0  10   \n",
       "                    Hotel room           9    282   89.324471  209.0   0   \n",
       "                    Private room      3334   9000  169.268863   65.0  19   \n",
       "                    Shared room         96   1250  156.164089   50.0  16   \n",
       "Staten Island       Entire home/apt    273   2500  236.437035  129.0  39   \n",
       "                    Private room       172    500   65.521555   68.0  33   \n",
       "                    Shared room          1     59         NaN   59.0  59   \n",
       "\n",
       "                                                 \n",
       "                                           mean  \n",
       "neighbourhood_group room_type                    \n",
       "Bronx               Entire home/apt  164.569293  \n",
       "                    Hotel room         0.000000  \n",
       "                    Private room      90.527112  \n",
       "                    Shared room       70.447368  \n",
       "Brooklyn            Entire home/apt  216.452539  \n",
       "                    Hotel room       177.555556  \n",
       "                    Private room      86.907680  \n",
       "                    Shared room       70.389535  \n",
       "Manhattan           Entire home/apt  300.645829  \n",
       "                    Hotel room       392.163934  \n",
       "                    Private room     194.915346  \n",
       "                    Shared room      175.124000  \n",
       "Queens              Entire home/apt  191.693713  \n",
       "                    Hotel room       189.888889  \n",
       "                    Private room      83.118776  \n",
       "                    Shared room       82.093750  \n",
       "Staten Island       Entire home/apt  180.487179  \n",
       "                    Private room      84.412791  \n",
       "                    Shared room       59.000000  "
      ]
     },
     "metadata": {},
     "output_type": "display_data"
    }
   ],
   "source": [
    "#Show price statistics by neighborhood group and room type\n",
    "df_borrough = df[[ 'neighbourhood_group', 'room_type','price']]\n",
    "display(df_borrough.groupby(['neighbourhood_group', 'room_type']).aggregate({'count',\n",
    "    'mean', 'median','std', 'min', 'max'}))"
   ]
  },
  {
   "cell_type": "markdown",
   "metadata": {},
   "source": [
    "### Correlation Matrix\n",
    "A correlation matrix was conducted for the listings data. At this point, most of the factors appear to be weakly correlated with price, which is the primary variable of concern."
   ]
  },
  {
   "cell_type": "code",
   "execution_count": 38,
   "metadata": {},
   "outputs": [
    {
     "data": {
      "text/html": [
       "<div>\n",
       "<style scoped>\n",
       "    .dataframe tbody tr th:only-of-type {\n",
       "        vertical-align: middle;\n",
       "    }\n",
       "\n",
       "    .dataframe tbody tr th {\n",
       "        vertical-align: top;\n",
       "    }\n",
       "\n",
       "    .dataframe thead th {\n",
       "        text-align: right;\n",
       "    }\n",
       "</style>\n",
       "<table border=\"1\" class=\"dataframe\">\n",
       "  <thead>\n",
       "    <tr style=\"text-align: right;\">\n",
       "      <th></th>\n",
       "      <th>id</th>\n",
       "      <th>host_id</th>\n",
       "      <th>latitude</th>\n",
       "      <th>longitude</th>\n",
       "      <th>price</th>\n",
       "      <th>minimum_nights</th>\n",
       "      <th>number_of_reviews</th>\n",
       "      <th>reviews_per_month</th>\n",
       "      <th>calculated_host_listings_count</th>\n",
       "      <th>availability_365</th>\n",
       "      <th>number_of_reviews_ltm</th>\n",
       "    </tr>\n",
       "  </thead>\n",
       "  <tbody>\n",
       "    <tr>\n",
       "      <th>id</th>\n",
       "      <td>1.000000</td>\n",
       "      <td>0.335359</td>\n",
       "      <td>-0.004366</td>\n",
       "      <td>0.079277</td>\n",
       "      <td>0.047596</td>\n",
       "      <td>-0.119177</td>\n",
       "      <td>-0.185724</td>\n",
       "      <td>0.246370</td>\n",
       "      <td>0.040260</td>\n",
       "      <td>0.286508</td>\n",
       "      <td>-0.080899</td>\n",
       "    </tr>\n",
       "    <tr>\n",
       "      <th>host_id</th>\n",
       "      <td>0.335359</td>\n",
       "      <td>1.000000</td>\n",
       "      <td>0.027405</td>\n",
       "      <td>0.144694</td>\n",
       "      <td>0.039558</td>\n",
       "      <td>-0.147641</td>\n",
       "      <td>-0.095511</td>\n",
       "      <td>0.271079</td>\n",
       "      <td>-0.024191</td>\n",
       "      <td>0.247358</td>\n",
       "      <td>0.126596</td>\n",
       "    </tr>\n",
       "    <tr>\n",
       "      <th>latitude</th>\n",
       "      <td>-0.004366</td>\n",
       "      <td>0.027405</td>\n",
       "      <td>1.000000</td>\n",
       "      <td>0.048995</td>\n",
       "      <td>0.027974</td>\n",
       "      <td>0.030504</td>\n",
       "      <td>-0.033748</td>\n",
       "      <td>-0.037751</td>\n",
       "      <td>0.033737</td>\n",
       "      <td>-0.018182</td>\n",
       "      <td>-0.034825</td>\n",
       "    </tr>\n",
       "    <tr>\n",
       "      <th>longitude</th>\n",
       "      <td>0.079277</td>\n",
       "      <td>0.144694</td>\n",
       "      <td>0.048995</td>\n",
       "      <td>1.000000</td>\n",
       "      <td>-0.123122</td>\n",
       "      <td>-0.083799</td>\n",
       "      <td>0.041505</td>\n",
       "      <td>0.102208</td>\n",
       "      <td>-0.071354</td>\n",
       "      <td>0.123042</td>\n",
       "      <td>0.057616</td>\n",
       "    </tr>\n",
       "    <tr>\n",
       "      <th>price</th>\n",
       "      <td>0.047596</td>\n",
       "      <td>0.039558</td>\n",
       "      <td>0.027974</td>\n",
       "      <td>-0.123122</td>\n",
       "      <td>1.000000</td>\n",
       "      <td>-0.035304</td>\n",
       "      <td>-0.032691</td>\n",
       "      <td>0.019562</td>\n",
       "      <td>0.042761</td>\n",
       "      <td>0.095482</td>\n",
       "      <td>-0.002458</td>\n",
       "    </tr>\n",
       "    <tr>\n",
       "      <th>minimum_nights</th>\n",
       "      <td>-0.119177</td>\n",
       "      <td>-0.147641</td>\n",
       "      <td>0.030504</td>\n",
       "      <td>-0.083799</td>\n",
       "      <td>-0.035304</td>\n",
       "      <td>1.000000</td>\n",
       "      <td>-0.138135</td>\n",
       "      <td>-0.227912</td>\n",
       "      <td>0.117108</td>\n",
       "      <td>-0.061480</td>\n",
       "      <td>-0.201601</td>\n",
       "    </tr>\n",
       "    <tr>\n",
       "      <th>number_of_reviews</th>\n",
       "      <td>-0.185724</td>\n",
       "      <td>-0.095511</td>\n",
       "      <td>-0.033748</td>\n",
       "      <td>0.041505</td>\n",
       "      <td>-0.032691</td>\n",
       "      <td>-0.138135</td>\n",
       "      <td>1.000000</td>\n",
       "      <td>0.520748</td>\n",
       "      <td>-0.092435</td>\n",
       "      <td>0.085598</td>\n",
       "      <td>0.640901</td>\n",
       "    </tr>\n",
       "    <tr>\n",
       "      <th>reviews_per_month</th>\n",
       "      <td>0.246370</td>\n",
       "      <td>0.271079</td>\n",
       "      <td>-0.037751</td>\n",
       "      <td>0.102208</td>\n",
       "      <td>0.019562</td>\n",
       "      <td>-0.227912</td>\n",
       "      <td>0.520748</td>\n",
       "      <td>1.000000</td>\n",
       "      <td>-0.029656</td>\n",
       "      <td>0.209944</td>\n",
       "      <td>0.815119</td>\n",
       "    </tr>\n",
       "    <tr>\n",
       "      <th>calculated_host_listings_count</th>\n",
       "      <td>0.040260</td>\n",
       "      <td>-0.024191</td>\n",
       "      <td>0.033737</td>\n",
       "      <td>-0.071354</td>\n",
       "      <td>0.042761</td>\n",
       "      <td>0.117108</td>\n",
       "      <td>-0.092435</td>\n",
       "      <td>-0.029656</td>\n",
       "      <td>1.000000</td>\n",
       "      <td>0.125885</td>\n",
       "      <td>-0.051553</td>\n",
       "    </tr>\n",
       "    <tr>\n",
       "      <th>availability_365</th>\n",
       "      <td>0.286508</td>\n",
       "      <td>0.247358</td>\n",
       "      <td>-0.018182</td>\n",
       "      <td>0.123042</td>\n",
       "      <td>0.095482</td>\n",
       "      <td>-0.061480</td>\n",
       "      <td>0.085598</td>\n",
       "      <td>0.209944</td>\n",
       "      <td>0.125885</td>\n",
       "      <td>1.000000</td>\n",
       "      <td>0.144143</td>\n",
       "    </tr>\n",
       "    <tr>\n",
       "      <th>number_of_reviews_ltm</th>\n",
       "      <td>-0.080899</td>\n",
       "      <td>0.126596</td>\n",
       "      <td>-0.034825</td>\n",
       "      <td>0.057616</td>\n",
       "      <td>-0.002458</td>\n",
       "      <td>-0.201601</td>\n",
       "      <td>0.640901</td>\n",
       "      <td>0.815119</td>\n",
       "      <td>-0.051553</td>\n",
       "      <td>0.144143</td>\n",
       "      <td>1.000000</td>\n",
       "    </tr>\n",
       "  </tbody>\n",
       "</table>\n",
       "</div>"
      ],
      "text/plain": [
       "                                      id   host_id  latitude  longitude  \\\n",
       "id                              1.000000  0.335359 -0.004366   0.079277   \n",
       "host_id                         0.335359  1.000000  0.027405   0.144694   \n",
       "latitude                       -0.004366  0.027405  1.000000   0.048995   \n",
       "longitude                       0.079277  0.144694  0.048995   1.000000   \n",
       "price                           0.047596  0.039558  0.027974  -0.123122   \n",
       "minimum_nights                 -0.119177 -0.147641  0.030504  -0.083799   \n",
       "number_of_reviews              -0.185724 -0.095511 -0.033748   0.041505   \n",
       "reviews_per_month               0.246370  0.271079 -0.037751   0.102208   \n",
       "calculated_host_listings_count  0.040260 -0.024191  0.033737  -0.071354   \n",
       "availability_365                0.286508  0.247358 -0.018182   0.123042   \n",
       "number_of_reviews_ltm          -0.080899  0.126596 -0.034825   0.057616   \n",
       "\n",
       "                                   price  minimum_nights  number_of_reviews  \\\n",
       "id                              0.047596       -0.119177          -0.185724   \n",
       "host_id                         0.039558       -0.147641          -0.095511   \n",
       "latitude                        0.027974        0.030504          -0.033748   \n",
       "longitude                      -0.123122       -0.083799           0.041505   \n",
       "price                           1.000000       -0.035304          -0.032691   \n",
       "minimum_nights                 -0.035304        1.000000          -0.138135   \n",
       "number_of_reviews              -0.032691       -0.138135           1.000000   \n",
       "reviews_per_month               0.019562       -0.227912           0.520748   \n",
       "calculated_host_listings_count  0.042761        0.117108          -0.092435   \n",
       "availability_365                0.095482       -0.061480           0.085598   \n",
       "number_of_reviews_ltm          -0.002458       -0.201601           0.640901   \n",
       "\n",
       "                                reviews_per_month  \\\n",
       "id                                       0.246370   \n",
       "host_id                                  0.271079   \n",
       "latitude                                -0.037751   \n",
       "longitude                                0.102208   \n",
       "price                                    0.019562   \n",
       "minimum_nights                          -0.227912   \n",
       "number_of_reviews                        0.520748   \n",
       "reviews_per_month                        1.000000   \n",
       "calculated_host_listings_count          -0.029656   \n",
       "availability_365                         0.209944   \n",
       "number_of_reviews_ltm                    0.815119   \n",
       "\n",
       "                                calculated_host_listings_count  \\\n",
       "id                                                    0.040260   \n",
       "host_id                                              -0.024191   \n",
       "latitude                                              0.033737   \n",
       "longitude                                            -0.071354   \n",
       "price                                                 0.042761   \n",
       "minimum_nights                                        0.117108   \n",
       "number_of_reviews                                    -0.092435   \n",
       "reviews_per_month                                    -0.029656   \n",
       "calculated_host_listings_count                        1.000000   \n",
       "availability_365                                      0.125885   \n",
       "number_of_reviews_ltm                                -0.051553   \n",
       "\n",
       "                                availability_365  number_of_reviews_ltm  \n",
       "id                                      0.286508              -0.080899  \n",
       "host_id                                 0.247358               0.126596  \n",
       "latitude                               -0.018182              -0.034825  \n",
       "longitude                               0.123042               0.057616  \n",
       "price                                   0.095482              -0.002458  \n",
       "minimum_nights                         -0.061480              -0.201601  \n",
       "number_of_reviews                       0.085598               0.640901  \n",
       "reviews_per_month                       0.209944               0.815119  \n",
       "calculated_host_listings_count          0.125885              -0.051553  \n",
       "availability_365                        1.000000               0.144143  \n",
       "number_of_reviews_ltm                   0.144143               1.000000  "
      ]
     },
     "execution_count": 38,
     "metadata": {},
     "output_type": "execute_result"
    }
   ],
   "source": [
    "df.corr(method='pearson')"
   ]
  },
  {
   "cell_type": "markdown",
   "metadata": {},
   "source": [
    "## Map Visualization of the Distribution of Price by Neighborhood in NYC\n",
    "\n",
    "This section provides analysis on the distribution of price by neighborhood. The mean price by neighborhood was computed from the data, keyed on a geojson file and incorporated into a folium map. There are several clusters of relatively higher prices, but the most significant one is around the Manhattan area."
   ]
  },
  {
   "cell_type": "markdown",
   "metadata": {},
   "source": [
    "## Conclusion and TakeAways\n",
    "\n",
    "- Average listing prices for Manhattan tend to be the highest, followed by Brooklyn, Queens, Staten Island, and the Bronx. Most of the listings are in Manhattan, Brooklyn, and Queens.\n",
    "\n",
    "- Entire residences/apartments and private rooms comprise ~97% of the listings here. Hotels and shared rooms are less than 2% of the dataset. Hotels tend to have the highest average price followed by residences, private rooms, and lastly shared rooms. Any predictive model underlying algorithms should be differentiated by room type. In terms of business analytics utility, residences and private rooms seem to be the most promising, while hotels and shared rooms may be less useful due to the relatively limited amount of data.\n",
    "- The variability in the data is significant. The data should be disaggregated by room type, and all values greater than the 3rd quartile + (1.5 * IQR) should be removed. also, all zero values should also be removed.\n",
    "- It is hypothesized that properties closer to either Manhattan or other significant attractions will have higher list prices ceteris paribus."
   ]
  },
  {
   "cell_type": "markdown",
   "metadata": {},
   "source": [
    "# Technology Stack"
   ]
  },
  {
   "cell_type": "code",
   "execution_count": 39,
   "metadata": {},
   "outputs": [
    {
     "name": "stdout",
     "output_type": "stream",
     "text": [
      "/opt/anaconda3/envs/MyEnv/bin/python\r\n"
     ]
    }
   ],
   "source": [
    "!which python"
   ]
  },
  {
   "cell_type": "code",
   "execution_count": 40,
   "metadata": {},
   "outputs": [
    {
     "name": "stdout",
     "output_type": "stream",
     "text": [
      "/opt/anaconda3/envs/MyEnv/bin/jupyter\r\n"
     ]
    }
   ],
   "source": [
    "!which jupyter"
   ]
  },
  {
   "cell_type": "code",
   "execution_count": 41,
   "metadata": {},
   "outputs": [
    {
     "name": "stdout",
     "output_type": "stream",
     "text": [
      "/opt/anaconda3/envs/MyEnv/bin/python3\r\n"
     ]
    }
   ],
   "source": [
    "!which python3"
   ]
  },
  {
   "cell_type": "markdown",
   "metadata": {},
   "source": [
    "# Github Repository, Handles, and Evaluation"
   ]
  },
  {
   "cell_type": "markdown",
   "metadata": {},
   "source": [
    "https://github.com/Naren1610/IST5520GrpProj/tree/milestone2\n",
    "\n",
    "### IST5520GrpProj\n",
    "\n",
    "<h4 align=\"left\"> Ronald Adomako, adomakor412 </h3>\n",
    "<h4 align=\"left\"> Idris Dobbs, idobbs-2012 </h3>\n",
    "<h4 align=\"left\"> Narendra Chigili, Naren1610 </h3>\n",
    "<h4 align=\"left\"> Nikhil Srirama Sai, SaiNikhilPalaparthi </h3>"
   ]
  }
 ],
 "metadata": {
  "kernelspec": {
   "display_name": "Python 3",
   "language": "python",
   "name": "python3"
  },
  "language_info": {
   "codemirror_mode": {
    "name": "ipython",
    "version": 3
   },
   "file_extension": ".py",
   "mimetype": "text/x-python",
   "name": "python",
   "nbconvert_exporter": "python",
   "pygments_lexer": "ipython3",
   "version": "3.7.9"
  }
 },
 "nbformat": 4,
 "nbformat_minor": 4
}
