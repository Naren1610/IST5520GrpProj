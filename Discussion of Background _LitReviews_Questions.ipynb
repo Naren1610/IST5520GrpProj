{
 "cells": [
  {
   "cell_type": "markdown",
   "id": "dae646bb",
   "metadata": {},
   "source": [
    "# Business Background\n",
    "AirBnB is a PaaS that connects renters with property available for use to renters needing short term rental service. Users use the platform to list rooms, residences, and apartments for use as rentals."
   ]
  },
  {
   "cell_type": "markdown",
   "id": "61ed00f9",
   "metadata": {},
   "source": [
    "# Review of “Insights from an Air BnB Dataset”\n",
    "This article explored the “New York City Airbnb Open Data” dataset to get more insight into price average, rent length, distribution of traffic, and reviews for different hosts and areas.\n",
    "\n",
    "The article provides detail on some interesting findings. Most listings are in Manhattan and Brooklyn, and half of the rentals are for the entire residence as opposed to just a room. In termns of pricing, the average rate is \\$152, 3/4 of the observations are under \\$175 and the minimum night mean is seven nights. In addition it was found that the top host name was \"Michael\". The top rentals tend to be focused on business more so than tourism. Most of the listings are in Manhattan and Brooklyn, which allows access to the major economic and tourist activity.\n"
   ]
  },
  {
   "cell_type": "markdown",
   "id": "2236ba79",
   "metadata": {},
   "source": [
    "# Review of “Data Cleaning and EDA on AirBnB Dataset with Python Pandas and Seaborn”\n",
    "This article explores the relationship between the list price and the host ID verification, response time, # people accommodated, # days available, amenities, and location. These observations were made based on aggregating the data and averaging the price."
   ]
  },
  {
   "cell_type": "markdown",
   "id": "010fe839",
   "metadata": {},
   "source": [
    "# Business Problems & Questions\n",
    "\n",
    "What are the largest determinants / predictors of AirBnB rental prices?\n",
    "How can we optimize rental revenue based on rental location and other characteristics?\n",
    "What price should be charged based on rental location/ characteristics?\n",
    "Do AirBNB properties have a positive or negative impact on real estate markets?\n",
    "Have AirBnB properties reduced demand for hotels?\n",
    "\n",
    "\n"
   ]
  },
  {
   "cell_type": "code",
   "execution_count": null,
   "id": "6708bf32",
   "metadata": {},
   "outputs": [],
   "source": []
  }
 ],
 "metadata": {
  "kernelspec": {
   "display_name": "Python 3 (ipykernel)",
   "language": "python",
   "name": "python3"
  },
  "language_info": {
   "codemirror_mode": {
    "name": "ipython",
    "version": 3
   },
   "file_extension": ".py",
   "mimetype": "text/x-python",
   "name": "python",
   "nbconvert_exporter": "python",
   "pygments_lexer": "ipython3",
   "version": "3.10.6"
  }
 },
 "nbformat": 4,
 "nbformat_minor": 5
}
