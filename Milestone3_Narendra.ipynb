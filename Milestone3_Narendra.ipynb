{
 "cells": [
  {
   "cell_type": "code",
   "execution_count": 1,
   "id": "027f8f3d",
   "metadata": {},
   "outputs": [],
   "source": [
    "import pandas as pd\n",
    "import matplotlib.pyplot as plt\n",
    "import sidetable as stb\n",
    "import numpy as np\n",
    "import seaborn as sns\n",
    "from scipy import stats as st\n",
    "import statsmodels as sts\n",
    "%matplotlib inline"
   ]
  },
  {
   "cell_type": "code",
   "execution_count": 2,
   "id": "0a4c0747",
   "metadata": {},
   "outputs": [],
   "source": [
    "csv_URL = \"http://data.insideairbnb.com/united-states/ny/new-york-city/2022-09-07/visualisations/listings.csv\"\n",
    "df2 = pd.read_csv(csv_URL)\n",
    "df2=df2.head(20000)"
   ]
  },
  {
   "cell_type": "code",
   "execution_count": 3,
   "id": "8b2e0f57",
   "metadata": {},
   "outputs": [
    {
     "name": "stdout",
     "output_type": "stream",
     "text": [
      "213\n",
      "5\n",
      "4\n",
      "<bound method IndexOpsMixin.nunique of 0        2022-07-18\n",
      "1        2018-10-19\n",
      "2        2019-11-12\n",
      "3               NaN\n",
      "4        2022-07-11\n",
      "            ...    \n",
      "19995           NaN\n",
      "19996           NaN\n",
      "19997           NaN\n",
      "19998           NaN\n",
      "19999    2022-08-29\n",
      "Name: last_review, Length: 20000, dtype: object>\n"
     ]
    }
   ],
   "source": [
    "print(df2.neighbourhood.nunique())\n",
    "print(df2.neighbourhood_group.nunique())\n",
    "print(df2.room_type.nunique())\n",
    "print(df2.last_review.nunique)"
   ]
  },
  {
   "cell_type": "code",
   "execution_count": 4,
   "id": "61c52b32",
   "metadata": {},
   "outputs": [],
   "source": [
    "df2 = df2.drop([\"neighbourhood\",\"last_review\",\"host_name\",\"host_id\",\"id\",\"license\",'reviews_per_month','license','name'],axis=1)"
   ]
  },
  {
   "cell_type": "code",
   "execution_count": 5,
   "id": "ae988aae",
   "metadata": {},
   "outputs": [],
   "source": [
    "df2 = df2.drop(['latitude','longitude'],axis=1)"
   ]
  },
  {
   "cell_type": "code",
   "execution_count": 6,
   "id": "7a5e297f",
   "metadata": {},
   "outputs": [
    {
     "data": {
      "text/plain": [
       "(20000, 8)"
      ]
     },
     "execution_count": 6,
     "metadata": {},
     "output_type": "execute_result"
    }
   ],
   "source": [
    "df2.shape"
   ]
  },
  {
   "cell_type": "code",
   "execution_count": 7,
   "id": "4cf129cd",
   "metadata": {},
   "outputs": [
    {
     "data": {
      "text/html": [
       "<div>\n",
       "<style scoped>\n",
       "    .dataframe tbody tr th:only-of-type {\n",
       "        vertical-align: middle;\n",
       "    }\n",
       "\n",
       "    .dataframe tbody tr th {\n",
       "        vertical-align: top;\n",
       "    }\n",
       "\n",
       "    .dataframe thead th {\n",
       "        text-align: right;\n",
       "    }\n",
       "</style>\n",
       "<table border=\"1\" class=\"dataframe\">\n",
       "  <thead>\n",
       "    <tr style=\"text-align: right;\">\n",
       "      <th></th>\n",
       "      <th>price</th>\n",
       "      <th>minimum_nights</th>\n",
       "      <th>number_of_reviews</th>\n",
       "      <th>calculated_host_listings_count</th>\n",
       "      <th>availability_365</th>\n",
       "      <th>number_of_reviews_ltm</th>\n",
       "    </tr>\n",
       "  </thead>\n",
       "  <tbody>\n",
       "    <tr>\n",
       "      <th>count</th>\n",
       "      <td>20000.000000</td>\n",
       "      <td>20000.000000</td>\n",
       "      <td>20000.000000</td>\n",
       "      <td>20000.000000</td>\n",
       "      <td>20000.000000</td>\n",
       "      <td>20000.000000</td>\n",
       "    </tr>\n",
       "    <tr>\n",
       "      <th>mean</th>\n",
       "      <td>175.623600</td>\n",
       "      <td>23.559450</td>\n",
       "      <td>39.173650</td>\n",
       "      <td>7.843650</td>\n",
       "      <td>87.927250</td>\n",
       "      <td>5.972200</td>\n",
       "    </tr>\n",
       "    <tr>\n",
       "      <th>std</th>\n",
       "      <td>365.290278</td>\n",
       "      <td>33.539693</td>\n",
       "      <td>69.815032</td>\n",
       "      <td>40.400555</td>\n",
       "      <td>125.678553</td>\n",
       "      <td>15.926215</td>\n",
       "    </tr>\n",
       "    <tr>\n",
       "      <th>min</th>\n",
       "      <td>10.000000</td>\n",
       "      <td>1.000000</td>\n",
       "      <td>0.000000</td>\n",
       "      <td>1.000000</td>\n",
       "      <td>0.000000</td>\n",
       "      <td>0.000000</td>\n",
       "    </tr>\n",
       "    <tr>\n",
       "      <th>25%</th>\n",
       "      <td>74.000000</td>\n",
       "      <td>4.000000</td>\n",
       "      <td>2.000000</td>\n",
       "      <td>1.000000</td>\n",
       "      <td>0.000000</td>\n",
       "      <td>0.000000</td>\n",
       "    </tr>\n",
       "    <tr>\n",
       "      <th>50%</th>\n",
       "      <td>119.000000</td>\n",
       "      <td>30.000000</td>\n",
       "      <td>9.000000</td>\n",
       "      <td>1.000000</td>\n",
       "      <td>0.000000</td>\n",
       "      <td>0.000000</td>\n",
       "    </tr>\n",
       "    <tr>\n",
       "      <th>75%</th>\n",
       "      <td>190.000000</td>\n",
       "      <td>30.000000</td>\n",
       "      <td>44.000000</td>\n",
       "      <td>2.000000</td>\n",
       "      <td>170.250000</td>\n",
       "      <td>3.000000</td>\n",
       "    </tr>\n",
       "    <tr>\n",
       "      <th>max</th>\n",
       "      <td>16500.000000</td>\n",
       "      <td>1250.000000</td>\n",
       "      <td>1384.000000</td>\n",
       "      <td>453.000000</td>\n",
       "      <td>365.000000</td>\n",
       "      <td>793.000000</td>\n",
       "    </tr>\n",
       "  </tbody>\n",
       "</table>\n",
       "</div>"
      ],
      "text/plain": [
       "              price  minimum_nights  number_of_reviews  \\\n",
       "count  20000.000000    20000.000000       20000.000000   \n",
       "mean     175.623600       23.559450          39.173650   \n",
       "std      365.290278       33.539693          69.815032   \n",
       "min       10.000000        1.000000           0.000000   \n",
       "25%       74.000000        4.000000           2.000000   \n",
       "50%      119.000000       30.000000           9.000000   \n",
       "75%      190.000000       30.000000          44.000000   \n",
       "max    16500.000000     1250.000000        1384.000000   \n",
       "\n",
       "       calculated_host_listings_count  availability_365  number_of_reviews_ltm  \n",
       "count                    20000.000000      20000.000000           20000.000000  \n",
       "mean                         7.843650         87.927250               5.972200  \n",
       "std                         40.400555        125.678553              15.926215  \n",
       "min                          1.000000          0.000000               0.000000  \n",
       "25%                          1.000000          0.000000               0.000000  \n",
       "50%                          1.000000          0.000000               0.000000  \n",
       "75%                          2.000000        170.250000               3.000000  \n",
       "max                        453.000000        365.000000             793.000000  "
      ]
     },
     "execution_count": 7,
     "metadata": {},
     "output_type": "execute_result"
    }
   ],
   "source": [
    "df2.describe()"
   ]
  },
  {
   "cell_type": "code",
   "execution_count": 8,
   "id": "1a7b82ec",
   "metadata": {},
   "outputs": [],
   "source": [
    "bins = np.arange(df2.price.min(), 2000+20, 20)"
   ]
  },
  {
   "cell_type": "code",
   "execution_count": 9,
   "id": "40a45048",
   "metadata": {},
   "outputs": [
    {
     "data": {
      "text/plain": [
       "(array([1.410e+02, 1.608e+03, 2.648e+03, 2.530e+03, 2.336e+03, 1.793e+03,\n",
       "        1.266e+03, 1.561e+03, 1.109e+03, 1.026e+03, 5.800e+02, 3.260e+02,\n",
       "        5.160e+02, 2.830e+02, 3.940e+02, 1.690e+02, 1.360e+02, 1.990e+02,\n",
       "        1.300e+02, 1.710e+02, 9.600e+01, 6.100e+01, 1.040e+02, 4.600e+01,\n",
       "        1.130e+02, 2.500e+01, 2.800e+01, 4.200e+01, 1.300e+01, 4.800e+01,\n",
       "        1.900e+01, 1.700e+01, 3.100e+01, 1.900e+01, 2.200e+01, 1.200e+01,\n",
       "        1.700e+01, 2.700e+01, 1.200e+01, 4.200e+01, 4.000e+00, 8.000e+00,\n",
       "        6.000e+00, 5.000e+00, 2.300e+01, 6.000e+00, 5.000e+00, 7.000e+00,\n",
       "        4.000e+00, 4.800e+01, 3.000e+00, 1.000e+00, 3.000e+00, 2.000e+00,\n",
       "        4.000e+00, 1.000e+00, 4.000e+00, 1.000e+00, 0.000e+00, 1.200e+01,\n",
       "        3.000e+00, 2.000e+00, 4.000e+00, 4.000e+00, 9.000e+00, 1.000e+00,\n",
       "        1.000e+00, 3.000e+00, 0.000e+00, 4.000e+00, 0.000e+00, 1.000e+00,\n",
       "        1.000e+00, 2.000e+00, 1.200e+01, 1.000e+00, 0.000e+00, 1.000e+00,\n",
       "        1.000e+00, 2.000e+00, 0.000e+00, 0.000e+00, 1.000e+00, 0.000e+00,\n",
       "        4.000e+00, 0.000e+00, 0.000e+00, 4.000e+00, 0.000e+00, 2.000e+00,\n",
       "        0.000e+00, 0.000e+00, 0.000e+00, 0.000e+00, 2.000e+00, 0.000e+00,\n",
       "        0.000e+00, 0.000e+00, 0.000e+00, 1.500e+01]),\n",
       " array([  10,   30,   50,   70,   90,  110,  130,  150,  170,  190,  210,\n",
       "         230,  250,  270,  290,  310,  330,  350,  370,  390,  410,  430,\n",
       "         450,  470,  490,  510,  530,  550,  570,  590,  610,  630,  650,\n",
       "         670,  690,  710,  730,  750,  770,  790,  810,  830,  850,  870,\n",
       "         890,  910,  930,  950,  970,  990, 1010, 1030, 1050, 1070, 1090,\n",
       "        1110, 1130, 1150, 1170, 1190, 1210, 1230, 1250, 1270, 1290, 1310,\n",
       "        1330, 1350, 1370, 1390, 1410, 1430, 1450, 1470, 1490, 1510, 1530,\n",
       "        1550, 1570, 1590, 1610, 1630, 1650, 1670, 1690, 1710, 1730, 1750,\n",
       "        1770, 1790, 1810, 1830, 1850, 1870, 1890, 1910, 1930, 1950, 1970,\n",
       "        1990, 2010], dtype=int64),\n",
       " <BarContainer object of 100 artists>)"
      ]
     },
     "execution_count": 9,
     "metadata": {},
     "output_type": "execute_result"
    },
    {
     "data": {
      "image/png": "[encoded data removed]",
      "text/plain": [
       "<Figure size 640x480 with 1 Axes>"
      ]
     },
     "metadata": {},
     "output_type": "display_data"
    }
   ],
   "source": [
    "plt.hist(df2.price,bins=bins)"
   ]
  },
  {
   "cell_type": "code",
   "execution_count": 10,
   "id": "15b4edd4",
   "metadata": {},
   "outputs": [],
   "source": [
    "df2 = df2[df2['price'] <= 500]"
   ]
  },
  {
   "cell_type": "code",
   "execution_count": 11,
   "id": "987e8013",
   "metadata": {},
   "outputs": [
    {
     "data": {
      "text/plain": [
       "(array([2938., 6219., 4121., 2693., 1302.,  799.,  467.,  364.,  227.,\n",
       "         201.]),\n",
       " array([ 10.,  59., 108., 157., 206., 255., 304., 353., 402., 451., 500.]),\n",
       " <BarContainer object of 10 artists>)"
      ]
     },
     "execution_count": 11,
     "metadata": {},
     "output_type": "execute_result"
    },
    {
     "data": {
      "image/png": "[encoded data removed]",
      "text/plain": [
       "<Figure size 640x480 with 1 Axes>"
      ]
     },
     "metadata": {},
     "output_type": "display_data"
    }
   ],
   "source": [
    "plt.hist(df2.price)"
   ]
  },
  {
   "cell_type": "code",
   "execution_count": null,
   "id": "3a5930a0",
   "metadata": {},
   "outputs": [],
   "source": [
    "# Naive bayes algorithm solves classification problems. But in this dataset classification won't be an easy task.\n",
    "# Even though we tried K-nn classification but dividing the price's into 2 classes as following."
   ]
  },
  {
   "cell_type": "code",
   "execution_count": null,
   "id": "dbdc130a",
   "metadata": {},
   "outputs": [],
   "source": [
    "# with regression we can predict price, dataset we \n",
    "# filtered for our analysis doesn't look appropriate for predicting mode price of any new neighbourhood\n",
    "# However, we tried to predict the price."
   ]
  },
  {
   "cell_type": "code",
   "execution_count": 12,
   "id": "6985ee61",
   "metadata": {},
   "outputs": [],
   "source": [
    "def add_column(df2_p):\n",
    "    price_class=[]\n",
    "    for i in df2_p:\n",
    "        if i<250:\n",
    "            price_class.append(1)\n",
    "        else:\n",
    "            price_class.append(0)\n",
    "    price_class = pd.Series(price_class)\n",
    "    return price_class"
   ]
  },
  {
   "cell_type": "code",
   "execution_count": 13,
   "id": "9d5ba38f",
   "metadata": {},
   "outputs": [],
   "source": [
    "df2=pd.concat([df2,pd.DataFrame(add_column(df2.price))],axis=1)"
   ]
  },
  {
   "cell_type": "code",
   "execution_count": 14,
   "id": "bd671e64",
   "metadata": {},
   "outputs": [],
   "source": [
    "df2.rename(columns={0:'PriceClass'},inplace=1)"
   ]
  },
  {
   "cell_type": "code",
   "execution_count": 15,
   "id": "c9aa8057",
   "metadata": {},
   "outputs": [],
   "source": [
    "df2.dropna(inplace=True)"
   ]
  },
  {
   "cell_type": "code",
   "execution_count": 16,
   "id": "67bc7fa4",
   "metadata": {},
   "outputs": [
    {
     "name": "stdout",
     "output_type": "stream",
     "text": [
      "<class 'pandas.core.frame.DataFrame'>\n",
      "Int64Index: 18703 entries, 0 to 19330\n",
      "Data columns (total 9 columns):\n",
      " #   Column                          Non-Null Count  Dtype  \n",
      "---  ------                          --------------  -----  \n",
      " 0   neighbourhood_group             18703 non-null  object \n",
      " 1   room_type                       18703 non-null  object \n",
      " 2   price                           18703 non-null  float64\n",
      " 3   minimum_nights                  18703 non-null  float64\n",
      " 4   number_of_reviews               18703 non-null  float64\n",
      " 5   calculated_host_listings_count  18703 non-null  float64\n",
      " 6   availability_365                18703 non-null  float64\n",
      " 7   number_of_reviews_ltm           18703 non-null  float64\n",
      " 8   PriceClass                      18703 non-null  float64\n",
      "dtypes: float64(7), object(2)\n",
      "memory usage: 1.4+ MB\n"
     ]
    }
   ],
   "source": [
    "df2.info()"
   ]
  },
  {
   "cell_type": "code",
   "execution_count": 23,
   "id": "55acbf28",
   "metadata": {},
   "outputs": [
    {
     "name": "stdout",
     "output_type": "stream",
     "text": [
      "<class 'pandas.core.frame.DataFrame'>\n",
      "Int64Index: 18703 entries, 0 to 19330\n",
      "Data columns (total 15 columns):\n",
      " #   Column                             Non-Null Count  Dtype  \n",
      "---  ------                             --------------  -----  \n",
      " 0   minimum_nights                     18703 non-null  float64\n",
      " 1   number_of_reviews                  18703 non-null  float64\n",
      " 2   calculated_host_listings_count     18703 non-null  float64\n",
      " 3   availability_365                   18703 non-null  float64\n",
      " 4   number_of_reviews_ltm              18703 non-null  float64\n",
      " 5   PriceClass                         18703 non-null  float64\n",
      " 6   room_type_Entire home/apt          18703 non-null  uint8  \n",
      " 7   room_type_Hotel room               18703 non-null  uint8  \n",
      " 8   room_type_Private room             18703 non-null  uint8  \n",
      " 9   room_type_Shared room              18703 non-null  uint8  \n",
      " 10  neighbourhood_group_Bronx          18703 non-null  uint8  \n",
      " 11  neighbourhood_group_Brooklyn       18703 non-null  uint8  \n",
      " 12  neighbourhood_group_Manhattan      18703 non-null  uint8  \n",
      " 13  neighbourhood_group_Queens         18703 non-null  uint8  \n",
      " 14  neighbourhood_group_Staten Island  18703 non-null  uint8  \n",
      "dtypes: float64(6), uint8(9)\n",
      "memory usage: 1.2 MB\n"
     ]
    }
   ],
   "source": [
    "import sklearn as skl\n",
    "from sklearn.naive_bayes import MultinomialNB\n",
    "X = pd.get_dummies(data=df2.drop('price', axis=1), \n",
    "                   columns=['room_type','neighbourhood_group'],\n",
    "                   prefix = ['room_type','neighbourhood_group'])\n",
    "\n",
    "X.info()"
   ]
  },
  {
   "cell_type": "code",
   "execution_count": 105,
   "id": "f968ef12",
   "metadata": {},
   "outputs": [
    {
     "name": "stdout",
     "output_type": "stream",
     "text": [
      "<class 'pandas.core.frame.DataFrame'>\n",
      "Int64Index: 18703 entries, 0 to 19330\n",
      "Data columns (total 16 columns):\n",
      " #   Column                             Non-Null Count  Dtype  \n",
      "---  ------                             --------------  -----  \n",
      " 0   price                              18703 non-null  float64\n",
      " 1   minimum_nights                     18703 non-null  float64\n",
      " 2   number_of_reviews                  18703 non-null  float64\n",
      " 3   calculated_host_listings_count     18703 non-null  float64\n",
      " 4   availability_365                   18703 non-null  float64\n",
      " 5   number_of_reviews_ltm              18703 non-null  float64\n",
      " 6   PriceClass                         18703 non-null  float64\n",
      " 7   room_type_Entire home/apt          18703 non-null  uint8  \n",
      " 8   room_type_Hotel room               18703 non-null  uint8  \n",
      " 9   room_type_Private room             18703 non-null  uint8  \n",
      " 10  room_type_Shared room              18703 non-null  uint8  \n",
      " 11  neighbourhood_group_Bronx          18703 non-null  uint8  \n",
      " 12  neighbourhood_group_Brooklyn       18703 non-null  uint8  \n",
      " 13  neighbourhood_group_Manhattan      18703 non-null  uint8  \n",
      " 14  neighbourhood_group_Queens         18703 non-null  uint8  \n",
      " 15  neighbourhood_group_Staten Island  18703 non-null  uint8  \n",
      "dtypes: float64(7), uint8(9)\n",
      "memory usage: 1.8 MB\n"
     ]
    }
   ],
   "source": [
    "import sklearn as skl\n",
    "from sklearn.naive_bayes import MultinomialNB\n",
    "X_reg = pd.get_dummies(data=df2, \n",
    "                   columns=['room_type','neighbourhood_group'],\n",
    "                   prefix = ['room_type','neighbourhood_group'])\n",
    "\n",
    "X_reg.info()"
   ]
  },
  {
   "cell_type": "code",
   "execution_count": 107,
   "id": "d4894949",
   "metadata": {},
   "outputs": [
    {
     "data": {
      "text/plain": [
       "0    308.0\n",
       "1    299.0\n",
       "2    425.0\n",
       "3     60.0\n",
       "4     75.0\n",
       "Name: price, dtype: float64"
      ]
     },
     "execution_count": 107,
     "metadata": {},
     "output_type": "execute_result"
    }
   ],
   "source": [
    "y_reg = df2['price'].copy()\n",
    "y.head()"
   ]
  },
  {
   "cell_type": "code",
   "execution_count": 24,
   "id": "ad01d3aa",
   "metadata": {},
   "outputs": [
    {
     "data": {
      "text/html": [
       "<div>\n",
       "<style scoped>\n",
       "    .dataframe tbody tr th:only-of-type {\n",
       "        vertical-align: middle;\n",
       "    }\n",
       "\n",
       "    .dataframe tbody tr th {\n",
       "        vertical-align: top;\n",
       "    }\n",
       "\n",
       "    .dataframe thead th {\n",
       "        text-align: right;\n",
       "    }\n",
       "</style>\n",
       "<table border=\"1\" class=\"dataframe\">\n",
       "  <thead>\n",
       "    <tr style=\"text-align: right;\">\n",
       "      <th></th>\n",
       "      <th>count</th>\n",
       "      <th>mean</th>\n",
       "      <th>std</th>\n",
       "      <th>min</th>\n",
       "      <th>25%</th>\n",
       "      <th>50%</th>\n",
       "      <th>75%</th>\n",
       "      <th>max</th>\n",
       "    </tr>\n",
       "  </thead>\n",
       "  <tbody>\n",
       "    <tr>\n",
       "      <th>minimum_nights</th>\n",
       "      <td>18703.0</td>\n",
       "      <td>23.846816</td>\n",
       "      <td>34.063806</td>\n",
       "      <td>1.0</td>\n",
       "      <td>4.0</td>\n",
       "      <td>30.0</td>\n",
       "      <td>30.0</td>\n",
       "      <td>1250.0</td>\n",
       "    </tr>\n",
       "    <tr>\n",
       "      <th>number_of_reviews</th>\n",
       "      <td>18703.0</td>\n",
       "      <td>40.297279</td>\n",
       "      <td>71.312327</td>\n",
       "      <td>0.0</td>\n",
       "      <td>2.0</td>\n",
       "      <td>9.0</td>\n",
       "      <td>46.0</td>\n",
       "      <td>1384.0</td>\n",
       "    </tr>\n",
       "    <tr>\n",
       "      <th>calculated_host_listings_count</th>\n",
       "      <td>18703.0</td>\n",
       "      <td>7.420360</td>\n",
       "      <td>38.545636</td>\n",
       "      <td>1.0</td>\n",
       "      <td>1.0</td>\n",
       "      <td>1.0</td>\n",
       "      <td>2.0</td>\n",
       "      <td>453.0</td>\n",
       "    </tr>\n",
       "    <tr>\n",
       "      <th>availability_365</th>\n",
       "      <td>18703.0</td>\n",
       "      <td>84.475539</td>\n",
       "      <td>123.628064</td>\n",
       "      <td>0.0</td>\n",
       "      <td>0.0</td>\n",
       "      <td>0.0</td>\n",
       "      <td>161.0</td>\n",
       "      <td>365.0</td>\n",
       "    </tr>\n",
       "    <tr>\n",
       "      <th>number_of_reviews_ltm</th>\n",
       "      <td>18703.0</td>\n",
       "      <td>5.949741</td>\n",
       "      <td>16.038644</td>\n",
       "      <td>0.0</td>\n",
       "      <td>0.0</td>\n",
       "      <td>0.0</td>\n",
       "      <td>3.0</td>\n",
       "      <td>793.0</td>\n",
       "    </tr>\n",
       "    <tr>\n",
       "      <th>PriceClass</th>\n",
       "      <td>18703.0</td>\n",
       "      <td>0.875742</td>\n",
       "      <td>0.329885</td>\n",
       "      <td>0.0</td>\n",
       "      <td>1.0</td>\n",
       "      <td>1.0</td>\n",
       "      <td>1.0</td>\n",
       "      <td>1.0</td>\n",
       "    </tr>\n",
       "    <tr>\n",
       "      <th>room_type_Entire home/apt</th>\n",
       "      <td>18703.0</td>\n",
       "      <td>0.542747</td>\n",
       "      <td>0.498183</td>\n",
       "      <td>0.0</td>\n",
       "      <td>0.0</td>\n",
       "      <td>1.0</td>\n",
       "      <td>1.0</td>\n",
       "      <td>1.0</td>\n",
       "    </tr>\n",
       "    <tr>\n",
       "      <th>room_type_Hotel room</th>\n",
       "      <td>18703.0</td>\n",
       "      <td>0.006149</td>\n",
       "      <td>0.078175</td>\n",
       "      <td>0.0</td>\n",
       "      <td>0.0</td>\n",
       "      <td>0.0</td>\n",
       "      <td>0.0</td>\n",
       "      <td>1.0</td>\n",
       "    </tr>\n",
       "    <tr>\n",
       "      <th>room_type_Private room</th>\n",
       "      <td>18703.0</td>\n",
       "      <td>0.437256</td>\n",
       "      <td>0.496061</td>\n",
       "      <td>0.0</td>\n",
       "      <td>0.0</td>\n",
       "      <td>0.0</td>\n",
       "      <td>1.0</td>\n",
       "      <td>1.0</td>\n",
       "    </tr>\n",
       "    <tr>\n",
       "      <th>room_type_Shared room</th>\n",
       "      <td>18703.0</td>\n",
       "      <td>0.013848</td>\n",
       "      <td>0.116863</td>\n",
       "      <td>0.0</td>\n",
       "      <td>0.0</td>\n",
       "      <td>0.0</td>\n",
       "      <td>0.0</td>\n",
       "      <td>1.0</td>\n",
       "    </tr>\n",
       "    <tr>\n",
       "      <th>neighbourhood_group_Bronx</th>\n",
       "      <td>18703.0</td>\n",
       "      <td>0.026199</td>\n",
       "      <td>0.159731</td>\n",
       "      <td>0.0</td>\n",
       "      <td>0.0</td>\n",
       "      <td>0.0</td>\n",
       "      <td>0.0</td>\n",
       "      <td>1.0</td>\n",
       "    </tr>\n",
       "    <tr>\n",
       "      <th>neighbourhood_group_Brooklyn</th>\n",
       "      <td>18703.0</td>\n",
       "      <td>0.422659</td>\n",
       "      <td>0.493995</td>\n",
       "      <td>0.0</td>\n",
       "      <td>0.0</td>\n",
       "      <td>0.0</td>\n",
       "      <td>1.0</td>\n",
       "      <td>1.0</td>\n",
       "    </tr>\n",
       "    <tr>\n",
       "      <th>neighbourhood_group_Manhattan</th>\n",
       "      <td>18703.0</td>\n",
       "      <td>0.417366</td>\n",
       "      <td>0.493138</td>\n",
       "      <td>0.0</td>\n",
       "      <td>0.0</td>\n",
       "      <td>0.0</td>\n",
       "      <td>1.0</td>\n",
       "      <td>1.0</td>\n",
       "    </tr>\n",
       "    <tr>\n",
       "      <th>neighbourhood_group_Queens</th>\n",
       "      <td>18703.0</td>\n",
       "      <td>0.126450</td>\n",
       "      <td>0.332365</td>\n",
       "      <td>0.0</td>\n",
       "      <td>0.0</td>\n",
       "      <td>0.0</td>\n",
       "      <td>0.0</td>\n",
       "      <td>1.0</td>\n",
       "    </tr>\n",
       "    <tr>\n",
       "      <th>neighbourhood_group_Staten Island</th>\n",
       "      <td>18703.0</td>\n",
       "      <td>0.007325</td>\n",
       "      <td>0.085275</td>\n",
       "      <td>0.0</td>\n",
       "      <td>0.0</td>\n",
       "      <td>0.0</td>\n",
       "      <td>0.0</td>\n",
       "      <td>1.0</td>\n",
       "    </tr>\n",
       "  </tbody>\n",
       "</table>\n",
       "</div>"
      ],
      "text/plain": [
       "                                     count       mean         std  min  25%  \\\n",
       "minimum_nights                     18703.0  23.846816   34.063806  1.0  4.0   \n",
       "number_of_reviews                  18703.0  40.297279   71.312327  0.0  2.0   \n",
       "calculated_host_listings_count     18703.0   7.420360   38.545636  1.0  1.0   \n",
       "availability_365                   18703.0  84.475539  123.628064  0.0  0.0   \n",
       "number_of_reviews_ltm              18703.0   5.949741   16.038644  0.0  0.0   \n",
       "PriceClass                         18703.0   0.875742    0.329885  0.0  1.0   \n",
       "room_type_Entire home/apt          18703.0   0.542747    0.498183  0.0  0.0   \n",
       "room_type_Hotel room               18703.0   0.006149    0.078175  0.0  0.0   \n",
       "room_type_Private room             18703.0   0.437256    0.496061  0.0  0.0   \n",
       "room_type_Shared room              18703.0   0.013848    0.116863  0.0  0.0   \n",
       "neighbourhood_group_Bronx          18703.0   0.026199    0.159731  0.0  0.0   \n",
       "neighbourhood_group_Brooklyn       18703.0   0.422659    0.493995  0.0  0.0   \n",
       "neighbourhood_group_Manhattan      18703.0   0.417366    0.493138  0.0  0.0   \n",
       "neighbourhood_group_Queens         18703.0   0.126450    0.332365  0.0  0.0   \n",
       "neighbourhood_group_Staten Island  18703.0   0.007325    0.085275  0.0  0.0   \n",
       "\n",
       "                                    50%    75%     max  \n",
       "minimum_nights                     30.0   30.0  1250.0  \n",
       "number_of_reviews                   9.0   46.0  1384.0  \n",
       "calculated_host_listings_count      1.0    2.0   453.0  \n",
       "availability_365                    0.0  161.0   365.0  \n",
       "number_of_reviews_ltm               0.0    3.0   793.0  \n",
       "PriceClass                          1.0    1.0     1.0  \n",
       "room_type_Entire home/apt           1.0    1.0     1.0  \n",
       "room_type_Hotel room                0.0    0.0     1.0  \n",
       "room_type_Private room              0.0    1.0     1.0  \n",
       "room_type_Shared room               0.0    0.0     1.0  \n",
       "neighbourhood_group_Bronx           0.0    0.0     1.0  \n",
       "neighbourhood_group_Brooklyn        0.0    1.0     1.0  \n",
       "neighbourhood_group_Manhattan       0.0    1.0     1.0  \n",
       "neighbourhood_group_Queens          0.0    0.0     1.0  \n",
       "neighbourhood_group_Staten Island   0.0    0.0     1.0  "
      ]
     },
     "execution_count": 24,
     "metadata": {},
     "output_type": "execute_result"
    }
   ],
   "source": [
    "X.describe().transpose()"
   ]
  },
  {
   "cell_type": "code",
   "execution_count": 25,
   "id": "7185bc44",
   "metadata": {},
   "outputs": [
    {
     "data": {
      "text/plain": [
       "0    0.0\n",
       "1    0.0\n",
       "2    0.0\n",
       "3    1.0\n",
       "4    1.0\n",
       "Name: PriceClass, dtype: float64"
      ]
     },
     "execution_count": 25,
     "metadata": {},
     "output_type": "execute_result"
    }
   ],
   "source": [
    "y = df2['PriceClass'].copy()\n",
    "y.head()"
   ]
  },
  {
   "cell_type": "code",
   "execution_count": 43,
   "id": "dabdc6ad",
   "metadata": {},
   "outputs": [
    {
     "data": {
      "text/plain": [
       "minimum_nights                       30.0\n",
       "number_of_reviews                     0.0\n",
       "calculated_host_listings_count        1.0\n",
       "availability_365                     83.0\n",
       "number_of_reviews_ltm                 0.0\n",
       "PriceClass                            1.0\n",
       "room_type_Entire home/apt             0.0\n",
       "room_type_Hotel room                  0.0\n",
       "room_type_Private room                1.0\n",
       "room_type_Shared room                 0.0\n",
       "neighbourhood_group_Bronx             1.0\n",
       "neighbourhood_group_Brooklyn          0.0\n",
       "neighbourhood_group_Manhattan         0.0\n",
       "neighbourhood_group_Queens            0.0\n",
       "neighbourhood_group_Staten Island     0.0\n",
       "Name: 3, dtype: float64"
      ]
     },
     "execution_count": 43,
     "metadata": {},
     "output_type": "execute_result"
    }
   ],
   "source": [
    "\n",
    "X.iloc[3]"
   ]
  },
  {
   "cell_type": "code",
   "execution_count": 44,
   "id": "49c4a31a",
   "metadata": {},
   "outputs": [],
   "source": [
    "new_data_point = np.array([\n",
    "   30.0,\n",
    "   0.0,\n",
    "1.0,   83.0,   0.0, 1.0,  0.0,0.0,1.0,0.0,1.0,0.0,0.0,0.0,0.0,\n",
    "])"
   ]
  },
  {
   "cell_type": "code",
   "execution_count": 26,
   "id": "d2a7828b",
   "metadata": {},
   "outputs": [],
   "source": [
    "from sklearn.model_selection import train_test_split\n",
    "\n",
    "# 20-80% simple split\n",
    "# To make the result reproducible, set the random_state\n",
    "train_y,test_y,train_X,test_X = train_test_split(y, X,\n",
    "                                                 test_size=0.2,\n",
    "                                                 random_state=123)"
   ]
  },
  {
   "cell_type": "code",
   "execution_count": 108,
   "id": "5a481f89",
   "metadata": {},
   "outputs": [],
   "source": [
    "from sklearn.model_selection import train_test_split\n",
    "\n",
    "# 20-80% simple split\n",
    "# To make the result reproducible, set the random_state for regression\n",
    "train_y_reg,test_y_reg,train_X_reg,test_X_reg = train_test_split(y_reg, X_reg,\n",
    "                                                 test_size=0.2,\n",
    "                                                 random_state=123)"
   ]
  },
  {
   "cell_type": "code",
   "execution_count": 109,
   "id": "dbbd33bd",
   "metadata": {},
   "outputs": [
    {
     "data": {
      "text/plain": [
       "(14962, 16)"
      ]
     },
     "execution_count": 109,
     "metadata": {},
     "output_type": "execute_result"
    }
   ],
   "source": [
    "train_X_reg.shape"
   ]
  },
  {
   "cell_type": "code",
   "execution_count": 27,
   "id": "5bedafbd",
   "metadata": {},
   "outputs": [
    {
     "data": {
      "text/plain": [
       "(14962, 15)"
      ]
     },
     "execution_count": 27,
     "metadata": {},
     "output_type": "execute_result"
    }
   ],
   "source": [
    "train_X.shape"
   ]
  },
  {
   "cell_type": "code",
   "execution_count": 28,
   "id": "98e56a67",
   "metadata": {},
   "outputs": [],
   "source": [
    "from sklearn import preprocessing\n",
    "\n",
    "# Create a scaler to do the transformation\n",
    "scaler = preprocessing.MinMaxScaler().fit(train_X)"
   ]
  },
  {
   "cell_type": "code",
   "execution_count": 110,
   "id": "f3ea8f11",
   "metadata": {},
   "outputs": [],
   "source": [
    "from sklearn import preprocessing\n",
    "\n",
    "# Create a scaler_reg to do the transformation\n",
    "scaler_reg = preprocessing.MinMaxScaler().fit(train_X_reg)"
   ]
  },
  {
   "cell_type": "code",
   "execution_count": 111,
   "id": "910e4fa8",
   "metadata": {},
   "outputs": [],
   "source": [
    "# Transform training X_reg\n",
    "train_X_scale_reg = scaler_reg.transform(train_X_reg)\n",
    "train_X_scale_reg = pd.DataFrame(train_X_scale_reg)\n",
    "train_X_scale_reg.columns = train_X_reg.columns\n"
   ]
  },
  {
   "cell_type": "code",
   "execution_count": 29,
   "id": "6e75639e",
   "metadata": {},
   "outputs": [],
   "source": [
    "# Transform training X\n",
    "train_X_scale = scaler.transform(train_X)\n",
    "train_X_scale = pd.DataFrame(train_X_scale)\n",
    "train_X_scale.columns = train_X.columns\n"
   ]
  },
  {
   "cell_type": "code",
   "execution_count": 113,
   "id": "06d87ef8",
   "metadata": {},
   "outputs": [],
   "source": [
    "# Transform test X_reg\n",
    "test_X_scale_reg = scaler_reg.transform(test_X_reg)\n",
    "test_X_scale_reg = pd.DataFrame(test_X_scale_reg)\n",
    "test_X_scale_reg.columns = test_X_reg.columns\n"
   ]
  },
  {
   "cell_type": "code",
   "execution_count": 30,
   "id": "6e5d3814",
   "metadata": {},
   "outputs": [],
   "source": [
    "# Transform test X\n",
    "test_X_scale = scaler.transform(test_X)\n",
    "test_X_scale = pd.DataFrame(test_X_scale)\n",
    "test_X_scale.columns = test_X.columns\n"
   ]
  },
  {
   "cell_type": "code",
   "execution_count": 31,
   "id": "c24dd151",
   "metadata": {},
   "outputs": [
    {
     "name": "stdout",
     "output_type": "stream",
     "text": [
      "(14962, 15)\n",
      "(14962,)\n",
      "(3741,)\n",
      "(3741, 15)\n",
      "8246     1.0\n",
      "13055    1.0\n",
      "13691    1.0\n",
      "9061     1.0\n",
      "11759    1.0\n",
      "        ... \n",
      "13793    1.0\n",
      "7984     1.0\n",
      "15817    1.0\n",
      "18314    0.0\n",
      "16189    1.0\n",
      "Name: PriceClass, Length: 14962, dtype: float64\n"
     ]
    }
   ],
   "source": [
    "print(train_X.shape)\n",
    "print(train_y.shape)\n",
    "print(test_y.shape)\n",
    "print(test_X.shape)\n",
    "\n",
    "print(train_y)"
   ]
  },
  {
   "cell_type": "code",
   "execution_count": null,
   "id": "ff3c3ad1",
   "metadata": {},
   "outputs": [],
   "source": [
    "df2.shape"
   ]
  },
  {
   "cell_type": "code",
   "execution_count": 120,
   "id": "b0971cb3",
   "metadata": {},
   "outputs": [],
   "source": [
    "# we performed classification based on price by converting price into 2 classes i.e less than 250 & greater than 250. \n",
    "# We used new variable called PriceClass to classify two classes.\n",
    "# There was a class imbalance for greater and lower price when we 500 as the marginal value for both the classes.\n",
    "# As greater than 500 very less in number compared to below 500. Majorly, in above 500 class there were very less\n",
    "# values away from 500 compared to values nearer 500.\n",
    "# To handle class imbalance values above 500 were removed as they are less in number."
   ]
  },
  {
   "cell_type": "code",
   "execution_count": 89,
   "id": "dfdc6ec7",
   "metadata": {},
   "outputs": [],
   "source": [
    "import matplotlib.pyplot as plt\n",
    "import numpy as np\n",
    "def print_cm(cm):\n",
    "    plt.clf()\n",
    "    plt.imshow(cm, interpolation='nearest', cmap=plt.cm.Wistia)\n",
    "    classNames = ['Class 1','Class 2']\n",
    "    plt.title('Confusion Matrix - Test Data')\n",
    "    plt.ylabel('True label')\n",
    "    plt.xlabel('Predicted label')\n",
    "    tick_marks = np.arange(len(classNames))\n",
    "    plt.xticks(tick_marks, classNames, rotation=45)\n",
    "    plt.yticks(tick_marks, classNames)\n",
    "    s = [['TN','FP'], ['FN', 'TP']] \n",
    "    for i in range(2):\n",
    "        for j in range(2):\n",
    "            plt.text(j,i, str(s[i][j])+\" = \"+str(cm[i][j]))\n",
    "    plt.show()"
   ]
  },
  {
   "cell_type": "code",
   "execution_count": null,
   "id": "073953f2",
   "metadata": {},
   "outputs": [],
   "source": [
    "# Print confusion matrix\n",
    "from sklearn import metrics\n",
    "cm = metrics.confusion_matrix(test_y, y_pred)\n",
    "print_cm(cm)\n"
   ]
  },
  {
   "cell_type": "code",
   "execution_count": null,
   "id": "7533c0b1",
   "metadata": {},
   "outputs": [],
   "source": [
    "# Calculate classification accuracy\n",
    "metrics.accuracy_score(test_y, y_pred)"
   ]
  },
  {
   "cell_type": "code",
   "execution_count": 90,
   "id": "fdb214fe",
   "metadata": {},
   "outputs": [],
   "source": [
    "#K-NN \n",
    "from sklearn import neighbors\n",
    "\n",
    "# KNN: K=5, default measure of distance (euclidean)\n",
    "knn5 = neighbors.KNeighborsClassifier(n_neighbors=5)"
   ]
  },
  {
   "cell_type": "code",
   "execution_count": 91,
   "id": "18853f09",
   "metadata": {},
   "outputs": [
    {
     "data": {
      "text/html": [
       "<style>#sk-container-id-5 {color: black;background-color: white;}#sk-container-id-5 pre{padding: 0;}#sk-container-id-5 div.sk-toggleable {background-color: white;}#sk-container-id-5 label.sk-toggleable__label {cursor: pointer;display: block;width: 100%;margin-bottom: 0;padding: 0.3em;box-sizing: border-box;text-align: center;}#sk-container-id-5 label.sk-toggleable__label-arrow:before {content: \"▸\";float: left;margin-right: 0.25em;color: #696969;}#sk-container-id-5 label.sk-toggleable__label-arrow:hover:before {color: black;}#sk-container-id-5 div.sk-estimator:hover label.sk-toggleable__label-arrow:before {color: black;}#sk-container-id-5 div.sk-toggleable__content {max-height: 0;max-width: 0;overflow: hidden;text-align: left;background-color: #f0f8ff;}#sk-container-id-5 div.sk-toggleable__content pre {margin: 0.2em;color: black;border-radius: 0.25em;background-color: #f0f8ff;}#sk-container-id-5 input.sk-toggleable__control:checked~div.sk-toggleable__content {max-height: 200px;max-width: 100%;overflow: auto;}#sk-container-id-5 input.sk-toggleable__control:checked~label.sk-toggleable__label-arrow:before {content: \"▾\";}#sk-container-id-5 div.sk-estimator input.sk-toggleable__control:checked~label.sk-toggleable__label {background-color: #d4ebff;}#sk-container-id-5 div.sk-label input.sk-toggleable__control:checked~label.sk-toggleable__label {background-color: #d4ebff;}#sk-container-id-5 input.sk-hidden--visually {border: 0;clip: rect(1px 1px 1px 1px);clip: rect(1px, 1px, 1px, 1px);height: 1px;margin: -1px;overflow: hidden;padding: 0;position: absolute;width: 1px;}#sk-container-id-5 div.sk-estimator {font-family: monospace;background-color: #f0f8ff;border: 1px dotted black;border-radius: 0.25em;box-sizing: border-box;margin-bottom: 0.5em;}#sk-container-id-5 div.sk-estimator:hover {background-color: #d4ebff;}#sk-container-id-5 div.sk-parallel-item::after {content: \"\";width: 100%;border-bottom: 1px solid gray;flex-grow: 1;}#sk-container-id-5 div.sk-label:hover label.sk-toggleable__label {background-color: #d4ebff;}#sk-container-id-5 div.sk-serial::before {content: \"\";position: absolute;border-left: 1px solid gray;box-sizing: border-box;top: 0;bottom: 0;left: 50%;z-index: 0;}#sk-container-id-5 div.sk-serial {display: flex;flex-direction: column;align-items: center;background-color: white;padding-right: 0.2em;padding-left: 0.2em;position: relative;}#sk-container-id-5 div.sk-item {position: relative;z-index: 1;}#sk-container-id-5 div.sk-parallel {display: flex;align-items: stretch;justify-content: center;background-color: white;position: relative;}#sk-container-id-5 div.sk-item::before, #sk-container-id-5 div.sk-parallel-item::before {content: \"\";position: absolute;border-left: 1px solid gray;box-sizing: border-box;top: 0;bottom: 0;left: 50%;z-index: -1;}#sk-container-id-5 div.sk-parallel-item {display: flex;flex-direction: column;z-index: 1;position: relative;background-color: white;}#sk-container-id-5 div.sk-parallel-item:first-child::after {align-self: flex-end;width: 50%;}#sk-container-id-5 div.sk-parallel-item:last-child::after {align-self: flex-start;width: 50%;}#sk-container-id-5 div.sk-parallel-item:only-child::after {width: 0;}#sk-container-id-5 div.sk-dashed-wrapped {border: 1px dashed gray;margin: 0 0.4em 0.5em 0.4em;box-sizing: border-box;padding-bottom: 0.4em;background-color: white;}#sk-container-id-5 div.sk-label label {font-family: monospace;font-weight: bold;display: inline-block;line-height: 1.2em;}#sk-container-id-5 div.sk-label-container {text-align: center;}#sk-container-id-5 div.sk-container {/* jupyter's `normalize.less` sets `[hidden] { display: none; }` but bootstrap.min.css set `[hidden] { display: none !important; }` so we also need the `!important` here to be able to override the default hidden behavior on the sphinx rendered scikit-learn.org. See: https://github.com/scikit-learn/scikit-learn/issues/21755 */display: inline-block !important;position: relative;}#sk-container-id-5 div.sk-text-repr-fallback {display: none;}</style><div id=\"sk-container-id-5\" class=\"sk-top-container\"><div class=\"sk-text-repr-fallback\"><pre>KNeighborsClassifier()</pre><b>In a Jupyter environment, please rerun this cell to show the HTML representation or trust the notebook. <br />On GitHub, the HTML representation is unable to render, please try loading this page with nbviewer.org.</b></div><div class=\"sk-container\" hidden><div class=\"sk-item\"><div class=\"sk-estimator sk-toggleable\"><input class=\"sk-toggleable__control sk-hidden--visually\" id=\"sk-estimator-id-13\" type=\"checkbox\" checked><label for=\"sk-estimator-id-13\" class=\"sk-toggleable__label sk-toggleable__label-arrow\">KNeighborsClassifier</label><div class=\"sk-toggleable__content\"><pre>KNeighborsClassifier()</pre></div></div></div></div></div>"
      ],
      "text/plain": [
       "KNeighborsClassifier()"
      ]
     },
     "execution_count": 91,
     "metadata": {},
     "output_type": "execute_result"
    }
   ],
   "source": [
    "knn5.fit(train_X_scale, train_y)\n"
   ]
  },
  {
   "cell_type": "code",
   "execution_count": 92,
   "id": "b39c08b1",
   "metadata": {},
   "outputs": [],
   "source": [
    "pred_y_knn5 = knn5.predict(test_X_scale)"
   ]
  },
  {
   "cell_type": "code",
   "execution_count": 100,
   "id": "6ed48d5a",
   "metadata": {},
   "outputs": [],
   "source": [
    "# h = .02\n",
    "# x_min, x_max = X[: 0].min() - 1, X[: 0].max() + 1\n",
    "# y_min, y_max = X[: 1].min() - 1, X[: 1].max() + 1\n",
    "# xx, yy = np.meshgrid(np.arange(x_min, x_max, h),\n",
    "# np.arange(y_min, y_max, h))"
   ]
  },
  {
   "cell_type": "code",
   "execution_count": null,
   "id": "cd8d3742",
   "metadata": {},
   "outputs": [],
   "source": []
  },
  {
   "cell_type": "code",
   "execution_count": 93,
   "id": "23467d64",
   "metadata": {},
   "outputs": [
    {
     "name": "stdout",
     "output_type": "stream",
     "text": [
      "[[ 494    1]\n",
      " [   0 3246]]\n"
     ]
    }
   ],
   "source": [
    "from sklearn import metrics\n",
    "\n",
    "# Print confusion matrix\n",
    "cm = metrics.confusion_matrix(test_y, pred_y_knn5)\n",
    "print(cm)"
   ]
  },
  {
   "cell_type": "code",
   "execution_count": 94,
   "id": "0d77aba7",
   "metadata": {},
   "outputs": [
    {
     "data": {
      "image/png": "[encoded data removed]",
      "text/plain": [
       "<Figure size 640x480 with 1 Axes>"
      ]
     },
     "metadata": {},
     "output_type": "display_data"
    }
   ],
   "source": [
    "print_cm(cm)"
   ]
  },
  {
   "cell_type": "code",
   "execution_count": 99,
   "id": "f9955881",
   "metadata": {},
   "outputs": [
    {
     "name": "stdout",
     "output_type": "stream",
     "text": [
      "              precision    recall  f1-score   support\n",
      "\n",
      "         0.0       1.00      1.00      1.00       495\n",
      "         1.0       1.00      1.00      1.00      3246\n",
      "\n",
      "    accuracy                           1.00      3741\n",
      "   macro avg       1.00      1.00      1.00      3741\n",
      "weighted avg       1.00      1.00      1.00      3741\n",
      "\n"
     ]
    }
   ],
   "source": [
    "print(metrics.classification_report(test_y, pred_y_knn5))"
   ]
  },
  {
   "cell_type": "code",
   "execution_count": null,
   "id": "669248d7",
   "metadata": {},
   "outputs": [],
   "source": [
    "# Here we can see in the confusion matrix TN=494, Tp=3246, FP=1,FN=0\n",
    "# Classification metrics shows the results are 100% correct\n",
    "# Which implies the model is not correct fit.\n"
   ]
  },
  {
   "cell_type": "code",
   "execution_count": null,
   "id": "88723a1e",
   "metadata": {},
   "outputs": [],
   "source": [
    "# Calculate classification accuracy\n",
    "metrics.accuracy_score(test_y, pred_y_knn5)"
   ]
  },
  {
   "cell_type": "code",
   "execution_count": 45,
   "id": "fdc6e877",
   "metadata": {},
   "outputs": [],
   "source": [
    "import numpy as np\n",
    "distances = np.linalg.norm(X - new_data_point, axis=1)"
   ]
  },
  {
   "cell_type": "code",
   "execution_count": 46,
   "id": "a6867f50",
   "metadata": {},
   "outputs": [
    {
     "data": {
      "text/plain": [
       "array([    3, 17051, 16334], dtype=int64)"
      ]
     },
     "execution_count": 46,
     "metadata": {},
     "output_type": "execute_result"
    }
   ],
   "source": [
    "k = 3\n",
    "nearest_neighbor_ids = distances.argsort()[:k]\n",
    "nearest_neighbor_ids"
   ]
  },
  {
   "cell_type": "code",
   "execution_count": 47,
   "id": "bf519869",
   "metadata": {},
   "outputs": [
    {
     "data": {
      "text/plain": [
       "3        1.0\n",
       "17051    1.0\n",
       "16334    1.0\n",
       "Name: PriceClass, dtype: float64"
      ]
     },
     "execution_count": 47,
     "metadata": {},
     "output_type": "execute_result"
    }
   ],
   "source": [
    "nearest_neighbors = y[nearest_neighbor_ids]\n",
    "nearest_neighbors"
   ]
  },
  {
   "cell_type": "code",
   "execution_count": 102,
   "id": "043a9c7b",
   "metadata": {},
   "outputs": [],
   "source": [
    "# import seaborn as sns\n",
    "# cmap = sns.cubehelix_palette(as_cmap=True)\n",
    "# f, ax = plt.subplots()\n",
    "# points = ax.scatter(\n",
    "#     test_X['PriceClass'], test_X['neighbourhood_group_Queens'], s=50, cmap=cmap\n",
    "#  )\n",
    "# f.colorbar(points)\n",
    "# plt.show()"
   ]
  },
  {
   "cell_type": "code",
   "execution_count": null,
   "id": "bf5b12b9",
   "metadata": {},
   "outputs": [],
   "source": []
  },
  {
   "cell_type": "code",
   "execution_count": 114,
   "id": "c992935d",
   "metadata": {},
   "outputs": [
    {
     "data": {
      "text/html": [
       "<style>#sk-container-id-6 {color: black;background-color: white;}#sk-container-id-6 pre{padding: 0;}#sk-container-id-6 div.sk-toggleable {background-color: white;}#sk-container-id-6 label.sk-toggleable__label {cursor: pointer;display: block;width: 100%;margin-bottom: 0;padding: 0.3em;box-sizing: border-box;text-align: center;}#sk-container-id-6 label.sk-toggleable__label-arrow:before {content: \"▸\";float: left;margin-right: 0.25em;color: #696969;}#sk-container-id-6 label.sk-toggleable__label-arrow:hover:before {color: black;}#sk-container-id-6 div.sk-estimator:hover label.sk-toggleable__label-arrow:before {color: black;}#sk-container-id-6 div.sk-toggleable__content {max-height: 0;max-width: 0;overflow: hidden;text-align: left;background-color: #f0f8ff;}#sk-container-id-6 div.sk-toggleable__content pre {margin: 0.2em;color: black;border-radius: 0.25em;background-color: #f0f8ff;}#sk-container-id-6 input.sk-toggleable__control:checked~div.sk-toggleable__content {max-height: 200px;max-width: 100%;overflow: auto;}#sk-container-id-6 input.sk-toggleable__control:checked~label.sk-toggleable__label-arrow:before {content: \"▾\";}#sk-container-id-6 div.sk-estimator input.sk-toggleable__control:checked~label.sk-toggleable__label {background-color: #d4ebff;}#sk-container-id-6 div.sk-label input.sk-toggleable__control:checked~label.sk-toggleable__label {background-color: #d4ebff;}#sk-container-id-6 input.sk-hidden--visually {border: 0;clip: rect(1px 1px 1px 1px);clip: rect(1px, 1px, 1px, 1px);height: 1px;margin: -1px;overflow: hidden;padding: 0;position: absolute;width: 1px;}#sk-container-id-6 div.sk-estimator {font-family: monospace;background-color: #f0f8ff;border: 1px dotted black;border-radius: 0.25em;box-sizing: border-box;margin-bottom: 0.5em;}#sk-container-id-6 div.sk-estimator:hover {background-color: #d4ebff;}#sk-container-id-6 div.sk-parallel-item::after {content: \"\";width: 100%;border-bottom: 1px solid gray;flex-grow: 1;}#sk-container-id-6 div.sk-label:hover label.sk-toggleable__label {background-color: #d4ebff;}#sk-container-id-6 div.sk-serial::before {content: \"\";position: absolute;border-left: 1px solid gray;box-sizing: border-box;top: 0;bottom: 0;left: 50%;z-index: 0;}#sk-container-id-6 div.sk-serial {display: flex;flex-direction: column;align-items: center;background-color: white;padding-right: 0.2em;padding-left: 0.2em;position: relative;}#sk-container-id-6 div.sk-item {position: relative;z-index: 1;}#sk-container-id-6 div.sk-parallel {display: flex;align-items: stretch;justify-content: center;background-color: white;position: relative;}#sk-container-id-6 div.sk-item::before, #sk-container-id-6 div.sk-parallel-item::before {content: \"\";position: absolute;border-left: 1px solid gray;box-sizing: border-box;top: 0;bottom: 0;left: 50%;z-index: -1;}#sk-container-id-6 div.sk-parallel-item {display: flex;flex-direction: column;z-index: 1;position: relative;background-color: white;}#sk-container-id-6 div.sk-parallel-item:first-child::after {align-self: flex-end;width: 50%;}#sk-container-id-6 div.sk-parallel-item:last-child::after {align-self: flex-start;width: 50%;}#sk-container-id-6 div.sk-parallel-item:only-child::after {width: 0;}#sk-container-id-6 div.sk-dashed-wrapped {border: 1px dashed gray;margin: 0 0.4em 0.5em 0.4em;box-sizing: border-box;padding-bottom: 0.4em;background-color: white;}#sk-container-id-6 div.sk-label label {font-family: monospace;font-weight: bold;display: inline-block;line-height: 1.2em;}#sk-container-id-6 div.sk-label-container {text-align: center;}#sk-container-id-6 div.sk-container {/* jupyter's `normalize.less` sets `[hidden] { display: none; }` but bootstrap.min.css set `[hidden] { display: none !important; }` so we also need the `!important` here to be able to override the default hidden behavior on the sphinx rendered scikit-learn.org. See: https://github.com/scikit-learn/scikit-learn/issues/21755 */display: inline-block !important;position: relative;}#sk-container-id-6 div.sk-text-repr-fallback {display: none;}</style><div id=\"sk-container-id-6\" class=\"sk-top-container\"><div class=\"sk-text-repr-fallback\"><pre>GridSearchCV(estimator=KNeighborsRegressor(),\n",
       "             param_grid={&#x27;n_neighbors&#x27;: range(1, 50)})</pre><b>In a Jupyter environment, please rerun this cell to show the HTML representation or trust the notebook. <br />On GitHub, the HTML representation is unable to render, please try loading this page with nbviewer.org.</b></div><div class=\"sk-container\" hidden><div class=\"sk-item sk-dashed-wrapped\"><div class=\"sk-label-container\"><div class=\"sk-label sk-toggleable\"><input class=\"sk-toggleable__control sk-hidden--visually\" id=\"sk-estimator-id-14\" type=\"checkbox\" ><label for=\"sk-estimator-id-14\" class=\"sk-toggleable__label sk-toggleable__label-arrow\">GridSearchCV</label><div class=\"sk-toggleable__content\"><pre>GridSearchCV(estimator=KNeighborsRegressor(),\n",
       "             param_grid={&#x27;n_neighbors&#x27;: range(1, 50)})</pre></div></div></div><div class=\"sk-parallel\"><div class=\"sk-parallel-item\"><div class=\"sk-item\"><div class=\"sk-label-container\"><div class=\"sk-label sk-toggleable\"><input class=\"sk-toggleable__control sk-hidden--visually\" id=\"sk-estimator-id-15\" type=\"checkbox\" ><label for=\"sk-estimator-id-15\" class=\"sk-toggleable__label sk-toggleable__label-arrow\">estimator: KNeighborsRegressor</label><div class=\"sk-toggleable__content\"><pre>KNeighborsRegressor()</pre></div></div></div><div class=\"sk-serial\"><div class=\"sk-item\"><div class=\"sk-estimator sk-toggleable\"><input class=\"sk-toggleable__control sk-hidden--visually\" id=\"sk-estimator-id-16\" type=\"checkbox\" ><label for=\"sk-estimator-id-16\" class=\"sk-toggleable__label sk-toggleable__label-arrow\">KNeighborsRegressor</label><div class=\"sk-toggleable__content\"><pre>KNeighborsRegressor()</pre></div></div></div></div></div></div></div></div></div></div>"
      ],
      "text/plain": [
       "GridSearchCV(estimator=KNeighborsRegressor(),\n",
       "             param_grid={'n_neighbors': range(1, 50)})"
      ]
     },
     "execution_count": 114,
     "metadata": {},
     "output_type": "execute_result"
    }
   ],
   "source": [
    "#K-nn Regression\n",
    "from sklearn.neighbors import KNeighborsRegressor\n",
    "knn_model = KNeighborsRegressor()\n",
    "from sklearn.model_selection import GridSearchCV\n",
    "parameters = {\"n_neighbors\": range(1, 50)}\n",
    "gridsearch = GridSearchCV(KNeighborsRegressor(), parameters)\n",
    "gridsearch.fit(train_X_reg,train_y_reg)"
   ]
  },
  {
   "cell_type": "code",
   "execution_count": 50,
   "id": "3e4dbcf7",
   "metadata": {},
   "outputs": [
    {
     "data": {
      "text/plain": [
       "{'n_neighbors': 11}"
      ]
     },
     "execution_count": 50,
     "metadata": {},
     "output_type": "execute_result"
    }
   ],
   "source": [
    "gridsearch.best_params_"
   ]
  },
  {
   "cell_type": "code",
   "execution_count": 115,
   "id": "c6e8ac53",
   "metadata": {},
   "outputs": [
    {
     "name": "stdout",
     "output_type": "stream",
     "text": [
      "5.018096327431847\n",
      "30.811792747037334\n",
      "5.550837121285161\n"
     ]
    }
   ],
   "source": [
    "from sklearn.metrics import mean_squared_error\n",
    "from math import sqrt\n",
    "train_preds_grid = gridsearch.predict(train_X_reg)\n",
    "train_mse = mean_squared_error(train_y_reg, train_preds_grid)\n",
    "train_rmse = sqrt(train_mse)\n",
    "test_preds_grid = gridsearch.predict(test_X_reg)\n",
    "test_mse = mean_squared_error(test_y_reg, test_preds_grid)\n",
    "test_rmse = sqrt(test_mse)\n",
    "print(train_rmse)\n",
    "print(test_mse)\n",
    "print(test_rmse)"
   ]
  },
  {
   "cell_type": "code",
   "execution_count": 128,
   "id": "2fc72738",
   "metadata": {},
   "outputs": [],
   "source": [
    "# RSME error rates are very high. Which implies that performing K-nn regression did not show any good results.\n",
    "# "
   ]
  },
  {
   "cell_type": "code",
   "execution_count": 119,
   "id": "f47b9b92",
   "metadata": {
    "scrolled": true
   },
   "outputs": [
    {
     "data": {
      "image/png": "[encoded data removed]",
      "text/plain": [
       "<Figure size 750x350 with 1 Axes>"
      ]
     },
     "metadata": {},
     "output_type": "display_data"
    }
   ],
   "source": [
    "import numpy as np\n",
    "from matplotlib import pyplot as plt\n",
    "plt.rcParams[\"figure.figsize\"] = [7.50, 3.50]\n",
    "plt.rcParams[\"figure.autolayout\"] = True\n",
    "xs = test_X_reg['price']\n",
    "ys = test_X_reg['minimum_nights']\n",
    "for x, y in zip(xs, ys):\n",
    "   plt.scatter(x, y, cmap=\"copper\")\n",
    "plt.show()"
   ]
  },
  {
   "cell_type": "code",
   "execution_count": 123,
   "id": "2e63e632",
   "metadata": {},
   "outputs": [
    {
     "data": {
      "image/png": "[encoded data removed]",
      "text/plain": [
       "<Figure size 750x350 with 1 Axes>"
      ]
     },
     "metadata": {},
     "output_type": "display_data"
    }
   ],
   "source": [
    "# Draw a scatter plot with linear regression line\n",
    "sns.regplot(x=\"price\", y=\"minimum_nights\", \n",
    "            line_kws={\"color\":\"r\",\"alpha\":0.5,\"lw\":3}, data=X_reg)\n",
    "plt.show()"
   ]
  },
  {
   "cell_type": "code",
   "execution_count": 126,
   "id": "ad263b15",
   "metadata": {},
   "outputs": [
    {
     "name": "stdout",
     "output_type": "stream",
     "text": [
      "AUC is  99.9 % for k = 1\n",
      "AUC is  99.9 % for k = 2\n",
      "AUC is  99.9 % for k = 3\n",
      "AUC is  99.9 % for k = 4\n",
      "AUC is  99.9 % for k = 5\n",
      "AUC is  99.9 % for k = 6\n",
      "AUC is  99.9 % for k = 7\n",
      "AUC is  99.9 % for k = 8\n",
      "AUC is  99.9 % for k = 9\n",
      "AUC is  99.9 % for k = 10\n",
      "AUC is  99.9 % for k = 11\n",
      "AUC is  99.9 % for k = 12\n",
      "AUC is  99.29 % for k = 13\n",
      "AUC is  99.29 % for k = 14\n",
      "AUC is  98.38 % for k = 15\n",
      "AUC is  98.38 % for k = 16\n",
      "AUC is  98.38 % for k = 17\n",
      "AUC is  98.48 % for k = 18\n",
      "AUC is  98.48 % for k = 19\n",
      "AUC is  98.48 % for k = 20\n"
     ]
    }
   ],
   "source": [
    "for k in range(20):\n",
    "    k = k + 1\n",
    "    knn = neighbors.KNeighborsClassifier(n_neighbors = k, \n",
    "                                         weights='uniform', \n",
    "                                         algorithm='auto')\n",
    "    knn.fit(train_X_scale, train_y)\n",
    "    pred_y = knn.predict(test_X_scale)\n",
    "    print(\"AUC is \", round(metrics.roc_auc_score(test_y, pred_y)*100,2),\"% for k =\",k)"
   ]
  },
  {
   "cell_type": "code",
   "execution_count": null,
   "id": "04227cdb",
   "metadata": {},
   "outputs": [],
   "source": [
    "# variables are able too accurate to draw a conclusion."
   ]
  }
 ],
 "metadata": {
  "kernelspec": {
   "display_name": "Python 3 (ipykernel)",
   "language": "python",
   "name": "python3"
  },
  "language_info": {
   "codemirror_mode": {
    "name": "ipython",
    "version": 3
   },
   "file_extension": ".py",
   "mimetype": "text/x-python",
   "name": "python",
   "nbconvert_exporter": "python",
   "pygments_lexer": "ipython3",
   "version": "3.10.7"
  }
 },
 "nbformat": 4,
 "nbformat_minor": 5
}
