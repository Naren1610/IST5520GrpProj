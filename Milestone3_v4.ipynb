{
 "cells": [
  {
   "cell_type": "markdown",
   "metadata": {},
   "source": [
    "<h1 align=\"center\"> IST 5520 Milestone 3: Data Analysis I <h1>\n",
    "<h3 align=\"center\"> AirBnB Dataset <h3>\n",
    "\n",
    "#### Student: Ronald Adomako\n",
    "#### Student: Idris Dobbs\n",
    "#### Student: Narendra Chigili\n",
    "#### Student: Nikhil Srirama Sai"
   ]
  },
  {
   "cell_type": "markdown",
   "metadata": {},
   "source": [
    "# Cleanse and visualize data"
   ]
  },
  {
   "cell_type": "markdown",
   "metadata": {},
   "source": [
    "## Introduction"
   ]
  },
  {
   "cell_type": "markdown",
   "metadata": {},
   "source": [
    "AirBnB is a PaaS for the short term rental market. Users use the platform to list residences for short term rentals. We noticed that for big cities, such as New York City, there are many host and some may want to use AirBnB for lucrative means. Given location and characteristics of a property, a new host would want to know whether he or she is charging the optimal amount to rent the space to lodgers.\n",
    "\n",
    "We noticed that from the New York City dataset for AirBnB, the categorical variable for location  was too coarse. The descriptor says the location is categorized into five boroughs. For a big city such as New York City, there are a lot of insights missing from a business perspective because neighborhoods vary drastically in property amenities even within a single borough. Moreso, the geo-coordinates are too fine for business purposes. To handle this we implement a zip code converter to categorize properties based on their location - Feature Selection.\n",
    "\n",
    "- What are the largest determinants / predictors of AirBnB rental prices?\n",
    "- How can we optimize rental revenue based on rental location and other characteristics?\n",
    "- What price should be charged based on rental location/ characteristics?\n",
    "\n",
    "We are opperating under the assumption that NYC AirBnB prices has reached a *steady-state*: i.e. the market has been active for long enough in NYC and there are enough data points (observations) in NYC that the **mean** is meaningful.\n",
    "\n",
    "We want to know whether a host is charging an optimal price. To do this we group the observations by neigborhood and then take the average price. Hosts who charge at or above this price are considered optimal in their respective neighborhood while hosts who charge below the average price for their neighborhood are sub-optimal. Consider the case where all hosts charge the same price within a neighborhood, then the mean is the mode is the median- uniform data, no variance. All the hosts in this neighborhood would be optimal.\n",
    "\n",
    "Consider the case where one of those hosts charge below what would have been the average, then only that host is sub-optimal while the rest are optimal. Conversely, if one host charge above the rest while everyone else charges the same, then that one host would be optimal while the rest are suboptimal.\n",
    "\n",
    "Along with the *steady-state* assumption, by grouping the data by neighborhoods we assume that on average homes and amenities are similar by neighborhood. The geo-coordinates are too fine a scale and the boroughs are too coarse a scale. A meso-scale would be by zipcode, which we would expect to have higher precision of similarities between host, or by neighborhood. For a dataset with 39881 observations, transforming geo-coordinates prove to be computationally expensive (22 hours on standard household computer). We chose the next best meso-scale: what AirBnB features as \"neighbourhood\".\n",
    "\n",
    "From a business perspective, we want to know what percent of hosts per neighborhood are charging an optimal price, and aggregating this data the percent hosts charge an optimal price in NYC overall. We see that using the neighborhood grouping allows us to compare on a common scale for all hosts. We don't have hosts income, so we wouldn't be able to measure profit. Likewise, revenue wouldn't be a fair scale because hosts with more units will outperform host with smaller units just by volume. A nieghborhood comparison allows a better metric to assess price per room, where we expect reasonably small variance per neighborhood. Furthermore, comparing by percentage is normalizes our comparison in general."
   ]
  },
  {
   "cell_type": "markdown",
   "metadata": {},
   "source": [
    "## Data Source and Collection"
   ]
  },
  {
   "cell_type": "markdown",
   "metadata": {},
   "source": [
    "#### We chose the AirBnB dataset for New York City (NYC). We want to build a model that indicates whether hosts are charging an optimum amount for their rental.\n",
    "\n",
    "http://insideairbnb.com/new-york-city/\n",
    "\n",
    "[data dictionary](https://docs.google.com/spreadsheets/d/1iWCNJcSutYqpULSQHlNyGInUvHg2BoUGoNRIGa6Szc4/edit?usp=sharing)\n",
    "\n",
    "http://insideairbnb.com/get-the-data\n",
    "\n",
    "http://data.insideairbnb.com/united-states/ny/new-york-city/2022-09-07/visualisations/listings.csv\n",
    "\n"
   ]
  },
  {
   "cell_type": "code",
   "execution_count": 1,
   "metadata": {},
   "outputs": [],
   "source": [
    "import pandas as pd\n",
    "import matplotlib.pyplot as plt\n",
    "import sidetable as stb\n",
    "import numpy as np\n",
    "# import seaborn as sns\n",
    "from sklearn.preprocessing import OneHotEncoder\n",
    "from sklearn.linear_model import LogisticRegression\n",
    "import seaborn as sb\n",
    "from scipy import stats as st\n",
    "import statsmodels as sts\n",
    "import statsmodels.api as sm\n",
    "import json\n",
    "import folium\n",
    "\n",
    "%matplotlib inline"
   ]
  },
  {
   "cell_type": "code",
   "execution_count": 2,
   "metadata": {},
   "outputs": [],
   "source": [
    "data = pd.read_csv('/Users/palaparthisainikhil/Downloads/IST5520GrpProj-milestone3 2/Grp3Project_InitialData/data_dictionary.csv')\n",
    "csv_URL = \"http://data.insideairbnb.com/united-states/ny/new-york-city/2022-09-07/visualisations/listings.csv\"\n",
    "df2 = pd.read_csv(csv_URL)"
   ]
  },
  {
   "cell_type": "code",
   "execution_count": 3,
   "metadata": {},
   "outputs": [],
   "source": [
    "data_dict = pd.DataFrame(df2.columns, columns=['Features'])\n",
    "data_dict['Description']=None"
   ]
  },
  {
   "cell_type": "code",
   "execution_count": 4,
   "metadata": {},
   "outputs": [],
   "source": [
    "d1=pd.read_csv(\"Brooklyn_zipcodes.csv\")\n",
    "d2=pd.read_csv(\"Manhattan_zipcodes.csv\")\n",
    "d = pd.concat([d1,d2])"
   ]
  },
  {
   "cell_type": "code",
   "execution_count": 5,
   "metadata": {},
   "outputs": [
    {
     "name": "stdout",
     "output_type": "stream",
     "text": [
      "<class 'pandas.core.frame.DataFrame'>\n",
      "Int64Index: 31692 entries, 0 to 16846\n",
      "Data columns (total 21 columns):\n",
      " #   Column                          Non-Null Count  Dtype  \n",
      "---  ------                          --------------  -----  \n",
      " 0   Unnamed: 0                      31692 non-null  int64  \n",
      " 1   id                              31692 non-null  float64\n",
      " 2   name                            31681 non-null  object \n",
      " 3   host_id                         31692 non-null  int64  \n",
      " 4   host_name                       31642 non-null  object \n",
      " 5   neighbourhood_group             31692 non-null  object \n",
      " 6   neighbourhood                   31692 non-null  object \n",
      " 7   latitude                        31692 non-null  float64\n",
      " 8   longitude                       31692 non-null  float64\n",
      " 9   room_type                       31692 non-null  object \n",
      " 10  price                           31692 non-null  int64  \n",
      " 11  minimum_nights                  31692 non-null  int64  \n",
      " 12  number_of_reviews               31692 non-null  int64  \n",
      " 13  last_review                     24866 non-null  object \n",
      " 14  reviews_per_month               24866 non-null  float64\n",
      " 15  calculated_host_listings_count  31692 non-null  int64  \n",
      " 16  availability_365                31692 non-null  int64  \n",
      " 17  number_of_reviews_ltm           31692 non-null  int64  \n",
      " 18  license                         5 non-null      object \n",
      " 19  ZipCodes                        20479 non-null  float64\n",
      " 20  review                          31692 non-null  int64  \n",
      "dtypes: float64(5), int64(9), object(7)\n",
      "memory usage: 5.3+ MB\n"
     ]
    }
   ],
   "source": [
    "d.info()"
   ]
  },
  {
   "cell_type": "markdown",
   "metadata": {},
   "source": [
    "### Dimensional Analysis\n",
    "- What are the largest determinants / predictors of AirBnB rental prices?"
   ]
  },
  {
   "cell_type": "markdown",
   "metadata": {},
   "source": [
    "The data dictionary for New York City AirBnB dataset consists of 75 columns (variables or features) and 39881 observations. Based on our research question and several [Kaggle challenges](https://www.kaggle.com/search?q=airbnb-listing-in-nyc) (www.kaggle.com/search?q=airbnb-listing-in-nyc) we reduced our dimensions to the following **18** features for preliminary analysis."
   ]
  },
  {
   "cell_type": "code",
   "execution_count": 6,
   "metadata": {},
   "outputs": [
    {
     "data": {
      "text/html": [
       "<div>\n",
       "<style scoped>\n",
       "    .dataframe tbody tr th:only-of-type {\n",
       "        vertical-align: middle;\n",
       "    }\n",
       "\n",
       "    .dataframe tbody tr th {\n",
       "        vertical-align: top;\n",
       "    }\n",
       "\n",
       "    .dataframe thead th {\n",
       "        text-align: right;\n",
       "    }\n",
       "</style>\n",
       "<table border=\"1\" class=\"dataframe\">\n",
       "  <thead>\n",
       "    <tr style=\"text-align: right;\">\n",
       "      <th></th>\n",
       "      <th>Features</th>\n",
       "      <th>Description</th>\n",
       "    </tr>\n",
       "  </thead>\n",
       "  <tbody>\n",
       "    <tr>\n",
       "      <th>0</th>\n",
       "      <td>id</td>\n",
       "      <td>Airbnb's unique identifier for the listing</td>\n",
       "    </tr>\n",
       "    <tr>\n",
       "      <th>1</th>\n",
       "      <td>name</td>\n",
       "      <td>Name of the listing</td>\n",
       "    </tr>\n",
       "    <tr>\n",
       "      <th>2</th>\n",
       "      <td>host_id</td>\n",
       "      <td>Airbnb's unique identifier for the host/user</td>\n",
       "    </tr>\n",
       "    <tr>\n",
       "      <th>3</th>\n",
       "      <td>host_name</td>\n",
       "      <td>Name of the host. Usually just the first name(s).</td>\n",
       "    </tr>\n",
       "    <tr>\n",
       "      <th>4</th>\n",
       "      <td>neighbourhood_group</td>\n",
       "      <td>Borough</td>\n",
       "    </tr>\n",
       "    <tr>\n",
       "      <th>5</th>\n",
       "      <td>neighbourhood</td>\n",
       "      <td>Neighborhood equivalent for zip code group</td>\n",
       "    </tr>\n",
       "    <tr>\n",
       "      <th>6</th>\n",
       "      <td>latitude</td>\n",
       "      <td>Uses the World Geodetic System (WGS84) projection for latitude and longitude.</td>\n",
       "    </tr>\n",
       "    <tr>\n",
       "      <th>7</th>\n",
       "      <td>longitude</td>\n",
       "      <td>Uses the World Geodetic System (WGS84) projection for latitude and longitude.</td>\n",
       "    </tr>\n",
       "    <tr>\n",
       "      <th>8</th>\n",
       "      <td>room_type</td>\n",
       "      <td>[Entire home/apt|Private room|Shared room|Hotel]</td>\n",
       "    </tr>\n",
       "    <tr>\n",
       "      <th>9</th>\n",
       "      <td>price</td>\n",
       "      <td>daily price in local currency</td>\n",
       "    </tr>\n",
       "    <tr>\n",
       "      <th>10</th>\n",
       "      <td>minimum_nights</td>\n",
       "      <td>minimum number of night stay for the listing (calendar rules may be different)</td>\n",
       "    </tr>\n",
       "    <tr>\n",
       "      <th>11</th>\n",
       "      <td>number_of_reviews</td>\n",
       "      <td>The number of reviews the listing has</td>\n",
       "    </tr>\n",
       "    <tr>\n",
       "      <th>12</th>\n",
       "      <td>last_review</td>\n",
       "      <td>The date of the last/newest review</td>\n",
       "    </tr>\n",
       "    <tr>\n",
       "      <th>13</th>\n",
       "      <td>reviews_per_month</td>\n",
       "      <td>The number of reviews the listing has over the lifetime of the listing</td>\n",
       "    </tr>\n",
       "    <tr>\n",
       "      <th>14</th>\n",
       "      <td>calculated_host_listings_count</td>\n",
       "      <td>The number of listings the host has in the current scrape, in the city/region geography.</td>\n",
       "    </tr>\n",
       "    <tr>\n",
       "      <th>15</th>\n",
       "      <td>availability_365</td>\n",
       "      <td>avaliability_x. The availability of the listing x days in the future as determined by the calend...</td>\n",
       "    </tr>\n",
       "    <tr>\n",
       "      <th>16</th>\n",
       "      <td>number_of_reviews_ltm</td>\n",
       "      <td>The number of reviews the listing has (in the last 12 months)</td>\n",
       "    </tr>\n",
       "    <tr>\n",
       "      <th>17</th>\n",
       "      <td>license</td>\n",
       "      <td>The licence/permit/registration number</td>\n",
       "    </tr>\n",
       "  </tbody>\n",
       "</table>\n",
       "</div>"
      ],
      "text/plain": [
       "                          Features  \\\n",
       "0                               id   \n",
       "1                             name   \n",
       "2                          host_id   \n",
       "3                        host_name   \n",
       "4              neighbourhood_group   \n",
       "5                    neighbourhood   \n",
       "6                         latitude   \n",
       "7                        longitude   \n",
       "8                        room_type   \n",
       "9                            price   \n",
       "10                  minimum_nights   \n",
       "11               number_of_reviews   \n",
       "12                     last_review   \n",
       "13               reviews_per_month   \n",
       "14  calculated_host_listings_count   \n",
       "15                availability_365   \n",
       "16           number_of_reviews_ltm   \n",
       "17                         license   \n",
       "\n",
       "                                                                                            Description  \n",
       "0                                                            Airbnb's unique identifier for the listing  \n",
       "1                                                                                   Name of the listing  \n",
       "2                                                          Airbnb's unique identifier for the host/user  \n",
       "3                                                     Name of the host. Usually just the first name(s).  \n",
       "4                                                                                               Borough  \n",
       "5                                                            Neighborhood equivalent for zip code group  \n",
       "6                         Uses the World Geodetic System (WGS84) projection for latitude and longitude.  \n",
       "7                         Uses the World Geodetic System (WGS84) projection for latitude and longitude.  \n",
       "8                                                      [Entire home/apt|Private room|Shared room|Hotel]  \n",
       "9                                                                         daily price in local currency  \n",
       "10                       minimum number of night stay for the listing (calendar rules may be different)  \n",
       "11                                                                The number of reviews the listing has  \n",
       "12                                                                   The date of the last/newest review  \n",
       "13                               The number of reviews the listing has over the lifetime of the listing  \n",
       "14             The number of listings the host has in the current scrape, in the city/region geography.  \n",
       "15  avaliability_x. The availability of the listing x days in the future as determined by the calend...  \n",
       "16                                        The number of reviews the listing has (in the last 12 months)  \n",
       "17                                                               The licence/permit/registration number  "
      ]
     },
     "execution_count": 6,
     "metadata": {},
     "output_type": "execute_result"
    }
   ],
   "source": [
    "for i,feature in enumerate(df2.columns):\n",
    "    #print(feature)\n",
    "    #print(type(feature))\n",
    "    val = data[data['Field']==feature]['Description'].values\n",
    "    try:\n",
    "        data_dict.loc[i,'Description'] = val[0]\n",
    "    except: #IndexError\n",
    "        data_dict.loc[i,'Description'] = None\n",
    "        \n",
    "    if feature == 'neighbourhood':\n",
    "        data_dict.loc[i,'Description'] = \\\n",
    "            'Neighborhood equivalent for zip code group'\n",
    "    if feature == 'neighbourhood_group':\n",
    "        data_dict.loc[i,'Description'] = \\\n",
    "            'Borough'        \n",
    "        \n",
    "pd.set_option('display.max_colwidth', 100)\n",
    "data_dict\n"
   ]
  },
  {
   "cell_type": "code",
   "execution_count": 7,
   "metadata": {},
   "outputs": [],
   "source": [
    "csv_URL = \"http://data.insideairbnb.com/united-states/ny/new-york-city/2022-09-07/visualisations/listings.csv\"\n",
    "df = pd.read_csv(csv_URL)"
   ]
  },
  {
   "cell_type": "markdown",
   "metadata": {},
   "source": [
    "## Data Manipulation"
   ]
  },
  {
   "cell_type": "code",
   "execution_count": 8,
   "metadata": {},
   "outputs": [
    {
     "data": {
      "text/plain": [
       "array(['Brooklyn', 'Queens', 'Bronx', 'Manhattan', 'Staten Island'],\n",
       "      dtype=object)"
      ]
     },
     "execution_count": 8,
     "metadata": {},
     "output_type": "execute_result"
    }
   ],
   "source": [
    "df['neighbourhood_group'].unique()"
   ]
  },
  {
   "cell_type": "code",
   "execution_count": 9,
   "metadata": {},
   "outputs": [
    {
     "data": {
      "text/html": [
       "<div>\n",
       "<style scoped>\n",
       "    .dataframe tbody tr th:only-of-type {\n",
       "        vertical-align: middle;\n",
       "    }\n",
       "\n",
       "    .dataframe tbody tr th {\n",
       "        vertical-align: top;\n",
       "    }\n",
       "\n",
       "    .dataframe thead th {\n",
       "        text-align: right;\n",
       "    }\n",
       "</style>\n",
       "<table border=\"1\" class=\"dataframe\">\n",
       "  <thead>\n",
       "    <tr style=\"text-align: right;\">\n",
       "      <th></th>\n",
       "      <th>price</th>\n",
       "    </tr>\n",
       "    <tr>\n",
       "      <th>neighbourhood</th>\n",
       "      <th></th>\n",
       "    </tr>\n",
       "  </thead>\n",
       "  <tbody>\n",
       "    <tr>\n",
       "      <th>Allerton</th>\n",
       "      <td>118.78</td>\n",
       "    </tr>\n",
       "    <tr>\n",
       "      <th>Arden Heights</th>\n",
       "      <td>113.86</td>\n",
       "    </tr>\n",
       "    <tr>\n",
       "      <th>Arrochar</th>\n",
       "      <td>132.06</td>\n",
       "    </tr>\n",
       "    <tr>\n",
       "      <th>Arverne</th>\n",
       "      <td>230.26</td>\n",
       "    </tr>\n",
       "    <tr>\n",
       "      <th>Astoria</th>\n",
       "      <td>109.01</td>\n",
       "    </tr>\n",
       "    <tr>\n",
       "      <th>...</th>\n",
       "      <td>...</td>\n",
       "    </tr>\n",
       "    <tr>\n",
       "      <th>Windsor Terrace</th>\n",
       "      <td>175.40</td>\n",
       "    </tr>\n",
       "    <tr>\n",
       "      <th>Woodhaven</th>\n",
       "      <td>94.53</td>\n",
       "    </tr>\n",
       "    <tr>\n",
       "      <th>Woodlawn</th>\n",
       "      <td>141.00</td>\n",
       "    </tr>\n",
       "    <tr>\n",
       "      <th>Woodrow</th>\n",
       "      <td>115.00</td>\n",
       "    </tr>\n",
       "    <tr>\n",
       "      <th>Woodside</th>\n",
       "      <td>84.72</td>\n",
       "    </tr>\n",
       "  </tbody>\n",
       "</table>\n",
       "<p>244 rows × 1 columns</p>\n",
       "</div>"
      ],
      "text/plain": [
       "                  price\n",
       "neighbourhood          \n",
       "Allerton         118.78\n",
       "Arden Heights    113.86\n",
       "Arrochar         132.06\n",
       "Arverne          230.26\n",
       "Astoria          109.01\n",
       "...                 ...\n",
       "Windsor Terrace  175.40\n",
       "Woodhaven         94.53\n",
       "Woodlawn         141.00\n",
       "Woodrow          115.00\n",
       "Woodside          84.72\n",
       "\n",
       "[244 rows x 1 columns]"
      ]
     },
     "execution_count": 9,
     "metadata": {},
     "output_type": "execute_result"
    }
   ],
   "source": [
    "#Create a data frame grouping by neighborhood for average price\n",
    "hood_price_obj = df[['neighbourhood','price']].groupby('neighbourhood')\n",
    "df_mean_price = hood_price_obj.mean()\n",
    "df_mean_price[['price']] = df_mean_price[['price']].round(2)\n",
    "df_mean_price"
   ]
  },
  {
   "cell_type": "markdown",
   "metadata": {},
   "source": [
    "**We have reduced 39881 into 244 rows of manageable data!**"
   ]
  },
  {
   "cell_type": "code",
   "execution_count": 13,
   "metadata": {},
   "outputs": [
    {
     "data": {
      "text/html": [
       "<div>\n",
       "<style scoped>\n",
       "    .dataframe tbody tr th:only-of-type {\n",
       "        vertical-align: middle;\n",
       "    }\n",
       "\n",
       "    .dataframe tbody tr th {\n",
       "        vertical-align: top;\n",
       "    }\n",
       "\n",
       "    .dataframe thead th {\n",
       "        text-align: right;\n",
       "    }\n",
       "</style>\n",
       "<table border=\"1\" class=\"dataframe\">\n",
       "  <thead>\n",
       "    <tr style=\"text-align: right;\">\n",
       "      <th></th>\n",
       "      <th>price</th>\n",
       "    </tr>\n",
       "    <tr>\n",
       "      <th>ZipCodes</th>\n",
       "      <th></th>\n",
       "    </tr>\n",
       "  </thead>\n",
       "  <tbody>\n",
       "    <tr>\n",
       "      <th>10000.0</th>\n",
       "      <td>173.40</td>\n",
       "    </tr>\n",
       "    <tr>\n",
       "      <th>10001.0</th>\n",
       "      <td>312.69</td>\n",
       "    </tr>\n",
       "    <tr>\n",
       "      <th>10002.0</th>\n",
       "      <td>280.50</td>\n",
       "    </tr>\n",
       "    <tr>\n",
       "      <th>10003.0</th>\n",
       "      <td>258.39</td>\n",
       "    </tr>\n",
       "    <tr>\n",
       "      <th>10004.0</th>\n",
       "      <td>315.30</td>\n",
       "    </tr>\n",
       "    <tr>\n",
       "      <th>...</th>\n",
       "      <td>...</td>\n",
       "    </tr>\n",
       "    <tr>\n",
       "      <th>11238.0</th>\n",
       "      <td>206.36</td>\n",
       "    </tr>\n",
       "    <tr>\n",
       "      <th>11239.0</th>\n",
       "      <td>155.12</td>\n",
       "    </tr>\n",
       "    <tr>\n",
       "      <th>11249.0</th>\n",
       "      <td>245.05</td>\n",
       "    </tr>\n",
       "    <tr>\n",
       "      <th>11251.0</th>\n",
       "      <td>413.00</td>\n",
       "    </tr>\n",
       "    <tr>\n",
       "      <th>11385.0</th>\n",
       "      <td>190.50</td>\n",
       "    </tr>\n",
       "  </tbody>\n",
       "</table>\n",
       "<p>112 rows × 1 columns</p>\n",
       "</div>"
      ],
      "text/plain": [
       "           price\n",
       "ZipCodes        \n",
       "10000.0   173.40\n",
       "10001.0   312.69\n",
       "10002.0   280.50\n",
       "10003.0   258.39\n",
       "10004.0   315.30\n",
       "...          ...\n",
       "11238.0   206.36\n",
       "11239.0   155.12\n",
       "11249.0   245.05\n",
       "11251.0   413.00\n",
       "11385.0   190.50\n",
       "\n",
       "[112 rows x 1 columns]"
      ]
     },
     "execution_count": 13,
     "metadata": {},
     "output_type": "execute_result"
    }
   ],
   "source": [
    "hood_price_objz = d[['ZipCodes','price','neighbourhood']].groupby('ZipCodes')\n",
    "df_mean_pricez = hood_price_objz.mean()\n",
    "df_mean_pricez[['price']] = df_mean_pricez[['price']].round(2)\n",
    "df_mean_pricez"
   ]
  },
  {
   "cell_type": "code",
   "execution_count": 14,
   "metadata": {},
   "outputs": [
    {
     "name": "stdout",
     "output_type": "stream",
     "text": [
      "<class 'pandas.core.frame.DataFrame'>\n",
      "Float64Index: 112 entries, 10000.0 to 11385.0\n",
      "Data columns (total 1 columns):\n",
      " #   Column  Non-Null Count  Dtype  \n",
      "---  ------  --------------  -----  \n",
      " 0   price   112 non-null    float64\n",
      "dtypes: float64(1)\n",
      "memory usage: 1.8 KB\n"
     ]
    }
   ],
   "source": [
    "df_mean_pricez.info()"
   ]
  },
  {
   "cell_type": "code",
   "execution_count": 15,
   "metadata": {},
   "outputs": [
    {
     "data": {
      "text/html": [
       "<div>\n",
       "<style scoped>\n",
       "    .dataframe tbody tr th:only-of-type {\n",
       "        vertical-align: middle;\n",
       "    }\n",
       "\n",
       "    .dataframe tbody tr th {\n",
       "        vertical-align: top;\n",
       "    }\n",
       "\n",
       "    .dataframe thead th {\n",
       "        text-align: right;\n",
       "    }\n",
       "</style>\n",
       "<table border=\"1\" class=\"dataframe\">\n",
       "  <thead>\n",
       "    <tr style=\"text-align: right;\">\n",
       "      <th></th>\n",
       "      <th>neighbourhood</th>\n",
       "      <th>count</th>\n",
       "      <th>percent</th>\n",
       "      <th>cumulative_count</th>\n",
       "      <th>cumulative_percent</th>\n",
       "    </tr>\n",
       "  </thead>\n",
       "  <tbody>\n",
       "    <tr>\n",
       "      <th>0</th>\n",
       "      <td>Bedford-Stuyvesant</td>\n",
       "      <td>2779</td>\n",
       "      <td>6.968230</td>\n",
       "      <td>2779</td>\n",
       "      <td>6.968230</td>\n",
       "    </tr>\n",
       "    <tr>\n",
       "      <th>1</th>\n",
       "      <td>Williamsburg</td>\n",
       "      <td>2456</td>\n",
       "      <td>6.158321</td>\n",
       "      <td>5235</td>\n",
       "      <td>13.126551</td>\n",
       "    </tr>\n",
       "    <tr>\n",
       "      <th>2</th>\n",
       "      <td>Harlem</td>\n",
       "      <td>1878</td>\n",
       "      <td>4.709009</td>\n",
       "      <td>7113</td>\n",
       "      <td>17.835561</td>\n",
       "    </tr>\n",
       "    <tr>\n",
       "      <th>3</th>\n",
       "      <td>Midtown</td>\n",
       "      <td>1701</td>\n",
       "      <td>4.265189</td>\n",
       "      <td>8814</td>\n",
       "      <td>22.100750</td>\n",
       "    </tr>\n",
       "    <tr>\n",
       "      <th>4</th>\n",
       "      <td>Bushwick</td>\n",
       "      <td>1657</td>\n",
       "      <td>4.154861</td>\n",
       "      <td>10471</td>\n",
       "      <td>26.255610</td>\n",
       "    </tr>\n",
       "    <tr>\n",
       "      <th>...</th>\n",
       "      <td>...</td>\n",
       "      <td>...</td>\n",
       "      <td>...</td>\n",
       "      <td>...</td>\n",
       "      <td>...</td>\n",
       "    </tr>\n",
       "    <tr>\n",
       "      <th>239</th>\n",
       "      <td>Fort Wadsworth</td>\n",
       "      <td>1</td>\n",
       "      <td>0.002507</td>\n",
       "      <td>39877</td>\n",
       "      <td>99.989970</td>\n",
       "    </tr>\n",
       "    <tr>\n",
       "      <th>240</th>\n",
       "      <td>Ferry Point Park</td>\n",
       "      <td>1</td>\n",
       "      <td>0.002507</td>\n",
       "      <td>39878</td>\n",
       "      <td>99.992478</td>\n",
       "    </tr>\n",
       "    <tr>\n",
       "      <th>241</th>\n",
       "      <td>Country Club</td>\n",
       "      <td>1</td>\n",
       "      <td>0.002507</td>\n",
       "      <td>39879</td>\n",
       "      <td>99.994985</td>\n",
       "    </tr>\n",
       "    <tr>\n",
       "      <th>242</th>\n",
       "      <td>Bull's Head</td>\n",
       "      <td>1</td>\n",
       "      <td>0.002507</td>\n",
       "      <td>39880</td>\n",
       "      <td>99.997493</td>\n",
       "    </tr>\n",
       "    <tr>\n",
       "      <th>243</th>\n",
       "      <td>Bloomfield</td>\n",
       "      <td>1</td>\n",
       "      <td>0.002507</td>\n",
       "      <td>39881</td>\n",
       "      <td>100.000000</td>\n",
       "    </tr>\n",
       "  </tbody>\n",
       "</table>\n",
       "<p>244 rows × 5 columns</p>\n",
       "</div>"
      ],
      "text/plain": [
       "          neighbourhood  count   percent  cumulative_count  cumulative_percent\n",
       "0    Bedford-Stuyvesant   2779  6.968230              2779            6.968230\n",
       "1          Williamsburg   2456  6.158321              5235           13.126551\n",
       "2                Harlem   1878  4.709009              7113           17.835561\n",
       "3               Midtown   1701  4.265189              8814           22.100750\n",
       "4              Bushwick   1657  4.154861             10471           26.255610\n",
       "..                  ...    ...       ...               ...                 ...\n",
       "239      Fort Wadsworth      1  0.002507             39877           99.989970\n",
       "240    Ferry Point Park      1  0.002507             39878           99.992478\n",
       "241        Country Club      1  0.002507             39879           99.994985\n",
       "242         Bull's Head      1  0.002507             39880           99.997493\n",
       "243          Bloomfield      1  0.002507             39881          100.000000\n",
       "\n",
       "[244 rows x 5 columns]"
      ]
     },
     "execution_count": 15,
     "metadata": {},
     "output_type": "execute_result"
    }
   ],
   "source": [
    "df.stb.freq(['neighbourhood'])"
   ]
  },
  {
   "cell_type": "code",
   "execution_count": 16,
   "metadata": {},
   "outputs": [
    {
     "data": {
      "text/html": [
       "<div>\n",
       "<style scoped>\n",
       "    .dataframe tbody tr th:only-of-type {\n",
       "        vertical-align: middle;\n",
       "    }\n",
       "\n",
       "    .dataframe tbody tr th {\n",
       "        vertical-align: top;\n",
       "    }\n",
       "\n",
       "    .dataframe thead th {\n",
       "        text-align: right;\n",
       "    }\n",
       "</style>\n",
       "<table border=\"1\" class=\"dataframe\">\n",
       "  <thead>\n",
       "    <tr style=\"text-align: right;\">\n",
       "      <th></th>\n",
       "      <th>ZipCodes</th>\n",
       "      <th>count</th>\n",
       "      <th>percent</th>\n",
       "      <th>cumulative_count</th>\n",
       "      <th>cumulative_percent</th>\n",
       "    </tr>\n",
       "  </thead>\n",
       "  <tbody>\n",
       "    <tr>\n",
       "      <th>0</th>\n",
       "      <td>10019.0</td>\n",
       "      <td>1004</td>\n",
       "      <td>4.902583</td>\n",
       "      <td>1004</td>\n",
       "      <td>4.902583</td>\n",
       "    </tr>\n",
       "    <tr>\n",
       "      <th>1</th>\n",
       "      <td>10002.0</td>\n",
       "      <td>937</td>\n",
       "      <td>4.575419</td>\n",
       "      <td>1941</td>\n",
       "      <td>9.478002</td>\n",
       "    </tr>\n",
       "    <tr>\n",
       "      <th>2</th>\n",
       "      <td>10016.0</td>\n",
       "      <td>745</td>\n",
       "      <td>3.637873</td>\n",
       "      <td>2686</td>\n",
       "      <td>13.115875</td>\n",
       "    </tr>\n",
       "    <tr>\n",
       "      <th>3</th>\n",
       "      <td>10025.0</td>\n",
       "      <td>714</td>\n",
       "      <td>3.486498</td>\n",
       "      <td>3400</td>\n",
       "      <td>16.602373</td>\n",
       "    </tr>\n",
       "    <tr>\n",
       "      <th>4</th>\n",
       "      <td>10036.0</td>\n",
       "      <td>688</td>\n",
       "      <td>3.359539</td>\n",
       "      <td>4088</td>\n",
       "      <td>19.961912</td>\n",
       "    </tr>\n",
       "    <tr>\n",
       "      <th>...</th>\n",
       "      <td>...</td>\n",
       "      <td>...</td>\n",
       "      <td>...</td>\n",
       "      <td>...</td>\n",
       "      <td>...</td>\n",
       "    </tr>\n",
       "    <tr>\n",
       "      <th>107</th>\n",
       "      <td>10285.0</td>\n",
       "      <td>2</td>\n",
       "      <td>0.009766</td>\n",
       "      <td>20475</td>\n",
       "      <td>99.980468</td>\n",
       "    </tr>\n",
       "    <tr>\n",
       "      <th>108</th>\n",
       "      <td>10278.0</td>\n",
       "      <td>1</td>\n",
       "      <td>0.004883</td>\n",
       "      <td>20476</td>\n",
       "      <td>99.985351</td>\n",
       "    </tr>\n",
       "    <tr>\n",
       "      <th>109</th>\n",
       "      <td>10168.0</td>\n",
       "      <td>1</td>\n",
       "      <td>0.004883</td>\n",
       "      <td>20477</td>\n",
       "      <td>99.990234</td>\n",
       "    </tr>\n",
       "    <tr>\n",
       "      <th>110</th>\n",
       "      <td>10121.0</td>\n",
       "      <td>1</td>\n",
       "      <td>0.004883</td>\n",
       "      <td>20478</td>\n",
       "      <td>99.995117</td>\n",
       "    </tr>\n",
       "    <tr>\n",
       "      <th>111</th>\n",
       "      <td>10104.0</td>\n",
       "      <td>1</td>\n",
       "      <td>0.004883</td>\n",
       "      <td>20479</td>\n",
       "      <td>100.000000</td>\n",
       "    </tr>\n",
       "  </tbody>\n",
       "</table>\n",
       "<p>112 rows × 5 columns</p>\n",
       "</div>"
      ],
      "text/plain": [
       "     ZipCodes  count   percent  cumulative_count  cumulative_percent\n",
       "0     10019.0   1004  4.902583              1004            4.902583\n",
       "1     10002.0    937  4.575419              1941            9.478002\n",
       "2     10016.0    745  3.637873              2686           13.115875\n",
       "3     10025.0    714  3.486498              3400           16.602373\n",
       "4     10036.0    688  3.359539              4088           19.961912\n",
       "..        ...    ...       ...               ...                 ...\n",
       "107   10285.0      2  0.009766             20475           99.980468\n",
       "108   10278.0      1  0.004883             20476           99.985351\n",
       "109   10168.0      1  0.004883             20477           99.990234\n",
       "110   10121.0      1  0.004883             20478           99.995117\n",
       "111   10104.0      1  0.004883             20479          100.000000\n",
       "\n",
       "[112 rows x 5 columns]"
      ]
     },
     "execution_count": 16,
     "metadata": {},
     "output_type": "execute_result"
    }
   ],
   "source": [
    "d.stb.freq(['ZipCodes'])"
   ]
  },
  {
   "cell_type": "code",
   "execution_count": 17,
   "metadata": {},
   "outputs": [],
   "source": [
    "#df = df2.sort_values('neighbourhood')\n",
    "df_hood = df.stb.freq(['neighbourhood'])\n",
    "df_hood = df_hood.loc[:,'neighbourhood':'percent']\n",
    "df_hood = df_hood.sort_values('neighbourhood')"
   ]
  },
  {
   "cell_type": "code",
   "execution_count": 18,
   "metadata": {},
   "outputs": [],
   "source": [
    "df_hoodz = d.stb.freq(['ZipCodes'])\n",
    "df_hoodz = df_hoodz.loc[:,'ZipCodes':'percent']\n",
    "df_hoodz = df_hoodz.sort_values('ZipCodes')"
   ]
  },
  {
   "cell_type": "code",
   "execution_count": 20,
   "metadata": {},
   "outputs": [],
   "source": [
    "df_hood.reset_index(inplace=True)"
   ]
  },
  {
   "cell_type": "code",
   "execution_count": 19,
   "metadata": {},
   "outputs": [],
   "source": [
    "df_hoodz.reset_index(inplace=True)"
   ]
  },
  {
   "cell_type": "code",
   "execution_count": 25,
   "metadata": {},
   "outputs": [
    {
     "data": {
      "text/html": [
       "<div>\n",
       "<style scoped>\n",
       "    .dataframe tbody tr th:only-of-type {\n",
       "        vertical-align: middle;\n",
       "    }\n",
       "\n",
       "    .dataframe tbody tr th {\n",
       "        vertical-align: top;\n",
       "    }\n",
       "\n",
       "    .dataframe thead th {\n",
       "        text-align: right;\n",
       "    }\n",
       "</style>\n",
       "<table border=\"1\" class=\"dataframe\">\n",
       "  <thead>\n",
       "    <tr style=\"text-align: right;\">\n",
       "      <th></th>\n",
       "      <th>neighbourhood</th>\n",
       "      <th>price</th>\n",
       "    </tr>\n",
       "  </thead>\n",
       "  <tbody>\n",
       "    <tr>\n",
       "      <th>0</th>\n",
       "      <td>Allerton</td>\n",
       "      <td>118.78</td>\n",
       "    </tr>\n",
       "    <tr>\n",
       "      <th>1</th>\n",
       "      <td>Arden Heights</td>\n",
       "      <td>113.86</td>\n",
       "    </tr>\n",
       "    <tr>\n",
       "      <th>2</th>\n",
       "      <td>Arrochar</td>\n",
       "      <td>132.06</td>\n",
       "    </tr>\n",
       "    <tr>\n",
       "      <th>3</th>\n",
       "      <td>Arverne</td>\n",
       "      <td>230.26</td>\n",
       "    </tr>\n",
       "    <tr>\n",
       "      <th>4</th>\n",
       "      <td>Astoria</td>\n",
       "      <td>109.01</td>\n",
       "    </tr>\n",
       "  </tbody>\n",
       "</table>\n",
       "</div>"
      ],
      "text/plain": [
       "   neighbourhood   price\n",
       "0       Allerton  118.78\n",
       "1  Arden Heights  113.86\n",
       "2       Arrochar  132.06\n",
       "3        Arverne  230.26\n",
       "4        Astoria  109.01"
      ]
     },
     "execution_count": 25,
     "metadata": {},
     "output_type": "execute_result"
    }
   ],
   "source": [
    "df_mean = df_mean_price[['price']].reset_index()\n",
    "df_mean.head()"
   ]
  },
  {
   "cell_type": "code",
   "execution_count": 26,
   "metadata": {},
   "outputs": [
    {
     "data": {
      "text/html": [
       "<div>\n",
       "<style scoped>\n",
       "    .dataframe tbody tr th:only-of-type {\n",
       "        vertical-align: middle;\n",
       "    }\n",
       "\n",
       "    .dataframe tbody tr th {\n",
       "        vertical-align: top;\n",
       "    }\n",
       "\n",
       "    .dataframe thead th {\n",
       "        text-align: right;\n",
       "    }\n",
       "</style>\n",
       "<table border=\"1\" class=\"dataframe\">\n",
       "  <thead>\n",
       "    <tr style=\"text-align: right;\">\n",
       "      <th></th>\n",
       "      <th>ZipCodes</th>\n",
       "      <th>price</th>\n",
       "    </tr>\n",
       "  </thead>\n",
       "  <tbody>\n",
       "    <tr>\n",
       "      <th>0</th>\n",
       "      <td>10000.0</td>\n",
       "      <td>173.40</td>\n",
       "    </tr>\n",
       "    <tr>\n",
       "      <th>1</th>\n",
       "      <td>10001.0</td>\n",
       "      <td>312.69</td>\n",
       "    </tr>\n",
       "    <tr>\n",
       "      <th>2</th>\n",
       "      <td>10002.0</td>\n",
       "      <td>280.50</td>\n",
       "    </tr>\n",
       "    <tr>\n",
       "      <th>3</th>\n",
       "      <td>10003.0</td>\n",
       "      <td>258.39</td>\n",
       "    </tr>\n",
       "    <tr>\n",
       "      <th>4</th>\n",
       "      <td>10004.0</td>\n",
       "      <td>315.30</td>\n",
       "    </tr>\n",
       "  </tbody>\n",
       "</table>\n",
       "</div>"
      ],
      "text/plain": [
       "   ZipCodes   price\n",
       "0   10000.0  173.40\n",
       "1   10001.0  312.69\n",
       "2   10002.0  280.50\n",
       "3   10003.0  258.39\n",
       "4   10004.0  315.30"
      ]
     },
     "execution_count": 26,
     "metadata": {},
     "output_type": "execute_result"
    }
   ],
   "source": [
    "df_meanz = df_mean_pricez[['price']].reset_index()\n",
    "df_meanz.head()"
   ]
  },
  {
   "cell_type": "code",
   "execution_count": 27,
   "metadata": {},
   "outputs": [
    {
     "data": {
      "text/html": [
       "<div>\n",
       "<style scoped>\n",
       "    .dataframe tbody tr th:only-of-type {\n",
       "        vertical-align: middle;\n",
       "    }\n",
       "\n",
       "    .dataframe tbody tr th {\n",
       "        vertical-align: top;\n",
       "    }\n",
       "\n",
       "    .dataframe thead th {\n",
       "        text-align: right;\n",
       "    }\n",
       "</style>\n",
       "<table border=\"1\" class=\"dataframe\">\n",
       "  <thead>\n",
       "    <tr style=\"text-align: right;\">\n",
       "      <th></th>\n",
       "      <th>pop_rank</th>\n",
       "      <th>neighbourhood</th>\n",
       "      <th>count</th>\n",
       "      <th>percent</th>\n",
       "      <th>price</th>\n",
       "    </tr>\n",
       "  </thead>\n",
       "  <tbody>\n",
       "    <tr>\n",
       "      <th>0</th>\n",
       "      <td>107</td>\n",
       "      <td>Allerton</td>\n",
       "      <td>45</td>\n",
       "      <td>0.112836</td>\n",
       "      <td>118.78</td>\n",
       "    </tr>\n",
       "    <tr>\n",
       "      <th>1</th>\n",
       "      <td>204</td>\n",
       "      <td>Arden Heights</td>\n",
       "      <td>7</td>\n",
       "      <td>0.017552</td>\n",
       "      <td>113.86</td>\n",
       "    </tr>\n",
       "    <tr>\n",
       "      <th>2</th>\n",
       "      <td>158</td>\n",
       "      <td>Arrochar</td>\n",
       "      <td>17</td>\n",
       "      <td>0.042627</td>\n",
       "      <td>132.06</td>\n",
       "    </tr>\n",
       "    <tr>\n",
       "      <th>3</th>\n",
       "      <td>64</td>\n",
       "      <td>Arverne</td>\n",
       "      <td>110</td>\n",
       "      <td>0.275821</td>\n",
       "      <td>230.26</td>\n",
       "    </tr>\n",
       "    <tr>\n",
       "      <th>4</th>\n",
       "      <td>14</td>\n",
       "      <td>Astoria</td>\n",
       "      <td>686</td>\n",
       "      <td>1.720117</td>\n",
       "      <td>109.01</td>\n",
       "    </tr>\n",
       "  </tbody>\n",
       "</table>\n",
       "</div>"
      ],
      "text/plain": [
       "   pop_rank  neighbourhood  count   percent   price\n",
       "0       107       Allerton     45  0.112836  118.78\n",
       "1       204  Arden Heights      7  0.017552  113.86\n",
       "2       158       Arrochar     17  0.042627  132.06\n",
       "3        64        Arverne    110  0.275821  230.26\n",
       "4        14        Astoria    686  1.720117  109.01"
      ]
     },
     "execution_count": 27,
     "metadata": {},
     "output_type": "execute_result"
    }
   ],
   "source": [
    "df_hood['price'] = df_mean['price']\n",
    "df_hood.rename(columns={'index':'pop_rank'}, inplace=True)\n",
    "df_hood.head()"
   ]
  },
  {
   "cell_type": "code",
   "execution_count": 28,
   "metadata": {},
   "outputs": [
    {
     "data": {
      "text/html": [
       "<div>\n",
       "<style scoped>\n",
       "    .dataframe tbody tr th:only-of-type {\n",
       "        vertical-align: middle;\n",
       "    }\n",
       "\n",
       "    .dataframe tbody tr th {\n",
       "        vertical-align: top;\n",
       "    }\n",
       "\n",
       "    .dataframe thead th {\n",
       "        text-align: right;\n",
       "    }\n",
       "</style>\n",
       "<table border=\"1\" class=\"dataframe\">\n",
       "  <thead>\n",
       "    <tr style=\"text-align: right;\">\n",
       "      <th></th>\n",
       "      <th>pop_rank</th>\n",
       "      <th>ZipCodes</th>\n",
       "      <th>count</th>\n",
       "      <th>percent</th>\n",
       "      <th>price</th>\n",
       "    </tr>\n",
       "  </thead>\n",
       "  <tbody>\n",
       "    <tr>\n",
       "      <th>0</th>\n",
       "      <td>92</td>\n",
       "      <td>10000.0</td>\n",
       "      <td>10</td>\n",
       "      <td>0.048831</td>\n",
       "      <td>173.40</td>\n",
       "    </tr>\n",
       "    <tr>\n",
       "      <th>1</th>\n",
       "      <td>6</td>\n",
       "      <td>10001.0</td>\n",
       "      <td>641</td>\n",
       "      <td>3.130036</td>\n",
       "      <td>312.69</td>\n",
       "    </tr>\n",
       "    <tr>\n",
       "      <th>2</th>\n",
       "      <td>1</td>\n",
       "      <td>10002.0</td>\n",
       "      <td>937</td>\n",
       "      <td>4.575419</td>\n",
       "      <td>280.50</td>\n",
       "    </tr>\n",
       "    <tr>\n",
       "      <th>3</th>\n",
       "      <td>8</td>\n",
       "      <td>10003.0</td>\n",
       "      <td>600</td>\n",
       "      <td>2.929831</td>\n",
       "      <td>258.39</td>\n",
       "    </tr>\n",
       "    <tr>\n",
       "      <th>4</th>\n",
       "      <td>58</td>\n",
       "      <td>10004.0</td>\n",
       "      <td>84</td>\n",
       "      <td>0.410176</td>\n",
       "      <td>315.30</td>\n",
       "    </tr>\n",
       "  </tbody>\n",
       "</table>\n",
       "</div>"
      ],
      "text/plain": [
       "   pop_rank  ZipCodes  count   percent   price\n",
       "0        92   10000.0     10  0.048831  173.40\n",
       "1         6   10001.0    641  3.130036  312.69\n",
       "2         1   10002.0    937  4.575419  280.50\n",
       "3         8   10003.0    600  2.929831  258.39\n",
       "4        58   10004.0     84  0.410176  315.30"
      ]
     },
     "execution_count": 28,
     "metadata": {},
     "output_type": "execute_result"
    }
   ],
   "source": [
    "df_hoodz['price'] = df_meanz['price']\n",
    "df_hoodz.rename(columns={'index':'pop_rank'}, inplace=True)\n",
    "df_hoodz.head()"
   ]
  },
  {
   "cell_type": "markdown",
   "metadata": {},
   "source": [
    "## Data Summarization and Visualization\n",
    "- How can we optimize rental revenue based on rental location and other characteristics?\n",
    "\n",
    "*We choose the mode, because the mode remains the same after making corrections for outliers*\n"
   ]
  },
  {
   "cell_type": "markdown",
   "metadata": {},
   "source": [
    "### Inspect distribution of top three most populous neighborhoods"
   ]
  },
  {
   "cell_type": "code",
   "execution_count": 29,
   "metadata": {},
   "outputs": [
    {
     "data": {
      "text/html": [
       "<div>\n",
       "<style scoped>\n",
       "    .dataframe tbody tr th:only-of-type {\n",
       "        vertical-align: middle;\n",
       "    }\n",
       "\n",
       "    .dataframe tbody tr th {\n",
       "        vertical-align: top;\n",
       "    }\n",
       "\n",
       "    .dataframe thead th {\n",
       "        text-align: right;\n",
       "    }\n",
       "</style>\n",
       "<table border=\"1\" class=\"dataframe\">\n",
       "  <thead>\n",
       "    <tr style=\"text-align: right;\">\n",
       "      <th></th>\n",
       "      <th>pop_rank</th>\n",
       "      <th>neighbourhood</th>\n",
       "      <th>count</th>\n",
       "      <th>percent</th>\n",
       "      <th>price</th>\n",
       "    </tr>\n",
       "  </thead>\n",
       "  <tbody>\n",
       "    <tr>\n",
       "      <th>12</th>\n",
       "      <td>0</td>\n",
       "      <td>Bedford-Stuyvesant</td>\n",
       "      <td>2779</td>\n",
       "      <td>6.968230</td>\n",
       "      <td>140.85</td>\n",
       "    </tr>\n",
       "    <tr>\n",
       "      <th>237</th>\n",
       "      <td>1</td>\n",
       "      <td>Williamsburg</td>\n",
       "      <td>2456</td>\n",
       "      <td>6.158321</td>\n",
       "      <td>183.21</td>\n",
       "    </tr>\n",
       "    <tr>\n",
       "      <th>108</th>\n",
       "      <td>2</td>\n",
       "      <td>Harlem</td>\n",
       "      <td>1878</td>\n",
       "      <td>4.709009</td>\n",
       "      <td>164.74</td>\n",
       "    </tr>\n",
       "    <tr>\n",
       "      <th>144</th>\n",
       "      <td>3</td>\n",
       "      <td>Midtown</td>\n",
       "      <td>1701</td>\n",
       "      <td>4.265189</td>\n",
       "      <td>381.70</td>\n",
       "    </tr>\n",
       "    <tr>\n",
       "      <th>30</th>\n",
       "      <td>4</td>\n",
       "      <td>Bushwick</td>\n",
       "      <td>1657</td>\n",
       "      <td>4.154861</td>\n",
       "      <td>114.35</td>\n",
       "    </tr>\n",
       "  </tbody>\n",
       "</table>\n",
       "</div>"
      ],
      "text/plain": [
       "     pop_rank       neighbourhood  count   percent   price\n",
       "12          0  Bedford-Stuyvesant   2779  6.968230  140.85\n",
       "237         1        Williamsburg   2456  6.158321  183.21\n",
       "108         2              Harlem   1878  4.709009  164.74\n",
       "144         3             Midtown   1701  4.265189  381.70\n",
       "30          4            Bushwick   1657  4.154861  114.35"
      ]
     },
     "execution_count": 29,
     "metadata": {},
     "output_type": "execute_result"
    }
   ],
   "source": [
    "df_hood.sort_values(by='pop_rank').head()"
   ]
  },
  {
   "cell_type": "code",
   "execution_count": 30,
   "metadata": {},
   "outputs": [],
   "source": [
    "df2_s1 = df.groupby('neighbourhood').get_group('Bedford-Stuyvesant')\n",
    "df2_s2 = df.groupby('neighbourhood').get_group('Williamsburg')\n",
    "df2_s3 = df.groupby('neighbourhood').get_group('Harlem')"
   ]
  },
  {
   "cell_type": "code",
   "execution_count": 31,
   "metadata": {},
   "outputs": [],
   "source": [
    "df_top3= pd.concat([df2_s1,df2_s2,df2_s3])"
   ]
  },
  {
   "cell_type": "code",
   "execution_count": 32,
   "metadata": {},
   "outputs": [],
   "source": [
    "df2_s1z = d.groupby('ZipCodes').get_group(11238)\n",
    "df2_s2z = d.groupby('ZipCodes').get_group(11206)\n",
    "df2_s3z = d.groupby('ZipCodes').get_group(10026)"
   ]
  },
  {
   "cell_type": "code",
   "execution_count": 33,
   "metadata": {},
   "outputs": [],
   "source": [
    "df_top3z= pd.concat([df2_s1z,df2_s2z,df2_s3z])"
   ]
  },
  {
   "cell_type": "markdown",
   "metadata": {},
   "source": [
    "#### Bedford-Stuyvesant"
   ]
  },
  {
   "cell_type": "code",
   "execution_count": 34,
   "metadata": {},
   "outputs": [
    {
     "data": {
      "image/png": "[encoded data removed]",
      "text/plain": [
       "<Figure size 432x288 with 1 Axes>"
      ]
     },
     "metadata": {
      "needs_background": "light"
     },
     "output_type": "display_data"
    }
   ],
   "source": [
    "# plt.hist(df2_s1.price, bins=50)\n",
    "plt.hist(df2_s1.price)\n",
    "plt.title('Bedford-Stuyvesant')\n",
    "plt.xlabel('price');"
   ]
  },
  {
   "cell_type": "code",
   "execution_count": 36,
   "metadata": {},
   "outputs": [
    {
     "data": {
      "image/png": "[encoded data removed]",
      "text/plain": [
       "<Figure size 432x288 with 1 Axes>"
      ]
     },
     "metadata": {
      "needs_background": "light"
     },
     "output_type": "display_data"
    }
   ],
   "source": [
    "plt.hist(df2_s1z.price, bins=20)\n",
    "plt.title('Bedford-Stuyvesant')\n",
    "plt.xlabel('price');"
   ]
  },
  {
   "cell_type": "markdown",
   "metadata": {},
   "source": [
    "#### Examine extremes of prices - Bed Stuy"
   ]
  },
  {
   "cell_type": "code",
   "execution_count": 38,
   "metadata": {},
   "outputs": [
    {
     "name": "stdout",
     "output_type": "stream",
     "text": [
      "Log of outlier for uncorrected prices: (-inf, 7.313220387090301)\n"
     ]
    }
   ],
   "source": [
    "top_out = np.log(df2_s1.price).max()\n",
    "bot_out = np.log(df2_s1.price).min()\n",
    "print(f'Log of outlier for uncorrected prices: {bot_out,top_out}');"
   ]
  },
  {
   "cell_type": "code",
   "execution_count": 39,
   "metadata": {},
   "outputs": [
    {
     "name": "stdout",
     "output_type": "stream",
     "text": [
      "Log of outlier for uncorrected prices: (3.4011973816621555, 7.965545573129992)\n"
     ]
    }
   ],
   "source": [
    "top_outz = np.log(df2_s1z.price).max()\n",
    "bot_outz = np.log(df2_s1z.price).min()\n",
    "print(f'Log of outlier for uncorrected prices: {bot_outz,top_outz}');"
   ]
  },
  {
   "cell_type": "code",
   "execution_count": 40,
   "metadata": {},
   "outputs": [
    {
     "name": "stdout",
     "output_type": "stream",
     "text": [
      "Log of outlier for corrected prices: (2.70805020110221, 7.313220387090301)\n"
     ]
    }
   ],
   "source": [
    "#prices greater than a dollar ($1)\n",
    "df2_s1_corrected = df2_s1[df2_s1['price']>1]\n",
    "\n",
    "top_out = np.log(df2_s1_corrected.price).max()\n",
    "bot_out = np.log(df2_s1_corrected.price).min()\n",
    "print(f'Log of outlier for corrected prices: {bot_out,top_out}');"
   ]
  },
  {
   "cell_type": "code",
   "execution_count": 41,
   "metadata": {},
   "outputs": [
    {
     "name": "stdout",
     "output_type": "stream",
     "text": [
      "Log of outlier for corrected prices: (3.4011973816621555, 7.965545573129992)\n"
     ]
    }
   ],
   "source": [
    "df2_s1_correctedz = df2_s1z[df2_s1z['price']>1]\n",
    "\n",
    "top_outz = np.log(df2_s1_correctedz.price).max()\n",
    "bot_outz = np.log(df2_s1_correctedz.price).min()\n",
    "print(f'Log of outlier for corrected prices: {bot_outz,top_outz}');"
   ]
  },
  {
   "cell_type": "code",
   "execution_count": 42,
   "metadata": {},
   "outputs": [
    {
     "data": {
      "image/png": "[encoded data removed]",
      "text/plain": [
       "<Figure size 432x288 with 1 Axes>"
      ]
     },
     "metadata": {
      "needs_background": "light"
     },
     "output_type": "display_data"
    }
   ],
   "source": [
    "plt.hist(np.log(df2_s1_corrected.price))\n",
    "plt.title('Bedford-Stuyvesant histogram analysis \\n log of prices > \\$1')\n",
    "plt.xlabel('log(price)');"
   ]
  },
  {
   "cell_type": "code",
   "execution_count": 43,
   "metadata": {},
   "outputs": [],
   "source": [
    "def reject_outliers(data, m=2):\n",
    "    return data[abs(data - np.mean(data)) < m * np.std(data)]"
   ]
  },
  {
   "cell_type": "code",
   "execution_count": 44,
   "metadata": {
    "scrolled": true
   },
   "outputs": [
    {
     "data": {
      "image/png": "[encoded data removed]",
      "text/plain": [
       "<Figure size 432x288 with 1 Axes>"
      ]
     },
     "metadata": {
      "needs_background": "light"
     },
     "output_type": "display_data"
    }
   ],
   "source": [
    "sb.histplot(reject_outliers(df2_s1[ df2_s1['price']>0 ]['price']))\n",
    "plt.title('Bedford-Stuyvesant count \\n of central 95%')\n",
    "plt.show()"
   ]
  },
  {
   "cell_type": "code",
   "execution_count": 45,
   "metadata": {},
   "outputs": [
    {
     "data": {
      "image/png": "[encoded data removed]",
      "text/plain": [
       "<Figure size 432x288 with 1 Axes>"
      ]
     },
     "metadata": {
      "needs_background": "light"
     },
     "output_type": "display_data"
    }
   ],
   "source": [
    "sb.histplot(reject_outliers(df2_s1z[ df2_s1z['price']>0 ]['price']))\n",
    "plt.title('Bedford-Stuyvesant count \\n of central 95%')\n",
    "plt.show()"
   ]
  },
  {
   "cell_type": "code",
   "execution_count": 46,
   "metadata": {},
   "outputs": [
    {
     "data": {
      "image/png": "[encoded data removed]",
      "text/plain": [
       "<Figure size 432x288 with 1 Axes>"
      ]
     },
     "metadata": {
      "needs_background": "light"
     },
     "output_type": "display_data"
    }
   ],
   "source": [
    "array = reject_outliers(reject_outliers(df2_s1[ df2_s1['price']>0 ]['price']))\n",
    "array.name = 'log_price'\n",
    "\n",
    "sb.histplot(np.log(array), binwidth=0.5)\n",
    "plt.title('Bedford-Stuyvesant histogram of \\n log of price of central 95%')\n",
    "plt.show()"
   ]
  },
  {
   "cell_type": "code",
   "execution_count": 47,
   "metadata": {},
   "outputs": [
    {
     "data": {
      "image/png": "[encoded data removed]",
      "text/plain": [
       "<Figure size 432x288 with 1 Axes>"
      ]
     },
     "metadata": {
      "needs_background": "light"
     },
     "output_type": "display_data"
    }
   ],
   "source": [
    "arrayz = reject_outliers(reject_outliers(df2_s1z[ df2_s1z['price']>0 ]['price']))\n",
    "array.namez = 'log_price'\n",
    "\n",
    "sb.histplot(np.log(array), binwidth=0.5)\n",
    "plt.title('Bedford-Stuyvesant histogram of \\n log of price of central 95%')\n",
    "plt.show()"
   ]
  },
  {
   "cell_type": "code",
   "execution_count": 51,
   "metadata": {},
   "outputs": [
    {
     "name": "stdout",
     "output_type": "stream",
     "text": [
      "Bedford Stuyversant\n",
      "\n",
      "mean: $159\n",
      "median: $150\n",
      "mode: $90\n",
      "count: 189\n"
     ]
    }
   ],
   "source": [
    "bed_stuy_meanz = np.mean(arrayz)\n",
    "bed_stuy_medianz = np.median(arrayz)\n",
    "bed_stuy_modez = st.mode(arrayz)\n",
    "\n",
    "print('Bedford Stuyversant\\n')\n",
    "print(f'mean: ${int(bed_stuy_meanz)}')\n",
    "print(f'median: ${int(bed_stuy_medianz)}')\n",
    "print(f'mode: ${bed_stuy_modez.mode[0]}')\n",
    "print(f'count: {len(arrayz)}')"
   ]
  },
  {
   "cell_type": "code",
   "execution_count": 52,
   "metadata": {},
   "outputs": [
    {
     "name": "stdout",
     "output_type": "stream",
     "text": [
      "Bedford Stuyversant\n",
      "\n",
      "mean: $111\n",
      "median: $98\n",
      "mode: $150\n",
      "count: 2540\n"
     ]
    }
   ],
   "source": [
    "bed_stuy_mean = np.mean(array)\n",
    "bed_stuy_median = np.median(array)\n",
    "bed_stuy_mode = st.mode(array)\n",
    "\n",
    "print('Bedford Stuyversant\\n')\n",
    "print(f'mean: ${int(bed_stuy_mean)}')\n",
    "print(f'median: ${int(bed_stuy_median)}')\n",
    "print(f'mode: ${bed_stuy_mode.mode[0]}')\n",
    "print(f'count: {len(array)}')"
   ]
  },
  {
   "cell_type": "code",
   "execution_count": 53,
   "metadata": {},
   "outputs": [
    {
     "name": "stdout",
     "output_type": "stream",
     "text": [
      "Bedford Stuyversant\n",
      "\n",
      "mean of log of prices: 4.55\n",
      "median of log of prices: 4.58 ≠ log(median)\n",
      "mode of log of prices: 5.01\n",
      "count: 2540\n"
     ]
    }
   ],
   "source": [
    "log_array = np.log(array)\n",
    "bed_stuy_mean = np.mean(log_array)\n",
    "bed_stuy_median = np.median(log_array)\n",
    "bed_stuy_mode = st.mode(log_array)\n",
    "\n",
    "print('Bedford Stuyversant\\n')\n",
    "print(f'mean of log of prices: {round(bed_stuy_mean,2)}')\n",
    "print(f'median of log of prices: {round(bed_stuy_median,2)} ≠ log(median)')\n",
    "print(f'mode of log of prices: {round(bed_stuy_mode.mode[0],2)}')\n",
    "print(f'count: {len(array)}')"
   ]
  },
  {
   "cell_type": "code",
   "execution_count": 55,
   "metadata": {},
   "outputs": [
    {
     "name": "stdout",
     "output_type": "stream",
     "text": [
      "Bedford Stuyversant\n",
      "\n",
      "mean of log of prices: 4.88\n",
      "median of log of prices: 5.01 ≠ log(median)\n",
      "mode of log of prices: 4.5\n",
      "count: 189\n"
     ]
    }
   ],
   "source": [
    "log_arrayz = np.log(arrayz)\n",
    "bed_stuy_meanz = np.mean(log_arrayz)\n",
    "bed_stuy_medianz = np.median(log_arrayz)\n",
    "bed_stuy_modez = st.mode(log_arrayz)\n",
    "\n",
    "print('Bedford Stuyversant\\n')\n",
    "print(f'mean of log of prices: {round(bed_stuy_meanz,2)}')\n",
    "print(f'median of log of prices: {round(bed_stuy_medianz,2)} ≠ log(median)')\n",
    "print(f'mode of log of prices: {round(bed_stuy_modez.mode[0],2)}')\n",
    "print(f'count: {len(arrayz)}')"
   ]
  },
  {
   "cell_type": "markdown",
   "metadata": {},
   "source": [
    "### Bed-stuy \"Entire Home/ Apt\""
   ]
  },
  {
   "cell_type": "code",
   "execution_count": 56,
   "metadata": {},
   "outputs": [],
   "source": [
    "df2_bedstuy = df.groupby('neighbourhood').get_group('Bedford-Stuyvesant')\n",
    "df2_bedstuy;"
   ]
  },
  {
   "cell_type": "code",
   "execution_count": 57,
   "metadata": {},
   "outputs": [],
   "source": [
    "df2_bedstuy_apt = df2_bedstuy.groupby('room_type').get_group('Entire home/apt')\n",
    "df2_bedstuy_apt;"
   ]
  },
  {
   "cell_type": "code",
   "execution_count": 58,
   "metadata": {},
   "outputs": [
    {
     "data": {
      "image/png": "[encoded data removed]",
      "text/plain": [
       "<Figure size 432x288 with 1 Axes>"
      ]
     },
     "metadata": {
      "needs_background": "light"
     },
     "output_type": "display_data"
    }
   ],
   "source": [
    "# plt.hist(df2_bedstuy_apt.price, bins=50)\n",
    "plt.hist(df2_bedstuy_apt.price)\n",
    "plt.title('Bedstuy- Entire home/apt')\n",
    "plt.xlabel('price')\n",
    "plt.ylabel(\"Count\");"
   ]
  },
  {
   "cell_type": "code",
   "execution_count": 59,
   "metadata": {},
   "outputs": [
    {
     "data": {
      "image/png": "[encoded data removed]",
      "text/plain": [
       "<Figure size 432x288 with 1 Axes>"
      ]
     },
     "metadata": {
      "needs_background": "light"
     },
     "output_type": "display_data"
    }
   ],
   "source": [
    "bedstuy_array = reject_outliers(df2_bedstuy_apt[ df2_bedstuy_apt['price']>0 ]['price'])\n",
    "array = reject_outliers(bedstuy_array)\n",
    "array.name = 'log_price'\n",
    "\n",
    "sb.histplot(np.log(array), binwidth=0.5)\n",
    "plt.title('Bedford-Stuyvesant Entire Home/ Apt'+\\\n",
    "    '\\n histogram of log of price of central 95%')\n",
    "plt.show()"
   ]
  },
  {
   "cell_type": "code",
   "execution_count": 60,
   "metadata": {},
   "outputs": [
    {
     "name": "stdout",
     "output_type": "stream",
     "text": [
      "Bedford Stuyversant Entire Home/ Apt\n",
      "mean of log of prices: 5.04\n",
      "median of log of prices: 5.04 ≠ log(median)\n",
      "mode of log of prices: 5.01\n",
      "count: 1273\n",
      "\n",
      "log(median): 5.04\n"
     ]
    }
   ],
   "source": [
    "log_array = np.log(array)\n",
    "bed_stuy_mean = np.mean(log_array)\n",
    "bed_stuy_median = np.median(log_array)\n",
    "bed_stuy_mode = st.mode(log_array)\n",
    "\n",
    "print('Bedford Stuyversant Entire Home/ Apt')\n",
    "print(f'mean of log of prices: {round(bed_stuy_mean,2)}')\n",
    "print(f'median of log of prices: {round(bed_stuy_median,2)} ≠ log(median)')\n",
    "print(f'mode of log of prices: {round(bed_stuy_mode.mode[0],2)}')\n",
    "print(f'count: {len(array)}\\n')\n",
    "\n",
    "print(f'log(median): {round(np.log(np.median(array)),2)}')"
   ]
  },
  {
   "cell_type": "code",
   "execution_count": 61,
   "metadata": {},
   "outputs": [],
   "source": [
    "df2_bedstuyz = d.groupby('ZipCodes').get_group(11238)\n",
    "df2_bedstuyz;"
   ]
  },
  {
   "cell_type": "code",
   "execution_count": 62,
   "metadata": {},
   "outputs": [],
   "source": [
    "df2_bedstuy_aptz = df2_bedstuyz.groupby('room_type').get_group('Entire home/apt')\n",
    "df2_bedstuy_aptz;"
   ]
  },
  {
   "cell_type": "code",
   "execution_count": 63,
   "metadata": {},
   "outputs": [
    {
     "data": {
      "image/png": "[encoded data removed]",
      "text/plain": [
       "<Figure size 432x288 with 1 Axes>"
      ]
     },
     "metadata": {
      "needs_background": "light"
     },
     "output_type": "display_data"
    }
   ],
   "source": [
    "plt.hist(df2_bedstuy_aptz.price, bins=20)\n",
    "plt.title('Bedstuy- Entire home/apt')\n",
    "plt.xlabel('price')\n",
    "plt.ylabel(\"Count\");"
   ]
  },
  {
   "cell_type": "code",
   "execution_count": 64,
   "metadata": {},
   "outputs": [
    {
     "data": {
      "image/png": "[encoded data removed]",
      "text/plain": [
       "<Figure size 432x288 with 1 Axes>"
      ]
     },
     "metadata": {
      "needs_background": "light"
     },
     "output_type": "display_data"
    }
   ],
   "source": [
    "bedstuy_arrayz = reject_outliers(df2_bedstuy_aptz[ df2_bedstuy_aptz['price']>0 ]['price'])\n",
    "arrayz = reject_outliers(bedstuy_arrayz)\n",
    "array.namez = 'log_price'\n",
    "\n",
    "sb.histplot(np.log(arrayz), binwidth=0.5)\n",
    "plt.title('Bedford-Stuyvesant Entire Home/ Apt'+\\\n",
    "    '\\n histogram of log of price of central 95%')\n",
    "plt.show()"
   ]
  },
  {
   "cell_type": "code",
   "execution_count": 65,
   "metadata": {},
   "outputs": [
    {
     "name": "stdout",
     "output_type": "stream",
     "text": [
      "Bedford Stuyversant Entire Home/ Apt\n",
      "mean of log of prices: 5.34\n",
      "median of log of prices: 5.3 ≠ log(median)\n",
      "mode of log of prices: 5.16\n",
      "count: 125\n",
      "\n",
      "log(median): 5.3\n"
     ]
    }
   ],
   "source": [
    "log_arrayz = np.log(arrayz)\n",
    "bed_stuy_meanz = np.mean(log_arrayz)\n",
    "bed_stuy_medianz = np.median(log_arrayz)\n",
    "bed_stuy_modez = st.mode(log_arrayz)\n",
    "\n",
    "print('Bedford Stuyversant Entire Home/ Apt')\n",
    "print(f'mean of log of prices: {round(bed_stuy_meanz,2)}')\n",
    "print(f'median of log of prices: {round(bed_stuy_medianz,2)} ≠ log(median)')\n",
    "print(f'mode of log of prices: {round(bed_stuy_modez.mode[0],2)}')\n",
    "print(f'count: {len(arrayz)}\\n')\n",
    "\n",
    "print(f'log(median): {round(np.log(np.median(arrayz)),2)}')"
   ]
  },
  {
   "cell_type": "markdown",
   "metadata": {},
   "source": [
    "#### Williamsburg"
   ]
  },
  {
   "cell_type": "code",
   "execution_count": 66,
   "metadata": {},
   "outputs": [
    {
     "data": {
      "image/png": "[encoded data removed]",
      "text/plain": [
       "<Figure size 432x288 with 1 Axes>"
      ]
     },
     "metadata": {
      "needs_background": "light"
     },
     "output_type": "display_data"
    }
   ],
   "source": [
    "plt.hist(df2_s2.price, bins=50)\n",
    "plt.title('Williamsburg')\n",
    "plt.xlabel(\"price\");"
   ]
  },
  {
   "cell_type": "code",
   "execution_count": 67,
   "metadata": {},
   "outputs": [
    {
     "data": {
      "image/png": "[encoded data removed]",
      "text/plain": [
       "<Figure size 432x288 with 1 Axes>"
      ]
     },
     "metadata": {
      "needs_background": "light"
     },
     "output_type": "display_data"
    }
   ],
   "source": [
    "plt.hist(df2_s2z.price, bins=20)\n",
    "plt.title('Williamsburg 11206')\n",
    "plt.xlabel(\"price\");"
   ]
  },
  {
   "cell_type": "code",
   "execution_count": 68,
   "metadata": {},
   "outputs": [
    {
     "data": {
      "image/png": "[encoded data removed]",
      "text/plain": [
       "<Figure size 432x288 with 1 Axes>"
      ]
     },
     "metadata": {
      "needs_background": "light"
     },
     "output_type": "display_data"
    }
   ],
   "source": [
    "plt.hist(df2_s1z.price, bins=20)\n",
    "plt.title('Williamsburg')\n",
    "plt.xlabel('price');"
   ]
  },
  {
   "cell_type": "markdown",
   "metadata": {},
   "source": [
    "#### Examine extreme of prices - Williamsburg"
   ]
  },
  {
   "cell_type": "code",
   "execution_count": 69,
   "metadata": {},
   "outputs": [
    {
     "name": "stdout",
     "output_type": "stream",
     "text": [
      "Log of outlier for uncorrected prices: (-inf, 8.293049139768444)\n",
      "Log of outlier for corrected prices: (3.0, 8.29)\n"
     ]
    },
    {
     "name": "stderr",
     "output_type": "stream",
     "text": [
      "/opt/anaconda3/lib/python3.8/site-packages/pandas/core/arraylike.py:358: RuntimeWarning: divide by zero encountered in log\n",
      "  result = getattr(ufunc, method)(*inputs, **kwargs)\n"
     ]
    },
    {
     "data": {
      "image/png": "[encoded data removed]",
      "text/plain": [
       "<Figure size 432x288 with 1 Axes>"
      ]
     },
     "metadata": {
      "needs_background": "light"
     },
     "output_type": "display_data"
    }
   ],
   "source": [
    "top_out = np.log(df2_s2.price).max()\n",
    "bot_out = np.log(df2_s2.price).min()\n",
    "print(f'Log of outlier for uncorrected prices: {bot_out,top_out}')\n",
    "\n",
    "#prices greater than a dollar ($1)\n",
    "df2_s2_corrected = df2_s2[df2_s2['price']>1]\n",
    "top_out = np.log(df2_s2_corrected.price).max()\n",
    "bot_out = np.log(df2_s2_corrected.price).min()\n",
    "print(f'Log of outlier for corrected prices: {round(bot_out,2),round(top_out,2)}')\n",
    "\n",
    "plt.hist(np.log(df2_s2_corrected.price))\n",
    "plt.title('Williamsburg histogram analysis \\n log of prices > \\$1')\n",
    "plt.xlabel('log(price)');"
   ]
  },
  {
   "cell_type": "markdown",
   "metadata": {},
   "source": [
    "#### Examine extreme of prices - Williamsburg using zip codes"
   ]
  },
  {
   "cell_type": "code",
   "execution_count": 70,
   "metadata": {},
   "outputs": [
    {
     "name": "stdout",
     "output_type": "stream",
     "text": [
      "Log of outlier for uncorrected prices: (3.4965075614664802, 7.090076835776092)\n",
      "Log of outlier for corrected prices: (3.5, 7.09)\n"
     ]
    },
    {
     "data": {
      "image/png": "[encoded data removed]",
      "text/plain": [
       "<Figure size 432x288 with 1 Axes>"
      ]
     },
     "metadata": {
      "needs_background": "light"
     },
     "output_type": "display_data"
    }
   ],
   "source": [
    "top_outz = np.log(df2_s2z.price).max()\n",
    "bot_outz = np.log(df2_s2z.price).min()\n",
    "print(f'Log of outlier for uncorrected prices: {bot_outz,top_outz}')\n",
    "\n",
    "#prices greater than a dollar ($1)\n",
    "df2_s2_correctedz = df2_s2z[df2_s2z['price']>1]\n",
    "top_outz = np.log(df2_s2_correctedz.price).max()\n",
    "bot_outz = np.log(df2_s2_correctedz.price).min()\n",
    "print(f'Log of outlier for corrected prices: {round(bot_outz,2),round(top_outz,2)}')\n",
    "\n",
    "plt.hist(np.log(df2_s2_correctedz.price))\n",
    "plt.title('Williamsburg histogram analysis \\n log of prices > \\$1')\n",
    "plt.xlabel('log(price)');"
   ]
  },
  {
   "cell_type": "code",
   "execution_count": 72,
   "metadata": {},
   "outputs": [
    {
     "data": {
      "image/png": "[encoded data removed]",
      "text/plain": [
       "<Figure size 432x288 with 1 Axes>"
      ]
     },
     "metadata": {
      "needs_background": "light"
     },
     "output_type": "display_data"
    },
    {
     "data": {
      "image/png": "[encoded data removed]",
      "text/plain": [
       "<Figure size 432x288 with 1 Axes>"
      ]
     },
     "metadata": {
      "needs_background": "light"
     },
     "output_type": "display_data"
    }
   ],
   "source": [
    "sb.histplot(reject_outliers(df2_s2[ df2_s2['price']>0 ]['price']))\n",
    "plt.title('Williamsburg count \\n of central 95%')\n",
    "plt.show()\n",
    "\n",
    "array = reject_outliers(reject_outliers(df2_s2[ df2_s2['price']>0 ]['price']))\n",
    "array.name = 'log_price'\n",
    "\n",
    "sb.histplot(np.log(array), binwidth=0.5)\n",
    "plt.title('Williamsburg histogram of \\n log of price of central 95%')\n",
    "plt.show()"
   ]
  },
  {
   "cell_type": "code",
   "execution_count": 73,
   "metadata": {},
   "outputs": [
    {
     "name": "stdout",
     "output_type": "stream",
     "text": [
      "Williamsburg\n",
      "\n",
      "mean: $144\n",
      "median: $125\n",
      "mode: $200\n",
      "\n",
      "\n",
      "mean of natural log of prices: 4.81\n",
      "median of natural log of prices: 4.83 ≠ ln(median)\n",
      "mode of natural log of prices: 5.3\n",
      "count: 2253\n"
     ]
    }
   ],
   "source": [
    "williamsburg_mean = np.mean(array)\n",
    "williamsburg_median = np.median(array)\n",
    "williamsburg_mode = st.mode(array)\n",
    "\n",
    "print('Williamsburg\\n')\n",
    "print(f'mean: ${int(williamsburg_mean)}')\n",
    "print(f'median: ${int(williamsburg_median)}')\n",
    "print(f'mode: ${williamsburg_mode.mode[0]}')\n",
    "#print(f'count: {len(array)}')\n",
    "\n",
    "log_array = np.log(array)\n",
    "williamsburg_mean = np.mean(log_array)\n",
    "williamsburg_median = np.median(log_array)\n",
    "williamsburg_mode = st.mode(log_array)\n",
    "print('\\n')\n",
    "print(f'mean of natural log of prices: {round(williamsburg_mean,2)}')\n",
    "print(f'median of natural log of prices: {round(williamsburg_median,2)} ≠ ln(median)')\n",
    "print(f'mode of natural log of prices: {round(williamsburg_mode.mode[0],2)}')\n",
    "print(f'count: {len(array)}')"
   ]
  },
  {
   "cell_type": "code",
   "execution_count": 74,
   "metadata": {},
   "outputs": [
    {
     "data": {
      "image/png": "[encoded data removed]",
      "text/plain": [
       "<Figure size 432x288 with 1 Axes>"
      ]
     },
     "metadata": {
      "needs_background": "light"
     },
     "output_type": "display_data"
    },
    {
     "data": {
      "image/png": "[encoded data removed]",
      "text/plain": [
       "<Figure size 432x288 with 1 Axes>"
      ]
     },
     "metadata": {
      "needs_background": "light"
     },
     "output_type": "display_data"
    }
   ],
   "source": [
    "sb.histplot(reject_outliers(df2_s2z[ df2_s2z['price']>0 ]['price']))\n",
    "plt.title('Williamsburg count \\n of central 95%')\n",
    "plt.show()\n",
    "\n",
    "arrayz = reject_outliers(reject_outliers(df2_s2z[ df2_s2z['price']>0 ]['price']))\n",
    "array.namez = 'log_price'\n",
    "\n",
    "sb.histplot(np.log(arrayz), binwidth=0.5)\n",
    "plt.title('Williamsburg histogram of \\n log of price of central 95%')\n",
    "plt.show()"
   ]
  },
  {
   "cell_type": "code",
   "execution_count": 75,
   "metadata": {},
   "outputs": [
    {
     "name": "stdout",
     "output_type": "stream",
     "text": [
      "Williamsburg\n",
      "\n",
      "mean: $128\n",
      "median: $109\n",
      "mode: $38\n",
      "\n",
      "\n",
      "mean of natural log of prices: 4.7\n",
      "median of natural log of prices: 4.7 ≠ ln(median)\n",
      "mode of natural log of prices: 3.64\n",
      "count: 326\n"
     ]
    }
   ],
   "source": [
    "williamsburg_mean = np.mean(arrayz)\n",
    "williamsburg_median = np.median(arrayz)\n",
    "williamsburg_mode = st.mode(arrayz)\n",
    "\n",
    "print('Williamsburg\\n')\n",
    "print(f'mean: ${int(williamsburg_mean)}')\n",
    "print(f'median: ${int(williamsburg_median)}')\n",
    "print(f'mode: ${williamsburg_mode.mode[0]}')\n",
    "#print(f'count: {len(array)}')\n",
    "\n",
    "log_arrayz = np.log(arrayz)\n",
    "williamsburg_meanz = np.mean(log_arrayz)\n",
    "williamsburg_medianz = np.median(log_arrayz)\n",
    "williamsburg_modez = st.mode(log_arrayz)\n",
    "print('\\n')\n",
    "print(f'mean of natural log of prices: {round(williamsburg_meanz,2)}')\n",
    "print(f'median of natural log of prices: {round(williamsburg_medianz,2)} ≠ ln(median)')\n",
    "print(f'mode of natural log of prices: {round(williamsburg_modez.mode[0],2)}')\n",
    "print(f'count: {len(arrayz)}')"
   ]
  },
  {
   "cell_type": "markdown",
   "metadata": {},
   "source": [
    "### Williamsburg \"Entire Home/ Apt\""
   ]
  },
  {
   "cell_type": "code",
   "execution_count": 76,
   "metadata": {},
   "outputs": [
    {
     "data": {
      "image/png": "[encoded data removed]",
      "text/plain": [
       "<Figure size 432x288 with 1 Axes>"
      ]
     },
     "metadata": {
      "needs_background": "light"
     },
     "output_type": "display_data"
    }
   ],
   "source": [
    "df2_williamsburg = df.groupby('neighbourhood').get_group('Williamsburg')\n",
    "df2_williamsburg_apt = df2_williamsburg.groupby('room_type').get_group('Entire home/apt')\n",
    "plt.hist(df2_williamsburg_apt.price, bins=50)\n",
    "plt.title('Williamsburg- Entire home/apt')\n",
    "plt.xlabel('price')\n",
    "plt.ylabel(\"Count\");"
   ]
  },
  {
   "cell_type": "code",
   "execution_count": 77,
   "metadata": {},
   "outputs": [
    {
     "data": {
      "image/png": "[encoded data removed]",
      "text/plain": [
       "<Figure size 432x288 with 1 Axes>"
      ]
     },
     "metadata": {
      "needs_background": "light"
     },
     "output_type": "display_data"
    }
   ],
   "source": [
    "williamsburg_array = reject_outliers(df2_williamsburg_apt[ df2_williamsburg_apt['price']>0 ]['price'])\n",
    "array = reject_outliers(williamsburg_array)\n",
    "array.name = 'log_price'\n",
    "\n",
    "sb.histplot(np.log(array), binwidth=0.5)\n",
    "plt.title('Williamsburg Entire Home/ Apt'+\\\n",
    "    '\\n histogram of log of price of central 95%')\n",
    "plt.show()"
   ]
  },
  {
   "cell_type": "code",
   "execution_count": 78,
   "metadata": {
    "scrolled": true
   },
   "outputs": [
    {
     "name": "stdout",
     "output_type": "stream",
     "text": [
      "Williamsburg Entire Home/ Apt\n",
      "\n",
      "mean of log of prices: 5.25\n",
      "median of log of prices: 5.28 ≠ log(median)\n",
      "mode of log of prices: 5.3\n",
      "count: 1244\n"
     ]
    }
   ],
   "source": [
    "log_array = np.log(array)\n",
    "williamsburg_mean = np.mean(log_array)\n",
    "williamsburg_median = np.median(log_array)\n",
    "williamsburg_mode = st.mode(log_array)\n",
    "\n",
    "print('Williamsburg Entire Home/ Apt\\n')\n",
    "print(f'mean of log of prices: {round(williamsburg_mean,2)}')\n",
    "print(f'median of log of prices: {round(williamsburg_median,2)} ≠ log(median)')\n",
    "print(f'mode of log of prices: {round(williamsburg_mode.mode[0],2)}')\n",
    "print(f'count: {len(array)}')"
   ]
  },
  {
   "cell_type": "markdown",
   "metadata": {},
   "source": [
    "### Williamsburg \"Entire Home/ Apt\" with zipcodes"
   ]
  },
  {
   "cell_type": "code",
   "execution_count": 85,
   "metadata": {},
   "outputs": [
    {
     "data": {
      "image/png": "[encoded data removed]",
      "text/plain": [
       "<Figure size 432x288 with 1 Axes>"
      ]
     },
     "metadata": {
      "needs_background": "light"
     },
     "output_type": "display_data"
    }
   ],
   "source": [
    "df2_williamsburgz = d.groupby('ZipCodes').get_group(11206)\n",
    "df2_williamsburg_aptz = df2_williamsburgz.groupby('room_type').get_group('Entire home/apt')\n",
    "plt.hist(df2_williamsburg_aptz.price, bins=50)\n",
    "plt.title('Williamsburg- Entire home/apt')\n",
    "plt.xlabel('price')\n",
    "plt.ylabel(\"Count\");"
   ]
  },
  {
   "cell_type": "code",
   "execution_count": 86,
   "metadata": {},
   "outputs": [
    {
     "data": {
      "image/png": "[encoded data removed]",
      "text/plain": [
       "<Figure size 432x288 with 1 Axes>"
      ]
     },
     "metadata": {
      "needs_background": "light"
     },
     "output_type": "display_data"
    }
   ],
   "source": [
    "williamsburg_arrayz = reject_outliers(df2_williamsburg_aptz[ df2_williamsburg_aptz['price']>0 ]['price'])\n",
    "arrayz = reject_outliers(williamsburg_arrayz)\n",
    "array.name = 'log_price'\n",
    "\n",
    "sb.histplot(np.log(arrayz), binwidth=0.5)\n",
    "plt.title('Williamsburg Entire Home/ Apt'+\\\n",
    "    '\\n histogram of log of price of central 95%')\n",
    "plt.show()"
   ]
  },
  {
   "cell_type": "code",
   "execution_count": 87,
   "metadata": {},
   "outputs": [
    {
     "name": "stdout",
     "output_type": "stream",
     "text": [
      "Williamsburg Entire Home/ Apt\n",
      "\n",
      "mean of log of prices: 5.31\n",
      "median of log of prices: 5.32 ≠ log(median)\n",
      "mode of log of prices: 5.01\n",
      "count: 141\n"
     ]
    }
   ],
   "source": [
    "log_arrayz = np.log(arrayz)\n",
    "williamsburg_meanz = np.mean(log_arrayz)\n",
    "williamsburg_medianz = np.median(log_arrayz)\n",
    "williamsburg_modez = st.mode(log_arrayz)\n",
    "\n",
    "print('Williamsburg Entire Home/ Apt\\n')\n",
    "print(f'mean of log of prices: {round(williamsburg_meanz,2)}')\n",
    "print(f'median of log of prices: {round(williamsburg_medianz,2)} ≠ log(median)')\n",
    "print(f'mode of log of prices: {round(williamsburg_modez.mode[0],2)}')\n",
    "print(f'count: {len(arrayz)}')"
   ]
  },
  {
   "cell_type": "code",
   "execution_count": null,
   "metadata": {},
   "outputs": [],
   "source": []
  },
  {
   "cell_type": "markdown",
   "metadata": {},
   "source": [
    "#### Harlem"
   ]
  },
  {
   "cell_type": "code",
   "execution_count": 79,
   "metadata": {},
   "outputs": [
    {
     "data": {
      "image/png": "[encoded data removed]",
      "text/plain": [
       "<Figure size 432x288 with 1 Axes>"
      ]
     },
     "metadata": {
      "needs_background": "light"
     },
     "output_type": "display_data"
    }
   ],
   "source": [
    "plt.hist(df2_s3.price,bins = 50)\n",
    "plt.xlabel('Harlem')\n",
    "plt.ylabel(\"Price\");"
   ]
  },
  {
   "cell_type": "markdown",
   "metadata": {},
   "source": [
    "#### Harlem with ZipCodes"
   ]
  },
  {
   "cell_type": "code",
   "execution_count": 89,
   "metadata": {},
   "outputs": [
    {
     "data": {
      "image/png": "[encoded data removed]",
      "text/plain": [
       "<Figure size 432x288 with 1 Axes>"
      ]
     },
     "metadata": {
      "needs_background": "light"
     },
     "output_type": "display_data"
    }
   ],
   "source": [
    "plt.hist(df2_s3z.price,bins = 20)\n",
    "plt.xlabel('Harlem')\n",
    "plt.ylabel(\"Price\");"
   ]
  },
  {
   "cell_type": "markdown",
   "metadata": {},
   "source": [
    "#### Examine extreme of prices - Harlem"
   ]
  },
  {
   "cell_type": "code",
   "execution_count": 90,
   "metadata": {},
   "outputs": [
    {
     "name": "stdout",
     "output_type": "stream",
     "text": [
      "Log of outlier for uncorrected prices: (2.3, 9.71)\n",
      "Log of outlier for corrected prices: (2.3, 9.71)\n"
     ]
    },
    {
     "data": {
      "image/png": "[encoded data removed]",
      "text/plain": [
       "<Figure size 432x288 with 1 Axes>"
      ]
     },
     "metadata": {
      "needs_background": "light"
     },
     "output_type": "display_data"
    }
   ],
   "source": [
    "top_out = np.log(df2_s3.price).max()\n",
    "bot_out = np.log(df2_s3.price).min()\n",
    "print(f'Log of outlier for uncorrected prices: {round(bot_out,2),round(top_out,2)}')\n",
    "\n",
    "#prices greater than a dollar ($1)\n",
    "df2_s3_corrected = df2_s3[df2_s3['price']>1]\n",
    "top_out = np.log(df2_s3_corrected.price).max()\n",
    "bot_out = np.log(df2_s3_corrected.price).min()\n",
    "print(f'Log of outlier for corrected prices: {round(bot_out,2),round(top_out,2)}')\n",
    "\n",
    "plt.hist(np.log(df2_s3_corrected.price))\n",
    "plt.title('Harlem histogram analysis \\n log of prices > \\$1')\n",
    "plt.xlabel('log(price)');"
   ]
  },
  {
   "cell_type": "code",
   "execution_count": 91,
   "metadata": {},
   "outputs": [
    {
     "data": {
      "image/png": "[encoded data removed]",
      "text/plain": [
       "<Figure size 432x288 with 1 Axes>"
      ]
     },
     "metadata": {
      "needs_background": "light"
     },
     "output_type": "display_data"
    },
    {
     "data": {
      "image/png": "[encoded data removed]",
      "text/plain": [
       "<Figure size 432x288 with 1 Axes>"
      ]
     },
     "metadata": {
      "needs_background": "light"
     },
     "output_type": "display_data"
    }
   ],
   "source": [
    "sb.histplot(reject_outliers(df2_s3[ df2_s3['price']>0 ]['price']))\n",
    "plt.title('Harlem count \\n of central 95%')\n",
    "plt.show()\n",
    "\n",
    "array = reject_outliers(reject_outliers(df2_s3[ df2_s3['price']>0 ]['price']))\n",
    "array.name = 'log_price'\n",
    "\n",
    "sb.histplot(np.log(array), binwidth=0.5)\n",
    "plt.title('Harlem histogram of \\n log of price of central 95%')\n",
    "plt.show()"
   ]
  },
  {
   "cell_type": "code",
   "execution_count": 92,
   "metadata": {},
   "outputs": [
    {
     "name": "stdout",
     "output_type": "stream",
     "text": [
      "Harlem\n",
      "\n",
      "mean: $121\n",
      "median: $100\n",
      "mode: $100\n",
      "\n",
      "\n",
      "mean of natural log of prices: 4.66\n",
      "median of natural log of prices: 4.61 ≠ ln(median)\n",
      "mode of natural log of prices: 4.61\n",
      "count: 1774\n"
     ]
    }
   ],
   "source": [
    "harlem_mean = np.mean(array)\n",
    "harlem_median = np.median(array)\n",
    "harlem_mode = st.mode(array)\n",
    "\n",
    "print('Harlem\\n')\n",
    "print(f'mean: ${int(harlem_mean)}')\n",
    "print(f'median: ${int(harlem_median)}')\n",
    "print(f'mode: ${harlem_mode.mode[0]}')\n",
    "#print(f'count: {len(array)}')\n",
    "\n",
    "log_array = np.log(array)\n",
    "harlem_mean = np.mean(log_array)\n",
    "harlem_median = np.median(log_array)\n",
    "harlem_mode = st.mode(log_array)\n",
    "print('\\n')\n",
    "print(f'mean of natural log of prices: {round(harlem_mean,2)}')\n",
    "print(f'median of natural log of prices: {round(harlem_median,2)} ≠ ln(median)')\n",
    "print(f'mode of natural log of prices: {round(harlem_mode.mode[0],2)}')\n",
    "print(f'count: {len(array)}')"
   ]
  },
  {
   "cell_type": "code",
   "execution_count": 93,
   "metadata": {},
   "outputs": [
    {
     "name": "stdout",
     "output_type": "stream",
     "text": [
      "Log of outlier for uncorrected prices: (3.56, 7.31)\n",
      "Log of outlier for corrected prices: (3.56, 7.31)\n"
     ]
    },
    {
     "data": {
      "image/png": "[encoded data removed]",
      "text/plain": [
       "<Figure size 432x288 with 1 Axes>"
      ]
     },
     "metadata": {
      "needs_background": "light"
     },
     "output_type": "display_data"
    }
   ],
   "source": [
    "top_outz = np.log(df2_s3z.price).max()\n",
    "bot_outz = np.log(df2_s3z.price).min()\n",
    "print(f'Log of outlier for uncorrected prices: {round(bot_outz,2),round(top_outz,2)}')\n",
    "\n",
    "#prices greater than a dollar ($1)\n",
    "df2_s3_correctedz = df2_s3z[df2_s3z['price']>1]\n",
    "top_outz = np.log(df2_s3_correctedz.price).max()\n",
    "bot_outz = np.log(df2_s3_correctedz.price).min()\n",
    "print(f'Log of outlier for corrected prices: {round(bot_outz,2),round(top_outz,2)}')\n",
    "\n",
    "plt.hist(np.log(df2_s3_correctedz.price))\n",
    "plt.title('Harlem histogram analysis \\n log of prices > \\$1')\n",
    "plt.xlabel('log(price)');"
   ]
  },
  {
   "cell_type": "code",
   "execution_count": 94,
   "metadata": {},
   "outputs": [
    {
     "data": {
      "image/png": "[encoded data removed]",
      "text/plain": [
       "<Figure size 432x288 with 1 Axes>"
      ]
     },
     "metadata": {
      "needs_background": "light"
     },
     "output_type": "display_data"
    },
    {
     "data": {
      "image/png": "[encoded data removed]",
      "text/plain": [
       "<Figure size 432x288 with 1 Axes>"
      ]
     },
     "metadata": {
      "needs_background": "light"
     },
     "output_type": "display_data"
    }
   ],
   "source": [
    "sb.histplot(reject_outliers(df2_s3z[ df2_s3z['price']>0 ]['price']))\n",
    "plt.title('Harlem count \\n of central 95%')\n",
    "plt.show()\n",
    "\n",
    "arrayz = reject_outliers(reject_outliers(df2_s3z[ df2_s3z['price']>0 ]['price']))\n",
    "array.namez = 'log_price'\n",
    "\n",
    "sb.histplot(np.log(arrayz), binwidth=0.5)\n",
    "plt.title('Harlem histogram of \\n log of price of central 95%')\n",
    "plt.show()"
   ]
  },
  {
   "cell_type": "code",
   "execution_count": 95,
   "metadata": {},
   "outputs": [
    {
     "name": "stdout",
     "output_type": "stream",
     "text": [
      "Harlem\n",
      "\n",
      "mean: $119\n",
      "median: $102\n",
      "mode: $100\n",
      "\n",
      "\n",
      "mean of natural log of prices: 4.69\n",
      "median of natural log of prices: 4.63 ≠ ln(median)\n",
      "mode of natural log of prices: 4.61\n",
      "count: 306\n"
     ]
    }
   ],
   "source": [
    "harlem_meanz = np.mean(arrayz)\n",
    "harlem_medianz = np.median(arrayz)\n",
    "harlem_modez = st.mode(arrayz)\n",
    "\n",
    "print('Harlem\\n')\n",
    "print(f'mean: ${int(harlem_meanz)}')\n",
    "print(f'median: ${int(harlem_medianz)}')\n",
    "print(f'mode: ${harlem_modez.mode[0]}')\n",
    "#print(f'count: {len(array)}')\n",
    "\n",
    "log_arrayz = np.log(arrayz)\n",
    "harlem_meanz = np.mean(log_arrayz)\n",
    "harlem_medianz = np.median(log_arrayz)\n",
    "harlem_modez = st.mode(log_arrayz)\n",
    "print('\\n')\n",
    "print(f'mean of natural log of prices: {round(harlem_meanz,2)}')\n",
    "print(f'median of natural log of prices: {round(harlem_medianz,2)} ≠ ln(median)')\n",
    "print(f'mode of natural log of prices: {round(harlem_modez.mode[0],2)}')\n",
    "print(f'count: {len(arrayz)}')"
   ]
  },
  {
   "cell_type": "code",
   "execution_count": null,
   "metadata": {},
   "outputs": [],
   "source": []
  },
  {
   "cell_type": "markdown",
   "metadata": {},
   "source": [
    "### Harlem \"Entire Home/ Apt\""
   ]
  },
  {
   "cell_type": "code",
   "execution_count": 96,
   "metadata": {},
   "outputs": [
    {
     "data": {
      "image/png": "[encoded data removed]",
      "text/plain": [
       "<Figure size 432x288 with 1 Axes>"
      ]
     },
     "metadata": {
      "needs_background": "light"
     },
     "output_type": "display_data"
    }
   ],
   "source": [
    "df2_harlem = df.groupby('neighbourhood').get_group('Harlem')\n",
    "df2_harlem_apt = df2_harlem.groupby('room_type').get_group('Entire home/apt')\n",
    "plt.hist(df2_harlem_apt.price, bins=50)\n",
    "plt.title('Harlem- Entire home/apt')\n",
    "plt.xlabel('price')\n",
    "plt.ylabel(\"Count\");"
   ]
  },
  {
   "cell_type": "code",
   "execution_count": 97,
   "metadata": {},
   "outputs": [
    {
     "data": {
      "image/png": "[encoded data removed]",
      "text/plain": [
       "<Figure size 432x288 with 1 Axes>"
      ]
     },
     "metadata": {
      "needs_background": "light"
     },
     "output_type": "display_data"
    }
   ],
   "source": [
    "harlem_array = reject_outliers(df2_harlem_apt[ df2_harlem_apt['price']>0 ]['price'])\n",
    "array = reject_outliers(harlem_array)\n",
    "array.name = 'log_price'\n",
    "\n",
    "sb.histplot(np.log(array), binwidth=0.5)\n",
    "plt.title('Harlem Entire Home/ Apt'+\\\n",
    "    '\\n histogram of log of price of central 95%')\n",
    "plt.show()"
   ]
  },
  {
   "cell_type": "code",
   "execution_count": 98,
   "metadata": {},
   "outputs": [
    {
     "name": "stdout",
     "output_type": "stream",
     "text": [
      "Harlem Entire Home/ Apt\n",
      "\n",
      "mean of log of prices: 5.01\n",
      "median of log of prices: 5.01 ≠ log(median)\n",
      "mode of log of prices: 5.01\n",
      "count: 789\n"
     ]
    }
   ],
   "source": [
    "log_array = np.log(array)\n",
    "harlem_mean = np.mean(log_array)\n",
    "harlem_median = np.median(log_array)\n",
    "harlem_mode = st.mode(log_array)\n",
    "\n",
    "print('Harlem Entire Home/ Apt\\n')\n",
    "print(f'mean of log of prices: {round(harlem_mean,2)}')\n",
    "print(f'median of log of prices: {round(harlem_median,2)} ≠ log(median)')\n",
    "print(f'mode of log of prices: {round(harlem_mode.mode[0],2)}')\n",
    "print(f'count: {len(array)}')"
   ]
  },
  {
   "cell_type": "markdown",
   "metadata": {},
   "source": [
    "#### Harlem Entire Home/Apt using ZipCodes"
   ]
  },
  {
   "cell_type": "code",
   "execution_count": 99,
   "metadata": {},
   "outputs": [
    {
     "data": {
      "image/png": "[encoded data removed]",
      "text/plain": [
       "<Figure size 432x288 with 1 Axes>"
      ]
     },
     "metadata": {
      "needs_background": "light"
     },
     "output_type": "display_data"
    }
   ],
   "source": [
    "df2_harlemz = d.groupby('ZipCodes').get_group(11206)\n",
    "df2_harlem_aptz = df2_harlemz.groupby('room_type').get_group('Entire home/apt')\n",
    "plt.hist(df2_harlem_aptz.price, bins=50)\n",
    "plt.title('Harlem- Entire home/apt')\n",
    "plt.xlabel('price')\n",
    "plt.ylabel(\"Count\");"
   ]
  },
  {
   "cell_type": "code",
   "execution_count": 100,
   "metadata": {},
   "outputs": [
    {
     "data": {
      "image/png": "[encoded data removed]",
      "text/plain": [
       "<Figure size 432x288 with 1 Axes>"
      ]
     },
     "metadata": {
      "needs_background": "light"
     },
     "output_type": "display_data"
    }
   ],
   "source": [
    "harlem_arrayz = reject_outliers(df2_harlem_aptz[ df2_harlem_aptz['price']>0 ]['price'])\n",
    "arrayz = reject_outliers(harlem_arrayz)\n",
    "array.name = 'log_price'\n",
    "\n",
    "sb.histplot(np.log(arrayz), binwidth=0.5)\n",
    "plt.title('Harlem Entire Home/ Apt'+\\\n",
    "    '\\n histogram of log of price of central 95%')\n",
    "plt.show()"
   ]
  },
  {
   "cell_type": "code",
   "execution_count": 101,
   "metadata": {},
   "outputs": [
    {
     "name": "stdout",
     "output_type": "stream",
     "text": [
      "Harlem Entire Home/ Apt\n",
      "\n",
      "mean of log of prices: 5.31\n",
      "median of log of prices: 5.32 ≠ log(median)\n",
      "mode of log of prices: 5.01\n",
      "count: 141\n"
     ]
    }
   ],
   "source": [
    "log_arrayz = np.log(arrayz)\n",
    "harlem_meanz = np.mean(log_arrayz)\n",
    "harlem_medianz = np.median(log_arrayz)\n",
    "harlem_modez = st.mode(log_arrayz)\n",
    "\n",
    "print('Harlem Entire Home/ Apt\\n')\n",
    "print(f'mean of log of prices: {round(harlem_meanz,2)}')\n",
    "print(f'median of log of prices: {round(harlem_medianz,2)} ≠ log(median)')\n",
    "print(f'mode of log of prices: {round(harlem_modez.mode[0],2)}')\n",
    "print(f'count: {len(arrayz)}')"
   ]
  },
  {
   "cell_type": "markdown",
   "metadata": {},
   "source": [
    "#### Interpretation\n",
    "\n",
    "The aim was to get a normally distributed curve for our assumptions in obtaining a mean price per night. Without correcting for outliers, the data seems to approach a logarithmic or skewed normally distributed curve, in which case taking the median or mode for the optimum price would be most appropriate. We choose the mode, since this measure is more stable as it directly depends on the y-axis of the histogram where as the mean and median directly depends on the x-axis."
   ]
  },
  {
   "cell_type": "markdown",
   "metadata": {},
   "source": [
    "### Proportion of AirBNB Listings by Borough and Room Type in NYC"
   ]
  },
  {
   "cell_type": "markdown",
   "metadata": {},
   "source": [
    "The 1st pie chart shows 95% of the AirBnB listings are in Manhattan, Brooklyn and Queens. Brooklyn and Staten Island make up the remaining listings. Manhattan and Brooklyn alone make up neary 80% of the listings.\n",
    "\n",
    "The 2nd pie chart shows the listings distributed by room type. Most of the observations consist of entire home / apartments, or private rooms. Hotel and shared rooms are an insignificant proportion of the distribution."
   ]
  },
  {
   "cell_type": "code",
   "execution_count": null,
   "metadata": {},
   "outputs": [],
   "source": [
    "#Create a pie chart showing the percentage of listings per bourrough.\n",
    "df1 = df.neighbourhood_group.value_counts()\n",
    "df1.plot.pie(autopct=\"%.1f%%\")\n",
    "plt.show()\n",
    "\n",
    "df2 = df.room_type.value_counts()\n",
    "df2.plot.pie(autopct=\"%.1f%%\")\n",
    "plt.show()"
   ]
  },
  {
   "cell_type": "markdown",
   "metadata": {},
   "source": [
    "### NYC AirBNB Listing Price Statistics by Borough"
   ]
  },
  {
   "cell_type": "markdown",
   "metadata": {},
   "source": [
    "The table and box/whisker plots above provide illustration of the frequency, price statistics, and price distribution by neighborhood group or burrough in New York City. There is wide variability in the observations, with standard deviations consistently higher than the mean for each burrough. Mean prices are consistently higher than the median price, which suggest the prevalance of high values or outliers in the dataset that are pulling up the average. Average prices are highest in Manhattan, Brooklyn, and Queens respectively."
   ]
  },
  {
   "cell_type": "code",
   "execution_count": null,
   "metadata": {},
   "outputs": [],
   "source": [
    "#Display the table of price statistics and counts by New York City burrough.\n",
    "display(df.groupby('neighbourhood_group').aggregate({'neighbourhood_group':'count',\n",
    "                                    'price':['mean','median','std','min','max']}))\n",
    "\n",
    "#Plot boxplot with outliers turned off.\n",
    "sb.boxplot(y = df['price'], \n",
    "            x = df['neighbourhood_group'], \n",
    "            showfliers = False)\n",
    "plt.title('Borough boxplot corrected \\n for interquartile rule')\n",
    "plt.show()\n",
    "\n",
    "sb.boxplot(y = df['price'], x = df['neighbourhood_group'], showfliers = True)\n",
    "plt.title('Borough boxplot uncorrected')\n",
    "plt.show()"
   ]
  },
  {
   "cell_type": "markdown",
   "metadata": {},
   "source": [
    "### NYC AirBNB Listing Price Statistics by Room Type\n",
    "The table and box/whisker plots above provide illustration of the frequency, price statistics, and price distribution by room type in New York City. As in the distribution by borough section, there is wide variuability with standard deviations consistently higher than the mean for each burrough (Hotel rooms being the exception). Mean prices are also consistently higher than the median price, which suggest the prevalance of high values or outliers in the dataset that are pulling up the average. Comparisons of the 1st boxplot (corrected for outliers) with the second (not corrected for outliers bear this out.\n",
    "\n",
    "#### Major Room Type Categories\n",
    "These categories encompass 98% of the listings and are likely to be more useful for informing business decisions.\n",
    "- Entire home/apt: Entire residences make up 57% of the dataset and are the category with the second highest average price. Prices range from \\\\$10 to \\\\$15K which could be indicative of data errors and/ or outliers.\n",
    "- Private room: Private rooms constitute 42% of the listings in the data and are the category with the third highest average price. Prices range from \\\\$10 to \\\\$16.5K which could be indicative of data errors and/ or outliers.\n",
    "\n",
    "#### Minor Room Type Categories\n",
    "Categories that are a significantly smaller number of the overall listings in the dataset. They are less likely to be useful for informing business decisions.\n",
    "- Shared room: Shared rooms constitute 1.4% of the listings with the lowest average price of all room type categories. Prices range from \\\\$10 to \\\\$10K which seems to indicate data entry errors and/or outliers.\n",
    "- Hotel room: Hotel rooms seem to have the highest average price and the least number of observations. This is the only category where the standard deviation is less than the mean, which suggest a more limited number of high priced outliers.\n"
   ]
  },
  {
   "cell_type": "code",
   "execution_count": null,
   "metadata": {},
   "outputs": [],
   "source": [
    "#Display the table of price statistics and counts by New York City burrough.\n",
    "display(df.groupby('room_type').aggregate({'room_type':'count','price':['mean', 'median','std','min','max']}))\n",
    "\n",
    "#Plot boxplot with outliers turned off.\n",
    "sb.boxplot(y = df['price'], x = df['room_type'], showfliers = False)\n",
    "plt.title('Room Type boxplot corrected \\n for interquartile rule')\n",
    "plt.show()\n",
    "sb.boxplot(y = df['price'], x = df['room_type'], showfliers = True,saturation=0.75)\n",
    "plt.title('Room Type boxplot uncorrected')\n",
    "plt.show()"
   ]
  },
  {
   "cell_type": "markdown",
   "metadata": {},
   "source": [
    "### AirBNB Listings Statistics by Borough and Room Type in NYC\n",
    "The listings dataset was aggregated by borough and room type for statistical analysis. The results underscore the need to remove outliers and illogical values from the data."
   ]
  },
  {
   "cell_type": "code",
   "execution_count": null,
   "metadata": {},
   "outputs": [],
   "source": [
    "#Show price statistics by neighborhood group and room type\n",
    "df_borrough = df[[ 'neighbourhood_group', 'room_type','price']]\n",
    "display(df_borrough.groupby(['neighbourhood_group', 'room_type']).aggregate({'count',\n",
    "    'mean', 'median','std', 'min', 'max'}))"
   ]
  },
  {
   "cell_type": "markdown",
   "metadata": {},
   "source": [
    "### Correlation Matrix\n",
    "A correlation matrix was conducted for the listings data. At this point, most of the factors appear to be weakly correlated with price, which is the primary variable of concern."
   ]
  },
  {
   "cell_type": "code",
   "execution_count": null,
   "metadata": {},
   "outputs": [],
   "source": [
    "df.corr(method='pearson')"
   ]
  },
  {
   "cell_type": "markdown",
   "metadata": {},
   "source": [
    "## Map Visualization of the Distribution of Price by Neighborhood in NYC\n",
    "\n",
    "This section provides analysis on the distribution of price by neighborhood. The mean price by neighborhood was computed from the data, keyed on a geojson file and incorporated into a folium map. There are several clusters of relatively higher prices, but the most significant one is around the Manhattan area."
   ]
  },
  {
   "cell_type": "markdown",
   "metadata": {},
   "source": [
    "## Conclusion and TakeAways\n",
    "\n",
    "- Average listing prices for Manhattan tend to be the highest, followed by Brooklyn, Queens, Staten Island, and the Bronx. Most of the listings are in Manhattan, Brooklyn, and Queens.\n",
    "\n",
    "- Entire residences/apartments and private rooms comprise ~97% of the listings here. Hotels and shared rooms are less than 2% of the dataset. Hotels tend to have the highest average price followed by residences, private rooms, and lastly shared rooms. Any predictive model underlying algorithms should be differentiated by room type. In terms of business analytics utility, residences and private rooms seem to be the most promising, while hotels and shared rooms may be less useful due to the relatively limited amount of data.\n",
    "- The variability in the data is significant. The data should be disaggregated by room type, and all values greater than the 3rd quartile + (1.5 * IQR) should be removed. also, all zero values should also be removed.\n",
    "- It is hypothesized that properties closer to either Manhattan or other significant attractions will have higher list prices ceteris paribus."
   ]
  },
  {
   "cell_type": "code",
   "execution_count": null,
   "metadata": {},
   "outputs": [],
   "source": [
    "# import geojson file\n",
    "with open('./neighbourhoods.geojson') as f:\n",
    "    hood_json = json.load(f)\n",
    "\n",
    "for i in hood_json[\"features\"]:\n",
    "    i[\"id\"] = i[\"properties\"][\"neighbourhood\"]"
   ]
  },
  {
   "cell_type": "code",
   "execution_count": null,
   "metadata": {},
   "outputs": [],
   "source": [
    "# Aggregate listing data by neighborhood\n",
    "df_hood = df.iloc[:,[0,4,5,6,7,9]]\n",
    "df_grp_by_hood = df_hood.groupby('neighbourhood').agg({'latitude':['mean'],'longitude':['mean'], 'price': ['mean']})\n",
    "df_grp_by_hood.columns = ['lat','long','price']\n",
    "df_grp_by_hood = df_grp_by_hood.reset_index()"
   ]
  },
  {
   "cell_type": "code",
   "execution_count": null,
   "metadata": {},
   "outputs": [],
   "source": [
    "# Develop Choropleth map \n",
    "m = folium.Map(location =[df_grp_by_hood[\"lat\"].mean(),df_grp_by_hood[\"long\"].mean()],\n",
    "                zoom_start = 10)\n",
    "\n",
    "folium.GeoJson(hood_json, name=\"geojson\").add_to(m)\n",
    "folium.Choropleth(\n",
    "    geo_data= hood_json,\n",
    "    data=df_grp_by_hood,\n",
    "    columns=['neighbourhood', 'price'],\n",
    "    key_on='feature.properties.neighbourhood',\n",
    "    fill_color='YlOrRd',\n",
    "    fill_opacity=0.7,\n",
    "    line_opacity=0.2,\n",
    "    legend_name='price'\n",
    ").add_to(m)\n",
    "m\n"
   ]
  },
  {
   "cell_type": "markdown",
   "metadata": {},
   "source": [
    "# Regression analysis\n",
    "- What price should be charged based on rental location/ characteristics?"
   ]
  },
  {
   "cell_type": "markdown",
   "metadata": {},
   "source": [
    "### Clean dataset"
   ]
  },
  {
   "cell_type": "code",
   "execution_count": null,
   "metadata": {},
   "outputs": [],
   "source": [
    "hood_price_obj.mean()"
   ]
  },
  {
   "cell_type": "code",
   "execution_count": null,
   "metadata": {},
   "outputs": [],
   "source": [
    "neighborhood = df['neighbourhood'].unique()\n",
    "neighborhood.sort()\n",
    "modes=[st.mode(hood_price_obj.get_group(arr)).mode[0][-1] for arr in neighborhood]\n",
    "counts=[st.mode(hood_price_obj.get_group(arr)).count[0][0] for arr in neighborhood]\n",
    "\n",
    "neighborhood = df['neighbourhood'].unique()\n",
    "neighborhood.sort()\n",
    "\n",
    "df_aux = hood_price_obj.mean()\n",
    "df_aux['mean']  = df_aux['price'].round(2)\n",
    "df_aux['median'] = hood_price_obj.median().round(2)\n",
    "df_aux['mode'] = pd.DataFrame(np.array(modes), index=df_aux.index)\n",
    "df_aux['count'] = pd.DataFrame(np.array(counts), index=df_aux.index)\n",
    "df_aux"
   ]
  },
  {
   "cell_type": "code",
   "execution_count": null,
   "metadata": {},
   "outputs": [],
   "source": [
    "dat = df.loc[:,'neighbourhood_group':'number_of_reviews_ltm']\n",
    "dat[['mean_price']] = None\n",
    "dat[['mode_price']] = None\n",
    "dat[['median_price']] = None\n",
    "dat[['count_hood']] = None\n",
    "\n",
    "for n in df_aux.index:\n",
    "    updated = dat['neighbourhood']==n\n",
    "    dat.loc[updated, 'mean_price'] = df_aux.loc[n,'mean']\n",
    "    \n",
    "    updated = dat['neighbourhood']==n\n",
    "    dat.loc[updated, 'mode_price'] = df_aux.loc[n,'mode']\n",
    "    \n",
    "    updated = dat['neighbourhood']==n\n",
    "    dat.loc[updated, 'median_price'] = df_aux.loc[n,'median']\n",
    "    \n",
    "    updated = dat['neighbourhood']==n\n",
    "    dat.loc[updated, 'count_hood'] = df_aux.loc[n,'count']\n",
    "    \n",
    "dat"
   ]
  },
  {
   "cell_type": "markdown",
   "metadata": {},
   "source": [
    "#### *analyze neighborhoods that have more than 30 observations*\n",
    "https://machinelearningmastery.com/a-gentle-introduction-to-the-bootstrap-method/"
   ]
  },
  {
   "cell_type": "code",
   "execution_count": null,
   "metadata": {},
   "outputs": [],
   "source": [
    "dat_strap = dat[dat['count_hood']>30]\n",
    "dat_strap"
   ]
  },
  {
   "cell_type": "markdown",
   "metadata": {},
   "source": [
    "## Logistic Regression"
   ]
  },
  {
   "cell_type": "code",
   "execution_count": null,
   "metadata": {},
   "outputs": [],
   "source": [
    "update = dat_strap['price'] >= dat_strap['mode_price'] \n",
    "target = pd.get_dummies(update).iloc[:,0]"
   ]
  },
  {
   "cell_type": "markdown",
   "metadata": {},
   "source": [
    "### Fit model with Data"
   ]
  },
  {
   "cell_type": "code",
   "execution_count": null,
   "metadata": {},
   "outputs": [],
   "source": [
    "#Numerical type, same column size unless int\n",
    "\n",
    "X = pd.DataFrame({'Const':1,\n",
    "#     'neighbourhood_group':pd.get_dummies(dat_strap['neighbourhood_group']),#.iloc[:,0],\n",
    "#     'neighbourhood':pd.get_dummies(dat_strap['neighbourhood']),#.iloc[:,0],\n",
    "#     'room_type':pd.get_dummies(dat_strap['room_type']),#.iloc[:,0],\n",
    "    'price':dat_strap['price'],#.iloc[:,0],\n",
    "    'minimum_nights':dat_strap['minimum_nights'],#.iloc[:,0],\n",
    "    'number_of_reviews':dat_strap['number_of_reviews'],#.iloc[:,0],\n",
    "    'availability_365':dat_strap['availability_365'],#.iloc[:,0],\n",
    "    'number_of_reviews_ltm':dat_strap['number_of_reviews_ltm']})"
   ]
  },
  {
   "cell_type": "code",
   "execution_count": null,
   "metadata": {},
   "outputs": [],
   "source": [
    "# Describe the logistic model\n",
    "mod = sm.Logit(target,X)\n",
    "\n",
    "# Fit model\n",
    "fit = mod.fit()\n",
    "\n",
    "# Summarize model\n",
    "fit.summary()"
   ]
  },
  {
   "cell_type": "code",
   "execution_count": null,
   "metadata": {},
   "outputs": [],
   "source": [
    "fit.params"
   ]
  },
  {
   "cell_type": "markdown",
   "metadata": {},
   "source": [
    "It is not straight forward to interpret coefficients of the logistic regression. Here, we show average marginal effects."
   ]
  },
  {
   "cell_type": "code",
   "execution_count": null,
   "metadata": {},
   "outputs": [],
   "source": [
    "# Calculate average marginal effects\n",
    "mfx = fit.get_margeff()\n",
    "print(mfx.summary())"
   ]
  },
  {
   "cell_type": "markdown",
   "metadata": {},
   "source": [
    "Marginal effects for numerical types are low! Try classification analyses."
   ]
  },
  {
   "cell_type": "code",
   "execution_count": null,
   "metadata": {},
   "outputs": [],
   "source": [
    "def plot_decision_boundary(model,X,y):\n",
    "    padding=0.15\n",
    "    res=0.1\n",
    "    \n",
    "    #max and min values of x and y of the dataset\n",
    "    x_min,x_max=X[:,0].min(), X[:,0].max()\n",
    "    y_min,y_max=X[:,1].min(), X[:,1].max()\n",
    "    \n",
    "    #range of x's and y's\n",
    "    x_range=x_max-x_min\n",
    "    y_range=y_max-y_min\n",
    "    \n",
    "    #add padding to the ranges\n",
    "    x_min -= x_range * padding\n",
    "    y_min -= y_range * padding\n",
    "    x_max += x_range * padding\n",
    "    y_max += y_range * padding\n",
    "\n",
    "    #create a meshgrid of points with the above ranges\n",
    "    xx,yy=np.meshgrid(np.arange(x_min,x_max,res),np.arange(y_min,y_max,res))\n",
    "    \n",
    "    #use model to predict class at each point on the grid\n",
    "    #ravel turns the 2d arrays into vectors\n",
    "    #c_ concatenates the vectors to create one long vector on which to perform prediction\n",
    "    #finally the vector of prediction is reshaped to the original data shape.\n",
    "    Z = model.predict(np.c_[xx.ravel(), yy.ravel()])   \n",
    "    Z = Z.reshape(xx.shape)\n",
    "    \n",
    "    #plot the contours on the grid\n",
    "    plt.figure(figsize=(8,6))\n",
    "    cs = plt.contourf(xx, yy, Z, cmap=plt.cm.Spectral)\n",
    "    \n",
    "    #plot the original data and labels\n",
    "    plt.scatter(X[:,0], X[:,1], s=35, c=y, cmap=plt.cm.Spectral, \n",
    "                label='sub optimal price')"
   ]
  },
  {
   "cell_type": "code",
   "execution_count": null,
   "metadata": {},
   "outputs": [],
   "source": [
    "target"
   ]
  },
  {
   "cell_type": "code",
   "execution_count": null,
   "metadata": {},
   "outputs": [],
   "source": [
    "model = LogisticRegression(solver='newton-cg')\n",
    "model.fit(X[['minimum_nights','number_of_reviews']].values, target.values)\n",
    "\n",
    "samp = X.sample(100)\n",
    "plot_decision_boundary(model,\n",
    "    samp[['minimum_nights','number_of_reviews']].values,\n",
    "                       pd.DataFrame(target).loc[samp.index,:].values)\n",
    "plt.title('Decision Boundary- Logistic\\n Regression sample of 100')\n",
    "plt.xlabel('minimum_nights')\n",
    "plt.ylabel('number_of_reviews')\n",
    "plt.legend()"
   ]
  },
  {
   "cell_type": "markdown",
   "metadata": {},
   "source": [
    "# Data analysis "
   ]
  },
  {
   "cell_type": "code",
   "execution_count": null,
   "metadata": {},
   "outputs": [],
   "source": [
    "import pandas as pd\n",
    "import matplotlib.pyplot as plt\n",
    "import sidetable as stb\n",
    "import numpy as np\n",
    "import seaborn as sns\n",
    "from scipy import stats as st\n",
    "import statsmodels as sts\n",
    "%matplotlib inline"
   ]
  },
  {
   "cell_type": "code",
   "execution_count": null,
   "metadata": {},
   "outputs": [],
   "source": [
    "csv_URL = \"http://data.insideairbnb.com/united-states/ny/new-york-city/2022-09-07/visualisations/listings.csv\"\n",
    "df2 = pd.read_csv(csv_URL)\n"
   ]
  },
  {
   "cell_type": "code",
   "execution_count": null,
   "metadata": {},
   "outputs": [],
   "source": [
    "print(df2.neighbourhood.nunique())\n",
    "print(df2.neighbourhood_group.nunique())\n",
    "print(df2.room_type.nunique())\n",
    "print(df2.last_review.nunique)"
   ]
  },
  {
   "cell_type": "code",
   "execution_count": null,
   "metadata": {},
   "outputs": [],
   "source": [
    "# nominal data doesn't have any impact on price, so dropped few columns\n",
    "df2 = df2.drop([\"neighbourhood\",\"last_review\",\"host_name\",\"host_id\",\"id\",\"license\",'reviews_per_month','license','name'],axis=1)"
   ]
  },
  {
   "cell_type": "code",
   "execution_count": null,
   "metadata": {},
   "outputs": [],
   "source": [
    "df2 = df2.drop(['latitude','longitude'],axis=1)"
   ]
  },
  {
   "cell_type": "code",
   "execution_count": null,
   "metadata": {},
   "outputs": [],
   "source": [
    "df2.shape"
   ]
  },
  {
   "cell_type": "code",
   "execution_count": null,
   "metadata": {},
   "outputs": [],
   "source": [
    "df2.describe()"
   ]
  },
  {
   "cell_type": "code",
   "execution_count": null,
   "metadata": {},
   "outputs": [],
   "source": [
    "bins = np.arange(df2.price.min(), 2000+20, 20)"
   ]
  },
  {
   "cell_type": "code",
   "execution_count": null,
   "metadata": {},
   "outputs": [],
   "source": [
    "plt.hist(df2.price,bins=bins)"
   ]
  },
  {
   "cell_type": "code",
   "execution_count": null,
   "metadata": {},
   "outputs": [],
   "source": [
    "df2 = df2[df2['price'] <= 500]"
   ]
  },
  {
   "cell_type": "code",
   "execution_count": null,
   "metadata": {},
   "outputs": [],
   "source": [
    "df2['price'].describe(percentiles=[0.1, 0.2, 0.3, 0.5])"
   ]
  },
  {
   "cell_type": "code",
   "execution_count": null,
   "metadata": {},
   "outputs": [],
   "source": [
    "plt.hist(df2.price)"
   ]
  },
  {
   "cell_type": "markdown",
   "metadata": {},
   "source": [
    "Naive bayes algorithm solves classification problems. But in this dataset classification won't be an easy task. With regression we can predict price, dataset we filtered for our analysis doesn't look appropriate for predicting mode price of any new neighbourhood. However, we tried to predict the price."
   ]
  },
  {
   "cell_type": "code",
   "execution_count": null,
   "metadata": {},
   "outputs": [],
   "source": [
    "def add_column(df2_p):\n",
    "    price_class=[]\n",
    "    for i in df2_p:\n",
    "        if i<250:\n",
    "            price_class.append(1)\n",
    "        else:\n",
    "            price_class.append(0)\n",
    "    price_class = pd.Series(price_class)\n",
    "    return price_class"
   ]
  },
  {
   "cell_type": "markdown",
   "metadata": {},
   "source": [
    " Dividing the price's into 2 classes using above and adding an new column 'PriceClass'"
   ]
  },
  {
   "cell_type": "code",
   "execution_count": null,
   "metadata": {},
   "outputs": [],
   "source": [
    "df2=pd.concat([df2,pd.DataFrame(add_column(df2.price))],axis=1)"
   ]
  },
  {
   "cell_type": "code",
   "execution_count": null,
   "metadata": {},
   "outputs": [],
   "source": [
    "# added Price class column for classification algorithm\n",
    "df2.rename(columns={0:'PriceClass'},inplace=1)"
   ]
  },
  {
   "cell_type": "code",
   "execution_count": null,
   "metadata": {},
   "outputs": [],
   "source": [
    "df2.dropna(inplace=True)"
   ]
  },
  {
   "cell_type": "code",
   "execution_count": null,
   "metadata": {},
   "outputs": [],
   "source": [
    "df2.info()"
   ]
  },
  {
   "cell_type": "code",
   "execution_count": null,
   "metadata": {},
   "outputs": [],
   "source": [
    "#for classification\n",
    "import sklearn as skl\n",
    "from sklearn.naive_bayes import MultinomialNB\n",
    "X = pd.get_dummies(data=df2.drop('price', axis=1), \n",
    "                   columns=['room_type','neighbourhood_group'],\n",
    "                   prefix = ['room_type','neighbourhood_group'])\n",
    "\n",
    "X.info()"
   ]
  },
  {
   "cell_type": "code",
   "execution_count": null,
   "metadata": {},
   "outputs": [],
   "source": [
    "# for regression\n",
    "import sklearn as skl\n",
    "from sklearn.naive_bayes import MultinomialNB\n",
    "X_reg = pd.get_dummies(data=df2, \n",
    "                   columns=['room_type','neighbourhood_group'],\n",
    "                   prefix = ['room_type','neighbourhood_group'])\n",
    "\n",
    "X_reg.info()"
   ]
  },
  {
   "cell_type": "code",
   "execution_count": null,
   "metadata": {},
   "outputs": [],
   "source": [
    "y_reg = df2['price'].copy()\n",
    "y_reg.head()"
   ]
  },
  {
   "cell_type": "code",
   "execution_count": null,
   "metadata": {},
   "outputs": [],
   "source": [
    "X.describe().transpose()"
   ]
  },
  {
   "cell_type": "code",
   "execution_count": null,
   "metadata": {},
   "outputs": [],
   "source": [
    "y = df2['PriceClass'].copy()\n",
    "y.head()"
   ]
  },
  {
   "cell_type": "code",
   "execution_count": null,
   "metadata": {},
   "outputs": [],
   "source": [
    "#for classification\n",
    "from sklearn.model_selection import train_test_split\n",
    "\n",
    "# 20-80%  split\n",
    "train_y,test_y,train_X,test_X = train_test_split(y, X,\n",
    "                                                 test_size=0.2,\n",
    "                                                 random_state=123)"
   ]
  },
  {
   "cell_type": "code",
   "execution_count": null,
   "metadata": {},
   "outputs": [],
   "source": [
    "# for regression\n",
    "from sklearn.model_selection import train_test_split\n",
    "\n",
    "# 20-80% simple split\n",
    "train_y_reg,test_y_reg,train_X_reg,test_X_reg = train_test_split(y_reg, X_reg,\n",
    "                                                 test_size=0.2,\n",
    "                                                 random_state=123)"
   ]
  },
  {
   "cell_type": "code",
   "execution_count": null,
   "metadata": {},
   "outputs": [],
   "source": [
    "train_X_reg.shape"
   ]
  },
  {
   "cell_type": "code",
   "execution_count": null,
   "metadata": {},
   "outputs": [],
   "source": [
    "train_X.shape"
   ]
  },
  {
   "cell_type": "code",
   "execution_count": null,
   "metadata": {},
   "outputs": [],
   "source": [
    "from sklearn import preprocessing\n",
    "\n",
    "# Create a scaler to do the transformation\n",
    "scaler = preprocessing.MinMaxScaler().fit(train_X)"
   ]
  },
  {
   "cell_type": "code",
   "execution_count": null,
   "metadata": {},
   "outputs": [],
   "source": [
    "from sklearn import preprocessing\n",
    "\n",
    "# Create a scaler_reg to do the transformation\n",
    "scaler_reg = preprocessing.MinMaxScaler().fit(train_X_reg)"
   ]
  },
  {
   "cell_type": "code",
   "execution_count": null,
   "metadata": {},
   "outputs": [],
   "source": [
    "# Transform training X_reg\n",
    "train_X_scale_reg = scaler_reg.transform(train_X_reg)\n",
    "train_X_scale_reg = pd.DataFrame(train_X_scale_reg)\n",
    "train_X_scale_reg.columns = train_X_reg.columns\n"
   ]
  },
  {
   "cell_type": "code",
   "execution_count": null,
   "metadata": {},
   "outputs": [],
   "source": [
    "# Transform training X\n",
    "train_X_scale = scaler.transform(train_X)\n",
    "train_X_scale = pd.DataFrame(train_X_scale)\n",
    "train_X_scale.columns = train_X.columns\n"
   ]
  },
  {
   "cell_type": "code",
   "execution_count": null,
   "metadata": {},
   "outputs": [],
   "source": [
    "# Transform test X_reg\n",
    "test_X_scale_reg = scaler_reg.transform(test_X_reg)\n",
    "test_X_scale_reg = pd.DataFrame(test_X_scale_reg)\n",
    "test_X_scale_reg.columns = test_X_reg.columns\n"
   ]
  },
  {
   "cell_type": "code",
   "execution_count": null,
   "metadata": {},
   "outputs": [],
   "source": [
    "# Transform test X\n",
    "test_X_scale = scaler.transform(test_X)\n",
    "test_X_scale = pd.DataFrame(test_X_scale)\n",
    "test_X_scale.columns = test_X.columns\n"
   ]
  },
  {
   "cell_type": "code",
   "execution_count": null,
   "metadata": {},
   "outputs": [],
   "source": [
    "print(train_X.shape)\n",
    "print(train_y.shape)\n",
    "print(test_y.shape)\n",
    "print(test_X.shape)\n",
    "print(train_y)"
   ]
  },
  {
   "cell_type": "code",
   "execution_count": null,
   "metadata": {},
   "outputs": [],
   "source": [
    "df2.shape"
   ]
  },
  {
   "cell_type": "code",
   "execution_count": null,
   "metadata": {},
   "outputs": [],
   "source": [
    "#K-nn Regression\n",
    "from sklearn.neighbors import KNeighborsRegressor\n",
    "knn_model = KNeighborsRegressor()\n",
    "from sklearn.model_selection import GridSearchCV\n",
    "parameters = {\"n_neighbors\": range(1, 50)}\n",
    "gridsearch = GridSearchCV(KNeighborsRegressor(), parameters)\n",
    "gridsearch.fit(train_X_reg,train_y_reg)"
   ]
  },
  {
   "cell_type": "code",
   "execution_count": null,
   "metadata": {},
   "outputs": [],
   "source": [
    "gridsearch.best_params_"
   ]
  },
  {
   "cell_type": "code",
   "execution_count": null,
   "metadata": {},
   "outputs": [],
   "source": [
    "knn_reg=KNeighborsRegressor(4)\n",
    "knn_reg.fit(train_X_reg,train_y_reg)"
   ]
  },
  {
   "cell_type": "markdown",
   "metadata": {},
   "source": [
    "### The best neighbor is 4, using neighbor 4 for model prediction and calculating Accuracy score"
   ]
  },
  {
   "cell_type": "code",
   "execution_count": null,
   "metadata": {},
   "outputs": [],
   "source": [
    "pred_y_reg=knn_reg.predict(test_X_scale_reg)"
   ]
  },
  {
   "cell_type": "code",
   "execution_count": null,
   "metadata": {},
   "outputs": [],
   "source": [
    "print('k=4 Accuracy=',knn_reg.score(test_X_scale_reg,pred_y_reg))"
   ]
  },
  {
   "cell_type": "code",
   "execution_count": null,
   "metadata": {},
   "outputs": [],
   "source": [
    "from sklearn.metrics import mean_squared_error\n",
    "from math import sqrt\n",
    "train_preds_grid = gridsearch.predict(train_X_reg)\n",
    "train_mse = mean_squared_error(train_y_reg, train_preds_grid)\n",
    "train_rmse = sqrt(train_mse)\n",
    "test_preds_grid = gridsearch.predict(test_X_reg)\n",
    "test_mse = mean_squared_error(test_y_reg, test_preds_grid)\n",
    "test_rmse = sqrt(test_mse)\n",
    "print('RMSE_train:',train_rmse)\n",
    "\n",
    "print('RMSE_test:',test_rmse)"
   ]
  },
  {
   "cell_type": "markdown",
   "metadata": {},
   "source": [
    " RSME error rates are very high. Which implies that performing K-nn regression did not show any good results.\n",
    " "
   ]
  },
  {
   "cell_type": "code",
   "execution_count": null,
   "metadata": {},
   "outputs": [],
   "source": [
    "# scatter plot using test variables\n",
    "import numpy as np\n",
    "from matplotlib import pyplot as plt\n",
    "plt.rcParams[\"figure.figsize\"] = [7.50, 3.50]\n",
    "plt.rcParams[\"figure.autolayout\"] = True\n",
    "xs = test_X_reg['price']\n",
    "ys = test_X_reg['minimum_nights']\n",
    "for x, y in zip(xs, ys):\n",
    "   plt.scatter(x, y, cmap=\"copper\")\n",
    "plt.show()"
   ]
  },
  {
   "cell_type": "code",
   "execution_count": null,
   "metadata": {},
   "outputs": [],
   "source": [
    "train_preds_grid"
   ]
  },
  {
   "cell_type": "markdown",
   "metadata": {},
   "source": [
    "We performed classification based on price by converting price into 2 classes i.e less than 250 & greater than 250. \n",
    "used new variable called PriceClass to classify two classes.\n",
    "There was a class imbalance for greater and lower price when we 500 as the marginal value for both the classes.\n",
    "As greater than 500 very less in number compared to below 500. Majorly, in above 500 class there were very less\n",
    "values away from 500 compared to values nearer 500.\n",
    "To handle class imbalance values above 500 were removed as they are less in number."
   ]
  },
  {
   "cell_type": "code",
   "execution_count": null,
   "metadata": {},
   "outputs": [],
   "source": [
    "# function for plotting confusion matrix\n",
    "import matplotlib.pyplot as plt\n",
    "import numpy as np\n",
    "def print_cm(cm):\n",
    "    plt.clf()\n",
    "    plt.imshow(cm, interpolation='nearest', cmap=plt.cm.Wistia)\n",
    "    classNames = ['Class 1','Class 2']\n",
    "    plt.title('Confusion Matrix - Test Data')\n",
    "    plt.ylabel('True label')\n",
    "    plt.xlabel('Predicted label')\n",
    "    tick_marks = np.arange(len(classNames))\n",
    "    plt.xticks(tick_marks, classNames, rotation=45)\n",
    "    plt.yticks(tick_marks, classNames)\n",
    "    s = [['TN','FP'], ['FN', 'TP']] \n",
    "    for i in range(2):\n",
    "        for j in range(2):\n",
    "            plt.text(j,i, str(s[i][j])+\" = \"+str(cm[i][j]))\n",
    "    plt.show()"
   ]
  },
  {
   "cell_type": "code",
   "execution_count": null,
   "metadata": {},
   "outputs": [],
   "source": [
    "#K-NN \n",
    "from sklearn import neighbors\n",
    "\n",
    "# KNN: K=5, default measure of distance (euclidean)\n",
    "knn5 = neighbors.KNeighborsClassifier(n_neighbors=5)"
   ]
  },
  {
   "cell_type": "code",
   "execution_count": null,
   "metadata": {},
   "outputs": [],
   "source": [
    "knn5.fit(train_X_scale, train_y)\n"
   ]
  },
  {
   "cell_type": "code",
   "execution_count": null,
   "metadata": {},
   "outputs": [],
   "source": [
    "pred_y_knn5 = knn5.predict(test_X_scale)"
   ]
  },
  {
   "cell_type": "code",
   "execution_count": null,
   "metadata": {},
   "outputs": [],
   "source": [
    "from sklearn import metrics\n",
    "\n",
    "# Print confusion matrix\n",
    "cm = metrics.confusion_matrix(test_y, pred_y_knn5)\n",
    "print(cm)"
   ]
  },
  {
   "cell_type": "code",
   "execution_count": null,
   "metadata": {},
   "outputs": [],
   "source": [
    "print_cm(cm)"
   ]
  },
  {
   "cell_type": "code",
   "execution_count": null,
   "metadata": {},
   "outputs": [],
   "source": [
    "print(metrics.classification_report(test_y, pred_y_knn5))"
   ]
  },
  {
   "cell_type": "markdown",
   "metadata": {},
   "source": [
    "Here we can see in the confusion matrix TN=1203, Tp=6051, FP=1,FN=0\n",
    "Classification metrics shows the results are 100% correct\n",
    " Which implies the model is not correct fit.\n"
   ]
  },
  {
   "cell_type": "code",
   "execution_count": null,
   "metadata": {},
   "outputs": [],
   "source": [
    "# Calculate classification accuracy\n",
    "metrics.accuracy_score(test_y, pred_y_knn5)"
   ]
  },
  {
   "cell_type": "code",
   "execution_count": null,
   "metadata": {},
   "outputs": [],
   "source": [
    "for k in range(20):\n",
    "    k = k + 1\n",
    "    knn = neighbors.KNeighborsClassifier(n_neighbors = k, \n",
    "                                         weights='uniform', \n",
    "                                         algorithm='auto')\n",
    "    knn.fit(train_X_scale, train_y)\n",
    "    pred_y = knn.predict(test_X_scale)\n",
    "    print(\"AUC is \", round(metrics.roc_auc_score(test_y, pred_y)*100,2),\"% for k =\",k)"
   ]
  },
  {
   "cell_type": "markdown",
   "metadata": {},
   "source": [
    " # NYC AirBnB Data Principle Component Analysis"
   ]
  },
  {
   "cell_type": "markdown",
   "metadata": {},
   "source": [
    "## Step-1: Import Packages,  Data Exploration & Cleaning\n",
    "Intent should be to maximize information content while minimizing the number of dimensions or variables in the datset. Most of the variables in the dataframe have non null values except 'last_review', 'reviews_per_month', and 'license'. These columns are believed to have either little information value, or are believed to have other variables that would explain their effects anyway. Thus the aforementioned columns were removed. In addition all observations with zero values in the 'price' column were removed. It is assumed that the 'price'  will be the primary variable of interest."
   ]
  },
  {
   "cell_type": "code",
   "execution_count": null,
   "metadata": {},
   "outputs": [],
   "source": [
    "import pandas as pd\n",
    "import numpy as np\n",
    "from sklearn.decomposition import PCA\n",
    "import matplotlib.pyplot as plt\n",
    "from sklearn.preprocessing import scale\n",
    "import seaborn as sb\n",
    "import plotly.express as px"
   ]
  },
  {
   "cell_type": "code",
   "execution_count": null,
   "metadata": {},
   "outputs": [],
   "source": [
    "csv_URL = \"http://data.insideairbnb.com/united-states/ny/new-york-city/2022-09-07/visualisations/listings.csv\"\n",
    "df= pd.read_csv(csv_URL)\n",
    "df.info()"
   ]
  },
  {
   "cell_type": "code",
   "execution_count": null,
   "metadata": {},
   "outputs": [],
   "source": [
    "# remove deemed to be less than useful\n",
    "df['lat_lon']= df['latitude']/df['longitude']\n",
    "df = df.drop(['license', 'reviews_per_month','last_review', 'name', 'host_id','neighbourhood', 'host_name'],axis = 1)\n",
    "df = df.loc[(df['price']> 0)]# Remove all zero values from the price\n",
    "display(df.info())\n",
    "sb.pairplot(df[['price','latitude','longitude','lat_lon']], kind=\"reg\")\n",
    "plt.show()"
   ]
  },
  {
   "cell_type": "markdown",
   "metadata": {},
   "source": [
    "The pairplot was developed to gain an understanding of the relationship between 'latitiude', 'longitude', and 'price'. Based on this visualization, that correlation appears to be weak."
   ]
  },
  {
   "cell_type": "markdown",
   "metadata": {},
   "source": [
    "# Step 2: Determine & Remove the Outliers\n",
    "Process was to remove all outliers larger than q3 + (1.5 * IQR), or less than or equal to the minimum. In addition the latitude and longitude columns were removed from the dataset and replaced with the transformation 'lat_lon', which is the ratio latitude to longitude. The result reduced the number of observations in the data from 39881 to 36524."
   ]
  },
  {
   "cell_type": "code",
   "execution_count": null,
   "metadata": {},
   "outputs": [],
   "source": [
    "df_stats = df.groupby('room_type')['price'].describe()\n",
    "df_stats.reindex()\n",
    "display(df_stats)"
   ]
  },
  {
   "cell_type": "code",
   "execution_count": null,
   "metadata": {},
   "outputs": [],
   "source": [
    "# Create Table with outliers\n",
    "df_stats['IQR'] = df_stats[\"75%\"]- df_stats[\"25%\"]\n",
    "df_stats['upper_outlier'] = df_stats[\"75%\"] + (1.5 * df_stats['IQR'])\n",
    "df_stats['lower_outlier'] = df_stats[\"25%\"] - (1.5 * df_stats['IQR'])\n",
    "display(df_stats)"
   ]
  },
  {
   "cell_type": "code",
   "execution_count": null,
   "metadata": {},
   "outputs": [],
   "source": [
    "df1 = df[(df['room_type'] == \"Entire home/apt\") & (df['price']>=10) & (df['price']<= 496)]\n",
    "df2 = df[(df['room_type'] == \"Private room\") & (df['price']>= 10) & (df['price']<= 192)]\n",
    "df3 = df[(df['room_type'] == \"Shared room\") & (df['price']>= 10) & (df['price']<= 167)] \n",
    "df4 = df[(df['room_type'] == \"Hotel room\") & (df['price']>= 100) & (df['price']<= 865)]\n",
    "frames = [df1, df2, df3, df4]\n",
    "df = pd.concat(frames)\n",
    "\n",
    "display(df.groupby('neighbourhood_group')['price'].describe())\n",
    "display(df.groupby('room_type')['price'].describe())\n",
    "sb.boxplot(y = df['price'], x = df['room_type'])\n",
    "plt.show()\n",
    "sb.boxplot(y = df['price'], x = df['neighbourhood_group'])\n",
    "plt.show()\n",
    "display(df.info())\n",
    "display(df.corr())"
   ]
  },
  {
   "cell_type": "code",
   "execution_count": null,
   "metadata": {},
   "outputs": [],
   "source": [
    "df_select = df[['price','lat_lon','neighbourhood_group','room_type', 'minimum_nights', 'number_of_reviews','calculated_host_listings_count','availability_365','number_of_reviews_ltm']]\n",
    "df_select.info()"
   ]
  },
  {
   "cell_type": "markdown",
   "metadata": {},
   "source": [
    "# Step 3:  Incorporate Categorical Variables into the Data and Scale the Dataset\n",
    "The purpose of this step was to incorporate room type and neighborhood or NYC burrough into the dataset as \"dummy variables\" using one hot encoding. Also conducted during this step was a targeted correlation between price and the remaining variables.The strongest positive correlations were room types of 'Entire home/apt', neighborhood groups of 'Manhattan' and 365 day availability. Strongest negative correlation was a room type of \"Private room\". Finally the dataset was normalized."
   ]
  },
  {
   "cell_type": "code",
   "execution_count": null,
   "metadata": {},
   "outputs": [],
   "source": [
    " # One-hot encode the neighbourhood_group column\n",
    "dfx = pd.concat([df_select,\n",
    "               pd.get_dummies(df_select['neighbourhood_group'])],axis=1)\n"
   ]
  },
  {
   "cell_type": "code",
   "execution_count": null,
   "metadata": {},
   "outputs": [],
   "source": [
    " # One-hot encode the room_type column\n",
    "X = pd.concat([dfx,\n",
    "               pd.get_dummies(dfx['room_type'])],axis=1)\n",
    "            \n",
    "# Drop the original categorical column and the response variable\n",
    "df = X.drop(['neighbourhood_group','room_type'], axis=1)\n",
    "display(df.info())\n",
    "display(df[df.columns[0:]].corr()['price'][:].sort_values(ascending=False).to_frame())"
   ]
  },
  {
   "cell_type": "code",
   "execution_count": null,
   "metadata": {},
   "outputs": [],
   "source": [
    "X = scale(df)# Normalize the data\n",
    "display(pd.DataFrame(X).describe().transpose())# Display the normalize data statistics\n",
    "corr_ = pd.DataFrame(X).corr() #Display the correlation matrix for the normalized data\n",
    "pd.DataFrame(corr_).style.background_gradient(cmap = 'YlOrRd')"
   ]
  },
  {
   "cell_type": "markdown",
   "metadata": {},
   "source": [
    "# Step 4: Principal Component Analysis\n",
    "The PCA was conducted on the normalized data and indicate the following results:\n",
    "- The most important variables in the dataset are 'price', 'Manhattan', 'Entire home/apt', and 'Private room'\n",
    "- The least significant variables seem to be 'Hotel room' and 'Queens'.\n",
    "- Information content in the data is dispersed. There dont seem to be any significant clusters of variability. As indicated by the scree plot and the measures of the cumulative variability, you dont get above 90% of the variability explained until you get to 11 of the 16 principal components. Once you get to roughly 13 principal components, marginal variability apears to go to zero. As evidenced by the correlation matrices and the heatmaps, most of the variables could be considered to have a significant component loading depending on the dimension in which they are viewed. The practical effect of this seems to be that action taken to reduce the dimensionality of the dataset won't add any significant benefits."
   ]
  },
  {
   "cell_type": "code",
   "execution_count": null,
   "metadata": {},
   "outputs": [],
   "source": [
    "# Select the number of components\n",
    "pca1 = PCA(n_components=16)\n",
    "# Fit the PCA model\n",
    "pca1.fit(X)"
   ]
  },
  {
   "cell_type": "code",
   "execution_count": null,
   "metadata": {},
   "outputs": [],
   "source": [
    "#The amount of variance that each PC explains\n",
    "var = pca1.explained_variance_ratio_\n",
    "display(var)"
   ]
  },
  {
   "cell_type": "code",
   "execution_count": null,
   "metadata": {},
   "outputs": [],
   "source": [
    "#Cumulative Variance explains\n",
    "var1 = np.cumsum(np.round(pca1.explained_variance_ratio_, decimals=4)*100)\n",
    "display(var1)"
   ]
  },
  {
   "cell_type": "code",
   "execution_count": null,
   "metadata": {},
   "outputs": [],
   "source": [
    "var1 = pd.DataFrame(var1, index=np.arange(1,17))\n",
    "plt.plot(var1,'-o',color='blue')\n",
    "plt.title('Scree Plot')\n",
    "plt.xlabel('Number of Principal Components')\n",
    "plt.ylabel('Cumulative Variance Explained')\n",
    "plt.savefig('scree_plot.png',dpi=100,bbox_inches='tight')\n",
    "plt.show()"
   ]
  },
  {
   "cell_type": "code",
   "execution_count": null,
   "metadata": {},
   "outputs": [],
   "source": [
    "# Select the number of components\n",
    "pca16 = PCA(n_components=16)\n",
    "pca16.fit(X)\n",
    "data_pca16 = pca16.transform(X)\n",
    "\n",
    "# Convert the numpy array to pandas DataFrame\n",
    "data_pca16 = pd.DataFrame(data_pca16)\n",
    "data_pca16.columns = [\"PC\"+str(i) for i in range(1,17)]\n",
    "\n",
    "# Show the head of the DataFrame\n",
    "display(data_pca16.head())\n",
    "display(data_pca16.corr())\n"
   ]
  },
  {
   "cell_type": "markdown",
   "metadata": {},
   "source": [
    "All pairwise combinations are cose to zero which is indicative of no multicollinearity among principal components.\n"
   ]
  },
  {
   "cell_type": "code",
   "execution_count": null,
   "metadata": {},
   "outputs": [],
   "source": [
    "# Show the loadings for the 1st components\n",
    "pca16.components_[[0]]"
   ]
  },
  {
   "cell_type": "code",
   "execution_count": null,
   "metadata": {},
   "outputs": [],
   "source": [
    "corr_16 = pd.DataFrame(pca16.components_.transpose(),\n",
    "             index=df.loc[:,'price':'Shared room'].columns,\n",
    "             columns=[\"PC\"+str(i) for i in range(1,17)])\n",
    "display(pd.DataFrame(corr_16).style.background_gradient(cmap = 'YlOrRd'))\n",
    "ax = sb.heatmap(corr_16, annot=False, cmap = 'YlOrRd', vmin = -1, vmax = 1)\n",
    "plt.show()"
   ]
  },
  {
   "cell_type": "code",
   "execution_count": null,
   "metadata": {},
   "outputs": [],
   "source": []
  },
  {
   "cell_type": "code",
   "execution_count": null,
   "metadata": {},
   "outputs": [],
   "source": []
  },
  {
   "cell_type": "code",
   "execution_count": null,
   "metadata": {},
   "outputs": [],
   "source": []
  },
  {
   "cell_type": "code",
   "execution_count": null,
   "metadata": {},
   "outputs": [],
   "source": []
  },
  {
   "cell_type": "code",
   "execution_count": null,
   "metadata": {},
   "outputs": [],
   "source": []
  },
  {
   "cell_type": "code",
   "execution_count": null,
   "metadata": {},
   "outputs": [],
   "source": []
  },
  {
   "cell_type": "code",
   "execution_count": null,
   "metadata": {},
   "outputs": [],
   "source": []
  },
  {
   "cell_type": "code",
   "execution_count": null,
   "metadata": {},
   "outputs": [],
   "source": []
  },
  {
   "cell_type": "code",
   "execution_count": null,
   "metadata": {},
   "outputs": [],
   "source": []
  },
  {
   "cell_type": "code",
   "execution_count": null,
   "metadata": {},
   "outputs": [],
   "source": []
  },
  {
   "cell_type": "code",
   "execution_count": null,
   "metadata": {},
   "outputs": [],
   "source": []
  },
  {
   "cell_type": "markdown",
   "metadata": {},
   "source": [
    "# Technology Stack"
   ]
  },
  {
   "cell_type": "code",
   "execution_count": null,
   "metadata": {},
   "outputs": [],
   "source": [
    "!which python"
   ]
  },
  {
   "cell_type": "code",
   "execution_count": null,
   "metadata": {},
   "outputs": [],
   "source": [
    "!which jupyter"
   ]
  },
  {
   "cell_type": "code",
   "execution_count": null,
   "metadata": {},
   "outputs": [],
   "source": [
    "!which python3"
   ]
  },
  {
   "cell_type": "markdown",
   "metadata": {},
   "source": [
    "# Github Repository, Handles, and Evaluation"
   ]
  },
  {
   "cell_type": "markdown",
   "metadata": {},
   "source": [
    "https://github.com/Naren1610/IST5520GrpProj/tree/milestone2\n",
    "\n",
    "### IST5520GrpProj\n",
    "\n",
    "<h4 align=\"left\"> Ronald Adomako, adomakor412 </h3>\n",
    "<h4 align=\"left\"> Idris Dobbs, idobbs-2012 </h3>\n",
    "<h4 align=\"left\"> Narendra Chigili, Naren1610 </h3>\n",
    "<h4 align=\"left\"> Nikhil Srirama Sai, SaiNikhilPalaparthi </h3>"
   ]
  },
  {
   "cell_type": "code",
   "execution_count": null,
   "metadata": {},
   "outputs": [],
   "source": []
  }
 ],
 "metadata": {
  "kernelspec": {
   "display_name": "Python 3",
   "language": "python",
   "name": "python3"
  },
  "language_info": {
   "codemirror_mode": {
    "name": "ipython",
    "version": 3
   },
   "file_extension": ".py",
   "mimetype": "text/x-python",
   "name": "python",
   "nbconvert_exporter": "python",
   "pygments_lexer": "ipython3",
   "version": "3.8.8"
  }
 },
 "nbformat": 4,
 "nbformat_minor": 4
}
