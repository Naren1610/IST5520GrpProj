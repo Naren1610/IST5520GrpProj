{
 "cells": [
  {
   "cell_type": "markdown",
   "metadata": {},
   "source": [
    "<h1 align=\"center\"> IST 5520 Milestone 2: Data Analysis I <h1>\n",
    "<h3 align=\"center\"> AirBnB Dataset <h3>\n",
    "\n",
    "#### Student: Ronald Adomako\n",
    "#### Student: Idris Dobbs\n",
    "#### Student: Narendra Chigili\n",
    "#### Student: Nikhil Srirama Sai"
   ]
  },
  {
   "cell_type": "markdown",
   "metadata": {},
   "source": [
    "# Cleanse and visualize data"
   ]
  },
  {
   "cell_type": "markdown",
   "metadata": {},
   "source": [
    "## Introduction"
   ]
  },
  {
   "cell_type": "markdown",
   "metadata": {},
   "source": [
    "AirBnB is a PaaS for the short term rental market. Users use the platform to list residences for short term rentals. We noticed that for big cities, such as New York City, there are many host and some may want to use AirBnB for lucrative means. Given location and characteristics of a property, a new host would want to know whether he or she is charging the optimal amount to rent the space to lodgers.\n",
    "\n",
    "We noticed that from the New York City dataset for AirBnB, the categorical variable for location  was too coarse. The descriptor says the location is categorized into five boroughs. For a big city such as New York City, there are a lot of insights missing from a business perspective because neighborhoods vary drastically in property amenities even within a single borough. Moreso, the geo-coordinates are too fine for business purposes. To handle this we implement a zip code converter to categorize properties based on their location - Feature Selection.\n",
    "\n",
    "- What are the largest determinants / predictors of AirBnB rental prices?\n",
    "- How can we optimize rental revenue based on rental location and other characteristics?\n",
    "- What price should be charged based on rental location/ characteristics?\n",
    "\n",
    "We are opperating under the assumption that NYC AirBnB prices has reached a *steady-state*: i.e. the market has been active for long enough in NYC and there are enough data points (observations) in NYC that the **mean** is meaningful.\n",
    "\n",
    "We want to know whether a host is charging an optimal price. To do this we group the observations by neigborhood and then take the average price. Hosts who charge at or above this price are considered optimal in their respective neighborhood while hosts who charge below the average price for their neighborhood are sub-optimal. Consider the case where all hosts charge the same price within a neighborhood, then the mean is the mode is the median- uniform data, no variance. All the hosts in this neighborhood would be optimal.\n",
    "\n",
    "Consider the case where one of those hosts charge below what would have been the average, then only that host is sub-optimal while the rest are optimal. Conversely, if one host charge above the rest while everyone else charges the same, then that one host would be optimal while the rest are suboptimal.\n",
    "\n",
    "Along with the *steady-state* assumption, by grouping the data by neighborhoods we assume that on average homes and amenities are similar by neighborhood. The geo-coordinates are too fine a scale and the boroughs are too coarse a scale. A meso-scale would be by zipcode, which we would expect to have higher precision of similarities between host, or by neighborhood. For a dataset with 39881 observations, transforming geo-coordinates prove to be computationally expensive (22 hours on standard household computer). We chose the next best meso-scale: what AirBnB features as \"neighbourhood\".\n",
    "\n",
    "From a business perspective, we want to know what percent of hosts per neighborhood are charging an optimal price, and aggregating this data the percent hosts charge an optimal price in NYC overall. We see that using the neighborhood grouping allows us to compare on a common scale for all hosts. We don't have hosts income, so we wouldn't be able to measure profit. Likewise, revenue wouldn't be a fair scale because hosts with more units will outperform host with smaller units just by volume. A nieghborhood comparison allows a better metric to assess price per room, where we expect reasonably small variance per neighborhood. Furthermore, comparing by percentage is normalizes our comparison in general."
   ]
  },
  {
   "cell_type": "markdown",
   "metadata": {},
   "source": [
    "## Data Source and Collection"
   ]
  },
  {
   "cell_type": "markdown",
   "metadata": {},
   "source": [
    "#### We chose the AirBnB dataset for New York City (NYC). We want to build a model that indicates whether hosts are charging an optimum amount for their rental.\n",
    "\n",
    "http://insideairbnb.com/new-york-city/\n",
    "\n",
    "[data dictionary](https://docs.google.com/spreadsheets/d/1iWCNJcSutYqpULSQHlNyGInUvHg2BoUGoNRIGa6Szc4/edit?usp=sharing)\n",
    "\n",
    "http://insideairbnb.com/get-the-data\n",
    "\n",
    "http://data.insideairbnb.com/united-states/ny/new-york-city/2022-09-07/visualisations/listings.csv\n",
    "\n"
   ]
  },
  {
   "cell_type": "code",
   "execution_count": 1,
   "metadata": {},
   "outputs": [],
   "source": [
    "import pandas as pd\n",
    "import matplotlib.pyplot as plt\n",
    "import sidetable as stb\n",
    "import numpy as np\n",
    "# import seaborn as sns\n",
    "from sklearn.preprocessing import OneHotEncoder\n",
    "from sklearn.linear_model import LogisticRegression\n",
    "import seaborn as sb\n",
    "from scipy import stats as st\n",
    "import statsmodels as sts\n",
    "import statsmodels.api as sm\n",
    "\n",
    "%matplotlib inline"
   ]
  },
  {
   "cell_type": "code",
   "execution_count": 2,
   "metadata": {},
   "outputs": [],
   "source": [
    "data = pd.read_csv('Grp3Project_InitialData/data_dictionary.csv')\n",
    "csv_URL = \"http://data.insideairbnb.com/united-states/ny/new-york-city/2022-09-07/visualisations/listings.csv\"\n",
    "df2 = pd.read_csv(csv_URL)"
   ]
  },
  {
   "cell_type": "code",
   "execution_count": 3,
   "metadata": {},
   "outputs": [],
   "source": [
    "data_dict = pd.DataFrame(df2.columns, columns=['Features'])\n",
    "data_dict['Description']=None"
   ]
  },
  {
   "cell_type": "markdown",
   "metadata": {},
   "source": [
    "### Dimensional Analysis\n",
    "- What are the largest determinants / predictors of AirBnB rental prices?"
   ]
  },
  {
   "cell_type": "markdown",
   "metadata": {},
   "source": [
    "The data dictionary for New York City AirBnB dataset consists of 75 columns (variables or features) and 39881 observations. Based on our research question and several [Kaggle challenges](https://www.kaggle.com/search?q=airbnb-listing-in-nyc) (www.kaggle.com/search?q=airbnb-listing-in-nyc) we reduced our dimensions to the following **18** features for preliminary analysis."
   ]
  },
  {
   "cell_type": "code",
   "execution_count": 4,
   "metadata": {},
   "outputs": [
    {
     "data": {
      "text/html": [
       "<div>\n",
       "<style scoped>\n",
       "    .dataframe tbody tr th:only-of-type {\n",
       "        vertical-align: middle;\n",
       "    }\n",
       "\n",
       "    .dataframe tbody tr th {\n",
       "        vertical-align: top;\n",
       "    }\n",
       "\n",
       "    .dataframe thead th {\n",
       "        text-align: right;\n",
       "    }\n",
       "</style>\n",
       "<table border=\"1\" class=\"dataframe\">\n",
       "  <thead>\n",
       "    <tr style=\"text-align: right;\">\n",
       "      <th></th>\n",
       "      <th>Features</th>\n",
       "      <th>Description</th>\n",
       "    </tr>\n",
       "  </thead>\n",
       "  <tbody>\n",
       "    <tr>\n",
       "      <th>0</th>\n",
       "      <td>id</td>\n",
       "      <td>Airbnb's unique identifier for the listing</td>\n",
       "    </tr>\n",
       "    <tr>\n",
       "      <th>1</th>\n",
       "      <td>name</td>\n",
       "      <td>Name of the listing</td>\n",
       "    </tr>\n",
       "    <tr>\n",
       "      <th>2</th>\n",
       "      <td>host_id</td>\n",
       "      <td>Airbnb's unique identifier for the host/user</td>\n",
       "    </tr>\n",
       "    <tr>\n",
       "      <th>3</th>\n",
       "      <td>host_name</td>\n",
       "      <td>Name of the host. Usually just the first name(s).</td>\n",
       "    </tr>\n",
       "    <tr>\n",
       "      <th>4</th>\n",
       "      <td>neighbourhood_group</td>\n",
       "      <td>Borough</td>\n",
       "    </tr>\n",
       "    <tr>\n",
       "      <th>5</th>\n",
       "      <td>neighbourhood</td>\n",
       "      <td>Neighborhood equivalent for zip code group</td>\n",
       "    </tr>\n",
       "    <tr>\n",
       "      <th>6</th>\n",
       "      <td>latitude</td>\n",
       "      <td>Uses the World Geodetic System (WGS84) projection for latitude and longitude.</td>\n",
       "    </tr>\n",
       "    <tr>\n",
       "      <th>7</th>\n",
       "      <td>longitude</td>\n",
       "      <td>Uses the World Geodetic System (WGS84) projection for latitude and longitude.</td>\n",
       "    </tr>\n",
       "    <tr>\n",
       "      <th>8</th>\n",
       "      <td>room_type</td>\n",
       "      <td>[Entire home/apt|Private room|Shared room|Hotel]</td>\n",
       "    </tr>\n",
       "    <tr>\n",
       "      <th>9</th>\n",
       "      <td>price</td>\n",
       "      <td>daily price in local currency</td>\n",
       "    </tr>\n",
       "    <tr>\n",
       "      <th>10</th>\n",
       "      <td>minimum_nights</td>\n",
       "      <td>minimum number of night stay for the listing (calendar rules may be different)</td>\n",
       "    </tr>\n",
       "    <tr>\n",
       "      <th>11</th>\n",
       "      <td>number_of_reviews</td>\n",
       "      <td>The number of reviews the listing has</td>\n",
       "    </tr>\n",
       "    <tr>\n",
       "      <th>12</th>\n",
       "      <td>last_review</td>\n",
       "      <td>The date of the last/newest review</td>\n",
       "    </tr>\n",
       "    <tr>\n",
       "      <th>13</th>\n",
       "      <td>reviews_per_month</td>\n",
       "      <td>The number of reviews the listing has over the lifetime of the listing</td>\n",
       "    </tr>\n",
       "    <tr>\n",
       "      <th>14</th>\n",
       "      <td>calculated_host_listings_count</td>\n",
       "      <td>The number of listings the host has in the current scrape, in the city/region geography.</td>\n",
       "    </tr>\n",
       "    <tr>\n",
       "      <th>15</th>\n",
       "      <td>availability_365</td>\n",
       "      <td>avaliability_x. The availability of the listing x days in the future as determined by the calend...</td>\n",
       "    </tr>\n",
       "    <tr>\n",
       "      <th>16</th>\n",
       "      <td>number_of_reviews_ltm</td>\n",
       "      <td>The number of reviews the listing has (in the last 12 months)</td>\n",
       "    </tr>\n",
       "    <tr>\n",
       "      <th>17</th>\n",
       "      <td>license</td>\n",
       "      <td>The licence/permit/registration number</td>\n",
       "    </tr>\n",
       "  </tbody>\n",
       "</table>\n",
       "</div>"
      ],
      "text/plain": [
       "                          Features  \\\n",
       "0                               id   \n",
       "1                             name   \n",
       "2                          host_id   \n",
       "3                        host_name   \n",
       "4              neighbourhood_group   \n",
       "5                    neighbourhood   \n",
       "6                         latitude   \n",
       "7                        longitude   \n",
       "8                        room_type   \n",
       "9                            price   \n",
       "10                  minimum_nights   \n",
       "11               number_of_reviews   \n",
       "12                     last_review   \n",
       "13               reviews_per_month   \n",
       "14  calculated_host_listings_count   \n",
       "15                availability_365   \n",
       "16           number_of_reviews_ltm   \n",
       "17                         license   \n",
       "\n",
       "                                                                                            Description  \n",
       "0                                                            Airbnb's unique identifier for the listing  \n",
       "1                                                                                   Name of the listing  \n",
       "2                                                          Airbnb's unique identifier for the host/user  \n",
       "3                                                     Name of the host. Usually just the first name(s).  \n",
       "4                                                                                               Borough  \n",
       "5                                                            Neighborhood equivalent for zip code group  \n",
       "6                         Uses the World Geodetic System (WGS84) projection for latitude and longitude.  \n",
       "7                         Uses the World Geodetic System (WGS84) projection for latitude and longitude.  \n",
       "8                                                      [Entire home/apt|Private room|Shared room|Hotel]  \n",
       "9                                                                         daily price in local currency  \n",
       "10                       minimum number of night stay for the listing (calendar rules may be different)  \n",
       "11                                                                The number of reviews the listing has  \n",
       "12                                                                   The date of the last/newest review  \n",
       "13                               The number of reviews the listing has over the lifetime of the listing  \n",
       "14             The number of listings the host has in the current scrape, in the city/region geography.  \n",
       "15  avaliability_x. The availability of the listing x days in the future as determined by the calend...  \n",
       "16                                        The number of reviews the listing has (in the last 12 months)  \n",
       "17                                                               The licence/permit/registration number  "
      ]
     },
     "execution_count": 4,
     "metadata": {},
     "output_type": "execute_result"
    }
   ],
   "source": [
    "for i,feature in enumerate(df2.columns):\n",
    "    #print(feature)\n",
    "    #print(type(feature))\n",
    "    val = data[data['Field']==feature]['Description'].values\n",
    "    try:\n",
    "        data_dict.loc[i,'Description'] = val[0]\n",
    "    except: #IndexError\n",
    "        data_dict.loc[i,'Description'] = None\n",
    "        \n",
    "    if feature == 'neighbourhood':\n",
    "        data_dict.loc[i,'Description'] = \\\n",
    "            'Neighborhood equivalent for zip code group'\n",
    "    if feature == 'neighbourhood_group':\n",
    "        data_dict.loc[i,'Description'] = \\\n",
    "            'Borough'        \n",
    "        \n",
    "pd.set_option('display.max_colwidth', 100)\n",
    "data_dict\n"
   ]
  },
  {
   "cell_type": "code",
   "execution_count": 5,
   "metadata": {},
   "outputs": [],
   "source": [
    "csv_URL = \"http://data.insideairbnb.com/united-states/ny/new-york-city/2022-09-07/visualisations/listings.csv\"\n",
    "df = pd.read_csv(csv_URL)"
   ]
  },
  {
   "cell_type": "markdown",
   "metadata": {},
   "source": [
    "## Data Manipulation"
   ]
  },
  {
   "cell_type": "code",
   "execution_count": 6,
   "metadata": {},
   "outputs": [
    {
     "data": {
      "text/plain": [
       "array(['Brooklyn', 'Queens', 'Bronx', 'Manhattan', 'Staten Island'],\n",
       "      dtype=object)"
      ]
     },
     "execution_count": 6,
     "metadata": {},
     "output_type": "execute_result"
    }
   ],
   "source": [
    "df['neighbourhood_group'].unique()"
   ]
  },
  {
   "cell_type": "code",
   "execution_count": 7,
   "metadata": {},
   "outputs": [
    {
     "data": {
      "text/html": [
       "<div>\n",
       "<style scoped>\n",
       "    .dataframe tbody tr th:only-of-type {\n",
       "        vertical-align: middle;\n",
       "    }\n",
       "\n",
       "    .dataframe tbody tr th {\n",
       "        vertical-align: top;\n",
       "    }\n",
       "\n",
       "    .dataframe thead th {\n",
       "        text-align: right;\n",
       "    }\n",
       "</style>\n",
       "<table border=\"1\" class=\"dataframe\">\n",
       "  <thead>\n",
       "    <tr style=\"text-align: right;\">\n",
       "      <th></th>\n",
       "      <th>price</th>\n",
       "    </tr>\n",
       "    <tr>\n",
       "      <th>neighbourhood</th>\n",
       "      <th></th>\n",
       "    </tr>\n",
       "  </thead>\n",
       "  <tbody>\n",
       "    <tr>\n",
       "      <th>Allerton</th>\n",
       "      <td>118.78</td>\n",
       "    </tr>\n",
       "    <tr>\n",
       "      <th>Arden Heights</th>\n",
       "      <td>113.86</td>\n",
       "    </tr>\n",
       "    <tr>\n",
       "      <th>Arrochar</th>\n",
       "      <td>132.06</td>\n",
       "    </tr>\n",
       "    <tr>\n",
       "      <th>Arverne</th>\n",
       "      <td>230.26</td>\n",
       "    </tr>\n",
       "    <tr>\n",
       "      <th>Astoria</th>\n",
       "      <td>109.01</td>\n",
       "    </tr>\n",
       "    <tr>\n",
       "      <th>...</th>\n",
       "      <td>...</td>\n",
       "    </tr>\n",
       "    <tr>\n",
       "      <th>Windsor Terrace</th>\n",
       "      <td>175.40</td>\n",
       "    </tr>\n",
       "    <tr>\n",
       "      <th>Woodhaven</th>\n",
       "      <td>94.53</td>\n",
       "    </tr>\n",
       "    <tr>\n",
       "      <th>Woodlawn</th>\n",
       "      <td>141.00</td>\n",
       "    </tr>\n",
       "    <tr>\n",
       "      <th>Woodrow</th>\n",
       "      <td>115.00</td>\n",
       "    </tr>\n",
       "    <tr>\n",
       "      <th>Woodside</th>\n",
       "      <td>84.72</td>\n",
       "    </tr>\n",
       "  </tbody>\n",
       "</table>\n",
       "<p>244 rows × 1 columns</p>\n",
       "</div>"
      ],
      "text/plain": [
       "                  price\n",
       "neighbourhood          \n",
       "Allerton         118.78\n",
       "Arden Heights    113.86\n",
       "Arrochar         132.06\n",
       "Arverne          230.26\n",
       "Astoria          109.01\n",
       "...                 ...\n",
       "Windsor Terrace  175.40\n",
       "Woodhaven         94.53\n",
       "Woodlawn         141.00\n",
       "Woodrow          115.00\n",
       "Woodside          84.72\n",
       "\n",
       "[244 rows x 1 columns]"
      ]
     },
     "execution_count": 7,
     "metadata": {},
     "output_type": "execute_result"
    }
   ],
   "source": [
    "#Create a data frame grouping by neighborhood for average price\n",
    "hood_price_obj = df[['neighbourhood','price']].groupby('neighbourhood')\n",
    "df_mean_price = hood_price_obj.mean()\n",
    "df_mean_price[['price']] = df_mean_price[['price']].round(2)\n",
    "df_mean_price"
   ]
  },
  {
   "cell_type": "code",
   "execution_count": 8,
   "metadata": {},
   "outputs": [
    {
     "name": "stdout",
     "output_type": "stream",
     "text": [
      "<class 'pandas.core.frame.DataFrame'>\n",
      "Index: 244 entries, Allerton to Woodside\n",
      "Data columns (total 1 columns):\n",
      " #   Column  Non-Null Count  Dtype  \n",
      "---  ------  --------------  -----  \n",
      " 0   price   244 non-null    float64\n",
      "dtypes: float64(1)\n",
      "memory usage: 3.8+ KB\n"
     ]
    }
   ],
   "source": [
    "df_mean_price.info()"
   ]
  },
  {
   "cell_type": "markdown",
   "metadata": {},
   "source": [
    "**We have reduced 39881 into 244 rows of manageable data!**"
   ]
  },
  {
   "cell_type": "code",
   "execution_count": 9,
   "metadata": {},
   "outputs": [
    {
     "data": {
      "text/html": [
       "<div>\n",
       "<style scoped>\n",
       "    .dataframe tbody tr th:only-of-type {\n",
       "        vertical-align: middle;\n",
       "    }\n",
       "\n",
       "    .dataframe tbody tr th {\n",
       "        vertical-align: top;\n",
       "    }\n",
       "\n",
       "    .dataframe thead th {\n",
       "        text-align: right;\n",
       "    }\n",
       "</style>\n",
       "<table border=\"1\" class=\"dataframe\">\n",
       "  <thead>\n",
       "    <tr style=\"text-align: right;\">\n",
       "      <th></th>\n",
       "      <th>neighbourhood</th>\n",
       "      <th>count</th>\n",
       "      <th>percent</th>\n",
       "      <th>cumulative_count</th>\n",
       "      <th>cumulative_percent</th>\n",
       "    </tr>\n",
       "  </thead>\n",
       "  <tbody>\n",
       "    <tr>\n",
       "      <th>0</th>\n",
       "      <td>Bedford-Stuyvesant</td>\n",
       "      <td>2779</td>\n",
       "      <td>6.968230</td>\n",
       "      <td>2779</td>\n",
       "      <td>6.968230</td>\n",
       "    </tr>\n",
       "    <tr>\n",
       "      <th>1</th>\n",
       "      <td>Williamsburg</td>\n",
       "      <td>2456</td>\n",
       "      <td>6.158321</td>\n",
       "      <td>5235</td>\n",
       "      <td>13.126551</td>\n",
       "    </tr>\n",
       "    <tr>\n",
       "      <th>2</th>\n",
       "      <td>Harlem</td>\n",
       "      <td>1878</td>\n",
       "      <td>4.709009</td>\n",
       "      <td>7113</td>\n",
       "      <td>17.835561</td>\n",
       "    </tr>\n",
       "    <tr>\n",
       "      <th>3</th>\n",
       "      <td>Midtown</td>\n",
       "      <td>1701</td>\n",
       "      <td>4.265189</td>\n",
       "      <td>8814</td>\n",
       "      <td>22.100750</td>\n",
       "    </tr>\n",
       "    <tr>\n",
       "      <th>4</th>\n",
       "      <td>Bushwick</td>\n",
       "      <td>1657</td>\n",
       "      <td>4.154861</td>\n",
       "      <td>10471</td>\n",
       "      <td>26.255610</td>\n",
       "    </tr>\n",
       "    <tr>\n",
       "      <th>...</th>\n",
       "      <td>...</td>\n",
       "      <td>...</td>\n",
       "      <td>...</td>\n",
       "      <td>...</td>\n",
       "      <td>...</td>\n",
       "    </tr>\n",
       "    <tr>\n",
       "      <th>239</th>\n",
       "      <td>Fort Wadsworth</td>\n",
       "      <td>1</td>\n",
       "      <td>0.002507</td>\n",
       "      <td>39877</td>\n",
       "      <td>99.989970</td>\n",
       "    </tr>\n",
       "    <tr>\n",
       "      <th>240</th>\n",
       "      <td>Ferry Point Park</td>\n",
       "      <td>1</td>\n",
       "      <td>0.002507</td>\n",
       "      <td>39878</td>\n",
       "      <td>99.992478</td>\n",
       "    </tr>\n",
       "    <tr>\n",
       "      <th>241</th>\n",
       "      <td>Country Club</td>\n",
       "      <td>1</td>\n",
       "      <td>0.002507</td>\n",
       "      <td>39879</td>\n",
       "      <td>99.994985</td>\n",
       "    </tr>\n",
       "    <tr>\n",
       "      <th>242</th>\n",
       "      <td>Bull's Head</td>\n",
       "      <td>1</td>\n",
       "      <td>0.002507</td>\n",
       "      <td>39880</td>\n",
       "      <td>99.997493</td>\n",
       "    </tr>\n",
       "    <tr>\n",
       "      <th>243</th>\n",
       "      <td>Bloomfield</td>\n",
       "      <td>1</td>\n",
       "      <td>0.002507</td>\n",
       "      <td>39881</td>\n",
       "      <td>100.000000</td>\n",
       "    </tr>\n",
       "  </tbody>\n",
       "</table>\n",
       "<p>244 rows × 5 columns</p>\n",
       "</div>"
      ],
      "text/plain": [
       "          neighbourhood  count   percent  cumulative_count  cumulative_percent\n",
       "0    Bedford-Stuyvesant   2779  6.968230              2779            6.968230\n",
       "1          Williamsburg   2456  6.158321              5235           13.126551\n",
       "2                Harlem   1878  4.709009              7113           17.835561\n",
       "3               Midtown   1701  4.265189              8814           22.100750\n",
       "4              Bushwick   1657  4.154861             10471           26.255610\n",
       "..                  ...    ...       ...               ...                 ...\n",
       "239      Fort Wadsworth      1  0.002507             39877           99.989970\n",
       "240    Ferry Point Park      1  0.002507             39878           99.992478\n",
       "241        Country Club      1  0.002507             39879           99.994985\n",
       "242         Bull's Head      1  0.002507             39880           99.997493\n",
       "243          Bloomfield      1  0.002507             39881          100.000000\n",
       "\n",
       "[244 rows x 5 columns]"
      ]
     },
     "execution_count": 9,
     "metadata": {},
     "output_type": "execute_result"
    }
   ],
   "source": [
    "df.stb.freq(['neighbourhood'])"
   ]
  },
  {
   "cell_type": "code",
   "execution_count": 10,
   "metadata": {},
   "outputs": [],
   "source": [
    "#df = df2.sort_values('neighbourhood')\n",
    "df_hood = df.stb.freq(['neighbourhood'])\n",
    "df_hood = df_hood.loc[:,'neighbourhood':'percent']\n",
    "df_hood = df_hood.sort_values('neighbourhood')"
   ]
  },
  {
   "cell_type": "code",
   "execution_count": 11,
   "metadata": {},
   "outputs": [],
   "source": [
    "df_hood.reset_index(inplace=True)"
   ]
  },
  {
   "cell_type": "code",
   "execution_count": 12,
   "metadata": {},
   "outputs": [
    {
     "data": {
      "text/html": [
       "<div>\n",
       "<style scoped>\n",
       "    .dataframe tbody tr th:only-of-type {\n",
       "        vertical-align: middle;\n",
       "    }\n",
       "\n",
       "    .dataframe tbody tr th {\n",
       "        vertical-align: top;\n",
       "    }\n",
       "\n",
       "    .dataframe thead th {\n",
       "        text-align: right;\n",
       "    }\n",
       "</style>\n",
       "<table border=\"1\" class=\"dataframe\">\n",
       "  <thead>\n",
       "    <tr style=\"text-align: right;\">\n",
       "      <th></th>\n",
       "      <th>neighbourhood</th>\n",
       "      <th>price</th>\n",
       "    </tr>\n",
       "  </thead>\n",
       "  <tbody>\n",
       "    <tr>\n",
       "      <th>0</th>\n",
       "      <td>Allerton</td>\n",
       "      <td>118.78</td>\n",
       "    </tr>\n",
       "    <tr>\n",
       "      <th>1</th>\n",
       "      <td>Arden Heights</td>\n",
       "      <td>113.86</td>\n",
       "    </tr>\n",
       "    <tr>\n",
       "      <th>2</th>\n",
       "      <td>Arrochar</td>\n",
       "      <td>132.06</td>\n",
       "    </tr>\n",
       "    <tr>\n",
       "      <th>3</th>\n",
       "      <td>Arverne</td>\n",
       "      <td>230.26</td>\n",
       "    </tr>\n",
       "    <tr>\n",
       "      <th>4</th>\n",
       "      <td>Astoria</td>\n",
       "      <td>109.01</td>\n",
       "    </tr>\n",
       "  </tbody>\n",
       "</table>\n",
       "</div>"
      ],
      "text/plain": [
       "   neighbourhood   price\n",
       "0       Allerton  118.78\n",
       "1  Arden Heights  113.86\n",
       "2       Arrochar  132.06\n",
       "3        Arverne  230.26\n",
       "4        Astoria  109.01"
      ]
     },
     "execution_count": 12,
     "metadata": {},
     "output_type": "execute_result"
    }
   ],
   "source": [
    "df_mean = df_mean_price[['price']].reset_index()\n",
    "df_mean.head()"
   ]
  },
  {
   "cell_type": "code",
   "execution_count": 13,
   "metadata": {},
   "outputs": [
    {
     "data": {
      "text/html": [
       "<div>\n",
       "<style scoped>\n",
       "    .dataframe tbody tr th:only-of-type {\n",
       "        vertical-align: middle;\n",
       "    }\n",
       "\n",
       "    .dataframe tbody tr th {\n",
       "        vertical-align: top;\n",
       "    }\n",
       "\n",
       "    .dataframe thead th {\n",
       "        text-align: right;\n",
       "    }\n",
       "</style>\n",
       "<table border=\"1\" class=\"dataframe\">\n",
       "  <thead>\n",
       "    <tr style=\"text-align: right;\">\n",
       "      <th></th>\n",
       "      <th>pop_rank</th>\n",
       "      <th>neighbourhood</th>\n",
       "      <th>count</th>\n",
       "      <th>percent</th>\n",
       "      <th>price</th>\n",
       "    </tr>\n",
       "  </thead>\n",
       "  <tbody>\n",
       "    <tr>\n",
       "      <th>0</th>\n",
       "      <td>107</td>\n",
       "      <td>Allerton</td>\n",
       "      <td>45</td>\n",
       "      <td>0.112836</td>\n",
       "      <td>118.78</td>\n",
       "    </tr>\n",
       "    <tr>\n",
       "      <th>1</th>\n",
       "      <td>204</td>\n",
       "      <td>Arden Heights</td>\n",
       "      <td>7</td>\n",
       "      <td>0.017552</td>\n",
       "      <td>113.86</td>\n",
       "    </tr>\n",
       "    <tr>\n",
       "      <th>2</th>\n",
       "      <td>158</td>\n",
       "      <td>Arrochar</td>\n",
       "      <td>17</td>\n",
       "      <td>0.042627</td>\n",
       "      <td>132.06</td>\n",
       "    </tr>\n",
       "    <tr>\n",
       "      <th>3</th>\n",
       "      <td>64</td>\n",
       "      <td>Arverne</td>\n",
       "      <td>110</td>\n",
       "      <td>0.275821</td>\n",
       "      <td>230.26</td>\n",
       "    </tr>\n",
       "    <tr>\n",
       "      <th>4</th>\n",
       "      <td>14</td>\n",
       "      <td>Astoria</td>\n",
       "      <td>686</td>\n",
       "      <td>1.720117</td>\n",
       "      <td>109.01</td>\n",
       "    </tr>\n",
       "  </tbody>\n",
       "</table>\n",
       "</div>"
      ],
      "text/plain": [
       "   pop_rank  neighbourhood  count   percent   price\n",
       "0       107       Allerton     45  0.112836  118.78\n",
       "1       204  Arden Heights      7  0.017552  113.86\n",
       "2       158       Arrochar     17  0.042627  132.06\n",
       "3        64        Arverne    110  0.275821  230.26\n",
       "4        14        Astoria    686  1.720117  109.01"
      ]
     },
     "execution_count": 13,
     "metadata": {},
     "output_type": "execute_result"
    }
   ],
   "source": [
    "df_hood['price'] = df_mean['price']\n",
    "df_hood.rename(columns={'index':'pop_rank'}, inplace=True)\n",
    "df_hood.head()"
   ]
  },
  {
   "cell_type": "markdown",
   "metadata": {},
   "source": [
    "## Data Summarization and Visualization\n",
    "- How can we optimize rental revenue based on rental location and other characteristics?\n",
    "\n",
    "*We choose the mode, because the mode remains the same after making corrections for outliers*\n"
   ]
  },
  {
   "cell_type": "markdown",
   "metadata": {},
   "source": [
    "### Inspect distribution of top three most populous neighborhoods"
   ]
  },
  {
   "cell_type": "code",
   "execution_count": 14,
   "metadata": {},
   "outputs": [
    {
     "data": {
      "text/html": [
       "<div>\n",
       "<style scoped>\n",
       "    .dataframe tbody tr th:only-of-type {\n",
       "        vertical-align: middle;\n",
       "    }\n",
       "\n",
       "    .dataframe tbody tr th {\n",
       "        vertical-align: top;\n",
       "    }\n",
       "\n",
       "    .dataframe thead th {\n",
       "        text-align: right;\n",
       "    }\n",
       "</style>\n",
       "<table border=\"1\" class=\"dataframe\">\n",
       "  <thead>\n",
       "    <tr style=\"text-align: right;\">\n",
       "      <th></th>\n",
       "      <th>pop_rank</th>\n",
       "      <th>neighbourhood</th>\n",
       "      <th>count</th>\n",
       "      <th>percent</th>\n",
       "      <th>price</th>\n",
       "    </tr>\n",
       "  </thead>\n",
       "  <tbody>\n",
       "    <tr>\n",
       "      <th>12</th>\n",
       "      <td>0</td>\n",
       "      <td>Bedford-Stuyvesant</td>\n",
       "      <td>2779</td>\n",
       "      <td>6.968230</td>\n",
       "      <td>140.85</td>\n",
       "    </tr>\n",
       "    <tr>\n",
       "      <th>237</th>\n",
       "      <td>1</td>\n",
       "      <td>Williamsburg</td>\n",
       "      <td>2456</td>\n",
       "      <td>6.158321</td>\n",
       "      <td>183.21</td>\n",
       "    </tr>\n",
       "    <tr>\n",
       "      <th>108</th>\n",
       "      <td>2</td>\n",
       "      <td>Harlem</td>\n",
       "      <td>1878</td>\n",
       "      <td>4.709009</td>\n",
       "      <td>164.74</td>\n",
       "    </tr>\n",
       "    <tr>\n",
       "      <th>144</th>\n",
       "      <td>3</td>\n",
       "      <td>Midtown</td>\n",
       "      <td>1701</td>\n",
       "      <td>4.265189</td>\n",
       "      <td>381.70</td>\n",
       "    </tr>\n",
       "    <tr>\n",
       "      <th>30</th>\n",
       "      <td>4</td>\n",
       "      <td>Bushwick</td>\n",
       "      <td>1657</td>\n",
       "      <td>4.154861</td>\n",
       "      <td>114.35</td>\n",
       "    </tr>\n",
       "  </tbody>\n",
       "</table>\n",
       "</div>"
      ],
      "text/plain": [
       "     pop_rank       neighbourhood  count   percent   price\n",
       "12          0  Bedford-Stuyvesant   2779  6.968230  140.85\n",
       "237         1        Williamsburg   2456  6.158321  183.21\n",
       "108         2              Harlem   1878  4.709009  164.74\n",
       "144         3             Midtown   1701  4.265189  381.70\n",
       "30          4            Bushwick   1657  4.154861  114.35"
      ]
     },
     "execution_count": 14,
     "metadata": {},
     "output_type": "execute_result"
    }
   ],
   "source": [
    "df_hood.sort_values(by='pop_rank').head()"
   ]
  },
  {
   "cell_type": "code",
   "execution_count": 15,
   "metadata": {},
   "outputs": [],
   "source": [
    "df2_s1 = df.groupby('neighbourhood').get_group('Bedford-Stuyvesant')\n",
    "df2_s2 = df.groupby('neighbourhood').get_group('Williamsburg')\n",
    "df2_s3 = df.groupby('neighbourhood').get_group('Harlem')"
   ]
  },
  {
   "cell_type": "code",
   "execution_count": 16,
   "metadata": {},
   "outputs": [],
   "source": [
    "df_top3= pd.concat([df2_s1,df2_s2,df2_s3])"
   ]
  },
  {
   "cell_type": "markdown",
   "metadata": {},
   "source": [
    "#### Bedford-Stuyvesant"
   ]
  },
  {
   "cell_type": "code",
   "execution_count": 17,
   "metadata": {},
   "outputs": [
    {
     "data": {
      "image/png": "[encoded data removed]",
      "text/plain": [
       "<Figure size 432x288 with 1 Axes>"
      ]
     },
     "metadata": {
      "needs_background": "light"
     },
     "output_type": "display_data"
    }
   ],
   "source": [
    "plt.hist(df2_s1.price, bins=50)\n",
    "plt.title('Bedford-Stuyvesant')\n",
    "plt.xlabel('price');"
   ]
  },
  {
   "cell_type": "markdown",
   "metadata": {},
   "source": [
    "#### Examine extremes of prices - Bed Stuy"
   ]
  },
  {
   "cell_type": "code",
   "execution_count": 18,
   "metadata": {},
   "outputs": [
    {
     "name": "stdout",
     "output_type": "stream",
     "text": [
      "Log of outlier for uncorrected prices: (-inf, 7.313220387090301)\n"
     ]
    },
    {
     "name": "stderr",
     "output_type": "stream",
     "text": [
      "/opt/anaconda3/envs/MyEnv/lib/python3.7/site-packages/pandas/core/arraylike.py:364: RuntimeWarning: divide by zero encountered in log\n",
      "  result = getattr(ufunc, method)(*inputs, **kwargs)\n"
     ]
    }
   ],
   "source": [
    "top_out = np.log(df2_s1.price).max()\n",
    "bot_out = np.log(df2_s1.price).min()\n",
    "print(f'Log of outlier for uncorrected prices: {bot_out,top_out}');"
   ]
  },
  {
   "cell_type": "code",
   "execution_count": 19,
   "metadata": {},
   "outputs": [
    {
     "name": "stdout",
     "output_type": "stream",
     "text": [
      "Log of outlier for corrected prices: (2.70805020110221, 7.313220387090301)\n"
     ]
    }
   ],
   "source": [
    "#prices greater than a dollar ($1)\n",
    "df2_s1_corrected = df2_s1[df2_s1['price']>1]\n",
    "\n",
    "top_out = np.log(df2_s1_corrected.price).max()\n",
    "bot_out = np.log(df2_s1_corrected.price).min()\n",
    "print(f'Log of outlier for corrected prices: {bot_out,top_out}');"
   ]
  },
  {
   "cell_type": "code",
   "execution_count": 20,
   "metadata": {},
   "outputs": [
    {
     "data": {
      "image/png": "[encoded data removed]",
      "text/plain": [
       "<Figure size 432x288 with 1 Axes>"
      ]
     },
     "metadata": {
      "needs_background": "light"
     },
     "output_type": "display_data"
    }
   ],
   "source": [
    "plt.hist(np.log(df2_s1_corrected.price))\n",
    "plt.title('Bedford-Stuyvesant histogram analysis \\n log of prices > \\$1')\n",
    "plt.xlabel('log(price)');"
   ]
  },
  {
   "cell_type": "code",
   "execution_count": 21,
   "metadata": {},
   "outputs": [],
   "source": [
    "def reject_outliers(data, m=2):\n",
    "    return data[abs(data - np.mean(data)) < m * np.std(data)]"
   ]
  },
  {
   "cell_type": "code",
   "execution_count": 22,
   "metadata": {},
   "outputs": [
    {
     "data": {
      "image/png": "[encoded data removed]",
      "text/plain": [
       "<Figure size 432x288 with 1 Axes>"
      ]
     },
     "metadata": {
      "needs_background": "light"
     },
     "output_type": "display_data"
    }
   ],
   "source": [
    "sb.histplot(reject_outliers(df2_s1[ df2_s1['price']>0 ]['price']))\n",
    "plt.title('Bedford-Stuyvesant count \\n of central 95%')\n",
    "plt.show()"
   ]
  },
  {
   "cell_type": "code",
   "execution_count": 23,
   "metadata": {},
   "outputs": [
    {
     "data": {
      "image/png": "[encoded data removed]",
      "text/plain": [
       "<Figure size 432x288 with 1 Axes>"
      ]
     },
     "metadata": {
      "needs_background": "light"
     },
     "output_type": "display_data"
    }
   ],
   "source": [
    "array = reject_outliers(reject_outliers(df2_s1[ df2_s1['price']>0 ]['price']))\n",
    "array.name = 'log_price'\n",
    "\n",
    "sb.histplot(np.log(array), binwidth=0.5)\n",
    "plt.title('Bedford-Stuyvesant histogram of \\n log of price of central 95%')\n",
    "plt.show()"
   ]
  },
  {
   "cell_type": "code",
   "execution_count": 24,
   "metadata": {},
   "outputs": [
    {
     "name": "stdout",
     "output_type": "stream",
     "text": [
      "Bedford Stuyversant\n",
      "\n",
      "mean: $111\n",
      "median: $98\n",
      "mode: $150\n",
      "count: 2540\n"
     ]
    }
   ],
   "source": [
    "bed_stuy_mean = np.mean(array)\n",
    "bed_stuy_median = np.median(array)\n",
    "bed_stuy_mode = st.mode(array)\n",
    "\n",
    "print('Bedford Stuyversant\\n')\n",
    "print(f'mean: ${int(bed_stuy_mean)}')\n",
    "print(f'median: ${int(bed_stuy_median)}')\n",
    "print(f'mode: ${bed_stuy_mode.mode[0]}')\n",
    "print(f'count: {len(array)}')"
   ]
  },
  {
   "cell_type": "code",
   "execution_count": 25,
   "metadata": {},
   "outputs": [
    {
     "name": "stdout",
     "output_type": "stream",
     "text": [
      "Bedford Stuyversant\n",
      "\n",
      "mean of log of prices: 4.55\n",
      "median of log of prices: 4.58 ≠ log(median)\n",
      "mode of log of prices: 5.01\n",
      "count: 2540\n"
     ]
    }
   ],
   "source": [
    "log_array = np.log(array)\n",
    "bed_stuy_mean = np.mean(log_array)\n",
    "bed_stuy_median = np.median(log_array)\n",
    "bed_stuy_mode = st.mode(log_array)\n",
    "\n",
    "print('Bedford Stuyversant\\n')\n",
    "print(f'mean of log of prices: {round(bed_stuy_mean,2)}')\n",
    "print(f'median of log of prices: {round(bed_stuy_median,2)} ≠ log(median)')\n",
    "print(f'mode of log of prices: {round(bed_stuy_mode.mode[0],2)}')\n",
    "print(f'count: {len(array)}')"
   ]
  },
  {
   "cell_type": "markdown",
   "metadata": {},
   "source": [
    "### Bed-stuy \"Entire Home/ Apt\""
   ]
  },
  {
   "cell_type": "code",
   "execution_count": 26,
   "metadata": {},
   "outputs": [],
   "source": [
    "df2_bedstuy = df.groupby('neighbourhood').get_group('Bedford-Stuyvesant')\n",
    "df2_bedstuy;"
   ]
  },
  {
   "cell_type": "code",
   "execution_count": 27,
   "metadata": {},
   "outputs": [],
   "source": [
    "df2_bedstuy_apt = df2_bedstuy.groupby('room_type').get_group('Entire home/apt')\n",
    "df2_bedstuy_apt;"
   ]
  },
  {
   "cell_type": "code",
   "execution_count": 28,
   "metadata": {},
   "outputs": [
    {
     "data": {
      "image/png": "[encoded data removed]",
      "text/plain": [
       "<Figure size 432x288 with 1 Axes>"
      ]
     },
     "metadata": {
      "needs_background": "light"
     },
     "output_type": "display_data"
    }
   ],
   "source": [
    "plt.hist(df2_bedstuy_apt.price, bins=50)\n",
    "plt.title('Bedstuy- Entire home/apt')\n",
    "plt.xlabel('price')\n",
    "plt.ylabel(\"Count\");"
   ]
  },
  {
   "cell_type": "code",
   "execution_count": 29,
   "metadata": {},
   "outputs": [
    {
     "data": {
      "image/png": "[encoded data removed]",
      "text/plain": [
       "<Figure size 432x288 with 1 Axes>"
      ]
     },
     "metadata": {
      "needs_background": "light"
     },
     "output_type": "display_data"
    }
   ],
   "source": [
    "bedstuy_array = reject_outliers(df2_bedstuy_apt[ df2_bedstuy_apt['price']>0 ]['price'])\n",
    "array = reject_outliers(bedstuy_array)\n",
    "array.name = 'log_price'\n",
    "\n",
    "sb.histplot(np.log(array), binwidth=0.5)\n",
    "plt.title('Bedford-Stuyvesant Entire Home/ Apt'+\\\n",
    "    '\\n histogram of log of price of central 95%')\n",
    "plt.show()"
   ]
  },
  {
   "cell_type": "code",
   "execution_count": 30,
   "metadata": {},
   "outputs": [
    {
     "name": "stdout",
     "output_type": "stream",
     "text": [
      "Bedford Stuyversant Entire Home/ Apt\n",
      "mean of log of prices: 5.04\n",
      "median of log of prices: 5.04 ≠ log(median)\n",
      "mode of log of prices: 5.01\n",
      "count: 1273\n",
      "\n",
      "log(median): 5.04\n"
     ]
    }
   ],
   "source": [
    "log_array = np.log(array)\n",
    "bed_stuy_mean = np.mean(log_array)\n",
    "bed_stuy_median = np.median(log_array)\n",
    "bed_stuy_mode = st.mode(log_array)\n",
    "\n",
    "print('Bedford Stuyversant Entire Home/ Apt')\n",
    "print(f'mean of log of prices: {round(bed_stuy_mean,2)}')\n",
    "print(f'median of log of prices: {round(bed_stuy_median,2)} ≠ log(median)')\n",
    "print(f'mode of log of prices: {round(bed_stuy_mode.mode[0],2)}')\n",
    "print(f'count: {len(array)}\\n')\n",
    "\n",
    "print(f'log(median): {round(np.log(np.median(array)),2)}')"
   ]
  },
  {
   "cell_type": "markdown",
   "metadata": {},
   "source": [
    "#### Williamsburg"
   ]
  },
  {
   "cell_type": "code",
   "execution_count": 31,
   "metadata": {},
   "outputs": [
    {
     "data": {
      "image/png": "[encoded data removed]",
      "text/plain": [
       "<Figure size 432x288 with 1 Axes>"
      ]
     },
     "metadata": {
      "needs_background": "light"
     },
     "output_type": "display_data"
    }
   ],
   "source": [
    "plt.hist(df2_s2.price, bins=50)\n",
    "plt.title('Williamsburg')\n",
    "plt.xlabel(\"price\");"
   ]
  },
  {
   "cell_type": "markdown",
   "metadata": {},
   "source": [
    "#### Examine extreme of prices - Williamsburg"
   ]
  },
  {
   "cell_type": "code",
   "execution_count": 32,
   "metadata": {},
   "outputs": [
    {
     "name": "stderr",
     "output_type": "stream",
     "text": [
      "/opt/anaconda3/envs/MyEnv/lib/python3.7/site-packages/pandas/core/arraylike.py:364: RuntimeWarning: divide by zero encountered in log\n",
      "  result = getattr(ufunc, method)(*inputs, **kwargs)\n"
     ]
    },
    {
     "name": "stdout",
     "output_type": "stream",
     "text": [
      "Log of outlier for uncorrected prices: (-inf, 8.293049139768444)\n",
      "Log of outlier for corrected prices: (3.0, 8.29)\n"
     ]
    },
    {
     "data": {
      "image/png": "[encoded data removed]",
      "text/plain": [
       "<Figure size 432x288 with 1 Axes>"
      ]
     },
     "metadata": {
      "needs_background": "light"
     },
     "output_type": "display_data"
    }
   ],
   "source": [
    "top_out = np.log(df2_s2.price).max()\n",
    "bot_out = np.log(df2_s2.price).min()\n",
    "print(f'Log of outlier for uncorrected prices: {bot_out,top_out}')\n",
    "\n",
    "#prices greater than a dollar ($1)\n",
    "df2_s2_corrected = df2_s2[df2_s2['price']>1]\n",
    "top_out = np.log(df2_s2_corrected.price).max()\n",
    "bot_out = np.log(df2_s2_corrected.price).min()\n",
    "print(f'Log of outlier for corrected prices: {round(bot_out,2),round(top_out,2)}')\n",
    "\n",
    "plt.hist(np.log(df2_s2_corrected.price))\n",
    "plt.title('Williamsburg histogram analysis \\n log of prices > \\$1')\n",
    "plt.xlabel('log(price)');"
   ]
  },
  {
   "cell_type": "code",
   "execution_count": 33,
   "metadata": {},
   "outputs": [
    {
     "data": {
      "image/png": "[encoded data removed]",
      "text/plain": [
       "<Figure size 432x288 with 1 Axes>"
      ]
     },
     "metadata": {
      "needs_background": "light"
     },
     "output_type": "display_data"
    },
    {
     "data": {
      "image/png": "[encoded data removed]",
      "text/plain": [
       "<Figure size 432x288 with 1 Axes>"
      ]
     },
     "metadata": {
      "needs_background": "light"
     },
     "output_type": "display_data"
    }
   ],
   "source": [
    "sb.histplot(reject_outliers(df2_s2[ df2_s2['price']>0 ]['price']))\n",
    "plt.title('Williamsburg count \\n of central 95%')\n",
    "plt.show()\n",
    "\n",
    "array = reject_outliers(reject_outliers(df2_s2[ df2_s2['price']>0 ]['price']))\n",
    "array.name = 'log_price'\n",
    "\n",
    "sb.histplot(np.log(array), binwidth=0.5)\n",
    "plt.title('Williamsburg histogram of \\n log of price of central 95%')\n",
    "plt.show()"
   ]
  },
  {
   "cell_type": "code",
   "execution_count": 34,
   "metadata": {},
   "outputs": [
    {
     "name": "stdout",
     "output_type": "stream",
     "text": [
      "Williamsburg\n",
      "\n",
      "mean: $144\n",
      "median: $125\n",
      "mode: $200\n",
      "\n",
      "\n",
      "mean of natural log of prices: 4.81\n",
      "median of natural log of prices: 4.83 ≠ ln(median)\n",
      "mode of natural log of prices: 5.3\n",
      "count: 2253\n"
     ]
    }
   ],
   "source": [
    "williamsburg_mean = np.mean(array)\n",
    "williamsburg_median = np.median(array)\n",
    "williamsburg_mode = st.mode(array)\n",
    "\n",
    "print('Williamsburg\\n')\n",
    "print(f'mean: ${int(williamsburg_mean)}')\n",
    "print(f'median: ${int(williamsburg_median)}')\n",
    "print(f'mode: ${williamsburg_mode.mode[0]}')\n",
    "#print(f'count: {len(array)}')\n",
    "\n",
    "log_array = np.log(array)\n",
    "williamsburg_mean = np.mean(log_array)\n",
    "williamsburg_median = np.median(log_array)\n",
    "williamsburg_mode = st.mode(log_array)\n",
    "print('\\n')\n",
    "print(f'mean of natural log of prices: {round(williamsburg_mean,2)}')\n",
    "print(f'median of natural log of prices: {round(williamsburg_median,2)} ≠ ln(median)')\n",
    "print(f'mode of natural log of prices: {round(williamsburg_mode.mode[0],2)}')\n",
    "print(f'count: {len(array)}')"
   ]
  },
  {
   "cell_type": "markdown",
   "metadata": {},
   "source": [
    "### Williamsburg \"Entire Home/ Apt\""
   ]
  },
  {
   "cell_type": "code",
   "execution_count": 35,
   "metadata": {},
   "outputs": [
    {
     "data": {
      "image/png": "[encoded data removed]",
      "text/plain": [
       "<Figure size 432x288 with 1 Axes>"
      ]
     },
     "metadata": {
      "needs_background": "light"
     },
     "output_type": "display_data"
    }
   ],
   "source": [
    "df2_williamsburg = df.groupby('neighbourhood').get_group('Williamsburg')\n",
    "df2_williamsburg_apt = df2_williamsburg.groupby('room_type').get_group('Entire home/apt')\n",
    "plt.hist(df2_williamsburg_apt.price, bins=50)\n",
    "plt.title('Williamsburg- Entire home/apt')\n",
    "plt.xlabel('price')\n",
    "plt.ylabel(\"Count\");"
   ]
  },
  {
   "cell_type": "code",
   "execution_count": 36,
   "metadata": {},
   "outputs": [
    {
     "data": {
      "image/png": "[encoded data removed]",
      "text/plain": [
       "<Figure size 432x288 with 1 Axes>"
      ]
     },
     "metadata": {
      "needs_background": "light"
     },
     "output_type": "display_data"
    }
   ],
   "source": [
    "williamsburg_array = reject_outliers(df2_williamsburg_apt[ df2_williamsburg_apt['price']>0 ]['price'])\n",
    "array = reject_outliers(williamsburg_array)\n",
    "array.name = 'log_price'\n",
    "\n",
    "sb.histplot(np.log(array), binwidth=0.5)\n",
    "plt.title('Williamsburg Entire Home/ Apt'+\\\n",
    "    '\\n histogram of log of price of central 95%')\n",
    "plt.show()"
   ]
  },
  {
   "cell_type": "code",
   "execution_count": 37,
   "metadata": {},
   "outputs": [
    {
     "name": "stdout",
     "output_type": "stream",
     "text": [
      "Williamsburg Entire Home/ Apt\n",
      "\n",
      "mean of log of prices: 5.25\n",
      "median of log of prices: 5.28 ≠ log(median)\n",
      "mode of log of prices: 5.3\n",
      "count: 1244\n"
     ]
    }
   ],
   "source": [
    "log_array = np.log(array)\n",
    "williamsburg_mean = np.mean(log_array)\n",
    "williamsburg_median = np.median(log_array)\n",
    "williamsburg_mode = st.mode(log_array)\n",
    "\n",
    "print('Williamsburg Entire Home/ Apt\\n')\n",
    "print(f'mean of log of prices: {round(williamsburg_mean,2)}')\n",
    "print(f'median of log of prices: {round(williamsburg_median,2)} ≠ log(median)')\n",
    "print(f'mode of log of prices: {round(williamsburg_mode.mode[0],2)}')\n",
    "print(f'count: {len(array)}')"
   ]
  },
  {
   "cell_type": "markdown",
   "metadata": {},
   "source": [
    "#### Harlem"
   ]
  },
  {
   "cell_type": "code",
   "execution_count": 38,
   "metadata": {},
   "outputs": [
    {
     "data": {
      "image/png": "[encoded data removed]",
      "text/plain": [
       "<Figure size 432x288 with 1 Axes>"
      ]
     },
     "metadata": {
      "needs_background": "light"
     },
     "output_type": "display_data"
    }
   ],
   "source": [
    "plt.hist(df2_s3.price,bins = 50)\n",
    "plt.xlabel('Harlem')\n",
    "plt.ylabel(\"Price\");"
   ]
  },
  {
   "cell_type": "markdown",
   "metadata": {},
   "source": [
    "#### Examine extreme of prices - Harlem"
   ]
  },
  {
   "cell_type": "code",
   "execution_count": 39,
   "metadata": {},
   "outputs": [
    {
     "name": "stdout",
     "output_type": "stream",
     "text": [
      "Log of outlier for uncorrected prices: (2.3, 9.71)\n",
      "Log of outlier for corrected prices: (2.3, 9.71)\n"
     ]
    },
    {
     "data": {
      "image/png": "[encoded data removed]",
      "text/plain": [
       "<Figure size 432x288 with 1 Axes>"
      ]
     },
     "metadata": {
      "needs_background": "light"
     },
     "output_type": "display_data"
    }
   ],
   "source": [
    "top_out = np.log(df2_s3.price).max()\n",
    "bot_out = np.log(df2_s3.price).min()\n",
    "print(f'Log of outlier for uncorrected prices: {round(bot_out,2),round(top_out,2)}')\n",
    "\n",
    "#prices greater than a dollar ($1)\n",
    "df2_s3_corrected = df2_s3[df2_s3['price']>1]\n",
    "top_out = np.log(df2_s3_corrected.price).max()\n",
    "bot_out = np.log(df2_s3_corrected.price).min()\n",
    "print(f'Log of outlier for corrected prices: {round(bot_out,2),round(top_out,2)}')\n",
    "\n",
    "plt.hist(np.log(df2_s3_corrected.price))\n",
    "plt.title('Harlem histogram analysis \\n log of prices > \\$1')\n",
    "plt.xlabel('log(price)');"
   ]
  },
  {
   "cell_type": "code",
   "execution_count": 40,
   "metadata": {},
   "outputs": [
    {
     "data": {
      "image/png": "[encoded data removed]",
      "text/plain": [
       "<Figure size 432x288 with 1 Axes>"
      ]
     },
     "metadata": {
      "needs_background": "light"
     },
     "output_type": "display_data"
    },
    {
     "data": {
      "image/png": "[encoded data removed]",
      "text/plain": [
       "<Figure size 432x288 with 1 Axes>"
      ]
     },
     "metadata": {
      "needs_background": "light"
     },
     "output_type": "display_data"
    }
   ],
   "source": [
    "sb.histplot(reject_outliers(df2_s3[ df2_s3['price']>0 ]['price']))\n",
    "plt.title('Harlem count \\n of central 95%')\n",
    "plt.show()\n",
    "\n",
    "array = reject_outliers(reject_outliers(df2_s3[ df2_s3['price']>0 ]['price']))\n",
    "array.name = 'log_price'\n",
    "\n",
    "sb.histplot(np.log(array), binwidth=0.5)\n",
    "plt.title('Harlem histogram of \\n log of price of central 95%')\n",
    "plt.show()"
   ]
  },
  {
   "cell_type": "code",
   "execution_count": 41,
   "metadata": {},
   "outputs": [
    {
     "name": "stdout",
     "output_type": "stream",
     "text": [
      "Harlem\n",
      "\n",
      "mean: $121\n",
      "median: $100\n",
      "mode: $100\n",
      "\n",
      "\n",
      "mean of natural log of prices: 4.66\n",
      "median of natural log of prices: 4.61 ≠ ln(median)\n",
      "mode of natural log of prices: 4.61\n",
      "count: 1774\n"
     ]
    }
   ],
   "source": [
    "harlem_mean = np.mean(array)\n",
    "harlem_median = np.median(array)\n",
    "harlem_mode = st.mode(array)\n",
    "\n",
    "print('Harlem\\n')\n",
    "print(f'mean: ${int(harlem_mean)}')\n",
    "print(f'median: ${int(harlem_median)}')\n",
    "print(f'mode: ${harlem_mode.mode[0]}')\n",
    "#print(f'count: {len(array)}')\n",
    "\n",
    "log_array = np.log(array)\n",
    "harlem_mean = np.mean(log_array)\n",
    "harlem_median = np.median(log_array)\n",
    "harlem_mode = st.mode(log_array)\n",
    "print('\\n')\n",
    "print(f'mean of natural log of prices: {round(harlem_mean,2)}')\n",
    "print(f'median of natural log of prices: {round(harlem_median,2)} ≠ ln(median)')\n",
    "print(f'mode of natural log of prices: {round(harlem_mode.mode[0],2)}')\n",
    "print(f'count: {len(array)}')"
   ]
  },
  {
   "cell_type": "markdown",
   "metadata": {},
   "source": [
    "### Harlem \"Entire Home/ Apt\""
   ]
  },
  {
   "cell_type": "code",
   "execution_count": 42,
   "metadata": {},
   "outputs": [
    {
     "data": {
      "image/png": "[encoded data removed]",
      "text/plain": [
       "<Figure size 432x288 with 1 Axes>"
      ]
     },
     "metadata": {
      "needs_background": "light"
     },
     "output_type": "display_data"
    }
   ],
   "source": [
    "df2_harlem = df.groupby('neighbourhood').get_group('Harlem')\n",
    "df2_harlem_apt = df2_harlem.groupby('room_type').get_group('Entire home/apt')\n",
    "plt.hist(df2_harlem_apt.price, bins=50)\n",
    "plt.title('Harlem- Entire home/apt')\n",
    "plt.xlabel('price')\n",
    "plt.ylabel(\"Count\");"
   ]
  },
  {
   "cell_type": "code",
   "execution_count": 43,
   "metadata": {},
   "outputs": [
    {
     "data": {
      "image/png": "[encoded data removed]",
      "text/plain": [
       "<Figure size 432x288 with 1 Axes>"
      ]
     },
     "metadata": {
      "needs_background": "light"
     },
     "output_type": "display_data"
    }
   ],
   "source": [
    "harlem_array = reject_outliers(df2_harlem_apt[ df2_harlem_apt['price']>0 ]['price'])\n",
    "array = reject_outliers(harlem_array)\n",
    "array.name = 'log_price'\n",
    "\n",
    "sb.histplot(np.log(array), binwidth=0.5)\n",
    "plt.title('Harlem Entire Home/ Apt'+\\\n",
    "    '\\n histogram of log of price of central 95%')\n",
    "plt.show()"
   ]
  },
  {
   "cell_type": "code",
   "execution_count": 44,
   "metadata": {},
   "outputs": [
    {
     "name": "stdout",
     "output_type": "stream",
     "text": [
      "Harlem Entire Home/ Apt\n",
      "\n",
      "mean of log of prices: 5.01\n",
      "median of log of prices: 5.01 ≠ log(median)\n",
      "mode of log of prices: 5.01\n",
      "count: 789\n"
     ]
    }
   ],
   "source": [
    "log_array = np.log(array)\n",
    "harlem_mean = np.mean(log_array)\n",
    "harlem_median = np.median(log_array)\n",
    "harlem_mode = st.mode(log_array)\n",
    "\n",
    "print('Harlem Entire Home/ Apt\\n')\n",
    "print(f'mean of log of prices: {round(harlem_mean,2)}')\n",
    "print(f'median of log of prices: {round(harlem_median,2)} ≠ log(median)')\n",
    "print(f'mode of log of prices: {round(harlem_mode.mode[0],2)}')\n",
    "print(f'count: {len(array)}')"
   ]
  },
  {
   "cell_type": "markdown",
   "metadata": {},
   "source": [
    "#### Interpretation\n",
    "\n",
    "The aim was to get a normally distributed curve for our assumptions in obtaining a mean price per night. Without correcting for outliers, the data seems to approach a logarithmic or skewed normally distributed curve, in which case taking the median or mode for the optimum price would be most appropriate. We choose the mode, since this measure is more stable as it directly depends on the y-axis of the histogram where as the mean and median directly depends on the x-axis."
   ]
  },
  {
   "cell_type": "markdown",
   "metadata": {},
   "source": [
    "### Proportion of AirBNB Listings by Borough and Room Type in NYC"
   ]
  },
  {
   "cell_type": "markdown",
   "metadata": {},
   "source": [
    "The 1st pie chart shows 95% of the AirBnB listings are in Manhattan, Brooklyn and Queens. Brooklyn and Staten Island make up the remaining listings. Manhattan and Brooklyn alone make up neary 80% of the listings.\n",
    "\n",
    "The 2nd pie chart shows the listings distributed by room type. Most of the observations consist of entire home / apartments, or private rooms. Hotel and shared rooms are an insignificant proportion of the distribution."
   ]
  },
  {
   "cell_type": "code",
   "execution_count": 45,
   "metadata": {},
   "outputs": [
    {
     "data": {
      "image/png": "[encoded data removed]",
      "text/plain": [
       "<Figure size 432x288 with 1 Axes>"
      ]
     },
     "metadata": {},
     "output_type": "display_data"
    },
    {
     "data": {
      "image/png": "[encoded data removed]",
      "text/plain": [
       "<Figure size 432x288 with 1 Axes>"
      ]
     },
     "metadata": {},
     "output_type": "display_data"
    }
   ],
   "source": [
    "#Create a pie chart showing the percentage of listings per bourrough.\n",
    "df1 = df.neighbourhood_group.value_counts()\n",
    "df1.plot.pie(autopct=\"%.1f%%\")\n",
    "plt.show()\n",
    "\n",
    "df2 = df.room_type.value_counts()\n",
    "df2.plot.pie(autopct=\"%.1f%%\")\n",
    "plt.show()"
   ]
  },
  {
   "cell_type": "markdown",
   "metadata": {},
   "source": [
    "### NYC AirBNB Listing Price Statistics by Borough"
   ]
  },
  {
   "cell_type": "markdown",
   "metadata": {},
   "source": [
    "The table and box/whisker plots above provide illustration of the frequency, price statistics, and price distribution by neighborhood group or burrough in New York City. There is wide variability in the observations, with standard deviations consistently higher than the mean for each burrough. Mean prices are consistently higher than the median price, which suggest the prevalance of high values or outliers in the dataset that are pulling up the average. Average prices are highest in Manhattan, Brooklyn, and Queens respectively."
   ]
  },
  {
   "cell_type": "code",
   "execution_count": 46,
   "metadata": {},
   "outputs": [
    {
     "data": {
      "text/html": [
       "<div>\n",
       "<style scoped>\n",
       "    .dataframe tbody tr th:only-of-type {\n",
       "        vertical-align: middle;\n",
       "    }\n",
       "\n",
       "    .dataframe tbody tr th {\n",
       "        vertical-align: top;\n",
       "    }\n",
       "\n",
       "    .dataframe thead tr th {\n",
       "        text-align: left;\n",
       "    }\n",
       "\n",
       "    .dataframe thead tr:last-of-type th {\n",
       "        text-align: right;\n",
       "    }\n",
       "</style>\n",
       "<table border=\"1\" class=\"dataframe\">\n",
       "  <thead>\n",
       "    <tr>\n",
       "      <th></th>\n",
       "      <th>neighbourhood_group</th>\n",
       "      <th colspan=\"5\" halign=\"left\">price</th>\n",
       "    </tr>\n",
       "    <tr>\n",
       "      <th></th>\n",
       "      <th>count</th>\n",
       "      <th>mean</th>\n",
       "      <th>median</th>\n",
       "      <th>std</th>\n",
       "      <th>min</th>\n",
       "      <th>max</th>\n",
       "    </tr>\n",
       "    <tr>\n",
       "      <th>neighbourhood_group</th>\n",
       "      <th></th>\n",
       "      <th></th>\n",
       "      <th></th>\n",
       "      <th></th>\n",
       "      <th></th>\n",
       "      <th></th>\n",
       "    </tr>\n",
       "  </thead>\n",
       "  <tbody>\n",
       "    <tr>\n",
       "      <th>Bronx</th>\n",
       "      <td>1568</td>\n",
       "      <td>124.737245</td>\n",
       "      <td>90.0</td>\n",
       "      <td>278.572839</td>\n",
       "      <td>0</td>\n",
       "      <td>9994</td>\n",
       "    </tr>\n",
       "    <tr>\n",
       "      <th>Brooklyn</th>\n",
       "      <td>14845</td>\n",
       "      <td>157.927114</td>\n",
       "      <td>115.0</td>\n",
       "      <td>209.526092</td>\n",
       "      <td>0</td>\n",
       "      <td>10000</td>\n",
       "    </tr>\n",
       "    <tr>\n",
       "      <th>Manhattan</th>\n",
       "      <td>16847</td>\n",
       "      <td>264.933341</td>\n",
       "      <td>175.0</td>\n",
       "      <td>473.171623</td>\n",
       "      <td>0</td>\n",
       "      <td>16500</td>\n",
       "    </tr>\n",
       "    <tr>\n",
       "      <th>Queens</th>\n",
       "      <td>6175</td>\n",
       "      <td>131.365506</td>\n",
       "      <td>94.0</td>\n",
       "      <td>213.120396</td>\n",
       "      <td>0</td>\n",
       "      <td>10000</td>\n",
       "    </tr>\n",
       "    <tr>\n",
       "      <th>Staten Island</th>\n",
       "      <td>446</td>\n",
       "      <td>143.163677</td>\n",
       "      <td>103.5</td>\n",
       "      <td>194.997315</td>\n",
       "      <td>33</td>\n",
       "      <td>2500</td>\n",
       "    </tr>\n",
       "  </tbody>\n",
       "</table>\n",
       "</div>"
      ],
      "text/plain": [
       "                    neighbourhood_group       price                         \\\n",
       "                                  count        mean median         std min   \n",
       "neighbourhood_group                                                          \n",
       "Bronx                              1568  124.737245   90.0  278.572839   0   \n",
       "Brooklyn                          14845  157.927114  115.0  209.526092   0   \n",
       "Manhattan                         16847  264.933341  175.0  473.171623   0   \n",
       "Queens                             6175  131.365506   94.0  213.120396   0   \n",
       "Staten Island                       446  143.163677  103.5  194.997315  33   \n",
       "\n",
       "                            \n",
       "                       max  \n",
       "neighbourhood_group         \n",
       "Bronx                 9994  \n",
       "Brooklyn             10000  \n",
       "Manhattan            16500  \n",
       "Queens               10000  \n",
       "Staten Island         2500  "
      ]
     },
     "metadata": {},
     "output_type": "display_data"
    },
    {
     "data": {
      "image/png": "[encoded data removed]",
      "text/plain": [
       "<Figure size 432x288 with 1 Axes>"
      ]
     },
     "metadata": {
      "needs_background": "light"
     },
     "output_type": "display_data"
    },
    {
     "data": {
      "image/png": "[encoded data removed]",
      "text/plain": [
       "<Figure size 432x288 with 1 Axes>"
      ]
     },
     "metadata": {
      "needs_background": "light"
     },
     "output_type": "display_data"
    }
   ],
   "source": [
    "#Display the table of price statistics and counts by New York City burrough.\n",
    "display(df.groupby('neighbourhood_group').aggregate({'neighbourhood_group':'count',\n",
    "                                    'price':['mean','median','std','min','max']}))\n",
    "\n",
    "#Plot boxplot with outliers turned off.\n",
    "sb.boxplot(y = df['price'], \n",
    "            x = df['neighbourhood_group'], \n",
    "            showfliers = False)\n",
    "plt.title('Borough boxplot corrected \\n for interquartile rule')\n",
    "plt.show()\n",
    "\n",
    "sb.boxplot(y = df['price'], x = df['neighbourhood_group'], showfliers = True)\n",
    "plt.title('Borough boxplot uncorrected')\n",
    "plt.show()"
   ]
  },
  {
   "cell_type": "markdown",
   "metadata": {},
   "source": [
    "### NYC AirBNB Listing Price Statistics by Room Type\n",
    "The table and box/whisker plots above provide illustration of the frequency, price statistics, and price distribution by room type in New York City. As in the distribution by borough section, there is wide variuability with standard deviations consistently higher than the mean for each burrough (Hotel rooms being the exception). Mean prices are also consistently higher than the median price, which suggest the prevalance of high values or outliers in the dataset that are pulling up the average. Comparisons of the 1st boxplot (corrected for outliers) with the second (not corrected for outliers bear this out.\n",
    "\n",
    "#### Major Room Type Categories\n",
    "These categories encompass 98% of the listings and are likely to be more useful for informing business decisions.\n",
    "- Entire home/apt: Entire residences make up 57% of the dataset and are the category with the second highest average price. Prices range from \\\\$10 to \\\\$15K which could be indicative of data errors and/ or outliers.\n",
    "- Private room: Private rooms constitute 42% of the listings in the data and are the category with the third highest average price. Prices range from \\\\$10 to \\\\$16.5K which could be indicative of data errors and/ or outliers.\n",
    "\n",
    "#### Minor Room Type Categories\n",
    "Categories that are a significantly smaller number of the overall listings in the dataset. They are less likely to be useful for informing business decisions.\n",
    "- Shared room: Shared rooms constitute 1.4% of the listings with the lowest average price of all room type categories. Prices range from \\\\$10 to \\\\$10K which seems to indicate data entry errors and/or outliers.\n",
    "- Hotel room: Hotel rooms seem to have the highest average price and the least number of observations. This is the only category where the standard deviation is less than the mean, which suggest a more limited number of high priced outliers.\n"
   ]
  },
  {
   "cell_type": "code",
   "execution_count": 47,
   "metadata": {},
   "outputs": [
    {
     "data": {
      "text/html": [
       "<div>\n",
       "<style scoped>\n",
       "    .dataframe tbody tr th:only-of-type {\n",
       "        vertical-align: middle;\n",
       "    }\n",
       "\n",
       "    .dataframe tbody tr th {\n",
       "        vertical-align: top;\n",
       "    }\n",
       "\n",
       "    .dataframe thead tr th {\n",
       "        text-align: left;\n",
       "    }\n",
       "\n",
       "    .dataframe thead tr:last-of-type th {\n",
       "        text-align: right;\n",
       "    }\n",
       "</style>\n",
       "<table border=\"1\" class=\"dataframe\">\n",
       "  <thead>\n",
       "    <tr>\n",
       "      <th></th>\n",
       "      <th>room_type</th>\n",
       "      <th colspan=\"5\" halign=\"left\">price</th>\n",
       "    </tr>\n",
       "    <tr>\n",
       "      <th></th>\n",
       "      <th>count</th>\n",
       "      <th>mean</th>\n",
       "      <th>median</th>\n",
       "      <th>std</th>\n",
       "      <th>min</th>\n",
       "      <th>max</th>\n",
       "    </tr>\n",
       "    <tr>\n",
       "      <th>room_type</th>\n",
       "      <th></th>\n",
       "      <th></th>\n",
       "      <th></th>\n",
       "      <th></th>\n",
       "      <th></th>\n",
       "      <th></th>\n",
       "    </tr>\n",
       "  </thead>\n",
       "  <tbody>\n",
       "    <tr>\n",
       "      <th>Entire home/apt</th>\n",
       "      <td>22761</td>\n",
       "      <td>251.546022</td>\n",
       "      <td>180.0</td>\n",
       "      <td>338.044654</td>\n",
       "      <td>10</td>\n",
       "      <td>15000</td>\n",
       "    </tr>\n",
       "    <tr>\n",
       "      <th>Hotel room</th>\n",
       "      <td>202</td>\n",
       "      <td>371.648515</td>\n",
       "      <td>291.0</td>\n",
       "      <td>303.482491</td>\n",
       "      <td>0</td>\n",
       "      <td>1998</td>\n",
       "    </tr>\n",
       "    <tr>\n",
       "      <th>Private room</th>\n",
       "      <td>16361</td>\n",
       "      <td>122.936495</td>\n",
       "      <td>75.0</td>\n",
       "      <td>356.373737</td>\n",
       "      <td>10</td>\n",
       "      <td>16500</td>\n",
       "    </tr>\n",
       "    <tr>\n",
       "      <th>Shared room</th>\n",
       "      <td>557</td>\n",
       "      <td>119.398564</td>\n",
       "      <td>66.0</td>\n",
       "      <td>454.106078</td>\n",
       "      <td>10</td>\n",
       "      <td>10000</td>\n",
       "    </tr>\n",
       "  </tbody>\n",
       "</table>\n",
       "</div>"
      ],
      "text/plain": [
       "                room_type       price                              \n",
       "                    count        mean median         std min    max\n",
       "room_type                                                          \n",
       "Entire home/apt     22761  251.546022  180.0  338.044654  10  15000\n",
       "Hotel room            202  371.648515  291.0  303.482491   0   1998\n",
       "Private room        16361  122.936495   75.0  356.373737  10  16500\n",
       "Shared room           557  119.398564   66.0  454.106078  10  10000"
      ]
     },
     "metadata": {},
     "output_type": "display_data"
    },
    {
     "data": {
      "image/png": "[encoded data removed]",
      "text/plain": [
       "<Figure size 432x288 with 1 Axes>"
      ]
     },
     "metadata": {
      "needs_background": "light"
     },
     "output_type": "display_data"
    },
    {
     "data": {
      "image/png": "[encoded data removed]",
      "text/plain": [
       "<Figure size 432x288 with 1 Axes>"
      ]
     },
     "metadata": {
      "needs_background": "light"
     },
     "output_type": "display_data"
    }
   ],
   "source": [
    "#Display the table of price statistics and counts by New York City burrough.\n",
    "display(df.groupby('room_type').aggregate({'room_type':'count','price':['mean', 'median','std','min','max']}))\n",
    "\n",
    "#Plot boxplot with outliers turned off.\n",
    "sb.boxplot(y = df['price'], x = df['room_type'], showfliers = False)\n",
    "plt.title('Room Type boxplot corrected \\n for interquartile rule')\n",
    "plt.show()\n",
    "sb.boxplot(y = df['price'], x = df['room_type'], showfliers = True,saturation=0.75)\n",
    "plt.title('Room Type boxplot uncorrected')\n",
    "plt.show()"
   ]
  },
  {
   "cell_type": "markdown",
   "metadata": {},
   "source": [
    "### AirBNB Listings Statistics by Borough and Room Type in NYC\n",
    "The listings dataset was aggregated by borough and room type for statistical analysis. The results underscore the need to remove outliers and illogical values from the data."
   ]
  },
  {
   "cell_type": "code",
   "execution_count": 48,
   "metadata": {},
   "outputs": [
    {
     "data": {
      "text/html": [
       "<div>\n",
       "<style scoped>\n",
       "    .dataframe tbody tr th:only-of-type {\n",
       "        vertical-align: middle;\n",
       "    }\n",
       "\n",
       "    .dataframe tbody tr th {\n",
       "        vertical-align: top;\n",
       "    }\n",
       "\n",
       "    .dataframe thead tr th {\n",
       "        text-align: left;\n",
       "    }\n",
       "\n",
       "    .dataframe thead tr:last-of-type th {\n",
       "        text-align: right;\n",
       "    }\n",
       "</style>\n",
       "<table border=\"1\" class=\"dataframe\">\n",
       "  <thead>\n",
       "    <tr>\n",
       "      <th></th>\n",
       "      <th></th>\n",
       "      <th colspan=\"6\" halign=\"left\">price</th>\n",
       "    </tr>\n",
       "    <tr>\n",
       "      <th></th>\n",
       "      <th></th>\n",
       "      <th>median</th>\n",
       "      <th>mean</th>\n",
       "      <th>max</th>\n",
       "      <th>std</th>\n",
       "      <th>min</th>\n",
       "      <th>count</th>\n",
       "    </tr>\n",
       "    <tr>\n",
       "      <th>neighbourhood_group</th>\n",
       "      <th>room_type</th>\n",
       "      <th></th>\n",
       "      <th></th>\n",
       "      <th></th>\n",
       "      <th></th>\n",
       "      <th></th>\n",
       "      <th></th>\n",
       "    </tr>\n",
       "  </thead>\n",
       "  <tbody>\n",
       "    <tr>\n",
       "      <th rowspan=\"4\" valign=\"top\">Bronx</th>\n",
       "      <th>Entire home/apt</th>\n",
       "      <td>130.0</td>\n",
       "      <td>164.569293</td>\n",
       "      <td>2000</td>\n",
       "      <td>156.115405</td>\n",
       "      <td>28</td>\n",
       "      <td>736</td>\n",
       "    </tr>\n",
       "    <tr>\n",
       "      <th>Hotel room</th>\n",
       "      <td>0.0</td>\n",
       "      <td>0.000000</td>\n",
       "      <td>0</td>\n",
       "      <td>NaN</td>\n",
       "      <td>0</td>\n",
       "      <td>1</td>\n",
       "    </tr>\n",
       "    <tr>\n",
       "      <th>Private room</th>\n",
       "      <td>65.0</td>\n",
       "      <td>90.527112</td>\n",
       "      <td>9994</td>\n",
       "      <td>356.925302</td>\n",
       "      <td>11</td>\n",
       "      <td>793</td>\n",
       "    </tr>\n",
       "    <tr>\n",
       "      <th>Shared room</th>\n",
       "      <td>35.0</td>\n",
       "      <td>70.447368</td>\n",
       "      <td>775</td>\n",
       "      <td>124.059423</td>\n",
       "      <td>10</td>\n",
       "      <td>38</td>\n",
       "    </tr>\n",
       "    <tr>\n",
       "      <th rowspan=\"4\" valign=\"top\">Brooklyn</th>\n",
       "      <th>Entire home/apt</th>\n",
       "      <td>169.0</td>\n",
       "      <td>216.452539</td>\n",
       "      <td>7184</td>\n",
       "      <td>228.702022</td>\n",
       "      <td>30</td>\n",
       "      <td>8154</td>\n",
       "    </tr>\n",
       "    <tr>\n",
       "      <th>Hotel room</th>\n",
       "      <td>145.0</td>\n",
       "      <td>177.555556</td>\n",
       "      <td>529</td>\n",
       "      <td>194.204860</td>\n",
       "      <td>0</td>\n",
       "      <td>9</td>\n",
       "    </tr>\n",
       "    <tr>\n",
       "      <th>Private room</th>\n",
       "      <td>69.0</td>\n",
       "      <td>86.907680</td>\n",
       "      <td>10000</td>\n",
       "      <td>157.575675</td>\n",
       "      <td>10</td>\n",
       "      <td>6510</td>\n",
       "    </tr>\n",
       "    <tr>\n",
       "      <th>Shared room</th>\n",
       "      <td>45.0</td>\n",
       "      <td>70.389535</td>\n",
       "      <td>1000</td>\n",
       "      <td>84.576582</td>\n",
       "      <td>15</td>\n",
       "      <td>172</td>\n",
       "    </tr>\n",
       "    <tr>\n",
       "      <th rowspan=\"4\" valign=\"top\">Manhattan</th>\n",
       "      <th>Entire home/apt</th>\n",
       "      <td>205.0</td>\n",
       "      <td>300.645829</td>\n",
       "      <td>15000</td>\n",
       "      <td>420.865138</td>\n",
       "      <td>29</td>\n",
       "      <td>10862</td>\n",
       "    </tr>\n",
       "    <tr>\n",
       "      <th>Hotel room</th>\n",
       "      <td>307.0</td>\n",
       "      <td>392.163934</td>\n",
       "      <td>1998</td>\n",
       "      <td>308.268374</td>\n",
       "      <td>0</td>\n",
       "      <td>183</td>\n",
       "    </tr>\n",
       "    <tr>\n",
       "      <th>Private room</th>\n",
       "      <td>100.0</td>\n",
       "      <td>194.915346</td>\n",
       "      <td>16500</td>\n",
       "      <td>549.384274</td>\n",
       "      <td>10</td>\n",
       "      <td>5552</td>\n",
       "    </tr>\n",
       "    <tr>\n",
       "      <th>Shared room</th>\n",
       "      <td>82.0</td>\n",
       "      <td>175.124000</td>\n",
       "      <td>10000</td>\n",
       "      <td>662.012440</td>\n",
       "      <td>29</td>\n",
       "      <td>250</td>\n",
       "    </tr>\n",
       "    <tr>\n",
       "      <th rowspan=\"4\" valign=\"top\">Queens</th>\n",
       "      <th>Entire home/apt</th>\n",
       "      <td>150.0</td>\n",
       "      <td>191.693713</td>\n",
       "      <td>10000</td>\n",
       "      <td>245.295887</td>\n",
       "      <td>10</td>\n",
       "      <td>2736</td>\n",
       "    </tr>\n",
       "    <tr>\n",
       "      <th>Hotel room</th>\n",
       "      <td>209.0</td>\n",
       "      <td>189.888889</td>\n",
       "      <td>282</td>\n",
       "      <td>89.324471</td>\n",
       "      <td>0</td>\n",
       "      <td>9</td>\n",
       "    </tr>\n",
       "    <tr>\n",
       "      <th>Private room</th>\n",
       "      <td>65.0</td>\n",
       "      <td>83.118776</td>\n",
       "      <td>9000</td>\n",
       "      <td>169.268863</td>\n",
       "      <td>19</td>\n",
       "      <td>3334</td>\n",
       "    </tr>\n",
       "    <tr>\n",
       "      <th>Shared room</th>\n",
       "      <td>50.0</td>\n",
       "      <td>82.093750</td>\n",
       "      <td>1250</td>\n",
       "      <td>156.164089</td>\n",
       "      <td>16</td>\n",
       "      <td>96</td>\n",
       "    </tr>\n",
       "    <tr>\n",
       "      <th rowspan=\"3\" valign=\"top\">Staten Island</th>\n",
       "      <th>Entire home/apt</th>\n",
       "      <td>129.0</td>\n",
       "      <td>180.487179</td>\n",
       "      <td>2500</td>\n",
       "      <td>236.437035</td>\n",
       "      <td>39</td>\n",
       "      <td>273</td>\n",
       "    </tr>\n",
       "    <tr>\n",
       "      <th>Private room</th>\n",
       "      <td>68.0</td>\n",
       "      <td>84.412791</td>\n",
       "      <td>500</td>\n",
       "      <td>65.521555</td>\n",
       "      <td>33</td>\n",
       "      <td>172</td>\n",
       "    </tr>\n",
       "    <tr>\n",
       "      <th>Shared room</th>\n",
       "      <td>59.0</td>\n",
       "      <td>59.000000</td>\n",
       "      <td>59</td>\n",
       "      <td>NaN</td>\n",
       "      <td>59</td>\n",
       "      <td>1</td>\n",
       "    </tr>\n",
       "  </tbody>\n",
       "</table>\n",
       "</div>"
      ],
      "text/plain": [
       "                                     price                                     \\\n",
       "                                    median        mean    max         std min   \n",
       "neighbourhood_group room_type                                                   \n",
       "Bronx               Entire home/apt  130.0  164.569293   2000  156.115405  28   \n",
       "                    Hotel room         0.0    0.000000      0         NaN   0   \n",
       "                    Private room      65.0   90.527112   9994  356.925302  11   \n",
       "                    Shared room       35.0   70.447368    775  124.059423  10   \n",
       "Brooklyn            Entire home/apt  169.0  216.452539   7184  228.702022  30   \n",
       "                    Hotel room       145.0  177.555556    529  194.204860   0   \n",
       "                    Private room      69.0   86.907680  10000  157.575675  10   \n",
       "                    Shared room       45.0   70.389535   1000   84.576582  15   \n",
       "Manhattan           Entire home/apt  205.0  300.645829  15000  420.865138  29   \n",
       "                    Hotel room       307.0  392.163934   1998  308.268374   0   \n",
       "                    Private room     100.0  194.915346  16500  549.384274  10   \n",
       "                    Shared room       82.0  175.124000  10000  662.012440  29   \n",
       "Queens              Entire home/apt  150.0  191.693713  10000  245.295887  10   \n",
       "                    Hotel room       209.0  189.888889    282   89.324471   0   \n",
       "                    Private room      65.0   83.118776   9000  169.268863  19   \n",
       "                    Shared room       50.0   82.093750   1250  156.164089  16   \n",
       "Staten Island       Entire home/apt  129.0  180.487179   2500  236.437035  39   \n",
       "                    Private room      68.0   84.412791    500   65.521555  33   \n",
       "                    Shared room       59.0   59.000000     59         NaN  59   \n",
       "\n",
       "                                            \n",
       "                                     count  \n",
       "neighbourhood_group room_type               \n",
       "Bronx               Entire home/apt    736  \n",
       "                    Hotel room           1  \n",
       "                    Private room       793  \n",
       "                    Shared room         38  \n",
       "Brooklyn            Entire home/apt   8154  \n",
       "                    Hotel room           9  \n",
       "                    Private room      6510  \n",
       "                    Shared room        172  \n",
       "Manhattan           Entire home/apt  10862  \n",
       "                    Hotel room         183  \n",
       "                    Private room      5552  \n",
       "                    Shared room        250  \n",
       "Queens              Entire home/apt   2736  \n",
       "                    Hotel room           9  \n",
       "                    Private room      3334  \n",
       "                    Shared room         96  \n",
       "Staten Island       Entire home/apt    273  \n",
       "                    Private room       172  \n",
       "                    Shared room          1  "
      ]
     },
     "metadata": {},
     "output_type": "display_data"
    }
   ],
   "source": [
    "#Show price statistics by neighborhood group and room type\n",
    "df_borrough = df[[ 'neighbourhood_group', 'room_type','price']]\n",
    "display(df_borrough.groupby(['neighbourhood_group', 'room_type']).aggregate({'count',\n",
    "    'mean', 'median','std', 'min', 'max'}))"
   ]
  },
  {
   "cell_type": "markdown",
   "metadata": {},
   "source": [
    "### Correlation Matrix\n",
    "A correlation matrix was conducted for the listings data. At this point, most of the factors appear to be weakly correlated with price, which is the primary variable of concern."
   ]
  },
  {
   "cell_type": "code",
   "execution_count": 49,
   "metadata": {},
   "outputs": [
    {
     "data": {
      "text/html": [
       "<div>\n",
       "<style scoped>\n",
       "    .dataframe tbody tr th:only-of-type {\n",
       "        vertical-align: middle;\n",
       "    }\n",
       "\n",
       "    .dataframe tbody tr th {\n",
       "        vertical-align: top;\n",
       "    }\n",
       "\n",
       "    .dataframe thead th {\n",
       "        text-align: right;\n",
       "    }\n",
       "</style>\n",
       "<table border=\"1\" class=\"dataframe\">\n",
       "  <thead>\n",
       "    <tr style=\"text-align: right;\">\n",
       "      <th></th>\n",
       "      <th>id</th>\n",
       "      <th>host_id</th>\n",
       "      <th>latitude</th>\n",
       "      <th>longitude</th>\n",
       "      <th>price</th>\n",
       "      <th>minimum_nights</th>\n",
       "      <th>number_of_reviews</th>\n",
       "      <th>reviews_per_month</th>\n",
       "      <th>calculated_host_listings_count</th>\n",
       "      <th>availability_365</th>\n",
       "      <th>number_of_reviews_ltm</th>\n",
       "    </tr>\n",
       "  </thead>\n",
       "  <tbody>\n",
       "    <tr>\n",
       "      <th>id</th>\n",
       "      <td>1.000000</td>\n",
       "      <td>0.335359</td>\n",
       "      <td>-0.004366</td>\n",
       "      <td>0.079277</td>\n",
       "      <td>0.047596</td>\n",
       "      <td>-0.119177</td>\n",
       "      <td>-0.185724</td>\n",
       "      <td>0.246370</td>\n",
       "      <td>0.040260</td>\n",
       "      <td>0.286508</td>\n",
       "      <td>-0.080899</td>\n",
       "    </tr>\n",
       "    <tr>\n",
       "      <th>host_id</th>\n",
       "      <td>0.335359</td>\n",
       "      <td>1.000000</td>\n",
       "      <td>0.027405</td>\n",
       "      <td>0.144694</td>\n",
       "      <td>0.039558</td>\n",
       "      <td>-0.147641</td>\n",
       "      <td>-0.095511</td>\n",
       "      <td>0.271079</td>\n",
       "      <td>-0.024191</td>\n",
       "      <td>0.247358</td>\n",
       "      <td>0.126596</td>\n",
       "    </tr>\n",
       "    <tr>\n",
       "      <th>latitude</th>\n",
       "      <td>-0.004366</td>\n",
       "      <td>0.027405</td>\n",
       "      <td>1.000000</td>\n",
       "      <td>0.048995</td>\n",
       "      <td>0.027974</td>\n",
       "      <td>0.030504</td>\n",
       "      <td>-0.033748</td>\n",
       "      <td>-0.037751</td>\n",
       "      <td>0.033737</td>\n",
       "      <td>-0.018182</td>\n",
       "      <td>-0.034825</td>\n",
       "    </tr>\n",
       "    <tr>\n",
       "      <th>longitude</th>\n",
       "      <td>0.079277</td>\n",
       "      <td>0.144694</td>\n",
       "      <td>0.048995</td>\n",
       "      <td>1.000000</td>\n",
       "      <td>-0.123122</td>\n",
       "      <td>-0.083799</td>\n",
       "      <td>0.041505</td>\n",
       "      <td>0.102208</td>\n",
       "      <td>-0.071354</td>\n",
       "      <td>0.123042</td>\n",
       "      <td>0.057616</td>\n",
       "    </tr>\n",
       "    <tr>\n",
       "      <th>price</th>\n",
       "      <td>0.047596</td>\n",
       "      <td>0.039558</td>\n",
       "      <td>0.027974</td>\n",
       "      <td>-0.123122</td>\n",
       "      <td>1.000000</td>\n",
       "      <td>-0.035304</td>\n",
       "      <td>-0.032691</td>\n",
       "      <td>0.019562</td>\n",
       "      <td>0.042761</td>\n",
       "      <td>0.095482</td>\n",
       "      <td>-0.002458</td>\n",
       "    </tr>\n",
       "    <tr>\n",
       "      <th>minimum_nights</th>\n",
       "      <td>-0.119177</td>\n",
       "      <td>-0.147641</td>\n",
       "      <td>0.030504</td>\n",
       "      <td>-0.083799</td>\n",
       "      <td>-0.035304</td>\n",
       "      <td>1.000000</td>\n",
       "      <td>-0.138135</td>\n",
       "      <td>-0.227912</td>\n",
       "      <td>0.117108</td>\n",
       "      <td>-0.061480</td>\n",
       "      <td>-0.201601</td>\n",
       "    </tr>\n",
       "    <tr>\n",
       "      <th>number_of_reviews</th>\n",
       "      <td>-0.185724</td>\n",
       "      <td>-0.095511</td>\n",
       "      <td>-0.033748</td>\n",
       "      <td>0.041505</td>\n",
       "      <td>-0.032691</td>\n",
       "      <td>-0.138135</td>\n",
       "      <td>1.000000</td>\n",
       "      <td>0.520748</td>\n",
       "      <td>-0.092435</td>\n",
       "      <td>0.085598</td>\n",
       "      <td>0.640901</td>\n",
       "    </tr>\n",
       "    <tr>\n",
       "      <th>reviews_per_month</th>\n",
       "      <td>0.246370</td>\n",
       "      <td>0.271079</td>\n",
       "      <td>-0.037751</td>\n",
       "      <td>0.102208</td>\n",
       "      <td>0.019562</td>\n",
       "      <td>-0.227912</td>\n",
       "      <td>0.520748</td>\n",
       "      <td>1.000000</td>\n",
       "      <td>-0.029656</td>\n",
       "      <td>0.209944</td>\n",
       "      <td>0.815119</td>\n",
       "    </tr>\n",
       "    <tr>\n",
       "      <th>calculated_host_listings_count</th>\n",
       "      <td>0.040260</td>\n",
       "      <td>-0.024191</td>\n",
       "      <td>0.033737</td>\n",
       "      <td>-0.071354</td>\n",
       "      <td>0.042761</td>\n",
       "      <td>0.117108</td>\n",
       "      <td>-0.092435</td>\n",
       "      <td>-0.029656</td>\n",
       "      <td>1.000000</td>\n",
       "      <td>0.125885</td>\n",
       "      <td>-0.051553</td>\n",
       "    </tr>\n",
       "    <tr>\n",
       "      <th>availability_365</th>\n",
       "      <td>0.286508</td>\n",
       "      <td>0.247358</td>\n",
       "      <td>-0.018182</td>\n",
       "      <td>0.123042</td>\n",
       "      <td>0.095482</td>\n",
       "      <td>-0.061480</td>\n",
       "      <td>0.085598</td>\n",
       "      <td>0.209944</td>\n",
       "      <td>0.125885</td>\n",
       "      <td>1.000000</td>\n",
       "      <td>0.144143</td>\n",
       "    </tr>\n",
       "    <tr>\n",
       "      <th>number_of_reviews_ltm</th>\n",
       "      <td>-0.080899</td>\n",
       "      <td>0.126596</td>\n",
       "      <td>-0.034825</td>\n",
       "      <td>0.057616</td>\n",
       "      <td>-0.002458</td>\n",
       "      <td>-0.201601</td>\n",
       "      <td>0.640901</td>\n",
       "      <td>0.815119</td>\n",
       "      <td>-0.051553</td>\n",
       "      <td>0.144143</td>\n",
       "      <td>1.000000</td>\n",
       "    </tr>\n",
       "  </tbody>\n",
       "</table>\n",
       "</div>"
      ],
      "text/plain": [
       "                                      id   host_id  latitude  longitude  \\\n",
       "id                              1.000000  0.335359 -0.004366   0.079277   \n",
       "host_id                         0.335359  1.000000  0.027405   0.144694   \n",
       "latitude                       -0.004366  0.027405  1.000000   0.048995   \n",
       "longitude                       0.079277  0.144694  0.048995   1.000000   \n",
       "price                           0.047596  0.039558  0.027974  -0.123122   \n",
       "minimum_nights                 -0.119177 -0.147641  0.030504  -0.083799   \n",
       "number_of_reviews              -0.185724 -0.095511 -0.033748   0.041505   \n",
       "reviews_per_month               0.246370  0.271079 -0.037751   0.102208   \n",
       "calculated_host_listings_count  0.040260 -0.024191  0.033737  -0.071354   \n",
       "availability_365                0.286508  0.247358 -0.018182   0.123042   \n",
       "number_of_reviews_ltm          -0.080899  0.126596 -0.034825   0.057616   \n",
       "\n",
       "                                   price  minimum_nights  number_of_reviews  \\\n",
       "id                              0.047596       -0.119177          -0.185724   \n",
       "host_id                         0.039558       -0.147641          -0.095511   \n",
       "latitude                        0.027974        0.030504          -0.033748   \n",
       "longitude                      -0.123122       -0.083799           0.041505   \n",
       "price                           1.000000       -0.035304          -0.032691   \n",
       "minimum_nights                 -0.035304        1.000000          -0.138135   \n",
       "number_of_reviews              -0.032691       -0.138135           1.000000   \n",
       "reviews_per_month               0.019562       -0.227912           0.520748   \n",
       "calculated_host_listings_count  0.042761        0.117108          -0.092435   \n",
       "availability_365                0.095482       -0.061480           0.085598   \n",
       "number_of_reviews_ltm          -0.002458       -0.201601           0.640901   \n",
       "\n",
       "                                reviews_per_month  \\\n",
       "id                                       0.246370   \n",
       "host_id                                  0.271079   \n",
       "latitude                                -0.037751   \n",
       "longitude                                0.102208   \n",
       "price                                    0.019562   \n",
       "minimum_nights                          -0.227912   \n",
       "number_of_reviews                        0.520748   \n",
       "reviews_per_month                        1.000000   \n",
       "calculated_host_listings_count          -0.029656   \n",
       "availability_365                         0.209944   \n",
       "number_of_reviews_ltm                    0.815119   \n",
       "\n",
       "                                calculated_host_listings_count  \\\n",
       "id                                                    0.040260   \n",
       "host_id                                              -0.024191   \n",
       "latitude                                              0.033737   \n",
       "longitude                                            -0.071354   \n",
       "price                                                 0.042761   \n",
       "minimum_nights                                        0.117108   \n",
       "number_of_reviews                                    -0.092435   \n",
       "reviews_per_month                                    -0.029656   \n",
       "calculated_host_listings_count                        1.000000   \n",
       "availability_365                                      0.125885   \n",
       "number_of_reviews_ltm                                -0.051553   \n",
       "\n",
       "                                availability_365  number_of_reviews_ltm  \n",
       "id                                      0.286508              -0.080899  \n",
       "host_id                                 0.247358               0.126596  \n",
       "latitude                               -0.018182              -0.034825  \n",
       "longitude                               0.123042               0.057616  \n",
       "price                                   0.095482              -0.002458  \n",
       "minimum_nights                         -0.061480              -0.201601  \n",
       "number_of_reviews                       0.085598               0.640901  \n",
       "reviews_per_month                       0.209944               0.815119  \n",
       "calculated_host_listings_count          0.125885              -0.051553  \n",
       "availability_365                        1.000000               0.144143  \n",
       "number_of_reviews_ltm                   0.144143               1.000000  "
      ]
     },
     "execution_count": 49,
     "metadata": {},
     "output_type": "execute_result"
    }
   ],
   "source": [
    "df.corr(method='pearson')"
   ]
  },
  {
   "cell_type": "markdown",
   "metadata": {},
   "source": [
    "## Map Visualization of the Distribution of Price by Neighborhood in NYC\n",
    "\n",
    "This section provides analysis on the distribution of price by neighborhood. The mean price by neighborhood was computed from the data, keyed on a geojson file and incorporated into a folium map. There are several clusters of relatively higher prices, but the most significant one is around the Manhattan area."
   ]
  },
  {
   "cell_type": "markdown",
   "metadata": {},
   "source": [
    "## Conclusion and TakeAways\n",
    "\n",
    "- Average listing prices for Manhattan tend to be the highest, followed by Brooklyn, Queens, Staten Island, and the Bronx. Most of the listings are in Manhattan, Brooklyn, and Queens.\n",
    "\n",
    "- Entire residences/apartments and private rooms comprise ~97% of the listings here. Hotels and shared rooms are less than 2% of the dataset. Hotels tend to have the highest average price followed by residences, private rooms, and lastly shared rooms. Any predictive model underlying algorithms should be differentiated by room type. In terms of business analytics utility, residences and private rooms seem to be the most promising, while hotels and shared rooms may be less useful due to the relatively limited amount of data.\n",
    "- The variability in the data is significant. The data should be disaggregated by room type, and all values greater than the 3rd quartile + (1.5 * IQR) should be removed. also, all zero values should also be removed.\n",
    "- It is hypothesized that properties closer to either Manhattan or other significant attractions will have higher list prices ceteris paribus."
   ]
  },
  {
   "cell_type": "markdown",
   "metadata": {},
   "source": [
    "# Regression analysis\n",
    "- What price should be charged based on rental location/ characteristics?"
   ]
  },
  {
   "cell_type": "markdown",
   "metadata": {},
   "source": [
    "### Clean dataset"
   ]
  },
  {
   "cell_type": "code",
   "execution_count": 95,
   "metadata": {},
   "outputs": [
    {
     "data": {
      "text/html": [
       "<div>\n",
       "<style scoped>\n",
       "    .dataframe tbody tr th:only-of-type {\n",
       "        vertical-align: middle;\n",
       "    }\n",
       "\n",
       "    .dataframe tbody tr th {\n",
       "        vertical-align: top;\n",
       "    }\n",
       "\n",
       "    .dataframe thead th {\n",
       "        text-align: right;\n",
       "    }\n",
       "</style>\n",
       "<table border=\"1\" class=\"dataframe\">\n",
       "  <thead>\n",
       "    <tr style=\"text-align: right;\">\n",
       "      <th></th>\n",
       "      <th>price</th>\n",
       "    </tr>\n",
       "    <tr>\n",
       "      <th>neighbourhood</th>\n",
       "      <th></th>\n",
       "    </tr>\n",
       "  </thead>\n",
       "  <tbody>\n",
       "    <tr>\n",
       "      <th>Allerton</th>\n",
       "      <td>118.777778</td>\n",
       "    </tr>\n",
       "    <tr>\n",
       "      <th>Arden Heights</th>\n",
       "      <td>113.857143</td>\n",
       "    </tr>\n",
       "    <tr>\n",
       "      <th>Arrochar</th>\n",
       "      <td>132.058824</td>\n",
       "    </tr>\n",
       "    <tr>\n",
       "      <th>Arverne</th>\n",
       "      <td>230.263636</td>\n",
       "    </tr>\n",
       "    <tr>\n",
       "      <th>Astoria</th>\n",
       "      <td>109.008746</td>\n",
       "    </tr>\n",
       "    <tr>\n",
       "      <th>...</th>\n",
       "      <td>...</td>\n",
       "    </tr>\n",
       "    <tr>\n",
       "      <th>Windsor Terrace</th>\n",
       "      <td>175.403509</td>\n",
       "    </tr>\n",
       "    <tr>\n",
       "      <th>Woodhaven</th>\n",
       "      <td>94.529412</td>\n",
       "    </tr>\n",
       "    <tr>\n",
       "      <th>Woodlawn</th>\n",
       "      <td>141.000000</td>\n",
       "    </tr>\n",
       "    <tr>\n",
       "      <th>Woodrow</th>\n",
       "      <td>115.000000</td>\n",
       "    </tr>\n",
       "    <tr>\n",
       "      <th>Woodside</th>\n",
       "      <td>84.723214</td>\n",
       "    </tr>\n",
       "  </tbody>\n",
       "</table>\n",
       "<p>244 rows × 1 columns</p>\n",
       "</div>"
      ],
      "text/plain": [
       "                      price\n",
       "neighbourhood              \n",
       "Allerton         118.777778\n",
       "Arden Heights    113.857143\n",
       "Arrochar         132.058824\n",
       "Arverne          230.263636\n",
       "Astoria          109.008746\n",
       "...                     ...\n",
       "Windsor Terrace  175.403509\n",
       "Woodhaven         94.529412\n",
       "Woodlawn         141.000000\n",
       "Woodrow          115.000000\n",
       "Woodside          84.723214\n",
       "\n",
       "[244 rows x 1 columns]"
      ]
     },
     "execution_count": 95,
     "metadata": {},
     "output_type": "execute_result"
    }
   ],
   "source": [
    "hood_price_obj.mean()"
   ]
  },
  {
   "cell_type": "code",
   "execution_count": 101,
   "metadata": {},
   "outputs": [
    {
     "data": {
      "text/html": [
       "<div>\n",
       "<style scoped>\n",
       "    .dataframe tbody tr th:only-of-type {\n",
       "        vertical-align: middle;\n",
       "    }\n",
       "\n",
       "    .dataframe tbody tr th {\n",
       "        vertical-align: top;\n",
       "    }\n",
       "\n",
       "    .dataframe thead th {\n",
       "        text-align: right;\n",
       "    }\n",
       "</style>\n",
       "<table border=\"1\" class=\"dataframe\">\n",
       "  <thead>\n",
       "    <tr style=\"text-align: right;\">\n",
       "      <th></th>\n",
       "      <th>price</th>\n",
       "      <th>mean</th>\n",
       "      <th>median</th>\n",
       "      <th>mode</th>\n",
       "      <th>count</th>\n",
       "    </tr>\n",
       "    <tr>\n",
       "      <th>neighbourhood</th>\n",
       "      <th></th>\n",
       "      <th></th>\n",
       "      <th></th>\n",
       "      <th></th>\n",
       "      <th></th>\n",
       "    </tr>\n",
       "  </thead>\n",
       "  <tbody>\n",
       "    <tr>\n",
       "      <th>Allerton</th>\n",
       "      <td>118.777778</td>\n",
       "      <td>118.78</td>\n",
       "      <td>108.0</td>\n",
       "      <td>85</td>\n",
       "      <td>45</td>\n",
       "    </tr>\n",
       "    <tr>\n",
       "      <th>Arden Heights</th>\n",
       "      <td>113.857143</td>\n",
       "      <td>113.86</td>\n",
       "      <td>107.0</td>\n",
       "      <td>40</td>\n",
       "      <td>7</td>\n",
       "    </tr>\n",
       "    <tr>\n",
       "      <th>Arrochar</th>\n",
       "      <td>132.058824</td>\n",
       "      <td>132.06</td>\n",
       "      <td>102.0</td>\n",
       "      <td>75</td>\n",
       "      <td>17</td>\n",
       "    </tr>\n",
       "    <tr>\n",
       "      <th>Arverne</th>\n",
       "      <td>230.263636</td>\n",
       "      <td>230.26</td>\n",
       "      <td>167.0</td>\n",
       "      <td>100</td>\n",
       "      <td>110</td>\n",
       "    </tr>\n",
       "    <tr>\n",
       "      <th>Astoria</th>\n",
       "      <td>109.008746</td>\n",
       "      <td>109.01</td>\n",
       "      <td>82.0</td>\n",
       "      <td>60</td>\n",
       "      <td>686</td>\n",
       "    </tr>\n",
       "    <tr>\n",
       "      <th>...</th>\n",
       "      <td>...</td>\n",
       "      <td>...</td>\n",
       "      <td>...</td>\n",
       "      <td>...</td>\n",
       "      <td>...</td>\n",
       "    </tr>\n",
       "    <tr>\n",
       "      <th>Windsor Terrace</th>\n",
       "      <td>175.403509</td>\n",
       "      <td>175.40</td>\n",
       "      <td>150.0</td>\n",
       "      <td>150</td>\n",
       "      <td>114</td>\n",
       "    </tr>\n",
       "    <tr>\n",
       "      <th>Woodhaven</th>\n",
       "      <td>94.529412</td>\n",
       "      <td>94.53</td>\n",
       "      <td>75.0</td>\n",
       "      <td>55</td>\n",
       "      <td>85</td>\n",
       "    </tr>\n",
       "    <tr>\n",
       "      <th>Woodlawn</th>\n",
       "      <td>141.000000</td>\n",
       "      <td>141.00</td>\n",
       "      <td>106.0</td>\n",
       "      <td>43</td>\n",
       "      <td>7</td>\n",
       "    </tr>\n",
       "    <tr>\n",
       "      <th>Woodrow</th>\n",
       "      <td>115.000000</td>\n",
       "      <td>115.00</td>\n",
       "      <td>115.0</td>\n",
       "      <td>115</td>\n",
       "      <td>1</td>\n",
       "    </tr>\n",
       "    <tr>\n",
       "      <th>Woodside</th>\n",
       "      <td>84.723214</td>\n",
       "      <td>84.72</td>\n",
       "      <td>50.0</td>\n",
       "      <td>39</td>\n",
       "      <td>336</td>\n",
       "    </tr>\n",
       "  </tbody>\n",
       "</table>\n",
       "<p>244 rows × 5 columns</p>\n",
       "</div>"
      ],
      "text/plain": [
       "                      price    mean  median  mode  count\n",
       "neighbourhood                                           \n",
       "Allerton         118.777778  118.78   108.0    85     45\n",
       "Arden Heights    113.857143  113.86   107.0    40      7\n",
       "Arrochar         132.058824  132.06   102.0    75     17\n",
       "Arverne          230.263636  230.26   167.0   100    110\n",
       "Astoria          109.008746  109.01    82.0    60    686\n",
       "...                     ...     ...     ...   ...    ...\n",
       "Windsor Terrace  175.403509  175.40   150.0   150    114\n",
       "Woodhaven         94.529412   94.53    75.0    55     85\n",
       "Woodlawn         141.000000  141.00   106.0    43      7\n",
       "Woodrow          115.000000  115.00   115.0   115      1\n",
       "Woodside          84.723214   84.72    50.0    39    336\n",
       "\n",
       "[244 rows x 5 columns]"
      ]
     },
     "execution_count": 101,
     "metadata": {},
     "output_type": "execute_result"
    }
   ],
   "source": [
    "neighborhood = df['neighbourhood'].unique()\n",
    "neighborhood.sort()\n",
    "modes=[st.mode(hood_price_obj.get_group(arr)).mode[0][-1] for arr in neighborhood]\n",
    "counts=[st.mode(hood_price_obj.get_group(arr)).count[0][0] for arr in neighborhood]\n",
    "\n",
    "neighborhood = df['neighbourhood'].unique()\n",
    "neighborhood.sort()\n",
    "\n",
    "df_aux = hood_price_obj.mean()\n",
    "df_aux['mean']  = df_aux['price'].round(2)\n",
    "df_aux['median'] = hood_price_obj.median().round(2)\n",
    "df_aux['mode'] = pd.DataFrame(np.array(modes), index=df_aux.index)\n",
    "df_aux['count'] = pd.DataFrame(np.array(counts), index=df_aux.index)\n",
    "df_aux"
   ]
  },
  {
   "cell_type": "code",
   "execution_count": 103,
   "metadata": {},
   "outputs": [
    {
     "data": {
      "text/html": [
       "<div>\n",
       "<style scoped>\n",
       "    .dataframe tbody tr th:only-of-type {\n",
       "        vertical-align: middle;\n",
       "    }\n",
       "\n",
       "    .dataframe tbody tr th {\n",
       "        vertical-align: top;\n",
       "    }\n",
       "\n",
       "    .dataframe thead th {\n",
       "        text-align: right;\n",
       "    }\n",
       "</style>\n",
       "<table border=\"1\" class=\"dataframe\">\n",
       "  <thead>\n",
       "    <tr style=\"text-align: right;\">\n",
       "      <th></th>\n",
       "      <th>neighbourhood_group</th>\n",
       "      <th>neighbourhood</th>\n",
       "      <th>latitude</th>\n",
       "      <th>longitude</th>\n",
       "      <th>room_type</th>\n",
       "      <th>price</th>\n",
       "      <th>minimum_nights</th>\n",
       "      <th>number_of_reviews</th>\n",
       "      <th>last_review</th>\n",
       "      <th>reviews_per_month</th>\n",
       "      <th>calculated_host_listings_count</th>\n",
       "      <th>availability_365</th>\n",
       "      <th>number_of_reviews_ltm</th>\n",
       "      <th>mean_price</th>\n",
       "      <th>mode_price</th>\n",
       "      <th>median_price</th>\n",
       "      <th>count_hood</th>\n",
       "    </tr>\n",
       "  </thead>\n",
       "  <tbody>\n",
       "    <tr>\n",
       "      <th>0</th>\n",
       "      <td>Brooklyn</td>\n",
       "      <td>Greenpoint</td>\n",
       "      <td>40.737770</td>\n",
       "      <td>-73.953660</td>\n",
       "      <td>Hotel room</td>\n",
       "      <td>308</td>\n",
       "      <td>2</td>\n",
       "      <td>42</td>\n",
       "      <td>2022-07-18</td>\n",
       "      <td>0.30</td>\n",
       "      <td>30</td>\n",
       "      <td>217</td>\n",
       "      <td>4</td>\n",
       "      <td>198.15</td>\n",
       "      <td>150</td>\n",
       "      <td>150.5</td>\n",
       "      <td>708</td>\n",
       "    </tr>\n",
       "    <tr>\n",
       "      <th>1</th>\n",
       "      <td>Brooklyn</td>\n",
       "      <td>Kensington</td>\n",
       "      <td>40.645290</td>\n",
       "      <td>-73.972380</td>\n",
       "      <td>Private room</td>\n",
       "      <td>299</td>\n",
       "      <td>30</td>\n",
       "      <td>9</td>\n",
       "      <td>2018-10-19</td>\n",
       "      <td>0.11</td>\n",
       "      <td>9</td>\n",
       "      <td>356</td>\n",
       "      <td>0</td>\n",
       "      <td>151.76</td>\n",
       "      <td>35</td>\n",
       "      <td>85.0</td>\n",
       "      <td>117</td>\n",
       "    </tr>\n",
       "    <tr>\n",
       "      <th>2</th>\n",
       "      <td>Queens</td>\n",
       "      <td>Ridgewood</td>\n",
       "      <td>40.703090</td>\n",
       "      <td>-73.899630</td>\n",
       "      <td>Entire home/apt</td>\n",
       "      <td>425</td>\n",
       "      <td>30</td>\n",
       "      <td>13</td>\n",
       "      <td>2019-11-12</td>\n",
       "      <td>0.10</td>\n",
       "      <td>6</td>\n",
       "      <td>365</td>\n",
       "      <td>0</td>\n",
       "      <td>106.47</td>\n",
       "      <td>50</td>\n",
       "      <td>78.0</td>\n",
       "      <td>315</td>\n",
       "    </tr>\n",
       "    <tr>\n",
       "      <th>3</th>\n",
       "      <td>Bronx</td>\n",
       "      <td>Mott Haven</td>\n",
       "      <td>40.806350</td>\n",
       "      <td>-73.922010</td>\n",
       "      <td>Private room</td>\n",
       "      <td>60</td>\n",
       "      <td>30</td>\n",
       "      <td>0</td>\n",
       "      <td>NaN</td>\n",
       "      <td>NaN</td>\n",
       "      <td>1</td>\n",
       "      <td>83</td>\n",
       "      <td>0</td>\n",
       "      <td>136.97</td>\n",
       "      <td>65</td>\n",
       "      <td>99.5</td>\n",
       "      <td>92</td>\n",
       "    </tr>\n",
       "    <tr>\n",
       "      <th>4</th>\n",
       "      <td>Manhattan</td>\n",
       "      <td>Morningside Heights</td>\n",
       "      <td>40.806300</td>\n",
       "      <td>-73.959850</td>\n",
       "      <td>Private room</td>\n",
       "      <td>75</td>\n",
       "      <td>31</td>\n",
       "      <td>135</td>\n",
       "      <td>2022-07-11</td>\n",
       "      <td>0.95</td>\n",
       "      <td>1</td>\n",
       "      <td>219</td>\n",
       "      <td>4</td>\n",
       "      <td>134.1</td>\n",
       "      <td>80</td>\n",
       "      <td>100.0</td>\n",
       "      <td>188</td>\n",
       "    </tr>\n",
       "    <tr>\n",
       "      <th>...</th>\n",
       "      <td>...</td>\n",
       "      <td>...</td>\n",
       "      <td>...</td>\n",
       "      <td>...</td>\n",
       "      <td>...</td>\n",
       "      <td>...</td>\n",
       "      <td>...</td>\n",
       "      <td>...</td>\n",
       "      <td>...</td>\n",
       "      <td>...</td>\n",
       "      <td>...</td>\n",
       "      <td>...</td>\n",
       "      <td>...</td>\n",
       "      <td>...</td>\n",
       "      <td>...</td>\n",
       "      <td>...</td>\n",
       "      <td>...</td>\n",
       "    </tr>\n",
       "    <tr>\n",
       "      <th>39876</th>\n",
       "      <td>Manhattan</td>\n",
       "      <td>Ellis Island</td>\n",
       "      <td>40.718220</td>\n",
       "      <td>-74.037940</td>\n",
       "      <td>Entire home/apt</td>\n",
       "      <td>135</td>\n",
       "      <td>365</td>\n",
       "      <td>2</td>\n",
       "      <td>2019-09-16</td>\n",
       "      <td>0.04</td>\n",
       "      <td>7</td>\n",
       "      <td>365</td>\n",
       "      <td>0</td>\n",
       "      <td>198.28</td>\n",
       "      <td>260</td>\n",
       "      <td>178.0</td>\n",
       "      <td>79</td>\n",
       "    </tr>\n",
       "    <tr>\n",
       "      <th>39877</th>\n",
       "      <td>Queens</td>\n",
       "      <td>Rosedale</td>\n",
       "      <td>40.647244</td>\n",
       "      <td>-73.720088</td>\n",
       "      <td>Entire home/apt</td>\n",
       "      <td>180</td>\n",
       "      <td>1</td>\n",
       "      <td>5</td>\n",
       "      <td>2022-08-24</td>\n",
       "      <td>1.92</td>\n",
       "      <td>1</td>\n",
       "      <td>0</td>\n",
       "      <td>5</td>\n",
       "      <td>127.24</td>\n",
       "      <td>90</td>\n",
       "      <td>100.0</td>\n",
       "      <td>147</td>\n",
       "    </tr>\n",
       "    <tr>\n",
       "      <th>39878</th>\n",
       "      <td>Manhattan</td>\n",
       "      <td>Upper West Side</td>\n",
       "      <td>40.787320</td>\n",
       "      <td>-74.004470</td>\n",
       "      <td>Entire home/apt</td>\n",
       "      <td>240</td>\n",
       "      <td>5</td>\n",
       "      <td>18</td>\n",
       "      <td>2022-08-22</td>\n",
       "      <td>2.87</td>\n",
       "      <td>1</td>\n",
       "      <td>152</td>\n",
       "      <td>18</td>\n",
       "      <td>231.74</td>\n",
       "      <td>150</td>\n",
       "      <td>157.0</td>\n",
       "      <td>1630</td>\n",
       "    </tr>\n",
       "    <tr>\n",
       "      <th>39879</th>\n",
       "      <td>Brooklyn</td>\n",
       "      <td>Williamsburg</td>\n",
       "      <td>40.709192</td>\n",
       "      <td>-73.970121</td>\n",
       "      <td>Entire home/apt</td>\n",
       "      <td>400</td>\n",
       "      <td>30</td>\n",
       "      <td>0</td>\n",
       "      <td>NaN</td>\n",
       "      <td>NaN</td>\n",
       "      <td>1</td>\n",
       "      <td>311</td>\n",
       "      <td>0</td>\n",
       "      <td>183.21</td>\n",
       "      <td>200</td>\n",
       "      <td>136.0</td>\n",
       "      <td>2456</td>\n",
       "    </tr>\n",
       "    <tr>\n",
       "      <th>39880</th>\n",
       "      <td>Manhattan</td>\n",
       "      <td>Ellis Island</td>\n",
       "      <td>40.718350</td>\n",
       "      <td>-74.044160</td>\n",
       "      <td>Private room</td>\n",
       "      <td>40</td>\n",
       "      <td>1</td>\n",
       "      <td>15</td>\n",
       "      <td>2021-10-25</td>\n",
       "      <td>0.91</td>\n",
       "      <td>1</td>\n",
       "      <td>0</td>\n",
       "      <td>4</td>\n",
       "      <td>198.28</td>\n",
       "      <td>260</td>\n",
       "      <td>178.0</td>\n",
       "      <td>79</td>\n",
       "    </tr>\n",
       "  </tbody>\n",
       "</table>\n",
       "<p>39881 rows × 17 columns</p>\n",
       "</div>"
      ],
      "text/plain": [
       "      neighbourhood_group        neighbourhood   latitude  longitude  \\\n",
       "0                Brooklyn           Greenpoint  40.737770 -73.953660   \n",
       "1                Brooklyn           Kensington  40.645290 -73.972380   \n",
       "2                  Queens            Ridgewood  40.703090 -73.899630   \n",
       "3                   Bronx           Mott Haven  40.806350 -73.922010   \n",
       "4               Manhattan  Morningside Heights  40.806300 -73.959850   \n",
       "...                   ...                  ...        ...        ...   \n",
       "39876           Manhattan         Ellis Island  40.718220 -74.037940   \n",
       "39877              Queens             Rosedale  40.647244 -73.720088   \n",
       "39878           Manhattan      Upper West Side  40.787320 -74.004470   \n",
       "39879            Brooklyn         Williamsburg  40.709192 -73.970121   \n",
       "39880           Manhattan         Ellis Island  40.718350 -74.044160   \n",
       "\n",
       "             room_type  price  minimum_nights  number_of_reviews last_review  \\\n",
       "0           Hotel room    308               2                 42  2022-07-18   \n",
       "1         Private room    299              30                  9  2018-10-19   \n",
       "2      Entire home/apt    425              30                 13  2019-11-12   \n",
       "3         Private room     60              30                  0         NaN   \n",
       "4         Private room     75              31                135  2022-07-11   \n",
       "...                ...    ...             ...                ...         ...   \n",
       "39876  Entire home/apt    135             365                  2  2019-09-16   \n",
       "39877  Entire home/apt    180               1                  5  2022-08-24   \n",
       "39878  Entire home/apt    240               5                 18  2022-08-22   \n",
       "39879  Entire home/apt    400              30                  0         NaN   \n",
       "39880     Private room     40               1                 15  2021-10-25   \n",
       "\n",
       "       reviews_per_month  calculated_host_listings_count  availability_365  \\\n",
       "0                   0.30                              30               217   \n",
       "1                   0.11                               9               356   \n",
       "2                   0.10                               6               365   \n",
       "3                    NaN                               1                83   \n",
       "4                   0.95                               1               219   \n",
       "...                  ...                             ...               ...   \n",
       "39876               0.04                               7               365   \n",
       "39877               1.92                               1                 0   \n",
       "39878               2.87                               1               152   \n",
       "39879                NaN                               1               311   \n",
       "39880               0.91                               1                 0   \n",
       "\n",
       "       number_of_reviews_ltm mean_price mode_price median_price count_hood  \n",
       "0                          4     198.15        150        150.5        708  \n",
       "1                          0     151.76         35         85.0        117  \n",
       "2                          0     106.47         50         78.0        315  \n",
       "3                          0     136.97         65         99.5         92  \n",
       "4                          4      134.1         80        100.0        188  \n",
       "...                      ...        ...        ...          ...        ...  \n",
       "39876                      0     198.28        260        178.0         79  \n",
       "39877                      5     127.24         90        100.0        147  \n",
       "39878                     18     231.74        150        157.0       1630  \n",
       "39879                      0     183.21        200        136.0       2456  \n",
       "39880                      4     198.28        260        178.0         79  \n",
       "\n",
       "[39881 rows x 17 columns]"
      ]
     },
     "execution_count": 103,
     "metadata": {},
     "output_type": "execute_result"
    }
   ],
   "source": [
    "dat = df.loc[:,'neighbourhood_group':'number_of_reviews_ltm']\n",
    "dat[['mean_price']] = None\n",
    "dat[['mode_price']] = None\n",
    "dat[['median_price']] = None\n",
    "dat[['count_hood']] = None\n",
    "\n",
    "for n in df_aux.index:\n",
    "    updated = dat['neighbourhood']==n\n",
    "    dat.loc[updated, 'mean_price'] = df_aux.loc[n,'mean']\n",
    "    \n",
    "    updated = dat['neighbourhood']==n\n",
    "    dat.loc[updated, 'mode_price'] = df_aux.loc[n,'mode']\n",
    "    \n",
    "    updated = dat['neighbourhood']==n\n",
    "    dat.loc[updated, 'median_price'] = df_aux.loc[n,'median']\n",
    "    \n",
    "    updated = dat['neighbourhood']==n\n",
    "    dat.loc[updated, 'count_hood'] = df_aux.loc[n,'count']\n",
    "    \n",
    "dat"
   ]
  },
  {
   "cell_type": "markdown",
   "metadata": {},
   "source": [
    "#### *analyze neighborhoods that have more than 30 observations*\n",
    "https://machinelearningmastery.com/a-gentle-introduction-to-the-bootstrap-method/"
   ]
  },
  {
   "cell_type": "code",
   "execution_count": 104,
   "metadata": {},
   "outputs": [
    {
     "data": {
      "text/html": [
       "<div>\n",
       "<style scoped>\n",
       "    .dataframe tbody tr th:only-of-type {\n",
       "        vertical-align: middle;\n",
       "    }\n",
       "\n",
       "    .dataframe tbody tr th {\n",
       "        vertical-align: top;\n",
       "    }\n",
       "\n",
       "    .dataframe thead th {\n",
       "        text-align: right;\n",
       "    }\n",
       "</style>\n",
       "<table border=\"1\" class=\"dataframe\">\n",
       "  <thead>\n",
       "    <tr style=\"text-align: right;\">\n",
       "      <th></th>\n",
       "      <th>neighbourhood_group</th>\n",
       "      <th>neighbourhood</th>\n",
       "      <th>latitude</th>\n",
       "      <th>longitude</th>\n",
       "      <th>room_type</th>\n",
       "      <th>price</th>\n",
       "      <th>minimum_nights</th>\n",
       "      <th>number_of_reviews</th>\n",
       "      <th>last_review</th>\n",
       "      <th>reviews_per_month</th>\n",
       "      <th>calculated_host_listings_count</th>\n",
       "      <th>availability_365</th>\n",
       "      <th>number_of_reviews_ltm</th>\n",
       "      <th>mean_price</th>\n",
       "      <th>mode_price</th>\n",
       "      <th>median_price</th>\n",
       "      <th>count_hood</th>\n",
       "    </tr>\n",
       "  </thead>\n",
       "  <tbody>\n",
       "    <tr>\n",
       "      <th>0</th>\n",
       "      <td>Brooklyn</td>\n",
       "      <td>Greenpoint</td>\n",
       "      <td>40.737770</td>\n",
       "      <td>-73.953660</td>\n",
       "      <td>Hotel room</td>\n",
       "      <td>308</td>\n",
       "      <td>2</td>\n",
       "      <td>42</td>\n",
       "      <td>2022-07-18</td>\n",
       "      <td>0.30</td>\n",
       "      <td>30</td>\n",
       "      <td>217</td>\n",
       "      <td>4</td>\n",
       "      <td>198.15</td>\n",
       "      <td>150</td>\n",
       "      <td>150.5</td>\n",
       "      <td>708</td>\n",
       "    </tr>\n",
       "    <tr>\n",
       "      <th>1</th>\n",
       "      <td>Brooklyn</td>\n",
       "      <td>Kensington</td>\n",
       "      <td>40.645290</td>\n",
       "      <td>-73.972380</td>\n",
       "      <td>Private room</td>\n",
       "      <td>299</td>\n",
       "      <td>30</td>\n",
       "      <td>9</td>\n",
       "      <td>2018-10-19</td>\n",
       "      <td>0.11</td>\n",
       "      <td>9</td>\n",
       "      <td>356</td>\n",
       "      <td>0</td>\n",
       "      <td>151.76</td>\n",
       "      <td>35</td>\n",
       "      <td>85.0</td>\n",
       "      <td>117</td>\n",
       "    </tr>\n",
       "    <tr>\n",
       "      <th>2</th>\n",
       "      <td>Queens</td>\n",
       "      <td>Ridgewood</td>\n",
       "      <td>40.703090</td>\n",
       "      <td>-73.899630</td>\n",
       "      <td>Entire home/apt</td>\n",
       "      <td>425</td>\n",
       "      <td>30</td>\n",
       "      <td>13</td>\n",
       "      <td>2019-11-12</td>\n",
       "      <td>0.10</td>\n",
       "      <td>6</td>\n",
       "      <td>365</td>\n",
       "      <td>0</td>\n",
       "      <td>106.47</td>\n",
       "      <td>50</td>\n",
       "      <td>78.0</td>\n",
       "      <td>315</td>\n",
       "    </tr>\n",
       "    <tr>\n",
       "      <th>3</th>\n",
       "      <td>Bronx</td>\n",
       "      <td>Mott Haven</td>\n",
       "      <td>40.806350</td>\n",
       "      <td>-73.922010</td>\n",
       "      <td>Private room</td>\n",
       "      <td>60</td>\n",
       "      <td>30</td>\n",
       "      <td>0</td>\n",
       "      <td>NaN</td>\n",
       "      <td>NaN</td>\n",
       "      <td>1</td>\n",
       "      <td>83</td>\n",
       "      <td>0</td>\n",
       "      <td>136.97</td>\n",
       "      <td>65</td>\n",
       "      <td>99.5</td>\n",
       "      <td>92</td>\n",
       "    </tr>\n",
       "    <tr>\n",
       "      <th>4</th>\n",
       "      <td>Manhattan</td>\n",
       "      <td>Morningside Heights</td>\n",
       "      <td>40.806300</td>\n",
       "      <td>-73.959850</td>\n",
       "      <td>Private room</td>\n",
       "      <td>75</td>\n",
       "      <td>31</td>\n",
       "      <td>135</td>\n",
       "      <td>2022-07-11</td>\n",
       "      <td>0.95</td>\n",
       "      <td>1</td>\n",
       "      <td>219</td>\n",
       "      <td>4</td>\n",
       "      <td>134.1</td>\n",
       "      <td>80</td>\n",
       "      <td>100.0</td>\n",
       "      <td>188</td>\n",
       "    </tr>\n",
       "    <tr>\n",
       "      <th>...</th>\n",
       "      <td>...</td>\n",
       "      <td>...</td>\n",
       "      <td>...</td>\n",
       "      <td>...</td>\n",
       "      <td>...</td>\n",
       "      <td>...</td>\n",
       "      <td>...</td>\n",
       "      <td>...</td>\n",
       "      <td>...</td>\n",
       "      <td>...</td>\n",
       "      <td>...</td>\n",
       "      <td>...</td>\n",
       "      <td>...</td>\n",
       "      <td>...</td>\n",
       "      <td>...</td>\n",
       "      <td>...</td>\n",
       "      <td>...</td>\n",
       "    </tr>\n",
       "    <tr>\n",
       "      <th>39876</th>\n",
       "      <td>Manhattan</td>\n",
       "      <td>Ellis Island</td>\n",
       "      <td>40.718220</td>\n",
       "      <td>-74.037940</td>\n",
       "      <td>Entire home/apt</td>\n",
       "      <td>135</td>\n",
       "      <td>365</td>\n",
       "      <td>2</td>\n",
       "      <td>2019-09-16</td>\n",
       "      <td>0.04</td>\n",
       "      <td>7</td>\n",
       "      <td>365</td>\n",
       "      <td>0</td>\n",
       "      <td>198.28</td>\n",
       "      <td>260</td>\n",
       "      <td>178.0</td>\n",
       "      <td>79</td>\n",
       "    </tr>\n",
       "    <tr>\n",
       "      <th>39877</th>\n",
       "      <td>Queens</td>\n",
       "      <td>Rosedale</td>\n",
       "      <td>40.647244</td>\n",
       "      <td>-73.720088</td>\n",
       "      <td>Entire home/apt</td>\n",
       "      <td>180</td>\n",
       "      <td>1</td>\n",
       "      <td>5</td>\n",
       "      <td>2022-08-24</td>\n",
       "      <td>1.92</td>\n",
       "      <td>1</td>\n",
       "      <td>0</td>\n",
       "      <td>5</td>\n",
       "      <td>127.24</td>\n",
       "      <td>90</td>\n",
       "      <td>100.0</td>\n",
       "      <td>147</td>\n",
       "    </tr>\n",
       "    <tr>\n",
       "      <th>39878</th>\n",
       "      <td>Manhattan</td>\n",
       "      <td>Upper West Side</td>\n",
       "      <td>40.787320</td>\n",
       "      <td>-74.004470</td>\n",
       "      <td>Entire home/apt</td>\n",
       "      <td>240</td>\n",
       "      <td>5</td>\n",
       "      <td>18</td>\n",
       "      <td>2022-08-22</td>\n",
       "      <td>2.87</td>\n",
       "      <td>1</td>\n",
       "      <td>152</td>\n",
       "      <td>18</td>\n",
       "      <td>231.74</td>\n",
       "      <td>150</td>\n",
       "      <td>157.0</td>\n",
       "      <td>1630</td>\n",
       "    </tr>\n",
       "    <tr>\n",
       "      <th>39879</th>\n",
       "      <td>Brooklyn</td>\n",
       "      <td>Williamsburg</td>\n",
       "      <td>40.709192</td>\n",
       "      <td>-73.970121</td>\n",
       "      <td>Entire home/apt</td>\n",
       "      <td>400</td>\n",
       "      <td>30</td>\n",
       "      <td>0</td>\n",
       "      <td>NaN</td>\n",
       "      <td>NaN</td>\n",
       "      <td>1</td>\n",
       "      <td>311</td>\n",
       "      <td>0</td>\n",
       "      <td>183.21</td>\n",
       "      <td>200</td>\n",
       "      <td>136.0</td>\n",
       "      <td>2456</td>\n",
       "    </tr>\n",
       "    <tr>\n",
       "      <th>39880</th>\n",
       "      <td>Manhattan</td>\n",
       "      <td>Ellis Island</td>\n",
       "      <td>40.718350</td>\n",
       "      <td>-74.044160</td>\n",
       "      <td>Private room</td>\n",
       "      <td>40</td>\n",
       "      <td>1</td>\n",
       "      <td>15</td>\n",
       "      <td>2021-10-25</td>\n",
       "      <td>0.91</td>\n",
       "      <td>1</td>\n",
       "      <td>0</td>\n",
       "      <td>4</td>\n",
       "      <td>198.28</td>\n",
       "      <td>260</td>\n",
       "      <td>178.0</td>\n",
       "      <td>79</td>\n",
       "    </tr>\n",
       "  </tbody>\n",
       "</table>\n",
       "<p>38545 rows × 17 columns</p>\n",
       "</div>"
      ],
      "text/plain": [
       "      neighbourhood_group        neighbourhood   latitude  longitude  \\\n",
       "0                Brooklyn           Greenpoint  40.737770 -73.953660   \n",
       "1                Brooklyn           Kensington  40.645290 -73.972380   \n",
       "2                  Queens            Ridgewood  40.703090 -73.899630   \n",
       "3                   Bronx           Mott Haven  40.806350 -73.922010   \n",
       "4               Manhattan  Morningside Heights  40.806300 -73.959850   \n",
       "...                   ...                  ...        ...        ...   \n",
       "39876           Manhattan         Ellis Island  40.718220 -74.037940   \n",
       "39877              Queens             Rosedale  40.647244 -73.720088   \n",
       "39878           Manhattan      Upper West Side  40.787320 -74.004470   \n",
       "39879            Brooklyn         Williamsburg  40.709192 -73.970121   \n",
       "39880           Manhattan         Ellis Island  40.718350 -74.044160   \n",
       "\n",
       "             room_type  price  minimum_nights  number_of_reviews last_review  \\\n",
       "0           Hotel room    308               2                 42  2022-07-18   \n",
       "1         Private room    299              30                  9  2018-10-19   \n",
       "2      Entire home/apt    425              30                 13  2019-11-12   \n",
       "3         Private room     60              30                  0         NaN   \n",
       "4         Private room     75              31                135  2022-07-11   \n",
       "...                ...    ...             ...                ...         ...   \n",
       "39876  Entire home/apt    135             365                  2  2019-09-16   \n",
       "39877  Entire home/apt    180               1                  5  2022-08-24   \n",
       "39878  Entire home/apt    240               5                 18  2022-08-22   \n",
       "39879  Entire home/apt    400              30                  0         NaN   \n",
       "39880     Private room     40               1                 15  2021-10-25   \n",
       "\n",
       "       reviews_per_month  calculated_host_listings_count  availability_365  \\\n",
       "0                   0.30                              30               217   \n",
       "1                   0.11                               9               356   \n",
       "2                   0.10                               6               365   \n",
       "3                    NaN                               1                83   \n",
       "4                   0.95                               1               219   \n",
       "...                  ...                             ...               ...   \n",
       "39876               0.04                               7               365   \n",
       "39877               1.92                               1                 0   \n",
       "39878               2.87                               1               152   \n",
       "39879                NaN                               1               311   \n",
       "39880               0.91                               1                 0   \n",
       "\n",
       "       number_of_reviews_ltm mean_price mode_price median_price count_hood  \n",
       "0                          4     198.15        150        150.5        708  \n",
       "1                          0     151.76         35         85.0        117  \n",
       "2                          0     106.47         50         78.0        315  \n",
       "3                          0     136.97         65         99.5         92  \n",
       "4                          4      134.1         80        100.0        188  \n",
       "...                      ...        ...        ...          ...        ...  \n",
       "39876                      0     198.28        260        178.0         79  \n",
       "39877                      5     127.24         90        100.0        147  \n",
       "39878                     18     231.74        150        157.0       1630  \n",
       "39879                      0     183.21        200        136.0       2456  \n",
       "39880                      4     198.28        260        178.0         79  \n",
       "\n",
       "[38545 rows x 17 columns]"
      ]
     },
     "execution_count": 104,
     "metadata": {},
     "output_type": "execute_result"
    }
   ],
   "source": [
    "dat_strap = dat[dat['count_hood']>30]\n",
    "dat_strap"
   ]
  },
  {
   "cell_type": "markdown",
   "metadata": {},
   "source": [
    "## Logistic Regression"
   ]
  },
  {
   "cell_type": "code",
   "execution_count": 120,
   "metadata": {},
   "outputs": [],
   "source": [
    "update = dat_strap['price'] >= dat_strap['mode_price'] \n",
    "target = pd.get_dummies(update).iloc[:,0]"
   ]
  },
  {
   "cell_type": "markdown",
   "metadata": {},
   "source": [
    "### Fit model with Data"
   ]
  },
  {
   "cell_type": "code",
   "execution_count": 107,
   "metadata": {},
   "outputs": [],
   "source": [
    "#Numerical type, same column size unless int\n",
    "\n",
    "X = pd.DataFrame({'Const':1,\n",
    "#     'neighbourhood_group':pd.get_dummies(dat_strap['neighbourhood_group']),#.iloc[:,0],\n",
    "#     'neighbourhood':pd.get_dummies(dat_strap['neighbourhood']),#.iloc[:,0],\n",
    "#     'room_type':pd.get_dummies(dat_strap['room_type']),#.iloc[:,0],\n",
    "    'price':dat_strap['price'],#.iloc[:,0],\n",
    "    'minimum_nights':dat_strap['minimum_nights'],#.iloc[:,0],\n",
    "    'number_of_reviews':dat_strap['number_of_reviews'],#.iloc[:,0],\n",
    "    'availability_365':dat_strap['availability_365'],#.iloc[:,0],\n",
    "    'number_of_reviews_ltm':dat_strap['number_of_reviews_ltm']})"
   ]
  },
  {
   "cell_type": "code",
   "execution_count": 108,
   "metadata": {},
   "outputs": [
    {
     "name": "stderr",
     "output_type": "stream",
     "text": [
      "/opt/anaconda3/envs/MyEnv/lib/python3.7/site-packages/statsmodels/discrete/discrete_model.py:1819: RuntimeWarning: overflow encountered in exp\n",
      "  return 1/(1+np.exp(-X))\n",
      "/opt/anaconda3/envs/MyEnv/lib/python3.7/site-packages/statsmodels/discrete/discrete_model.py:1872: RuntimeWarning: divide by zero encountered in log\n",
      "  return np.sum(np.log(self.cdf(q*np.dot(X,params))))\n"
     ]
    },
    {
     "name": "stdout",
     "output_type": "stream",
     "text": [
      "Optimization terminated successfully.\n",
      "         Current function value: inf\n",
      "         Iterations 9\n"
     ]
    },
    {
     "name": "stderr",
     "output_type": "stream",
     "text": [
      "/opt/anaconda3/envs/MyEnv/lib/python3.7/site-packages/statsmodels/base/model.py:593: HessianInversionWarning: Inverting hessian failed, no bse or cov_params available\n",
      "  'available', HessianInversionWarning)\n",
      "/opt/anaconda3/envs/MyEnv/lib/python3.7/site-packages/statsmodels/base/model.py:593: HessianInversionWarning: Inverting hessian failed, no bse or cov_params available\n",
      "  'available', HessianInversionWarning)\n"
     ]
    },
    {
     "data": {
      "text/html": [
       "<table class=\"simpletable\">\n",
       "<caption>Logit Regression Results</caption>\n",
       "<tr>\n",
       "  <th>Dep. Variable:</th>           <td>y</td>        <th>  No. Observations:  </th>  <td> 38545</td> \n",
       "</tr>\n",
       "<tr>\n",
       "  <th>Model:</th>                 <td>Logit</td>      <th>  Df Residuals:      </th>  <td> 38539</td> \n",
       "</tr>\n",
       "<tr>\n",
       "  <th>Method:</th>                 <td>MLE</td>       <th>  Df Model:          </th>  <td>     5</td> \n",
       "</tr>\n",
       "<tr>\n",
       "  <th>Date:</th>            <td>Wed, 30 Nov 2022</td> <th>  Pseudo R-squ.:     </th>  <td>   inf</td> \n",
       "</tr>\n",
       "<tr>\n",
       "  <th>Time:</th>                <td>08:12:24</td>     <th>  Log-Likelihood:    </th> <td>    -inf</td>\n",
       "</tr>\n",
       "<tr>\n",
       "  <th>converged:</th>             <td>True</td>       <th>  LL-Null:           </th> <td>  0.0000</td>\n",
       "</tr>\n",
       "<tr>\n",
       "  <th>Covariance Type:</th>     <td>nonrobust</td>    <th>  LLR p-value:       </th>  <td> 1.000</td> \n",
       "</tr>\n",
       "</table>\n",
       "<table class=\"simpletable\">\n",
       "<tr>\n",
       "            <td></td>               <th>coef</th>     <th>std err</th>      <th>z</th>      <th>P>|z|</th>  <th>[0.025</th>    <th>0.975]</th>  \n",
       "</tr>\n",
       "<tr>\n",
       "  <th>Const</th>                 <td>    2.3755</td> <td>    0.036</td> <td>   65.699</td> <td> 0.000</td> <td>    2.305</td> <td>    2.446</td>\n",
       "</tr>\n",
       "<tr>\n",
       "  <th>price</th>                 <td>   -0.0202</td> <td>    0.000</td> <td>  -81.518</td> <td> 0.000</td> <td>   -0.021</td> <td>   -0.020</td>\n",
       "</tr>\n",
       "<tr>\n",
       "  <th>minimum_nights</th>        <td>    0.0063</td> <td>    0.001</td> <td>   11.306</td> <td> 0.000</td> <td>    0.005</td> <td>    0.007</td>\n",
       "</tr>\n",
       "<tr>\n",
       "  <th>number_of_reviews</th>     <td>    0.0018</td> <td>    0.000</td> <td>    6.325</td> <td> 0.000</td> <td>    0.001</td> <td>    0.002</td>\n",
       "</tr>\n",
       "<tr>\n",
       "  <th>availability_365</th>      <td>   -0.0017</td> <td> 9.82e-05</td> <td>  -17.491</td> <td> 0.000</td> <td>   -0.002</td> <td>   -0.002</td>\n",
       "</tr>\n",
       "<tr>\n",
       "  <th>number_of_reviews_ltm</th> <td>   -0.0103</td> <td>    0.001</td> <td>   -8.629</td> <td> 0.000</td> <td>   -0.013</td> <td>   -0.008</td>\n",
       "</tr>\n",
       "</table>"
      ],
      "text/plain": [
       "<class 'statsmodels.iolib.summary.Summary'>\n",
       "\"\"\"\n",
       "                           Logit Regression Results                           \n",
       "==============================================================================\n",
       "Dep. Variable:                      y   No. Observations:                38545\n",
       "Model:                          Logit   Df Residuals:                    38539\n",
       "Method:                           MLE   Df Model:                            5\n",
       "Date:                Wed, 30 Nov 2022   Pseudo R-squ.:                     inf\n",
       "Time:                        08:12:24   Log-Likelihood:                   -inf\n",
       "converged:                       True   LL-Null:                        0.0000\n",
       "Covariance Type:            nonrobust   LLR p-value:                     1.000\n",
       "=========================================================================================\n",
       "                            coef    std err          z      P>|z|      [0.025      0.975]\n",
       "-----------------------------------------------------------------------------------------\n",
       "Const                     2.3755      0.036     65.699      0.000       2.305       2.446\n",
       "price                    -0.0202      0.000    -81.518      0.000      -0.021      -0.020\n",
       "minimum_nights            0.0063      0.001     11.306      0.000       0.005       0.007\n",
       "number_of_reviews         0.0018      0.000      6.325      0.000       0.001       0.002\n",
       "availability_365         -0.0017   9.82e-05    -17.491      0.000      -0.002      -0.002\n",
       "number_of_reviews_ltm    -0.0103      0.001     -8.629      0.000      -0.013      -0.008\n",
       "=========================================================================================\n",
       "\"\"\""
      ]
     },
     "execution_count": 108,
     "metadata": {},
     "output_type": "execute_result"
    }
   ],
   "source": [
    "# Describe the logistic model\n",
    "mod = sm.Logit(target,X)\n",
    "\n",
    "# Fit model\n",
    "fit = mod.fit()\n",
    "\n",
    "# Summarize model\n",
    "fit.summary()"
   ]
  },
  {
   "cell_type": "code",
   "execution_count": 109,
   "metadata": {},
   "outputs": [
    {
     "data": {
      "text/plain": [
       "Const                    2.375457\n",
       "price                   -0.020214\n",
       "minimum_nights           0.006300\n",
       "number_of_reviews        0.001830\n",
       "availability_365        -0.001718\n",
       "number_of_reviews_ltm   -0.010269\n",
       "dtype: float64"
      ]
     },
     "execution_count": 109,
     "metadata": {},
     "output_type": "execute_result"
    }
   ],
   "source": [
    "fit.params"
   ]
  },
  {
   "cell_type": "markdown",
   "metadata": {},
   "source": [
    "It is not straight forward to interpret coefficients of the logistic regression. Here, we show average marginal effects."
   ]
  },
  {
   "cell_type": "code",
   "execution_count": 110,
   "metadata": {},
   "outputs": [
    {
     "name": "stdout",
     "output_type": "stream",
     "text": [
      "        Logit Marginal Effects       \n",
      "=====================================\n",
      "Dep. Variable:                      y\n",
      "Method:                          dydx\n",
      "At:                           overall\n",
      "=========================================================================================\n",
      "                           dy/dx    std err          z      P>|z|      [0.025      0.975]\n",
      "-----------------------------------------------------------------------------------------\n",
      "price                    -0.0031   2.19e-05   -140.080      0.000      -0.003      -0.003\n",
      "minimum_nights            0.0010   8.41e-05     11.377      0.000       0.001       0.001\n",
      "number_of_reviews         0.0003   4.38e-05      6.338      0.000       0.000       0.000\n",
      "availability_365         -0.0003   1.47e-05    -17.786      0.000      -0.000      -0.000\n",
      "number_of_reviews_ltm    -0.0016      0.000     -8.665      0.000      -0.002      -0.001\n",
      "=========================================================================================\n"
     ]
    }
   ],
   "source": [
    "# Calculate average marginal effects\n",
    "mfx = fit.get_margeff()\n",
    "print(mfx.summary())"
   ]
  },
  {
   "cell_type": "markdown",
   "metadata": {},
   "source": [
    "Marginal effects for numerical types are low! Try classification analyses."
   ]
  },
  {
   "cell_type": "code",
   "execution_count": 111,
   "metadata": {},
   "outputs": [],
   "source": [
    "def plot_decision_boundary(model,X,y):\n",
    "    padding=0.15\n",
    "    res=0.1\n",
    "    \n",
    "    #max and min values of x and y of the dataset\n",
    "    x_min,x_max=X[:,0].min(), X[:,0].max()\n",
    "    y_min,y_max=X[:,1].min(), X[:,1].max()\n",
    "    \n",
    "    #range of x's and y's\n",
    "    x_range=x_max-x_min\n",
    "    y_range=y_max-y_min\n",
    "    \n",
    "    #add padding to the ranges\n",
    "    x_min -= x_range * padding\n",
    "    y_min -= y_range * padding\n",
    "    x_max += x_range * padding\n",
    "    y_max += y_range * padding\n",
    "\n",
    "    #create a meshgrid of points with the above ranges\n",
    "    xx,yy=np.meshgrid(np.arange(x_min,x_max,res),np.arange(y_min,y_max,res))\n",
    "    \n",
    "    #use model to predict class at each point on the grid\n",
    "    #ravel turns the 2d arrays into vectors\n",
    "    #c_ concatenates the vectors to create one long vector on which to perform prediction\n",
    "    #finally the vector of prediction is reshaped to the original data shape.\n",
    "    Z = model.predict(np.c_[xx.ravel(), yy.ravel()])   \n",
    "    Z = Z.reshape(xx.shape)\n",
    "    \n",
    "    #plot the contours on the grid\n",
    "    plt.figure(figsize=(8,6))\n",
    "    cs = plt.contourf(xx, yy, Z, cmap=plt.cm.Spectral)\n",
    "    \n",
    "    #plot the original data and labels\n",
    "    plt.scatter(X[:,0], X[:,1], s=35, c=y, cmap=plt.cm.Spectral)"
   ]
  },
  {
   "cell_type": "code",
   "execution_count": 119,
   "metadata": {},
   "outputs": [
    {
     "data": {
      "text/plain": [
       "0        0\n",
       "1        0\n",
       "2        0\n",
       "3        1\n",
       "4        1\n",
       "        ..\n",
       "39876    1\n",
       "39877    0\n",
       "39878    0\n",
       "39879    0\n",
       "39880    1\n",
       "Length: 38545, dtype: uint8"
      ]
     },
     "execution_count": 119,
     "metadata": {},
     "output_type": "execute_result"
    }
   ],
   "source": [
    "target"
   ]
  },
  {
   "cell_type": "code",
   "execution_count": 124,
   "metadata": {},
   "outputs": [
    {
     "data": {
      "image/png": "[encoded data removed]",
      "text/plain": [
       "<Figure size 576x432 with 1 Axes>"
      ]
     },
     "metadata": {
      "needs_background": "light"
     },
     "output_type": "display_data"
    }
   ],
   "source": [
    "model = LogisticRegression(solver='newton-cg')\n",
    "model.fit(X[['minimum_nights','number_of_reviews']].values, target.values)\n",
    "\n",
    "samp = X.sample(100)\n",
    "plot_decision_boundary(model,\n",
    "    samp[['minimum_nights','number_of_reviews']].values,\n",
    "                       pd.DataFrame(target).loc[samp.index,:].values)"
   ]
  },
  {
   "cell_type": "markdown",
   "metadata": {},
   "source": [
    "# Implementing Naive Bayes"
   ]
  },
  {
   "cell_type": "markdown",
   "metadata": {},
   "source": [
    "# Technology Stack"
   ]
  },
  {
   "cell_type": "code",
   "execution_count": 125,
   "metadata": {},
   "outputs": [
    {
     "name": "stdout",
     "output_type": "stream",
     "text": [
      "/opt/anaconda3/envs/MyEnv/bin/python\r\n"
     ]
    }
   ],
   "source": [
    "!which python"
   ]
  },
  {
   "cell_type": "code",
   "execution_count": 126,
   "metadata": {},
   "outputs": [
    {
     "name": "stdout",
     "output_type": "stream",
     "text": [
      "/opt/anaconda3/envs/MyEnv/bin/jupyter\r\n"
     ]
    }
   ],
   "source": [
    "!which jupyter"
   ]
  },
  {
   "cell_type": "code",
   "execution_count": 127,
   "metadata": {},
   "outputs": [
    {
     "name": "stdout",
     "output_type": "stream",
     "text": [
      "/opt/anaconda3/envs/MyEnv/bin/python3\r\n"
     ]
    }
   ],
   "source": [
    "!which python3"
   ]
  },
  {
   "cell_type": "markdown",
   "metadata": {},
   "source": [
    "# Github Repository, Handles, and Evaluation"
   ]
  },
  {
   "cell_type": "markdown",
   "metadata": {},
   "source": [
    "https://github.com/Naren1610/IST5520GrpProj/tree/milestone2\n",
    "\n",
    "### IST5520GrpProj\n",
    "\n",
    "<h4 align=\"left\"> Ronald Adomako, adomakor412 </h3>\n",
    "<h4 align=\"left\"> Idris Dobbs, idobbs-2012 </h3>\n",
    "<h4 align=\"left\"> Narendra Chigili, Naren1610 </h3>\n",
    "<h4 align=\"left\"> Nikhil Srirama Sai, SaiNikhilPalaparthi </h3>"
   ]
  }
 ],
 "metadata": {
  "kernelspec": {
   "display_name": "Python 3",
   "language": "python",
   "name": "python3"
  },
  "language_info": {
   "codemirror_mode": {
    "name": "ipython",
    "version": 3
   },
   "file_extension": ".py",
   "mimetype": "text/x-python",
   "name": "python",
   "nbconvert_exporter": "python",
   "pygments_lexer": "ipython3",
   "version": "3.7.9"
  }
 },
 "nbformat": 4,
 "nbformat_minor": 4
}
