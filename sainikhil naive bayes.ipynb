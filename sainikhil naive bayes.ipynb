{
 "cells": [
  {
   "cell_type": "code",
   "execution_count": 1,
   "id": "ddeed112",
   "metadata": {},
   "outputs": [],
   "source": [
    "import pandas as pd\n",
    "import matplotlib.pyplot as plt\n",
    "import sidetable as stb\n",
    "import numpy as np\n",
    "# import seaborn as sns\n",
    "from sklearn.preprocessing import OneHotEncoder\n",
    "from sklearn.linear_model import LogisticRegression\n",
    "import seaborn as sb\n",
    "from scipy import stats as st\n",
    "import statsmodels as sts\n",
    "import statsmodels.api as sm\n",
    "\n",
    "%matplotlib inline"
   ]
  },
  {
   "cell_type": "code",
   "execution_count": 2,
   "id": "4deab80e",
   "metadata": {},
   "outputs": [],
   "source": [
    "d1=pd.read_csv(\"Brooklyn_zipcodes.csv\")\n",
    "d2=pd.read_csv(\"Manhattan_zipcodes.csv\")\n",
    "df2 = pd.concat([d1,d2])"
   ]
  },
  {
   "cell_type": "code",
   "execution_count": 3,
   "id": "95bf45cb",
   "metadata": {},
   "outputs": [
    {
     "name": "stdout",
     "output_type": "stream",
     "text": [
      "<class 'pandas.core.frame.DataFrame'>\n",
      "Int64Index: 31692 entries, 0 to 16846\n",
      "Data columns (total 21 columns):\n",
      " #   Column                          Non-Null Count  Dtype  \n",
      "---  ------                          --------------  -----  \n",
      " 0   Unnamed: 0                      31692 non-null  int64  \n",
      " 1   id                              31692 non-null  float64\n",
      " 2   name                            31681 non-null  object \n",
      " 3   host_id                         31692 non-null  int64  \n",
      " 4   host_name                       31642 non-null  object \n",
      " 5   neighbourhood_group             31692 non-null  object \n",
      " 6   neighbourhood                   31692 non-null  object \n",
      " 7   latitude                        31692 non-null  float64\n",
      " 8   longitude                       31692 non-null  float64\n",
      " 9   room_type                       31692 non-null  object \n",
      " 10  price                           31692 non-null  int64  \n",
      " 11  minimum_nights                  31692 non-null  int64  \n",
      " 12  number_of_reviews               31692 non-null  int64  \n",
      " 13  last_review                     24866 non-null  object \n",
      " 14  reviews_per_month               24866 non-null  float64\n",
      " 15  calculated_host_listings_count  31692 non-null  int64  \n",
      " 16  availability_365                31692 non-null  int64  \n",
      " 17  number_of_reviews_ltm           31692 non-null  int64  \n",
      " 18  license                         5 non-null      object \n",
      " 19  ZipCodes                        20479 non-null  float64\n",
      " 20  review                          31692 non-null  int64  \n",
      "dtypes: float64(5), int64(9), object(7)\n",
      "memory usage: 5.3+ MB\n"
     ]
    }
   ],
   "source": [
    "df2.info()"
   ]
  },
  {
   "cell_type": "code",
   "execution_count": 4,
   "id": "efe4624f",
   "metadata": {},
   "outputs": [
    {
     "data": {
      "text/plain": [
       "['Unnamed: 0',\n",
       " 'id',\n",
       " 'name',\n",
       " 'host_id',\n",
       " 'host_name',\n",
       " 'neighbourhood_group',\n",
       " 'neighbourhood',\n",
       " 'latitude',\n",
       " 'longitude',\n",
       " 'room_type',\n",
       " 'price',\n",
       " 'minimum_nights',\n",
       " 'number_of_reviews',\n",
       " 'last_review',\n",
       " 'reviews_per_month',\n",
       " 'calculated_host_listings_count',\n",
       " 'availability_365',\n",
       " 'number_of_reviews_ltm',\n",
       " 'license',\n",
       " 'ZipCodes',\n",
       " 'review']"
      ]
     },
     "execution_count": 4,
     "metadata": {},
     "output_type": "execute_result"
    }
   ],
   "source": [
    "df2. columns. values. tolist() "
   ]
  },
  {
   "cell_type": "code",
   "execution_count": 5,
   "id": "8aa50b7b",
   "metadata": {},
   "outputs": [
    {
     "data": {
      "text/html": [
       "<div>\n",
       "<style scoped>\n",
       "    .dataframe tbody tr th:only-of-type {\n",
       "        vertical-align: middle;\n",
       "    }\n",
       "\n",
       "    .dataframe tbody tr th {\n",
       "        vertical-align: top;\n",
       "    }\n",
       "\n",
       "    .dataframe thead th {\n",
       "        text-align: right;\n",
       "    }\n",
       "</style>\n",
       "<table border=\"1\" class=\"dataframe\">\n",
       "  <thead>\n",
       "    <tr style=\"text-align: right;\">\n",
       "      <th></th>\n",
       "      <th>Unnamed: 0</th>\n",
       "      <th>id</th>\n",
       "      <th>name</th>\n",
       "      <th>host_id</th>\n",
       "      <th>host_name</th>\n",
       "      <th>neighbourhood_group</th>\n",
       "      <th>neighbourhood</th>\n",
       "      <th>latitude</th>\n",
       "      <th>longitude</th>\n",
       "      <th>room_type</th>\n",
       "      <th>...</th>\n",
       "      <th>minimum_nights</th>\n",
       "      <th>number_of_reviews</th>\n",
       "      <th>last_review</th>\n",
       "      <th>reviews_per_month</th>\n",
       "      <th>calculated_host_listings_count</th>\n",
       "      <th>availability_365</th>\n",
       "      <th>number_of_reviews_ltm</th>\n",
       "      <th>license</th>\n",
       "      <th>ZipCodes</th>\n",
       "      <th>review</th>\n",
       "    </tr>\n",
       "  </thead>\n",
       "  <tbody>\n",
       "    <tr>\n",
       "      <th>834</th>\n",
       "      <td>1801</td>\n",
       "      <td>2243266.0</td>\n",
       "      <td>Top floor!</td>\n",
       "      <td>11457662</td>\n",
       "      <td>Indie</td>\n",
       "      <td>Brooklyn</td>\n",
       "      <td>Bensonhurst</td>\n",
       "      <td>40.60987</td>\n",
       "      <td>-73.99810</td>\n",
       "      <td>Entire home/apt</td>\n",
       "      <td>...</td>\n",
       "      <td>30</td>\n",
       "      <td>0</td>\n",
       "      <td>NaN</td>\n",
       "      <td>NaN</td>\n",
       "      <td>2</td>\n",
       "      <td>0</td>\n",
       "      <td>0</td>\n",
       "      <td>NaN</td>\n",
       "      <td>NaN</td>\n",
       "      <td>0</td>\n",
       "    </tr>\n",
       "    <tr>\n",
       "      <th>6931</th>\n",
       "      <td>16027</td>\n",
       "      <td>30389441.0</td>\n",
       "      <td>Tribeca Studio w/ Indoor pool &amp; Gym</td>\n",
       "      <td>107434423</td>\n",
       "      <td>Blueground</td>\n",
       "      <td>Manhattan</td>\n",
       "      <td>Tribeca</td>\n",
       "      <td>40.71579</td>\n",
       "      <td>-74.00587</td>\n",
       "      <td>Entire home/apt</td>\n",
       "      <td>...</td>\n",
       "      <td>31</td>\n",
       "      <td>0</td>\n",
       "      <td>NaN</td>\n",
       "      <td>NaN</td>\n",
       "      <td>453</td>\n",
       "      <td>326</td>\n",
       "      <td>0</td>\n",
       "      <td>NaN</td>\n",
       "      <td>10013.0</td>\n",
       "      <td>0</td>\n",
       "    </tr>\n",
       "    <tr>\n",
       "      <th>10308</th>\n",
       "      <td>24120</td>\n",
       "      <td>46725288.0</td>\n",
       "      <td>Murrays Luxury One Bedroom with Views</td>\n",
       "      <td>61391963</td>\n",
       "      <td>Stay With Vibe</td>\n",
       "      <td>Manhattan</td>\n",
       "      <td>Kips Bay</td>\n",
       "      <td>40.74109</td>\n",
       "      <td>-73.97811</td>\n",
       "      <td>Entire home/apt</td>\n",
       "      <td>...</td>\n",
       "      <td>30</td>\n",
       "      <td>3</td>\n",
       "      <td>5/19/22</td>\n",
       "      <td>0.26</td>\n",
       "      <td>116</td>\n",
       "      <td>343</td>\n",
       "      <td>3</td>\n",
       "      <td>NaN</td>\n",
       "      <td>10016.0</td>\n",
       "      <td>0</td>\n",
       "    </tr>\n",
       "    <tr>\n",
       "      <th>9415</th>\n",
       "      <td>22089</td>\n",
       "      <td>42925669.0</td>\n",
       "      <td>Amazing UES 1 Bed w/ Laundry and Doorman #6132</td>\n",
       "      <td>113723310</td>\n",
       "      <td>MyNyHousing</td>\n",
       "      <td>Manhattan</td>\n",
       "      <td>Upper East Side</td>\n",
       "      <td>40.77316</td>\n",
       "      <td>-73.94999</td>\n",
       "      <td>Entire home/apt</td>\n",
       "      <td>...</td>\n",
       "      <td>30</td>\n",
       "      <td>5</td>\n",
       "      <td>5/1/22</td>\n",
       "      <td>0.20</td>\n",
       "      <td>60</td>\n",
       "      <td>311</td>\n",
       "      <td>2</td>\n",
       "      <td>NaN</td>\n",
       "      <td>10028.0</td>\n",
       "      <td>0</td>\n",
       "    </tr>\n",
       "    <tr>\n",
       "      <th>7460</th>\n",
       "      <td>17775</td>\n",
       "      <td>34542125.0</td>\n",
       "      <td>Downstairs Bedroom in Duplex w/ tempur-pedic q...</td>\n",
       "      <td>258243498</td>\n",
       "      <td>Ben</td>\n",
       "      <td>Brooklyn</td>\n",
       "      <td>Williamsburg</td>\n",
       "      <td>40.70426</td>\n",
       "      <td>-73.94074</td>\n",
       "      <td>Private room</td>\n",
       "      <td>...</td>\n",
       "      <td>5</td>\n",
       "      <td>29</td>\n",
       "      <td>8/11/22</td>\n",
       "      <td>0.72</td>\n",
       "      <td>4</td>\n",
       "      <td>78</td>\n",
       "      <td>11</td>\n",
       "      <td>NaN</td>\n",
       "      <td>NaN</td>\n",
       "      <td>0</td>\n",
       "    </tr>\n",
       "  </tbody>\n",
       "</table>\n",
       "<p>5 rows × 21 columns</p>\n",
       "</div>"
      ],
      "text/plain": [
       "       Unnamed: 0          id  \\\n",
       "834          1801   2243266.0   \n",
       "6931        16027  30389441.0   \n",
       "10308       24120  46725288.0   \n",
       "9415        22089  42925669.0   \n",
       "7460        17775  34542125.0   \n",
       "\n",
       "                                                    name    host_id  \\\n",
       "834                                           Top floor!   11457662   \n",
       "6931                 Tribeca Studio w/ Indoor pool & Gym  107434423   \n",
       "10308              Murrays Luxury One Bedroom with Views   61391963   \n",
       "9415      Amazing UES 1 Bed w/ Laundry and Doorman #6132  113723310   \n",
       "7460   Downstairs Bedroom in Duplex w/ tempur-pedic q...  258243498   \n",
       "\n",
       "            host_name neighbourhood_group    neighbourhood  latitude  \\\n",
       "834             Indie            Brooklyn      Bensonhurst  40.60987   \n",
       "6931       Blueground           Manhattan          Tribeca  40.71579   \n",
       "10308  Stay With Vibe           Manhattan         Kips Bay  40.74109   \n",
       "9415      MyNyHousing           Manhattan  Upper East Side  40.77316   \n",
       "7460              Ben            Brooklyn     Williamsburg  40.70426   \n",
       "\n",
       "       longitude        room_type  ...  minimum_nights  number_of_reviews  \\\n",
       "834    -73.99810  Entire home/apt  ...              30                  0   \n",
       "6931   -74.00587  Entire home/apt  ...              31                  0   \n",
       "10308  -73.97811  Entire home/apt  ...              30                  3   \n",
       "9415   -73.94999  Entire home/apt  ...              30                  5   \n",
       "7460   -73.94074     Private room  ...               5                 29   \n",
       "\n",
       "       last_review reviews_per_month  calculated_host_listings_count  \\\n",
       "834            NaN               NaN                               2   \n",
       "6931           NaN               NaN                             453   \n",
       "10308      5/19/22              0.26                             116   \n",
       "9415        5/1/22              0.20                              60   \n",
       "7460       8/11/22              0.72                               4   \n",
       "\n",
       "       availability_365  number_of_reviews_ltm  license ZipCodes  review  \n",
       "834                   0                      0      NaN      NaN       0  \n",
       "6931                326                      0      NaN  10013.0       0  \n",
       "10308               343                      3      NaN  10016.0       0  \n",
       "9415                311                      2      NaN  10028.0       0  \n",
       "7460                 78                     11      NaN      NaN       0  \n",
       "\n",
       "[5 rows x 21 columns]"
      ]
     },
     "execution_count": 5,
     "metadata": {},
     "output_type": "execute_result"
    }
   ],
   "source": [
    "df2.sample(5)"
   ]
  },
  {
   "cell_type": "code",
   "execution_count": 6,
   "id": "15a640ea",
   "metadata": {},
   "outputs": [
    {
     "data": {
      "text/html": [
       "<div>\n",
       "<style scoped>\n",
       "    .dataframe tbody tr th:only-of-type {\n",
       "        vertical-align: middle;\n",
       "    }\n",
       "\n",
       "    .dataframe tbody tr th {\n",
       "        vertical-align: top;\n",
       "    }\n",
       "\n",
       "    .dataframe thead th {\n",
       "        text-align: right;\n",
       "    }\n",
       "</style>\n",
       "<table border=\"1\" class=\"dataframe\">\n",
       "  <thead>\n",
       "    <tr style=\"text-align: right;\">\n",
       "      <th></th>\n",
       "      <th>Unnamed: 0</th>\n",
       "      <th>id</th>\n",
       "      <th>host_id</th>\n",
       "      <th>latitude</th>\n",
       "      <th>longitude</th>\n",
       "      <th>price</th>\n",
       "      <th>minimum_nights</th>\n",
       "      <th>number_of_reviews</th>\n",
       "      <th>reviews_per_month</th>\n",
       "      <th>calculated_host_listings_count</th>\n",
       "      <th>availability_365</th>\n",
       "      <th>number_of_reviews_ltm</th>\n",
       "      <th>ZipCodes</th>\n",
       "      <th>review</th>\n",
       "    </tr>\n",
       "  </thead>\n",
       "  <tbody>\n",
       "    <tr>\n",
       "      <th>count</th>\n",
       "      <td>31692.000000</td>\n",
       "      <td>3.169200e+04</td>\n",
       "      <td>3.169200e+04</td>\n",
       "      <td>31692.000000</td>\n",
       "      <td>31692.000000</td>\n",
       "      <td>31692.000000</td>\n",
       "      <td>31692.000000</td>\n",
       "      <td>31692.000000</td>\n",
       "      <td>24866.000000</td>\n",
       "      <td>31692.000000</td>\n",
       "      <td>31692.000000</td>\n",
       "      <td>31692.000000</td>\n",
       "      <td>20479.000000</td>\n",
       "      <td>31692.000000</td>\n",
       "    </tr>\n",
       "    <tr>\n",
       "      <th>mean</th>\n",
       "      <td>19072.854506</td>\n",
       "      <td>1.063137e+17</td>\n",
       "      <td>1.188996e+08</td>\n",
       "      <td>40.725295</td>\n",
       "      <td>-73.963851</td>\n",
       "      <td>214.810047</td>\n",
       "      <td>20.485233</td>\n",
       "      <td>25.661113</td>\n",
       "      <td>1.120183</td>\n",
       "      <td>17.638047</td>\n",
       "      <td>121.128329</td>\n",
       "      <td>7.102550</td>\n",
       "      <td>10352.955467</td>\n",
       "      <td>0.261170</td>\n",
       "    </tr>\n",
       "    <tr>\n",
       "      <th>std</th>\n",
       "      <td>11538.048573</td>\n",
       "      <td>2.381332e+17</td>\n",
       "      <td>1.420285e+08</td>\n",
       "      <td>0.053204</td>\n",
       "      <td>0.028928</td>\n",
       "      <td>377.397039</td>\n",
       "      <td>32.548342</td>\n",
       "      <td>55.958150</td>\n",
       "      <td>1.978491</td>\n",
       "      <td>62.814198</td>\n",
       "      <td>135.105459</td>\n",
       "      <td>19.055758</td>\n",
       "      <td>533.169905</td>\n",
       "      <td>0.439279</td>\n",
       "    </tr>\n",
       "    <tr>\n",
       "      <th>min</th>\n",
       "      <td>0.000000</td>\n",
       "      <td>2.539000e+03</td>\n",
       "      <td>2.438000e+03</td>\n",
       "      <td>40.574130</td>\n",
       "      <td>-74.058610</td>\n",
       "      <td>0.000000</td>\n",
       "      <td>1.000000</td>\n",
       "      <td>0.000000</td>\n",
       "      <td>0.010000</td>\n",
       "      <td>1.000000</td>\n",
       "      <td>0.000000</td>\n",
       "      <td>0.000000</td>\n",
       "      <td>10000.000000</td>\n",
       "      <td>0.000000</td>\n",
       "    </tr>\n",
       "    <tr>\n",
       "      <th>25%</th>\n",
       "      <td>8863.750000</td>\n",
       "      <td>1.390583e+07</td>\n",
       "      <td>1.034821e+07</td>\n",
       "      <td>40.686677</td>\n",
       "      <td>-73.986980</td>\n",
       "      <td>87.000000</td>\n",
       "      <td>2.000000</td>\n",
       "      <td>1.000000</td>\n",
       "      <td>0.120000</td>\n",
       "      <td>1.000000</td>\n",
       "      <td>0.000000</td>\n",
       "      <td>0.000000</td>\n",
       "      <td>10016.000000</td>\n",
       "      <td>0.000000</td>\n",
       "    </tr>\n",
       "    <tr>\n",
       "      <th>50%</th>\n",
       "      <td>18735.500000</td>\n",
       "      <td>3.554305e+07</td>\n",
       "      <td>4.754619e+07</td>\n",
       "      <td>40.720590</td>\n",
       "      <td>-73.961950</td>\n",
       "      <td>148.000000</td>\n",
       "      <td>30.000000</td>\n",
       "      <td>5.000000</td>\n",
       "      <td>0.450000</td>\n",
       "      <td>1.000000</td>\n",
       "      <td>61.000000</td>\n",
       "      <td>0.000000</td>\n",
       "      <td>10028.000000</td>\n",
       "      <td>0.000000</td>\n",
       "    </tr>\n",
       "    <tr>\n",
       "      <th>75%</th>\n",
       "      <td>28950.250000</td>\n",
       "      <td>5.190263e+07</td>\n",
       "      <td>1.945077e+08</td>\n",
       "      <td>40.761530</td>\n",
       "      <td>-73.944510</td>\n",
       "      <td>240.000000</td>\n",
       "      <td>30.000000</td>\n",
       "      <td>23.000000</td>\n",
       "      <td>1.560000</td>\n",
       "      <td>4.000000</td>\n",
       "      <td>260.000000</td>\n",
       "      <td>5.000000</td>\n",
       "      <td>11206.000000</td>\n",
       "      <td>1.000000</td>\n",
       "    </tr>\n",
       "    <tr>\n",
       "      <th>max</th>\n",
       "      <td>39880.000000</td>\n",
       "      <td>7.096930e+17</td>\n",
       "      <td>4.781609e+08</td>\n",
       "      <td>40.878210</td>\n",
       "      <td>-73.858140</td>\n",
       "      <td>16500.000000</td>\n",
       "      <td>1250.000000</td>\n",
       "      <td>1480.000000</td>\n",
       "      <td>123.000000</td>\n",
       "      <td>453.000000</td>\n",
       "      <td>365.000000</td>\n",
       "      <td>949.000000</td>\n",
       "      <td>11385.000000</td>\n",
       "      <td>1.000000</td>\n",
       "    </tr>\n",
       "  </tbody>\n",
       "</table>\n",
       "</div>"
      ],
      "text/plain": [
       "         Unnamed: 0            id       host_id      latitude     longitude  \\\n",
       "count  31692.000000  3.169200e+04  3.169200e+04  31692.000000  31692.000000   \n",
       "mean   19072.854506  1.063137e+17  1.188996e+08     40.725295    -73.963851   \n",
       "std    11538.048573  2.381332e+17  1.420285e+08      0.053204      0.028928   \n",
       "min        0.000000  2.539000e+03  2.438000e+03     40.574130    -74.058610   \n",
       "25%     8863.750000  1.390583e+07  1.034821e+07     40.686677    -73.986980   \n",
       "50%    18735.500000  3.554305e+07  4.754619e+07     40.720590    -73.961950   \n",
       "75%    28950.250000  5.190263e+07  1.945077e+08     40.761530    -73.944510   \n",
       "max    39880.000000  7.096930e+17  4.781609e+08     40.878210    -73.858140   \n",
       "\n",
       "              price  minimum_nights  number_of_reviews  reviews_per_month  \\\n",
       "count  31692.000000    31692.000000       31692.000000       24866.000000   \n",
       "mean     214.810047       20.485233          25.661113           1.120183   \n",
       "std      377.397039       32.548342          55.958150           1.978491   \n",
       "min        0.000000        1.000000           0.000000           0.010000   \n",
       "25%       87.000000        2.000000           1.000000           0.120000   \n",
       "50%      148.000000       30.000000           5.000000           0.450000   \n",
       "75%      240.000000       30.000000          23.000000           1.560000   \n",
       "max    16500.000000     1250.000000        1480.000000         123.000000   \n",
       "\n",
       "       calculated_host_listings_count  availability_365  \\\n",
       "count                    31692.000000      31692.000000   \n",
       "mean                        17.638047        121.128329   \n",
       "std                         62.814198        135.105459   \n",
       "min                          1.000000          0.000000   \n",
       "25%                          1.000000          0.000000   \n",
       "50%                          1.000000         61.000000   \n",
       "75%                          4.000000        260.000000   \n",
       "max                        453.000000        365.000000   \n",
       "\n",
       "       number_of_reviews_ltm      ZipCodes        review  \n",
       "count           31692.000000  20479.000000  31692.000000  \n",
       "mean                7.102550  10352.955467      0.261170  \n",
       "std                19.055758    533.169905      0.439279  \n",
       "min                 0.000000  10000.000000      0.000000  \n",
       "25%                 0.000000  10016.000000      0.000000  \n",
       "50%                 0.000000  10028.000000      0.000000  \n",
       "75%                 5.000000  11206.000000      1.000000  \n",
       "max               949.000000  11385.000000      1.000000  "
      ]
     },
     "execution_count": 6,
     "metadata": {},
     "output_type": "execute_result"
    }
   ],
   "source": [
    "df2.describe()"
   ]
  },
  {
   "cell_type": "code",
   "execution_count": 7,
   "id": "72807669",
   "metadata": {},
   "outputs": [
    {
     "data": {
      "text/plain": [
       "0    23415\n",
       "1     8277\n",
       "Name: review, dtype: int64"
      ]
     },
     "execution_count": 7,
     "metadata": {},
     "output_type": "execute_result"
    }
   ],
   "source": [
    "df2['review'].value_counts()"
   ]
  },
  {
   "cell_type": "code",
   "execution_count": 8,
   "id": "bdef42fa",
   "metadata": {},
   "outputs": [
    {
     "name": "stdout",
     "output_type": "stream",
     "text": [
      "<class 'pandas.core.frame.DataFrame'>\n",
      "Int64Index: 31692 entries, 0 to 16846\n",
      "Columns: 127708 entries, Unnamed: 0 to review_1\n",
      "dtypes: int64(1), uint8(127707)\n",
      "memory usage: 3.8 GB\n"
     ]
    }
   ],
   "source": [
    "X = pd.get_dummies(data=df2.drop('number_of_reviews', axis=1), \n",
    "                   columns=['id',\n",
    " 'name',\n",
    " 'host_id',\n",
    " 'host_name',\n",
    " 'neighbourhood_group',\n",
    " 'neighbourhood',\n",
    " 'latitude',\n",
    " 'longitude',\n",
    " 'room_type',\n",
    " 'price',\n",
    " 'minimum_nights',\n",
    " 'last_review',\n",
    " 'reviews_per_month',\n",
    " 'calculated_host_listings_count',\n",
    " 'availability_365',\n",
    " 'number_of_reviews_ltm',\n",
    " 'license',\n",
    " 'ZipCodes',\n",
    " 'review'],\n",
    "prefix =['id','name',\n",
    " 'host_id',\n",
    " 'host_name',\n",
    " 'neighbourhood_group',\n",
    " 'neighbourhood',\n",
    " 'latitude',\n",
    " 'longitude',\n",
    " 'room_type',\n",
    " 'price',\n",
    " 'minimum_nights',\n",
    " 'last_review',\n",
    " 'reviews_per_month',\n",
    " 'calculated_host_listings_count',\n",
    " 'availability_365',\n",
    " 'number_of_reviews_ltm',\n",
    " 'license',\n",
    " 'ZipCodes',\n",
    " 'review'])\n",
    "X.info()"
   ]
  },
  {
   "cell_type": "code",
   "execution_count": 9,
   "id": "284f239a",
   "metadata": {},
   "outputs": [
    {
     "data": {
      "text/html": [
       "<div>\n",
       "<style scoped>\n",
       "    .dataframe tbody tr th:only-of-type {\n",
       "        vertical-align: middle;\n",
       "    }\n",
       "\n",
       "    .dataframe tbody tr th {\n",
       "        vertical-align: top;\n",
       "    }\n",
       "\n",
       "    .dataframe thead th {\n",
       "        text-align: right;\n",
       "    }\n",
       "</style>\n",
       "<table border=\"1\" class=\"dataframe\">\n",
       "  <thead>\n",
       "    <tr style=\"text-align: right;\">\n",
       "      <th></th>\n",
       "      <th>Unnamed: 0</th>\n",
       "      <th>id_2539.0</th>\n",
       "      <th>id_2595.0</th>\n",
       "      <th>id_5121.0</th>\n",
       "      <th>id_5136.0</th>\n",
       "      <th>id_5178.0</th>\n",
       "      <th>id_5203.0</th>\n",
       "      <th>id_5803.0</th>\n",
       "      <th>id_6848.0</th>\n",
       "      <th>id_6872.0</th>\n",
       "      <th>...</th>\n",
       "      <th>ZipCodes_11235.0</th>\n",
       "      <th>ZipCodes_11236.0</th>\n",
       "      <th>ZipCodes_11237.0</th>\n",
       "      <th>ZipCodes_11238.0</th>\n",
       "      <th>ZipCodes_11239.0</th>\n",
       "      <th>ZipCodes_11249.0</th>\n",
       "      <th>ZipCodes_11251.0</th>\n",
       "      <th>ZipCodes_11385.0</th>\n",
       "      <th>review_0</th>\n",
       "      <th>review_1</th>\n",
       "    </tr>\n",
       "  </thead>\n",
       "  <tbody>\n",
       "    <tr>\n",
       "      <th>count</th>\n",
       "      <td>31692.000000</td>\n",
       "      <td>31692.000000</td>\n",
       "      <td>31692.000000</td>\n",
       "      <td>31692.000000</td>\n",
       "      <td>31692.000000</td>\n",
       "      <td>31692.000000</td>\n",
       "      <td>31692.000000</td>\n",
       "      <td>31692.000000</td>\n",
       "      <td>31692.000000</td>\n",
       "      <td>31692.000000</td>\n",
       "      <td>...</td>\n",
       "      <td>31692.000000</td>\n",
       "      <td>31692.000000</td>\n",
       "      <td>31692.000000</td>\n",
       "      <td>31692.000000</td>\n",
       "      <td>31692.000000</td>\n",
       "      <td>31692.000000</td>\n",
       "      <td>31692.000000</td>\n",
       "      <td>31692.000000</td>\n",
       "      <td>31692.000000</td>\n",
       "      <td>31692.000000</td>\n",
       "    </tr>\n",
       "    <tr>\n",
       "      <th>mean</th>\n",
       "      <td>19072.854506</td>\n",
       "      <td>0.000032</td>\n",
       "      <td>0.000032</td>\n",
       "      <td>0.000032</td>\n",
       "      <td>0.000032</td>\n",
       "      <td>0.000032</td>\n",
       "      <td>0.000032</td>\n",
       "      <td>0.000032</td>\n",
       "      <td>0.000032</td>\n",
       "      <td>0.000032</td>\n",
       "      <td>...</td>\n",
       "      <td>0.002619</td>\n",
       "      <td>0.004165</td>\n",
       "      <td>0.006058</td>\n",
       "      <td>0.006563</td>\n",
       "      <td>0.000252</td>\n",
       "      <td>0.006216</td>\n",
       "      <td>0.000252</td>\n",
       "      <td>0.000063</td>\n",
       "      <td>0.738830</td>\n",
       "      <td>0.261170</td>\n",
       "    </tr>\n",
       "    <tr>\n",
       "      <th>std</th>\n",
       "      <td>11538.048573</td>\n",
       "      <td>0.005617</td>\n",
       "      <td>0.005617</td>\n",
       "      <td>0.005617</td>\n",
       "      <td>0.005617</td>\n",
       "      <td>0.005617</td>\n",
       "      <td>0.005617</td>\n",
       "      <td>0.005617</td>\n",
       "      <td>0.005617</td>\n",
       "      <td>0.005617</td>\n",
       "      <td>...</td>\n",
       "      <td>0.051109</td>\n",
       "      <td>0.064404</td>\n",
       "      <td>0.077600</td>\n",
       "      <td>0.080748</td>\n",
       "      <td>0.015886</td>\n",
       "      <td>0.078598</td>\n",
       "      <td>0.015886</td>\n",
       "      <td>0.007944</td>\n",
       "      <td>0.439279</td>\n",
       "      <td>0.439279</td>\n",
       "    </tr>\n",
       "    <tr>\n",
       "      <th>min</th>\n",
       "      <td>0.000000</td>\n",
       "      <td>0.000000</td>\n",
       "      <td>0.000000</td>\n",
       "      <td>0.000000</td>\n",
       "      <td>0.000000</td>\n",
       "      <td>0.000000</td>\n",
       "      <td>0.000000</td>\n",
       "      <td>0.000000</td>\n",
       "      <td>0.000000</td>\n",
       "      <td>0.000000</td>\n",
       "      <td>...</td>\n",
       "      <td>0.000000</td>\n",
       "      <td>0.000000</td>\n",
       "      <td>0.000000</td>\n",
       "      <td>0.000000</td>\n",
       "      <td>0.000000</td>\n",
       "      <td>0.000000</td>\n",
       "      <td>0.000000</td>\n",
       "      <td>0.000000</td>\n",
       "      <td>0.000000</td>\n",
       "      <td>0.000000</td>\n",
       "    </tr>\n",
       "    <tr>\n",
       "      <th>25%</th>\n",
       "      <td>8863.750000</td>\n",
       "      <td>0.000000</td>\n",
       "      <td>0.000000</td>\n",
       "      <td>0.000000</td>\n",
       "      <td>0.000000</td>\n",
       "      <td>0.000000</td>\n",
       "      <td>0.000000</td>\n",
       "      <td>0.000000</td>\n",
       "      <td>0.000000</td>\n",
       "      <td>0.000000</td>\n",
       "      <td>...</td>\n",
       "      <td>0.000000</td>\n",
       "      <td>0.000000</td>\n",
       "      <td>0.000000</td>\n",
       "      <td>0.000000</td>\n",
       "      <td>0.000000</td>\n",
       "      <td>0.000000</td>\n",
       "      <td>0.000000</td>\n",
       "      <td>0.000000</td>\n",
       "      <td>0.000000</td>\n",
       "      <td>0.000000</td>\n",
       "    </tr>\n",
       "    <tr>\n",
       "      <th>50%</th>\n",
       "      <td>18735.500000</td>\n",
       "      <td>0.000000</td>\n",
       "      <td>0.000000</td>\n",
       "      <td>0.000000</td>\n",
       "      <td>0.000000</td>\n",
       "      <td>0.000000</td>\n",
       "      <td>0.000000</td>\n",
       "      <td>0.000000</td>\n",
       "      <td>0.000000</td>\n",
       "      <td>0.000000</td>\n",
       "      <td>...</td>\n",
       "      <td>0.000000</td>\n",
       "      <td>0.000000</td>\n",
       "      <td>0.000000</td>\n",
       "      <td>0.000000</td>\n",
       "      <td>0.000000</td>\n",
       "      <td>0.000000</td>\n",
       "      <td>0.000000</td>\n",
       "      <td>0.000000</td>\n",
       "      <td>1.000000</td>\n",
       "      <td>0.000000</td>\n",
       "    </tr>\n",
       "    <tr>\n",
       "      <th>75%</th>\n",
       "      <td>28950.250000</td>\n",
       "      <td>0.000000</td>\n",
       "      <td>0.000000</td>\n",
       "      <td>0.000000</td>\n",
       "      <td>0.000000</td>\n",
       "      <td>0.000000</td>\n",
       "      <td>0.000000</td>\n",
       "      <td>0.000000</td>\n",
       "      <td>0.000000</td>\n",
       "      <td>0.000000</td>\n",
       "      <td>...</td>\n",
       "      <td>0.000000</td>\n",
       "      <td>0.000000</td>\n",
       "      <td>0.000000</td>\n",
       "      <td>0.000000</td>\n",
       "      <td>0.000000</td>\n",
       "      <td>0.000000</td>\n",
       "      <td>0.000000</td>\n",
       "      <td>0.000000</td>\n",
       "      <td>1.000000</td>\n",
       "      <td>1.000000</td>\n",
       "    </tr>\n",
       "    <tr>\n",
       "      <th>max</th>\n",
       "      <td>39880.000000</td>\n",
       "      <td>1.000000</td>\n",
       "      <td>1.000000</td>\n",
       "      <td>1.000000</td>\n",
       "      <td>1.000000</td>\n",
       "      <td>1.000000</td>\n",
       "      <td>1.000000</td>\n",
       "      <td>1.000000</td>\n",
       "      <td>1.000000</td>\n",
       "      <td>1.000000</td>\n",
       "      <td>...</td>\n",
       "      <td>1.000000</td>\n",
       "      <td>1.000000</td>\n",
       "      <td>1.000000</td>\n",
       "      <td>1.000000</td>\n",
       "      <td>1.000000</td>\n",
       "      <td>1.000000</td>\n",
       "      <td>1.000000</td>\n",
       "      <td>1.000000</td>\n",
       "      <td>1.000000</td>\n",
       "      <td>1.000000</td>\n",
       "    </tr>\n",
       "  </tbody>\n",
       "</table>\n",
       "<p>8 rows × 127708 columns</p>\n",
       "</div>"
      ],
      "text/plain": [
       "         Unnamed: 0     id_2539.0     id_2595.0     id_5121.0     id_5136.0  \\\n",
       "count  31692.000000  31692.000000  31692.000000  31692.000000  31692.000000   \n",
       "mean   19072.854506      0.000032      0.000032      0.000032      0.000032   \n",
       "std    11538.048573      0.005617      0.005617      0.005617      0.005617   \n",
       "min        0.000000      0.000000      0.000000      0.000000      0.000000   \n",
       "25%     8863.750000      0.000000      0.000000      0.000000      0.000000   \n",
       "50%    18735.500000      0.000000      0.000000      0.000000      0.000000   \n",
       "75%    28950.250000      0.000000      0.000000      0.000000      0.000000   \n",
       "max    39880.000000      1.000000      1.000000      1.000000      1.000000   \n",
       "\n",
       "          id_5178.0     id_5203.0     id_5803.0     id_6848.0     id_6872.0  \\\n",
       "count  31692.000000  31692.000000  31692.000000  31692.000000  31692.000000   \n",
       "mean       0.000032      0.000032      0.000032      0.000032      0.000032   \n",
       "std        0.005617      0.005617      0.005617      0.005617      0.005617   \n",
       "min        0.000000      0.000000      0.000000      0.000000      0.000000   \n",
       "25%        0.000000      0.000000      0.000000      0.000000      0.000000   \n",
       "50%        0.000000      0.000000      0.000000      0.000000      0.000000   \n",
       "75%        0.000000      0.000000      0.000000      0.000000      0.000000   \n",
       "max        1.000000      1.000000      1.000000      1.000000      1.000000   \n",
       "\n",
       "       ...  ZipCodes_11235.0  ZipCodes_11236.0  ZipCodes_11237.0  \\\n",
       "count  ...      31692.000000      31692.000000      31692.000000   \n",
       "mean   ...          0.002619          0.004165          0.006058   \n",
       "std    ...          0.051109          0.064404          0.077600   \n",
       "min    ...          0.000000          0.000000          0.000000   \n",
       "25%    ...          0.000000          0.000000          0.000000   \n",
       "50%    ...          0.000000          0.000000          0.000000   \n",
       "75%    ...          0.000000          0.000000          0.000000   \n",
       "max    ...          1.000000          1.000000          1.000000   \n",
       "\n",
       "       ZipCodes_11238.0  ZipCodes_11239.0  ZipCodes_11249.0  ZipCodes_11251.0  \\\n",
       "count      31692.000000      31692.000000      31692.000000      31692.000000   \n",
       "mean           0.006563          0.000252          0.006216          0.000252   \n",
       "std            0.080748          0.015886          0.078598          0.015886   \n",
       "min            0.000000          0.000000          0.000000          0.000000   \n",
       "25%            0.000000          0.000000          0.000000          0.000000   \n",
       "50%            0.000000          0.000000          0.000000          0.000000   \n",
       "75%            0.000000          0.000000          0.000000          0.000000   \n",
       "max            1.000000          1.000000          1.000000          1.000000   \n",
       "\n",
       "       ZipCodes_11385.0      review_0      review_1  \n",
       "count      31692.000000  31692.000000  31692.000000  \n",
       "mean           0.000063      0.738830      0.261170  \n",
       "std            0.007944      0.439279      0.439279  \n",
       "min            0.000000      0.000000      0.000000  \n",
       "25%            0.000000      0.000000      0.000000  \n",
       "50%            0.000000      1.000000      0.000000  \n",
       "75%            0.000000      1.000000      1.000000  \n",
       "max            1.000000      1.000000      1.000000  \n",
       "\n",
       "[8 rows x 127708 columns]"
      ]
     },
     "execution_count": 9,
     "metadata": {},
     "output_type": "execute_result"
    }
   ],
   "source": [
    "X.describe()"
   ]
  },
  {
   "cell_type": "code",
   "execution_count": 10,
   "id": "ce454ca9",
   "metadata": {},
   "outputs": [
    {
     "data": {
      "text/plain": [
       "0    0\n",
       "1    0\n",
       "2    0\n",
       "3    0\n",
       "4    0\n",
       "Name: review, dtype: int64"
      ]
     },
     "execution_count": 10,
     "metadata": {},
     "output_type": "execute_result"
    }
   ],
   "source": [
    "y = df2['review'].copy()\n",
    "y.replace(['1','0'],[1,0],inplace=True)\n",
    "y.head()"
   ]
  },
  {
   "cell_type": "code",
   "execution_count": 11,
   "id": "407941c5",
   "metadata": {},
   "outputs": [],
   "source": [
    "from sklearn.model_selection import train_test_split\n",
    "\n",
    "train_y,test_y,train_X,test_X = train_test_split(y, X,\n",
    "                                                 test_size=0.2,\n",
    "                                                 random_state=123)"
   ]
  },
  {
   "cell_type": "code",
   "execution_count": 12,
   "id": "32447f6b",
   "metadata": {},
   "outputs": [
    {
     "data": {
      "text/plain": [
       "(25353, 127708)"
      ]
     },
     "execution_count": 12,
     "metadata": {},
     "output_type": "execute_result"
    }
   ],
   "source": [
    "train_X.shape"
   ]
  },
  {
   "cell_type": "code",
   "execution_count": 13,
   "id": "e2d21643",
   "metadata": {},
   "outputs": [
    {
     "data": {
      "text/plain": [
       "(25353,)"
      ]
     },
     "execution_count": 13,
     "metadata": {},
     "output_type": "execute_result"
    }
   ],
   "source": [
    "train_y.shape"
   ]
  },
  {
   "cell_type": "code",
   "execution_count": 14,
   "id": "bcca9be4",
   "metadata": {},
   "outputs": [],
   "source": [
    "from sklearn import naive_bayes\n",
    "gauss_nb = naive_bayes.GaussianNB()"
   ]
  },
  {
   "cell_type": "code",
   "execution_count": 15,
   "id": "4349ebbd",
   "metadata": {},
   "outputs": [
    {
     "data": {
      "text/plain": [
       "GaussianNB()"
      ]
     },
     "execution_count": 15,
     "metadata": {},
     "output_type": "execute_result"
    }
   ],
   "source": [
    "gauss_nb.fit(train_X, train_y)"
   ]
  },
  {
   "cell_type": "code",
   "execution_count": 16,
   "id": "e59b0a1a",
   "metadata": {},
   "outputs": [],
   "source": [
    "pred_y_gnb = gauss_nb.predict(test_X)"
   ]
  },
  {
   "cell_type": "code",
   "execution_count": 22,
   "id": "7b57383f",
   "metadata": {},
   "outputs": [],
   "source": [
    "from sklearn import neighbors\n",
    "\n",
    "knn5 = neighbors.KNeighborsClassifier(n_neighbors=5)"
   ]
  },
  {
   "cell_type": "code",
   "execution_count": 24,
   "id": "6b5d874c",
   "metadata": {},
   "outputs": [
    {
     "data": {
      "text/plain": [
       "KNeighborsClassifier()"
      ]
     },
     "execution_count": 24,
     "metadata": {},
     "output_type": "execute_result"
    }
   ],
   "source": [
    "knn5.fit(train_X, train_y)"
   ]
  },
  {
   "cell_type": "code",
   "execution_count": 25,
   "id": "79397881",
   "metadata": {},
   "outputs": [],
   "source": [
    "pred_y_knn5 = knn5.predict(test_X)"
   ]
  },
  {
   "cell_type": "code",
   "execution_count": 26,
   "id": "cf70d4c6",
   "metadata": {},
   "outputs": [
    {
     "name": "stdout",
     "output_type": "stream",
     "text": [
      "[[4178  530]\n",
      " [1135  496]]\n"
     ]
    }
   ],
   "source": [
    "from sklearn import metrics\n",
    "\n",
    "cm = metrics.confusion_matrix(test_y, pred_y_knn5)\n",
    "print(cm)"
   ]
  },
  {
   "cell_type": "code",
   "execution_count": 27,
   "id": "85c73911",
   "metadata": {},
   "outputs": [],
   "source": [
    "import matplotlib.pyplot as plt\n",
    "import numpy as np\n",
    "def print_cm(cm):\n",
    "    plt.clf()\n",
    "    plt.imshow(cm, interpolation='nearest', cmap=plt.cm.Wistia)\n",
    "    classNames = ['Negative','Positive']\n",
    "    plt.title('Confusion Matrix - Test Data')\n",
    "    plt.ylabel('True label')\n",
    "    plt.xlabel('Predicted label')\n",
    "    tick_marks = np.arange(len(classNames))\n",
    "    plt.xticks(tick_marks, classNames, rotation=45)\n",
    "    plt.yticks(tick_marks, classNames)\n",
    "    s = [['TN','FP'], ['FN', 'TP']] \n",
    "    for i in range(2):\n",
    "        for j in range(2):\n",
    "            plt.text(j,i, str(s[i][j])+\" = \"+str(cm[i][j]))\n",
    "    plt.show()"
   ]
  },
  {
   "cell_type": "code",
   "execution_count": 28,
   "id": "335eac21",
   "metadata": {},
   "outputs": [
    {
     "data": {
      "image/png": "[encoded data removed]",
      "text/plain": [
       "<Figure size 432x288 with 1 Axes>"
      ]
     },
     "metadata": {
      "needs_background": "light"
     },
     "output_type": "display_data"
    }
   ],
   "source": [
    "print_cm(cm)"
   ]
  },
  {
   "cell_type": "code",
   "execution_count": 29,
   "id": "87e7b60d",
   "metadata": {},
   "outputs": [
    {
     "data": {
      "image/png": "[encoded data removed]",
      "text/plain": [
       "<Figure size 432x288 with 1 Axes>"
      ]
     },
     "metadata": {
      "needs_background": "light"
     },
     "output_type": "display_data"
    }
   ],
   "source": [
    "print_cm(metrics.confusion_matrix(test_y, pred_y_gnb))"
   ]
  },
  {
   "cell_type": "code",
   "execution_count": 30,
   "id": "b77d62cd",
   "metadata": {},
   "outputs": [
    {
     "data": {
      "text/plain": [
       "0.9798075406215492"
      ]
     },
     "execution_count": 30,
     "metadata": {},
     "output_type": "execute_result"
    }
   ],
   "source": [
    "metrics.accuracy_score(test_y, pred_y_gnb)"
   ]
  },
  {
   "cell_type": "code",
   "execution_count": 31,
   "id": "df97b932",
   "metadata": {},
   "outputs": [
    {
     "data": {
      "text/plain": [
       "0.9607602697731453"
      ]
     },
     "execution_count": 31,
     "metadata": {},
     "output_type": "execute_result"
    }
   ],
   "source": [
    "metrics.roc_auc_score(test_y, pred_y_gnb)"
   ]
  },
  {
   "cell_type": "code",
   "execution_count": 32,
   "id": "9f5c6a1b",
   "metadata": {},
   "outputs": [
    {
     "data": {
      "text/plain": [
       "0.9457757604433146"
      ]
     },
     "execution_count": 32,
     "metadata": {},
     "output_type": "execute_result"
    }
   ],
   "source": [
    "metrics.cohen_kappa_score(test_y, pred_y_gnb)"
   ]
  },
  {
   "cell_type": "code",
   "execution_count": 33,
   "id": "d7094c53",
   "metadata": {},
   "outputs": [
    {
     "name": "stdout",
     "output_type": "stream",
     "text": [
      "              precision    recall  f1-score   support\n",
      "\n",
      "           0       0.97      1.00      0.99      4708\n",
      "           1       1.00      0.92      0.96      1631\n",
      "\n",
      "    accuracy                           0.98      6339\n",
      "   macro avg       0.99      0.96      0.97      6339\n",
      "weighted avg       0.98      0.98      0.98      6339\n",
      "\n"
     ]
    }
   ],
   "source": [
    "print(metrics.classification_report(test_y, pred_y_gnb))"
   ]
  },
  {
   "cell_type": "code",
   "execution_count": null,
   "id": "7ab818bb",
   "metadata": {},
   "outputs": [],
   "source": []
  }
 ],
 "metadata": {
  "kernelspec": {
   "display_name": "Python 3",
   "language": "python",
   "name": "python3"
  },
  "language_info": {
   "codemirror_mode": {
    "name": "ipython",
    "version": 3
   },
   "file_extension": ".py",
   "mimetype": "text/x-python",
   "name": "python",
   "nbconvert_exporter": "python",
   "pygments_lexer": "ipython3",
   "version": "3.8.8"
  }
 },
 "nbformat": 4,
 "nbformat_minor": 5
}
