{
 "cells": [
  {
   "cell_type": "markdown",
   "metadata": {},
   "source": [
    "<h1 align=\"center\"> IST 5520 Milestone 2: Data Analysis I <h1>\n",
    "<h3 align=\"center\"> AirBnB Dataset <h3>\n",
    "\n",
    "#### Student: Ronald Adomako\n",
    "#### Student: Idris Dobbs\n",
    "#### Student: Narendra Chigili\n",
    "#### Student: Nikhil Srirama Sai"
   ]
  },
  {
   "cell_type": "markdown",
   "metadata": {},
   "source": [
    "# Cleanse and visualize data"
   ]
  },
  {
   "cell_type": "markdown",
   "metadata": {},
   "source": [
    "## Introduction"
   ]
  },
  {
   "cell_type": "markdown",
   "metadata": {},
   "source": [
    "AirBnB is a PaaS for the short term rental market. Users use the platform to list residences for short term rentals. We noticed that for big cities, such as New York City, there are many host and some may want to use AirBnB for lucrative means. Given location and characteristics of a property, a new host would want to know whether he or she is charging the optimal amount to rent the space to lodgers.\n",
    "\n",
    "We noticed that from the New York City dataset for AirBnB, the categorical variable for location  was too coarse. The descriptor says the location is categorized into five boroughs. For a big city such as New York City, there are a lot of insights missing from a business perspective because neighborhoods vary drastically in property amenities even within a single borough. Moreso, the geo-coordinates are too fine for business purposes. To handle this we implement a zip code converter to categorize properties based on their location - Feature Selection.\n",
    "\n",
    "- What are the largest determinants / predictors of AirBnB rental prices?\n",
    "- How can we optimize rental revenue based on rental location and other characteristics?\n",
    "- What price should be charged based on rental location/ characteristics?\n",
    "\n",
    "We are opperating under the assumption that NYC AirBnB prices has reached a *steady-state*: i.e. the market has been active for long enough in NYC and there are enough data points (observations) in NYC that the **mean** is meaningful.\n",
    "\n",
    "We want to know whether a host is charging an optimal price. To do this we group the observations by neigborhood and then take the average price. Hosts who charge at or above this price are considered optimal in their respective neighborhood while hosts who charge below the average price for their neighborhood are sub-optimal. Consider the case where all hosts charge the same price within a neighborhood, then the mean is the mode is the median- uniform data, no variance. All the hosts in this neighborhood would be optimal.\n",
    "\n",
    "Consider the case where one of those hosts charge below what would have been the average, then only that host is sub-optimal while the rest are optimal. Conversely, if one host charge above the rest while everyone else charges the same, then that one host would be optimal while the rest are suboptimal.\n",
    "\n",
    "Along with the *steady-state* assumption, by grouping the data by neighborhoods we assume that on average homes and amenities are similar by neighborhood. The geo-coordinates are too fine a scale and the boroughs are too coarse a scale. A meso-scale would be by zipcode, which we would expect to have higher precision of similarities between host, or by neighborhood. For a dataset with 39881 observations, transforming geo-coordinates prove to be computationally expensive (22 hours on standard household computer). We chose the next best meso-scale: what AirBnB features as \"neighbourhood\".\n",
    "\n",
    "From a business perspective, we want to know what percent of hosts per neighborhood are charging an optimal price, and aggregating this data the percent hosts charge an optimal price in NYC overall. We see that using the neighborhood grouping allows us to compare on a common scale for all hosts. We don't have hosts income, so we wouldn't be able to measure profit. Likewise, revenue wouldn't be a fair scale because hosts with more units will outperform host with smaller units just by volume. A nieghborhood comparison allows a better metric to assess price per room, where we expect reasonably small variance per neighborhood. Furthermore, comparing by percentage is normalizes our comparison in general."
   ]
  },
  {
   "cell_type": "markdown",
   "metadata": {},
   "source": [
    "## Data Source and Collection"
   ]
  },
  {
   "cell_type": "markdown",
   "metadata": {},
   "source": [
    "#### We chose the AirBnB dataset for New York City (NYC). We want to build a model that indicates whether hosts are charging an optimum amount for their rental.\n",
    "\n",
    "http://insideairbnb.com/new-york-city/\n",
    "\n",
    "[data dictionary](https://docs.google.com/spreadsheets/d/1iWCNJcSutYqpULSQHlNyGInUvHg2BoUGoNRIGa6Szc4/edit?usp=sharing)\n",
    "\n",
    "http://insideairbnb.com/get-the-data\n",
    "\n",
    "http://data.insideairbnb.com/united-states/ny/new-york-city/2022-09-07/visualisations/listings.csv\n",
    "\n"
   ]
  },
  {
   "cell_type": "code",
   "execution_count": 1,
   "metadata": {},
   "outputs": [],
   "source": [
    "import pandas as pd\n",
    "import matplotlib.pyplot as plt\n",
    "import sidetable as stb\n",
    "import numpy as np\n",
    "# import seaborn as sns\n",
    "from sklearn.preprocessing import OneHotEncoder\n",
    "from sklearn.linear_model import LogisticRegression\n",
    "import seaborn as sb\n",
    "from scipy import stats as st\n",
    "import statsmodels as sts\n",
    "import statsmodels.api as sm\n",
    "\n",
    "%matplotlib inline"
   ]
  },
  {
   "cell_type": "code",
   "execution_count": 2,
   "metadata": {},
   "outputs": [],
   "source": [
    "data = pd.read_csv('/Users/palaparthisainikhil/Downloads/IST5520GrpProj-milestone3/Grp3Project_InitialData/data_dictionary.csv')\n",
    "csv_URL = \"http://data.insideairbnb.com/united-states/ny/new-york-city/2022-09-07/visualisations/listings.csv\"\n",
    "d1=pd.read_csv(\"Brooklyn_zipcodes.csv\")\n",
    "d2=pd.read_csv(\"Manhattan_zipcodes.csv\")\n",
    "df2 = pd.concat([d1,d2])\n",
    "\n",
    "#df2 = pd.read_csv(csv_URL)"
   ]
  },
  {
   "cell_type": "code",
   "execution_count": 3,
   "metadata": {},
   "outputs": [
    {
     "name": "stdout",
     "output_type": "stream",
     "text": [
      "<class 'pandas.core.frame.DataFrame'>\n",
      "Int64Index: 31692 entries, 0 to 16846\n",
      "Data columns (total 21 columns):\n",
      " #   Column                          Non-Null Count  Dtype  \n",
      "---  ------                          --------------  -----  \n",
      " 0   Unnamed: 0                      31692 non-null  int64  \n",
      " 1   id                              31692 non-null  float64\n",
      " 2   name                            31681 non-null  object \n",
      " 3   host_id                         31692 non-null  int64  \n",
      " 4   host_name                       31642 non-null  object \n",
      " 5   neighbourhood_group             31692 non-null  object \n",
      " 6   neighbourhood                   31692 non-null  object \n",
      " 7   latitude                        31692 non-null  float64\n",
      " 8   longitude                       31692 non-null  float64\n",
      " 9   room_type                       31692 non-null  object \n",
      " 10  price                           31692 non-null  int64  \n",
      " 11  minimum_nights                  31692 non-null  int64  \n",
      " 12  number_of_reviews               31692 non-null  int64  \n",
      " 13  last_review                     24866 non-null  object \n",
      " 14  reviews_per_month               24866 non-null  float64\n",
      " 15  calculated_host_listings_count  31692 non-null  int64  \n",
      " 16  availability_365                31692 non-null  int64  \n",
      " 17  number_of_reviews_ltm           31692 non-null  int64  \n",
      " 18  license                         5 non-null      object \n",
      " 19  ZipCodes                        20479 non-null  float64\n",
      " 20  review                          31692 non-null  int64  \n",
      "dtypes: float64(5), int64(9), object(7)\n",
      "memory usage: 5.3+ MB\n"
     ]
    }
   ],
   "source": [
    "df2.info()"
   ]
  },
  {
   "cell_type": "code",
   "execution_count": 4,
   "metadata": {},
   "outputs": [],
   "source": [
    "data_dict = pd.DataFrame(df2.columns, columns=['Features'])\n",
    "data_dict['Description']=None"
   ]
  },
  {
   "cell_type": "markdown",
   "metadata": {},
   "source": [
    "### Dimensional Analysis\n",
    "- What are the largest determinants / predictors of AirBnB rental prices?"
   ]
  },
  {
   "cell_type": "markdown",
   "metadata": {},
   "source": [
    "The data dictionary for New York City AirBnB dataset consists of 75 columns (variables or features) and 39881 observations. Based on our research question and several [Kaggle challenges](https://www.kaggle.com/search?q=airbnb-listing-in-nyc) (www.kaggle.com/search?q=airbnb-listing-in-nyc) we reduced our dimensions to the following **18** features for preliminary analysis."
   ]
  },
  {
   "cell_type": "code",
   "execution_count": 5,
   "metadata": {},
   "outputs": [
    {
     "data": {
      "text/html": [
       "<div>\n",
       "<style scoped>\n",
       "    .dataframe tbody tr th:only-of-type {\n",
       "        vertical-align: middle;\n",
       "    }\n",
       "\n",
       "    .dataframe tbody tr th {\n",
       "        vertical-align: top;\n",
       "    }\n",
       "\n",
       "    .dataframe thead th {\n",
       "        text-align: right;\n",
       "    }\n",
       "</style>\n",
       "<table border=\"1\" class=\"dataframe\">\n",
       "  <thead>\n",
       "    <tr style=\"text-align: right;\">\n",
       "      <th></th>\n",
       "      <th>Features</th>\n",
       "      <th>Description</th>\n",
       "    </tr>\n",
       "  </thead>\n",
       "  <tbody>\n",
       "    <tr>\n",
       "      <th>0</th>\n",
       "      <td>Unnamed: 0</td>\n",
       "      <td>None</td>\n",
       "    </tr>\n",
       "    <tr>\n",
       "      <th>1</th>\n",
       "      <td>id</td>\n",
       "      <td>Airbnb's unique identifier for the listing</td>\n",
       "    </tr>\n",
       "    <tr>\n",
       "      <th>2</th>\n",
       "      <td>name</td>\n",
       "      <td>Name of the listing</td>\n",
       "    </tr>\n",
       "    <tr>\n",
       "      <th>3</th>\n",
       "      <td>host_id</td>\n",
       "      <td>Airbnb's unique identifier for the host/user</td>\n",
       "    </tr>\n",
       "    <tr>\n",
       "      <th>4</th>\n",
       "      <td>host_name</td>\n",
       "      <td>Name of the host. Usually just the first name(s).</td>\n",
       "    </tr>\n",
       "    <tr>\n",
       "      <th>5</th>\n",
       "      <td>neighbourhood_group</td>\n",
       "      <td>Borough</td>\n",
       "    </tr>\n",
       "    <tr>\n",
       "      <th>6</th>\n",
       "      <td>neighbourhood</td>\n",
       "      <td>NaN</td>\n",
       "    </tr>\n",
       "    <tr>\n",
       "      <th>7</th>\n",
       "      <td>latitude</td>\n",
       "      <td>Uses the World Geodetic System (WGS84) projection for latitude and longitude.</td>\n",
       "    </tr>\n",
       "    <tr>\n",
       "      <th>8</th>\n",
       "      <td>longitude</td>\n",
       "      <td>Uses the World Geodetic System (WGS84) projection for latitude and longitude.</td>\n",
       "    </tr>\n",
       "    <tr>\n",
       "      <th>9</th>\n",
       "      <td>room_type</td>\n",
       "      <td>[Entire home/apt|Private room|Shared room|Hotel]</td>\n",
       "    </tr>\n",
       "    <tr>\n",
       "      <th>10</th>\n",
       "      <td>price</td>\n",
       "      <td>daily price in local currency</td>\n",
       "    </tr>\n",
       "    <tr>\n",
       "      <th>11</th>\n",
       "      <td>minimum_nights</td>\n",
       "      <td>minimum number of night stay for the listing (calendar rules may be different)</td>\n",
       "    </tr>\n",
       "    <tr>\n",
       "      <th>12</th>\n",
       "      <td>number_of_reviews</td>\n",
       "      <td>The number of reviews the listing has</td>\n",
       "    </tr>\n",
       "    <tr>\n",
       "      <th>13</th>\n",
       "      <td>last_review</td>\n",
       "      <td>The date of the last/newest review</td>\n",
       "    </tr>\n",
       "    <tr>\n",
       "      <th>14</th>\n",
       "      <td>reviews_per_month</td>\n",
       "      <td>The number of reviews the listing has over the lifetime of the listing</td>\n",
       "    </tr>\n",
       "    <tr>\n",
       "      <th>15</th>\n",
       "      <td>calculated_host_listings_count</td>\n",
       "      <td>The number of listings the host has in the current scrape, in the city/region geography.</td>\n",
       "    </tr>\n",
       "    <tr>\n",
       "      <th>16</th>\n",
       "      <td>availability_365</td>\n",
       "      <td>avaliability_x. The availability of the listing x days in the future as determined by the calend...</td>\n",
       "    </tr>\n",
       "    <tr>\n",
       "      <th>17</th>\n",
       "      <td>number_of_reviews_ltm</td>\n",
       "      <td>The number of reviews the listing has (in the last 12 months)</td>\n",
       "    </tr>\n",
       "    <tr>\n",
       "      <th>18</th>\n",
       "      <td>license</td>\n",
       "      <td>The licence/permit/registration number</td>\n",
       "    </tr>\n",
       "    <tr>\n",
       "      <th>19</th>\n",
       "      <td>ZipCodes</td>\n",
       "      <td>Neighborhood equivalent for zip code group</td>\n",
       "    </tr>\n",
       "    <tr>\n",
       "      <th>20</th>\n",
       "      <td>review</td>\n",
       "      <td>None</td>\n",
       "    </tr>\n",
       "  </tbody>\n",
       "</table>\n",
       "</div>"
      ],
      "text/plain": [
       "                          Features  \\\n",
       "0                       Unnamed: 0   \n",
       "1                               id   \n",
       "2                             name   \n",
       "3                          host_id   \n",
       "4                        host_name   \n",
       "5              neighbourhood_group   \n",
       "6                    neighbourhood   \n",
       "7                         latitude   \n",
       "8                        longitude   \n",
       "9                        room_type   \n",
       "10                           price   \n",
       "11                  minimum_nights   \n",
       "12               number_of_reviews   \n",
       "13                     last_review   \n",
       "14               reviews_per_month   \n",
       "15  calculated_host_listings_count   \n",
       "16                availability_365   \n",
       "17           number_of_reviews_ltm   \n",
       "18                         license   \n",
       "19                        ZipCodes   \n",
       "20                          review   \n",
       "\n",
       "                                                                                            Description  \n",
       "0                                                                                                  None  \n",
       "1                                                            Airbnb's unique identifier for the listing  \n",
       "2                                                                                   Name of the listing  \n",
       "3                                                          Airbnb's unique identifier for the host/user  \n",
       "4                                                     Name of the host. Usually just the first name(s).  \n",
       "5                                                                                               Borough  \n",
       "6                                                                                                   NaN  \n",
       "7                         Uses the World Geodetic System (WGS84) projection for latitude and longitude.  \n",
       "8                         Uses the World Geodetic System (WGS84) projection for latitude and longitude.  \n",
       "9                                                      [Entire home/apt|Private room|Shared room|Hotel]  \n",
       "10                                                                        daily price in local currency  \n",
       "11                       minimum number of night stay for the listing (calendar rules may be different)  \n",
       "12                                                                The number of reviews the listing has  \n",
       "13                                                                   The date of the last/newest review  \n",
       "14                               The number of reviews the listing has over the lifetime of the listing  \n",
       "15             The number of listings the host has in the current scrape, in the city/region geography.  \n",
       "16  avaliability_x. The availability of the listing x days in the future as determined by the calend...  \n",
       "17                                        The number of reviews the listing has (in the last 12 months)  \n",
       "18                                                               The licence/permit/registration number  \n",
       "19                                                           Neighborhood equivalent for zip code group  \n",
       "20                                                                                                 None  "
      ]
     },
     "execution_count": 5,
     "metadata": {},
     "output_type": "execute_result"
    }
   ],
   "source": [
    "for i,feature in enumerate(df2.columns):\n",
    "    #print(feature)\n",
    "    #print(type(feature))\n",
    "    val = data[data['Field']==feature]['Description'].values\n",
    "    try:\n",
    "        data_dict.loc[i,'Description'] = val[0]\n",
    "    except: #IndexError\n",
    "        data_dict.loc[i,'Description'] = None\n",
    "        \n",
    "    if feature == 'ZipCodes':\n",
    "        data_dict.loc[i,'Description'] = \\\n",
    "            'Neighborhood equivalent for zip code group'\n",
    "    if feature == 'neighbourhood_group':\n",
    "        data_dict.loc[i,'Description'] = \\\n",
    "            'Borough'        \n",
    "        \n",
    "pd.set_option('display.max_colwidth', 100)\n",
    "data_dict\n"
   ]
  },
  {
   "cell_type": "code",
   "execution_count": 6,
   "metadata": {},
   "outputs": [],
   "source": [
    "csv_URL = \"http://data.insideairbnb.com/united-states/ny/new-york-city/2022-09-07/visualisations/listings.csv\"\n",
    "df = pd.read_csv(csv_URL)"
   ]
  },
  {
   "cell_type": "markdown",
   "metadata": {},
   "source": [
    "## Data Manipulation"
   ]
  },
  {
   "cell_type": "code",
   "execution_count": 7,
   "metadata": {},
   "outputs": [
    {
     "data": {
      "text/plain": [
       "array(['Greenpoint', 'Kensington', 'Prospect Heights',\n",
       "       'Bedford-Stuyvesant', 'Sunset Park', 'Park Slope', 'South Slope',\n",
       "       'Williamsburg', 'Gowanus', 'Bushwick', 'Crown Heights',\n",
       "       'Fort Greene', 'Clinton Hill', 'Flatbush', 'Brooklyn Heights',\n",
       "       'Windsor Terrace', 'Carroll Gardens', 'East Flatbush',\n",
       "       'Boerum Hill', 'Gravesend', 'East New York',\n",
       "       'Prospect-Lefferts Gardens', 'Sheepshead Bay', 'Bensonhurst',\n",
       "       'Brighton Beach', 'Fort Hamilton', 'Cobble Hill', 'DUMBO',\n",
       "       'Columbia St', 'Cypress Hills', 'Downtown Brooklyn', 'Bay Ridge',\n",
       "       'Red Hook', 'Vinegar Hill', 'Flatlands', 'Canarsie',\n",
       "       'Borough Park', 'Midwood', 'Navy Yard', 'Brownsville',\n",
       "       'Manhattan Beach', 'Mill Basin', 'Sea Gate', 'Bergen Beach',\n",
       "       'Dyker Heights', 'Coney Island', 'Bath Beach', 'Gerritsen Beach',\n",
       "       'Marine Park', 'Green-Wood Cemetery', 'Prospect Park',\n",
       "       'Morningside Heights', 'East Village', 'Midtown',\n",
       "       'Upper West Side', 'Upper East Side', 'East Harlem', 'Harlem',\n",
       "       \"Hell's Kitchen\", 'Chelsea', 'Lower East Side',\n",
       "       'Flatiron District', 'Chinatown', 'Tribeca', 'Washington Heights',\n",
       "       'Greenwich Village', 'Financial District', 'Kips Bay',\n",
       "       'West Village', 'Nolita', 'Murray Hill', 'Gramercy',\n",
       "       'Little Italy', 'SoHo', 'Stuyvesant Town', 'Theater District',\n",
       "       'Battery Park City', 'Two Bridges', 'Inwood', 'NoHo',\n",
       "       'Civic Center', 'Roosevelt Island', 'Marble Hill', 'Ellis Island',\n",
       "       'Central Park'], dtype=object)"
      ]
     },
     "execution_count": 7,
     "metadata": {},
     "output_type": "execute_result"
    }
   ],
   "source": [
    "df2['neighbourhood'].unique()"
   ]
  },
  {
   "cell_type": "code",
   "execution_count": 8,
   "metadata": {},
   "outputs": [
    {
     "data": {
      "text/html": [
       "<div>\n",
       "<style scoped>\n",
       "    .dataframe tbody tr th:only-of-type {\n",
       "        vertical-align: middle;\n",
       "    }\n",
       "\n",
       "    .dataframe tbody tr th {\n",
       "        vertical-align: top;\n",
       "    }\n",
       "\n",
       "    .dataframe thead th {\n",
       "        text-align: right;\n",
       "    }\n",
       "</style>\n",
       "<table border=\"1\" class=\"dataframe\">\n",
       "  <thead>\n",
       "    <tr style=\"text-align: right;\">\n",
       "      <th></th>\n",
       "      <th>price</th>\n",
       "    </tr>\n",
       "    <tr>\n",
       "      <th>ZipCodes</th>\n",
       "      <th></th>\n",
       "    </tr>\n",
       "  </thead>\n",
       "  <tbody>\n",
       "    <tr>\n",
       "      <th>10000.0</th>\n",
       "      <td>173.40</td>\n",
       "    </tr>\n",
       "    <tr>\n",
       "      <th>10001.0</th>\n",
       "      <td>312.69</td>\n",
       "    </tr>\n",
       "    <tr>\n",
       "      <th>10002.0</th>\n",
       "      <td>280.50</td>\n",
       "    </tr>\n",
       "    <tr>\n",
       "      <th>10003.0</th>\n",
       "      <td>258.39</td>\n",
       "    </tr>\n",
       "    <tr>\n",
       "      <th>10004.0</th>\n",
       "      <td>315.30</td>\n",
       "    </tr>\n",
       "    <tr>\n",
       "      <th>...</th>\n",
       "      <td>...</td>\n",
       "    </tr>\n",
       "    <tr>\n",
       "      <th>11238.0</th>\n",
       "      <td>206.36</td>\n",
       "    </tr>\n",
       "    <tr>\n",
       "      <th>11239.0</th>\n",
       "      <td>155.12</td>\n",
       "    </tr>\n",
       "    <tr>\n",
       "      <th>11249.0</th>\n",
       "      <td>245.05</td>\n",
       "    </tr>\n",
       "    <tr>\n",
       "      <th>11251.0</th>\n",
       "      <td>413.00</td>\n",
       "    </tr>\n",
       "    <tr>\n",
       "      <th>11385.0</th>\n",
       "      <td>190.50</td>\n",
       "    </tr>\n",
       "  </tbody>\n",
       "</table>\n",
       "<p>112 rows × 1 columns</p>\n",
       "</div>"
      ],
      "text/plain": [
       "           price\n",
       "ZipCodes        \n",
       "10000.0   173.40\n",
       "10001.0   312.69\n",
       "10002.0   280.50\n",
       "10003.0   258.39\n",
       "10004.0   315.30\n",
       "...          ...\n",
       "11238.0   206.36\n",
       "11239.0   155.12\n",
       "11249.0   245.05\n",
       "11251.0   413.00\n",
       "11385.0   190.50\n",
       "\n",
       "[112 rows x 1 columns]"
      ]
     },
     "execution_count": 8,
     "metadata": {},
     "output_type": "execute_result"
    }
   ],
   "source": [
    "#Create a data frame grouping by neighborhood for average price\n",
    "hood_price_obj = df2[['ZipCodes','price','neighbourhood']].groupby('ZipCodes')\n",
    "df_mean_price = hood_price_obj.mean()\n",
    "df_mean_price[['price']] = df_mean_price[['price']].round(2)\n",
    "df_mean_price"
   ]
  },
  {
   "cell_type": "code",
   "execution_count": 9,
   "metadata": {},
   "outputs": [
    {
     "data": {
      "text/html": [
       "<div>\n",
       "<style scoped>\n",
       "    .dataframe tbody tr th:only-of-type {\n",
       "        vertical-align: middle;\n",
       "    }\n",
       "\n",
       "    .dataframe tbody tr th {\n",
       "        vertical-align: top;\n",
       "    }\n",
       "\n",
       "    .dataframe thead tr th {\n",
       "        text-align: left;\n",
       "    }\n",
       "\n",
       "    .dataframe thead tr:last-of-type th {\n",
       "        text-align: right;\n",
       "    }\n",
       "</style>\n",
       "<table border=\"1\" class=\"dataframe\">\n",
       "  <thead>\n",
       "    <tr>\n",
       "      <th></th>\n",
       "      <th colspan=\"8\" halign=\"left\">price</th>\n",
       "    </tr>\n",
       "    <tr>\n",
       "      <th></th>\n",
       "      <th>count</th>\n",
       "      <th>mean</th>\n",
       "      <th>std</th>\n",
       "      <th>min</th>\n",
       "      <th>25%</th>\n",
       "      <th>50%</th>\n",
       "      <th>75%</th>\n",
       "      <th>max</th>\n",
       "    </tr>\n",
       "    <tr>\n",
       "      <th>ZipCodes</th>\n",
       "      <th></th>\n",
       "      <th></th>\n",
       "      <th></th>\n",
       "      <th></th>\n",
       "      <th></th>\n",
       "      <th></th>\n",
       "      <th></th>\n",
       "      <th></th>\n",
       "    </tr>\n",
       "  </thead>\n",
       "  <tbody>\n",
       "    <tr>\n",
       "      <th>10000.0</th>\n",
       "      <td>10.0</td>\n",
       "      <td>173.400000</td>\n",
       "      <td>103.109650</td>\n",
       "      <td>50.0</td>\n",
       "      <td>108.25</td>\n",
       "      <td>150.0</td>\n",
       "      <td>225.00</td>\n",
       "      <td>400.0</td>\n",
       "    </tr>\n",
       "    <tr>\n",
       "      <th>10001.0</th>\n",
       "      <td>641.0</td>\n",
       "      <td>312.694228</td>\n",
       "      <td>718.725200</td>\n",
       "      <td>0.0</td>\n",
       "      <td>110.00</td>\n",
       "      <td>212.0</td>\n",
       "      <td>304.00</td>\n",
       "      <td>10000.0</td>\n",
       "    </tr>\n",
       "    <tr>\n",
       "      <th>10002.0</th>\n",
       "      <td>937.0</td>\n",
       "      <td>280.495197</td>\n",
       "      <td>496.143267</td>\n",
       "      <td>0.0</td>\n",
       "      <td>118.00</td>\n",
       "      <td>185.0</td>\n",
       "      <td>285.00</td>\n",
       "      <td>10000.0</td>\n",
       "    </tr>\n",
       "    <tr>\n",
       "      <th>10003.0</th>\n",
       "      <td>600.0</td>\n",
       "      <td>258.390000</td>\n",
       "      <td>418.963170</td>\n",
       "      <td>0.0</td>\n",
       "      <td>118.75</td>\n",
       "      <td>160.0</td>\n",
       "      <td>269.50</td>\n",
       "      <td>6500.0</td>\n",
       "    </tr>\n",
       "    <tr>\n",
       "      <th>10004.0</th>\n",
       "      <td>84.0</td>\n",
       "      <td>315.297619</td>\n",
       "      <td>165.657709</td>\n",
       "      <td>0.0</td>\n",
       "      <td>159.75</td>\n",
       "      <td>331.5</td>\n",
       "      <td>407.00</td>\n",
       "      <td>799.0</td>\n",
       "    </tr>\n",
       "    <tr>\n",
       "      <th>...</th>\n",
       "      <td>...</td>\n",
       "      <td>...</td>\n",
       "      <td>...</td>\n",
       "      <td>...</td>\n",
       "      <td>...</td>\n",
       "      <td>...</td>\n",
       "      <td>...</td>\n",
       "      <td>...</td>\n",
       "    </tr>\n",
       "    <tr>\n",
       "      <th>11238.0</th>\n",
       "      <td>208.0</td>\n",
       "      <td>206.360577</td>\n",
       "      <td>234.144511</td>\n",
       "      <td>30.0</td>\n",
       "      <td>90.00</td>\n",
       "      <td>160.5</td>\n",
       "      <td>250.00</td>\n",
       "      <td>2880.0</td>\n",
       "    </tr>\n",
       "    <tr>\n",
       "      <th>11239.0</th>\n",
       "      <td>8.0</td>\n",
       "      <td>155.125000</td>\n",
       "      <td>57.598208</td>\n",
       "      <td>53.0</td>\n",
       "      <td>124.25</td>\n",
       "      <td>176.0</td>\n",
       "      <td>191.75</td>\n",
       "      <td>220.0</td>\n",
       "    </tr>\n",
       "    <tr>\n",
       "      <th>11249.0</th>\n",
       "      <td>197.0</td>\n",
       "      <td>245.050761</td>\n",
       "      <td>150.960116</td>\n",
       "      <td>0.0</td>\n",
       "      <td>125.00</td>\n",
       "      <td>220.0</td>\n",
       "      <td>320.00</td>\n",
       "      <td>825.0</td>\n",
       "    </tr>\n",
       "    <tr>\n",
       "      <th>11251.0</th>\n",
       "      <td>8.0</td>\n",
       "      <td>413.000000</td>\n",
       "      <td>341.037493</td>\n",
       "      <td>68.0</td>\n",
       "      <td>125.25</td>\n",
       "      <td>344.5</td>\n",
       "      <td>623.00</td>\n",
       "      <td>950.0</td>\n",
       "    </tr>\n",
       "    <tr>\n",
       "      <th>11385.0</th>\n",
       "      <td>2.0</td>\n",
       "      <td>190.500000</td>\n",
       "      <td>21.920310</td>\n",
       "      <td>175.0</td>\n",
       "      <td>182.75</td>\n",
       "      <td>190.5</td>\n",
       "      <td>198.25</td>\n",
       "      <td>206.0</td>\n",
       "    </tr>\n",
       "  </tbody>\n",
       "</table>\n",
       "<p>112 rows × 8 columns</p>\n",
       "</div>"
      ],
      "text/plain": [
       "          price                                                               \n",
       "          count        mean         std    min     25%    50%     75%      max\n",
       "ZipCodes                                                                      \n",
       "10000.0    10.0  173.400000  103.109650   50.0  108.25  150.0  225.00    400.0\n",
       "10001.0   641.0  312.694228  718.725200    0.0  110.00  212.0  304.00  10000.0\n",
       "10002.0   937.0  280.495197  496.143267    0.0  118.00  185.0  285.00  10000.0\n",
       "10003.0   600.0  258.390000  418.963170    0.0  118.75  160.0  269.50   6500.0\n",
       "10004.0    84.0  315.297619  165.657709    0.0  159.75  331.5  407.00    799.0\n",
       "...         ...         ...         ...    ...     ...    ...     ...      ...\n",
       "11238.0   208.0  206.360577  234.144511   30.0   90.00  160.5  250.00   2880.0\n",
       "11239.0     8.0  155.125000   57.598208   53.0  124.25  176.0  191.75    220.0\n",
       "11249.0   197.0  245.050761  150.960116    0.0  125.00  220.0  320.00    825.0\n",
       "11251.0     8.0  413.000000  341.037493   68.0  125.25  344.5  623.00    950.0\n",
       "11385.0     2.0  190.500000   21.920310  175.0  182.75  190.5  198.25    206.0\n",
       "\n",
       "[112 rows x 8 columns]"
      ]
     },
     "execution_count": 9,
     "metadata": {},
     "output_type": "execute_result"
    }
   ],
   "source": [
    "hood_price_obj.describe()"
   ]
  },
  {
   "cell_type": "code",
   "execution_count": 10,
   "metadata": {},
   "outputs": [
    {
     "data": {
      "text/html": [
       "<div>\n",
       "<style scoped>\n",
       "    .dataframe tbody tr th:only-of-type {\n",
       "        vertical-align: middle;\n",
       "    }\n",
       "\n",
       "    .dataframe tbody tr th {\n",
       "        vertical-align: top;\n",
       "    }\n",
       "\n",
       "    .dataframe thead th {\n",
       "        text-align: right;\n",
       "    }\n",
       "</style>\n",
       "<table border=\"1\" class=\"dataframe\">\n",
       "  <thead>\n",
       "    <tr style=\"text-align: right;\">\n",
       "      <th></th>\n",
       "      <th>price</th>\n",
       "    </tr>\n",
       "    <tr>\n",
       "      <th>ZipCodes</th>\n",
       "      <th></th>\n",
       "    </tr>\n",
       "  </thead>\n",
       "  <tbody>\n",
       "    <tr>\n",
       "      <th>10000.0</th>\n",
       "      <td>173.40</td>\n",
       "    </tr>\n",
       "    <tr>\n",
       "      <th>10001.0</th>\n",
       "      <td>312.69</td>\n",
       "    </tr>\n",
       "    <tr>\n",
       "      <th>10002.0</th>\n",
       "      <td>280.50</td>\n",
       "    </tr>\n",
       "    <tr>\n",
       "      <th>10003.0</th>\n",
       "      <td>258.39</td>\n",
       "    </tr>\n",
       "    <tr>\n",
       "      <th>10004.0</th>\n",
       "      <td>315.30</td>\n",
       "    </tr>\n",
       "  </tbody>\n",
       "</table>\n",
       "</div>"
      ],
      "text/plain": [
       "           price\n",
       "ZipCodes        \n",
       "10000.0   173.40\n",
       "10001.0   312.69\n",
       "10002.0   280.50\n",
       "10003.0   258.39\n",
       "10004.0   315.30"
      ]
     },
     "execution_count": 10,
     "metadata": {},
     "output_type": "execute_result"
    }
   ],
   "source": [
    "df_mean_price.head()"
   ]
  },
  {
   "cell_type": "markdown",
   "metadata": {},
   "source": [
    "**We have reduced 39881 into 244 rows of manageable data!**"
   ]
  },
  {
   "cell_type": "code",
   "execution_count": 11,
   "metadata": {},
   "outputs": [
    {
     "data": {
      "text/html": [
       "<div>\n",
       "<style scoped>\n",
       "    .dataframe tbody tr th:only-of-type {\n",
       "        vertical-align: middle;\n",
       "    }\n",
       "\n",
       "    .dataframe tbody tr th {\n",
       "        vertical-align: top;\n",
       "    }\n",
       "\n",
       "    .dataframe thead th {\n",
       "        text-align: right;\n",
       "    }\n",
       "</style>\n",
       "<table border=\"1\" class=\"dataframe\">\n",
       "  <thead>\n",
       "    <tr style=\"text-align: right;\">\n",
       "      <th></th>\n",
       "      <th>ZipCodes</th>\n",
       "      <th>count</th>\n",
       "      <th>percent</th>\n",
       "      <th>cumulative_count</th>\n",
       "      <th>cumulative_percent</th>\n",
       "    </tr>\n",
       "  </thead>\n",
       "  <tbody>\n",
       "    <tr>\n",
       "      <th>0</th>\n",
       "      <td>10019.0</td>\n",
       "      <td>1004</td>\n",
       "      <td>4.902583</td>\n",
       "      <td>1004</td>\n",
       "      <td>4.902583</td>\n",
       "    </tr>\n",
       "    <tr>\n",
       "      <th>1</th>\n",
       "      <td>10002.0</td>\n",
       "      <td>937</td>\n",
       "      <td>4.575419</td>\n",
       "      <td>1941</td>\n",
       "      <td>9.478002</td>\n",
       "    </tr>\n",
       "    <tr>\n",
       "      <th>2</th>\n",
       "      <td>10016.0</td>\n",
       "      <td>745</td>\n",
       "      <td>3.637873</td>\n",
       "      <td>2686</td>\n",
       "      <td>13.115875</td>\n",
       "    </tr>\n",
       "    <tr>\n",
       "      <th>3</th>\n",
       "      <td>10025.0</td>\n",
       "      <td>714</td>\n",
       "      <td>3.486498</td>\n",
       "      <td>3400</td>\n",
       "      <td>16.602373</td>\n",
       "    </tr>\n",
       "    <tr>\n",
       "      <th>4</th>\n",
       "      <td>10036.0</td>\n",
       "      <td>688</td>\n",
       "      <td>3.359539</td>\n",
       "      <td>4088</td>\n",
       "      <td>19.961912</td>\n",
       "    </tr>\n",
       "    <tr>\n",
       "      <th>...</th>\n",
       "      <td>...</td>\n",
       "      <td>...</td>\n",
       "      <td>...</td>\n",
       "      <td>...</td>\n",
       "      <td>...</td>\n",
       "    </tr>\n",
       "    <tr>\n",
       "      <th>107</th>\n",
       "      <td>10285.0</td>\n",
       "      <td>2</td>\n",
       "      <td>0.009766</td>\n",
       "      <td>20475</td>\n",
       "      <td>99.980468</td>\n",
       "    </tr>\n",
       "    <tr>\n",
       "      <th>108</th>\n",
       "      <td>10278.0</td>\n",
       "      <td>1</td>\n",
       "      <td>0.004883</td>\n",
       "      <td>20476</td>\n",
       "      <td>99.985351</td>\n",
       "    </tr>\n",
       "    <tr>\n",
       "      <th>109</th>\n",
       "      <td>10168.0</td>\n",
       "      <td>1</td>\n",
       "      <td>0.004883</td>\n",
       "      <td>20477</td>\n",
       "      <td>99.990234</td>\n",
       "    </tr>\n",
       "    <tr>\n",
       "      <th>110</th>\n",
       "      <td>10121.0</td>\n",
       "      <td>1</td>\n",
       "      <td>0.004883</td>\n",
       "      <td>20478</td>\n",
       "      <td>99.995117</td>\n",
       "    </tr>\n",
       "    <tr>\n",
       "      <th>111</th>\n",
       "      <td>10104.0</td>\n",
       "      <td>1</td>\n",
       "      <td>0.004883</td>\n",
       "      <td>20479</td>\n",
       "      <td>100.000000</td>\n",
       "    </tr>\n",
       "  </tbody>\n",
       "</table>\n",
       "<p>112 rows × 5 columns</p>\n",
       "</div>"
      ],
      "text/plain": [
       "     ZipCodes  count   percent  cumulative_count  cumulative_percent\n",
       "0     10019.0   1004  4.902583              1004            4.902583\n",
       "1     10002.0    937  4.575419              1941            9.478002\n",
       "2     10016.0    745  3.637873              2686           13.115875\n",
       "3     10025.0    714  3.486498              3400           16.602373\n",
       "4     10036.0    688  3.359539              4088           19.961912\n",
       "..        ...    ...       ...               ...                 ...\n",
       "107   10285.0      2  0.009766             20475           99.980468\n",
       "108   10278.0      1  0.004883             20476           99.985351\n",
       "109   10168.0      1  0.004883             20477           99.990234\n",
       "110   10121.0      1  0.004883             20478           99.995117\n",
       "111   10104.0      1  0.004883             20479          100.000000\n",
       "\n",
       "[112 rows x 5 columns]"
      ]
     },
     "execution_count": 11,
     "metadata": {},
     "output_type": "execute_result"
    }
   ],
   "source": [
    "df2.stb.freq(['ZipCodes'])"
   ]
  },
  {
   "cell_type": "code",
   "execution_count": 12,
   "metadata": {},
   "outputs": [],
   "source": [
    "#df = df2.sort_values('neighbourhood')\n",
    "df_hood = df2.stb.freq(['ZipCodes'])\n",
    "df_hood = df_hood.loc[:,'ZipCodes':'percent']\n",
    "df_hood = df_hood.sort_values('ZipCodes')"
   ]
  },
  {
   "cell_type": "code",
   "execution_count": 13,
   "metadata": {},
   "outputs": [],
   "source": [
    "df_hood.reset_index(inplace=True)"
   ]
  },
  {
   "cell_type": "code",
   "execution_count": 14,
   "metadata": {},
   "outputs": [
    {
     "data": {
      "text/html": [
       "<div>\n",
       "<style scoped>\n",
       "    .dataframe tbody tr th:only-of-type {\n",
       "        vertical-align: middle;\n",
       "    }\n",
       "\n",
       "    .dataframe tbody tr th {\n",
       "        vertical-align: top;\n",
       "    }\n",
       "\n",
       "    .dataframe thead th {\n",
       "        text-align: right;\n",
       "    }\n",
       "</style>\n",
       "<table border=\"1\" class=\"dataframe\">\n",
       "  <thead>\n",
       "    <tr style=\"text-align: right;\">\n",
       "      <th></th>\n",
       "      <th>ZipCodes</th>\n",
       "      <th>price</th>\n",
       "    </tr>\n",
       "  </thead>\n",
       "  <tbody>\n",
       "    <tr>\n",
       "      <th>0</th>\n",
       "      <td>10000.0</td>\n",
       "      <td>173.40</td>\n",
       "    </tr>\n",
       "    <tr>\n",
       "      <th>1</th>\n",
       "      <td>10001.0</td>\n",
       "      <td>312.69</td>\n",
       "    </tr>\n",
       "    <tr>\n",
       "      <th>2</th>\n",
       "      <td>10002.0</td>\n",
       "      <td>280.50</td>\n",
       "    </tr>\n",
       "    <tr>\n",
       "      <th>3</th>\n",
       "      <td>10003.0</td>\n",
       "      <td>258.39</td>\n",
       "    </tr>\n",
       "    <tr>\n",
       "      <th>4</th>\n",
       "      <td>10004.0</td>\n",
       "      <td>315.30</td>\n",
       "    </tr>\n",
       "  </tbody>\n",
       "</table>\n",
       "</div>"
      ],
      "text/plain": [
       "   ZipCodes   price\n",
       "0   10000.0  173.40\n",
       "1   10001.0  312.69\n",
       "2   10002.0  280.50\n",
       "3   10003.0  258.39\n",
       "4   10004.0  315.30"
      ]
     },
     "execution_count": 14,
     "metadata": {},
     "output_type": "execute_result"
    }
   ],
   "source": [
    "df_mean = df_mean_price[['price']].reset_index()\n",
    "df_mean.head()"
   ]
  },
  {
   "cell_type": "code",
   "execution_count": 15,
   "metadata": {},
   "outputs": [
    {
     "data": {
      "text/html": [
       "<div>\n",
       "<style scoped>\n",
       "    .dataframe tbody tr th:only-of-type {\n",
       "        vertical-align: middle;\n",
       "    }\n",
       "\n",
       "    .dataframe tbody tr th {\n",
       "        vertical-align: top;\n",
       "    }\n",
       "\n",
       "    .dataframe thead th {\n",
       "        text-align: right;\n",
       "    }\n",
       "</style>\n",
       "<table border=\"1\" class=\"dataframe\">\n",
       "  <thead>\n",
       "    <tr style=\"text-align: right;\">\n",
       "      <th></th>\n",
       "      <th>pop_rank</th>\n",
       "      <th>ZipCodes</th>\n",
       "      <th>count</th>\n",
       "      <th>percent</th>\n",
       "      <th>price</th>\n",
       "    </tr>\n",
       "  </thead>\n",
       "  <tbody>\n",
       "    <tr>\n",
       "      <th>0</th>\n",
       "      <td>92</td>\n",
       "      <td>10000.0</td>\n",
       "      <td>10</td>\n",
       "      <td>0.048831</td>\n",
       "      <td>173.40</td>\n",
       "    </tr>\n",
       "    <tr>\n",
       "      <th>1</th>\n",
       "      <td>6</td>\n",
       "      <td>10001.0</td>\n",
       "      <td>641</td>\n",
       "      <td>3.130036</td>\n",
       "      <td>312.69</td>\n",
       "    </tr>\n",
       "    <tr>\n",
       "      <th>2</th>\n",
       "      <td>1</td>\n",
       "      <td>10002.0</td>\n",
       "      <td>937</td>\n",
       "      <td>4.575419</td>\n",
       "      <td>280.50</td>\n",
       "    </tr>\n",
       "    <tr>\n",
       "      <th>3</th>\n",
       "      <td>8</td>\n",
       "      <td>10003.0</td>\n",
       "      <td>600</td>\n",
       "      <td>2.929831</td>\n",
       "      <td>258.39</td>\n",
       "    </tr>\n",
       "    <tr>\n",
       "      <th>4</th>\n",
       "      <td>58</td>\n",
       "      <td>10004.0</td>\n",
       "      <td>84</td>\n",
       "      <td>0.410176</td>\n",
       "      <td>315.30</td>\n",
       "    </tr>\n",
       "  </tbody>\n",
       "</table>\n",
       "</div>"
      ],
      "text/plain": [
       "   pop_rank  ZipCodes  count   percent   price\n",
       "0        92   10000.0     10  0.048831  173.40\n",
       "1         6   10001.0    641  3.130036  312.69\n",
       "2         1   10002.0    937  4.575419  280.50\n",
       "3         8   10003.0    600  2.929831  258.39\n",
       "4        58   10004.0     84  0.410176  315.30"
      ]
     },
     "execution_count": 15,
     "metadata": {},
     "output_type": "execute_result"
    }
   ],
   "source": [
    "df_hood['price'] = df_mean['price']\n",
    "df_hood.rename(columns={'index':'pop_rank'}, inplace=True)\n",
    "df_hood.head()"
   ]
  },
  {
   "cell_type": "code",
   "execution_count": 16,
   "metadata": {},
   "outputs": [
    {
     "name": "stdout",
     "output_type": "stream",
     "text": [
      "<class 'pandas.core.frame.DataFrame'>\n",
      "RangeIndex: 112 entries, 0 to 111\n",
      "Data columns (total 5 columns):\n",
      " #   Column    Non-Null Count  Dtype  \n",
      "---  ------    --------------  -----  \n",
      " 0   pop_rank  112 non-null    int64  \n",
      " 1   ZipCodes  112 non-null    float64\n",
      " 2   count     112 non-null    int64  \n",
      " 3   percent   112 non-null    float64\n",
      " 4   price     112 non-null    float64\n",
      "dtypes: float64(3), int64(2)\n",
      "memory usage: 4.5 KB\n"
     ]
    }
   ],
   "source": [
    "df_hood.info()"
   ]
  },
  {
   "cell_type": "markdown",
   "metadata": {},
   "source": [
    "## Data Summarization and Visualization\n",
    "- How can we optimize rental revenue based on rental location and other characteristics?\n",
    "\n",
    "*We choose the mode, because the mode remains the same after making corrections for outliers*\n"
   ]
  },
  {
   "cell_type": "markdown",
   "metadata": {},
   "source": [
    "### Inspect distribution of top three most populous neighborhoods"
   ]
  },
  {
   "cell_type": "code",
   "execution_count": 17,
   "metadata": {},
   "outputs": [
    {
     "data": {
      "text/html": [
       "<div>\n",
       "<style scoped>\n",
       "    .dataframe tbody tr th:only-of-type {\n",
       "        vertical-align: middle;\n",
       "    }\n",
       "\n",
       "    .dataframe tbody tr th {\n",
       "        vertical-align: top;\n",
       "    }\n",
       "\n",
       "    .dataframe thead th {\n",
       "        text-align: right;\n",
       "    }\n",
       "</style>\n",
       "<table border=\"1\" class=\"dataframe\">\n",
       "  <thead>\n",
       "    <tr style=\"text-align: right;\">\n",
       "      <th></th>\n",
       "      <th>pop_rank</th>\n",
       "      <th>ZipCodes</th>\n",
       "      <th>count</th>\n",
       "      <th>percent</th>\n",
       "      <th>price</th>\n",
       "    </tr>\n",
       "  </thead>\n",
       "  <tbody>\n",
       "    <tr>\n",
       "      <th>17</th>\n",
       "      <td>0</td>\n",
       "      <td>10019.0</td>\n",
       "      <td>1004</td>\n",
       "      <td>4.902583</td>\n",
       "      <td>346.89</td>\n",
       "    </tr>\n",
       "    <tr>\n",
       "      <th>2</th>\n",
       "      <td>1</td>\n",
       "      <td>10002.0</td>\n",
       "      <td>937</td>\n",
       "      <td>4.575419</td>\n",
       "      <td>280.50</td>\n",
       "    </tr>\n",
       "    <tr>\n",
       "      <th>14</th>\n",
       "      <td>2</td>\n",
       "      <td>10016.0</td>\n",
       "      <td>745</td>\n",
       "      <td>3.637873</td>\n",
       "      <td>262.36</td>\n",
       "    </tr>\n",
       "    <tr>\n",
       "      <th>23</th>\n",
       "      <td>3</td>\n",
       "      <td>10025.0</td>\n",
       "      <td>714</td>\n",
       "      <td>3.486498</td>\n",
       "      <td>169.39</td>\n",
       "    </tr>\n",
       "    <tr>\n",
       "      <th>34</th>\n",
       "      <td>4</td>\n",
       "      <td>10036.0</td>\n",
       "      <td>688</td>\n",
       "      <td>3.359539</td>\n",
       "      <td>337.50</td>\n",
       "    </tr>\n",
       "  </tbody>\n",
       "</table>\n",
       "</div>"
      ],
      "text/plain": [
       "    pop_rank  ZipCodes  count   percent   price\n",
       "17         0   10019.0   1004  4.902583  346.89\n",
       "2          1   10002.0    937  4.575419  280.50\n",
       "14         2   10016.0    745  3.637873  262.36\n",
       "23         3   10025.0    714  3.486498  169.39\n",
       "34         4   10036.0    688  3.359539  337.50"
      ]
     },
     "execution_count": 17,
     "metadata": {},
     "output_type": "execute_result"
    }
   ],
   "source": [
    "df_hood.sort_values(by='pop_rank').head()"
   ]
  },
  {
   "cell_type": "code",
   "execution_count": 18,
   "metadata": {},
   "outputs": [],
   "source": [
    "df2_s1 = df2.groupby('ZipCodes').get_group(11238)\n",
    "df2_s2 = df2.groupby('ZipCodes').get_group(11206)\n",
    "df2_s3 = df2.groupby('ZipCodes').get_group(10026)"
   ]
  },
  {
   "cell_type": "code",
   "execution_count": 19,
   "metadata": {},
   "outputs": [],
   "source": [
    "df_top3= pd.concat([df2_s1,df2_s2,df2_s3])"
   ]
  },
  {
   "cell_type": "markdown",
   "metadata": {},
   "source": [
    "#### Bedford-Stuyvesant"
   ]
  },
  {
   "cell_type": "code",
   "execution_count": 20,
   "metadata": {},
   "outputs": [
    {
     "data": {
      "image/png": "[encoded data removed]",
      "text/plain": [
       "<Figure size 432x288 with 1 Axes>"
      ]
     },
     "metadata": {
      "needs_background": "light"
     },
     "output_type": "display_data"
    }
   ],
   "source": [
    "plt.hist(df2_s1.price, bins=20)\n",
    "plt.title('Bedford-Stuyvesant')\n",
    "plt.xlabel('price');"
   ]
  },
  {
   "cell_type": "markdown",
   "metadata": {},
   "source": [
    "#### Examine extremes of prices - Bed Stuy"
   ]
  },
  {
   "cell_type": "code",
   "execution_count": 21,
   "metadata": {},
   "outputs": [
    {
     "name": "stdout",
     "output_type": "stream",
     "text": [
      "Log of outlier for uncorrected prices: (3.4011973816621555, 7.965545573129992)\n"
     ]
    }
   ],
   "source": [
    "top_out = np.log(df2_s1.price).max()\n",
    "bot_out = np.log(df2_s1.price).min()\n",
    "print(f'Log of outlier for uncorrected prices: {bot_out,top_out}');"
   ]
  },
  {
   "cell_type": "code",
   "execution_count": 22,
   "metadata": {},
   "outputs": [
    {
     "name": "stdout",
     "output_type": "stream",
     "text": [
      "Log of outlier for corrected prices: (3.4011973816621555, 7.965545573129992)\n"
     ]
    }
   ],
   "source": [
    "#prices greater than a dollar ($1)\n",
    "df2_s1_corrected = df2_s1[df2_s1['price']>1]\n",
    "\n",
    "top_out = np.log(df2_s1_corrected.price).max()\n",
    "bot_out = np.log(df2_s1_corrected.price).min()\n",
    "print(f'Log of outlier for corrected prices: {bot_out,top_out}');"
   ]
  },
  {
   "cell_type": "code",
   "execution_count": 23,
   "metadata": {},
   "outputs": [
    {
     "data": {
      "image/png": "[encoded data removed]",
      "text/plain": [
       "<Figure size 432x288 with 1 Axes>"
      ]
     },
     "metadata": {
      "needs_background": "light"
     },
     "output_type": "display_data"
    }
   ],
   "source": [
    "plt.hist(np.log(df2_s1_corrected.price))\n",
    "plt.title('Bedford-Stuyvesant histogram analysis \\n log of prices > \\$1')\n",
    "plt.xlabel('log(price)');"
   ]
  },
  {
   "cell_type": "code",
   "execution_count": 24,
   "metadata": {},
   "outputs": [],
   "source": [
    "def reject_outliers(data, m=2):\n",
    "    return data[abs(data - np.mean(data)) < m * np.std(data)]"
   ]
  },
  {
   "cell_type": "code",
   "execution_count": 25,
   "metadata": {},
   "outputs": [
    {
     "data": {
      "image/png": "[encoded data removed]",
      "text/plain": [
       "<Figure size 432x288 with 1 Axes>"
      ]
     },
     "metadata": {
      "needs_background": "light"
     },
     "output_type": "display_data"
    }
   ],
   "source": [
    "sb.histplot(reject_outliers(df2_s1[ df2_s1['price']>0 ]['price']))\n",
    "plt.title('Bedford-Stuyvesant count \\n of central 95%')\n",
    "plt.show()"
   ]
  },
  {
   "cell_type": "code",
   "execution_count": 26,
   "metadata": {},
   "outputs": [
    {
     "data": {
      "image/png": "[encoded data removed]",
      "text/plain": [
       "<Figure size 432x288 with 1 Axes>"
      ]
     },
     "metadata": {
      "needs_background": "light"
     },
     "output_type": "display_data"
    }
   ],
   "source": [
    "array = reject_outliers(reject_outliers(df2_s1[ df2_s1['price']>0 ]['price']))\n",
    "array.name = 'log_price'\n",
    "\n",
    "sb.histplot(np.log(array), binwidth=0.5)\n",
    "plt.title('Bedford-Stuyvesant histogram of \\n log of price of central 95%')\n",
    "plt.show()"
   ]
  },
  {
   "cell_type": "code",
   "execution_count": 27,
   "metadata": {},
   "outputs": [
    {
     "name": "stdout",
     "output_type": "stream",
     "text": [
      "Bedford Stuyversant\n",
      "\n",
      "mean: $159\n",
      "median: $150\n",
      "mode: $90\n",
      "count: 189\n"
     ]
    }
   ],
   "source": [
    "bed_stuy_mean = np.mean(array)\n",
    "bed_stuy_median = np.median(array)\n",
    "bed_stuy_mode = st.mode(array)\n",
    "\n",
    "print('Bedford Stuyversant\\n')\n",
    "print(f'mean: ${int(bed_stuy_mean)}')\n",
    "print(f'median: ${int(bed_stuy_median)}')\n",
    "print(f'mode: ${bed_stuy_mode.mode[0]}')\n",
    "print(f'count: {len(array)}')"
   ]
  },
  {
   "cell_type": "code",
   "execution_count": 28,
   "metadata": {},
   "outputs": [
    {
     "name": "stdout",
     "output_type": "stream",
     "text": [
      "Bedford Stuyversant\n",
      "\n",
      "mean of log of prices: 4.88\n",
      "median of log of prices: 5.01 ≠ log(median)\n",
      "mode of log of prices: 4.5\n",
      "count: 189\n"
     ]
    }
   ],
   "source": [
    "log_array = np.log(array)\n",
    "bed_stuy_mean = np.mean(log_array)\n",
    "bed_stuy_median = np.median(log_array)\n",
    "bed_stuy_mode = st.mode(log_array)\n",
    "\n",
    "print('Bedford Stuyversant\\n')\n",
    "print(f'mean of log of prices: {round(bed_stuy_mean,2)}')\n",
    "print(f'median of log of prices: {round(bed_stuy_median,2)} ≠ log(median)')\n",
    "print(f'mode of log of prices: {round(bed_stuy_mode.mode[0],2)}')\n",
    "print(f'count: {len(array)}')"
   ]
  },
  {
   "cell_type": "markdown",
   "metadata": {},
   "source": [
    "### Bed-stuy \"Entire Home/ Apt\""
   ]
  },
  {
   "cell_type": "code",
   "execution_count": 29,
   "metadata": {},
   "outputs": [],
   "source": [
    "df2_bedstuy = df2.groupby('ZipCodes').get_group(11238)\n",
    "df2_bedstuy;"
   ]
  },
  {
   "cell_type": "code",
   "execution_count": 30,
   "metadata": {},
   "outputs": [],
   "source": [
    "df2_bedstuy_apt = df2_bedstuy.groupby('room_type').get_group('Entire home/apt')\n",
    "df2_bedstuy_apt;"
   ]
  },
  {
   "cell_type": "code",
   "execution_count": 31,
   "metadata": {},
   "outputs": [
    {
     "data": {
      "image/png": "[encoded data removed]",
      "text/plain": [
       "<Figure size 432x288 with 1 Axes>"
      ]
     },
     "metadata": {
      "needs_background": "light"
     },
     "output_type": "display_data"
    }
   ],
   "source": [
    "plt.hist(df2_bedstuy_apt.price, bins=20)\n",
    "plt.title('Bedstuy- Entire home/apt')\n",
    "plt.xlabel('price')\n",
    "plt.ylabel(\"Count\");"
   ]
  },
  {
   "cell_type": "code",
   "execution_count": 32,
   "metadata": {},
   "outputs": [
    {
     "data": {
      "image/png": "[encoded data removed]",
      "text/plain": [
       "<Figure size 432x288 with 1 Axes>"
      ]
     },
     "metadata": {
      "needs_background": "light"
     },
     "output_type": "display_data"
    }
   ],
   "source": [
    "bedstuy_array = reject_outliers(df2_bedstuy_apt[ df2_bedstuy_apt['price']>0 ]['price'])\n",
    "array = reject_outliers(bedstuy_array)\n",
    "array.name = 'log_price'\n",
    "\n",
    "sb.histplot(np.log(array), binwidth=0.5)\n",
    "plt.title('Bedford-Stuyvesant Entire Home/ Apt'+\\\n",
    "    '\\n histogram of log of price of central 95%')\n",
    "plt.show()"
   ]
  },
  {
   "cell_type": "code",
   "execution_count": 33,
   "metadata": {},
   "outputs": [
    {
     "name": "stdout",
     "output_type": "stream",
     "text": [
      "Bedford Stuyversant Entire Home/ Apt\n",
      "mean of log of prices: 5.34\n",
      "median of log of prices: 5.3 ≠ log(median)\n",
      "mode of log of prices: 5.16\n",
      "count: 125\n",
      "\n",
      "log(median): 5.3\n"
     ]
    }
   ],
   "source": [
    "log_array = np.log(array)\n",
    "bed_stuy_mean = np.mean(log_array)\n",
    "bed_stuy_median = np.median(log_array)\n",
    "bed_stuy_mode = st.mode(log_array)\n",
    "\n",
    "print('Bedford Stuyversant Entire Home/ Apt')\n",
    "print(f'mean of log of prices: {round(bed_stuy_mean,2)}')\n",
    "print(f'median of log of prices: {round(bed_stuy_median,2)} ≠ log(median)')\n",
    "print(f'mode of log of prices: {round(bed_stuy_mode.mode[0],2)}')\n",
    "print(f'count: {len(array)}\\n')\n",
    "\n",
    "print(f'log(median): {round(np.log(np.median(array)),2)}')"
   ]
  },
  {
   "cell_type": "markdown",
   "metadata": {},
   "source": [
    "#### Williamsburg"
   ]
  },
  {
   "cell_type": "code",
   "execution_count": 34,
   "metadata": {},
   "outputs": [
    {
     "data": {
      "image/png": "[encoded data removed]",
      "text/plain": [
       "<Figure size 432x288 with 1 Axes>"
      ]
     },
     "metadata": {
      "needs_background": "light"
     },
     "output_type": "display_data"
    }
   ],
   "source": [
    "plt.hist(df2_s2.price, bins=20)\n",
    "plt.title('Williamsburg 11206')\n",
    "plt.xlabel(\"price\");"
   ]
  },
  {
   "cell_type": "code",
   "execution_count": 35,
   "metadata": {},
   "outputs": [
    {
     "data": {
      "image/png": "[encoded data removed]",
      "text/plain": [
       "<Figure size 432x288 with 1 Axes>"
      ]
     },
     "metadata": {
      "needs_background": "light"
     },
     "output_type": "display_data"
    }
   ],
   "source": [
    "plt.hist(df2_s1.price, bins=20)\n",
    "plt.title('Williamsburg')\n",
    "plt.xlabel('price');"
   ]
  },
  {
   "cell_type": "markdown",
   "metadata": {},
   "source": [
    "#### Examine extreme of prices - Williamsburg"
   ]
  },
  {
   "cell_type": "code",
   "execution_count": 37,
   "metadata": {},
   "outputs": [
    {
     "name": "stdout",
     "output_type": "stream",
     "text": [
      "Log of outlier for uncorrected prices: (3.4965075614664802, 7.090076835776092)\n",
      "Log of outlier for corrected prices: (3.5, 7.09)\n"
     ]
    },
    {
     "data": {
      "image/png": "[encoded data removed]",
      "text/plain": [
       "<Figure size 432x288 with 1 Axes>"
      ]
     },
     "metadata": {
      "needs_background": "light"
     },
     "output_type": "display_data"
    }
   ],
   "source": [
    "top_out = np.log(df2_s2.price).max()\n",
    "bot_out = np.log(df2_s2.price).min()\n",
    "print(f'Log of outlier for uncorrected prices: {bot_out,top_out}')\n",
    "\n",
    "#prices greater than a dollar ($1)\n",
    "df2_s2_corrected = df2_s2[df2_s2['price']>1]\n",
    "top_out = np.log(df2_s2_corrected.price).max()\n",
    "bot_out = np.log(df2_s2_corrected.price).min()\n",
    "print(f'Log of outlier for corrected prices: {round(bot_out,2),round(top_out,2)}')\n",
    "\n",
    "plt.hist(np.log(df2_s2_corrected.price))\n",
    "plt.title('Williamsburg histogram analysis \\n log of prices > \\$1')\n",
    "plt.xlabel('log(price)');"
   ]
  },
  {
   "cell_type": "code",
   "execution_count": 38,
   "metadata": {},
   "outputs": [
    {
     "data": {
      "image/png": "[encoded data removed]",
      "text/plain": [
       "<Figure size 432x288 with 1 Axes>"
      ]
     },
     "metadata": {
      "needs_background": "light"
     },
     "output_type": "display_data"
    },
    {
     "data": {
      "image/png": "[encoded data removed]",
      "text/plain": [
       "<Figure size 432x288 with 1 Axes>"
      ]
     },
     "metadata": {
      "needs_background": "light"
     },
     "output_type": "display_data"
    }
   ],
   "source": [
    "sb.histplot(reject_outliers(df2_s2[ df2_s2['price']>0 ]['price']))\n",
    "plt.title('Williamsburg count \\n of central 95%')\n",
    "plt.show()\n",
    "\n",
    "array = reject_outliers(reject_outliers(df2_s2[ df2_s2['price']>0 ]['price']))\n",
    "array.name = 'log_price'\n",
    "\n",
    "sb.histplot(np.log(array), binwidth=0.5)\n",
    "plt.title('Williamsburg histogram of \\n log of price of central 95%')\n",
    "plt.show()"
   ]
  },
  {
   "cell_type": "code",
   "execution_count": 39,
   "metadata": {},
   "outputs": [
    {
     "name": "stdout",
     "output_type": "stream",
     "text": [
      "Williamsburg\n",
      "\n",
      "mean: $128\n",
      "median: $109\n",
      "mode: $38\n",
      "\n",
      "\n",
      "mean of natural log of prices: 4.7\n",
      "median of natural log of prices: 4.7 ≠ ln(median)\n",
      "mode of natural log of prices: 3.64\n",
      "count: 326\n"
     ]
    }
   ],
   "source": [
    "williamsburg_mean = np.mean(array)\n",
    "williamsburg_median = np.median(array)\n",
    "williamsburg_mode = st.mode(array)\n",
    "\n",
    "print('Williamsburg\\n')\n",
    "print(f'mean: ${int(williamsburg_mean)}')\n",
    "print(f'median: ${int(williamsburg_median)}')\n",
    "print(f'mode: ${williamsburg_mode.mode[0]}')\n",
    "#print(f'count: {len(array)}')\n",
    "\n",
    "log_array = np.log(array)\n",
    "williamsburg_mean = np.mean(log_array)\n",
    "williamsburg_median = np.median(log_array)\n",
    "williamsburg_mode = st.mode(log_array)\n",
    "print('\\n')\n",
    "print(f'mean of natural log of prices: {round(williamsburg_mean,2)}')\n",
    "print(f'median of natural log of prices: {round(williamsburg_median,2)} ≠ ln(median)')\n",
    "print(f'mode of natural log of prices: {round(williamsburg_mode.mode[0],2)}')\n",
    "print(f'count: {len(array)}')"
   ]
  },
  {
   "cell_type": "markdown",
   "metadata": {},
   "source": [
    "### Williamsburg \"Entire Home/ Apt\""
   ]
  },
  {
   "cell_type": "code",
   "execution_count": 40,
   "metadata": {},
   "outputs": [
    {
     "data": {
      "image/png": "[encoded data removed]",
      "text/plain": [
       "<Figure size 432x288 with 1 Axes>"
      ]
     },
     "metadata": {
      "needs_background": "light"
     },
     "output_type": "display_data"
    }
   ],
   "source": [
    "df2_williamsburg = df2.groupby('ZipCodes').get_group(11206)\n",
    "df2_williamsburg_apt = df2_williamsburg.groupby('room_type').get_group('Entire home/apt')\n",
    "plt.hist(df2_williamsburg_apt.price, bins=50)\n",
    "plt.title('Williamsburg- Entire home/apt')\n",
    "plt.xlabel('price')\n",
    "plt.ylabel(\"Count\");"
   ]
  },
  {
   "cell_type": "code",
   "execution_count": 41,
   "metadata": {},
   "outputs": [
    {
     "data": {
      "image/png": "[encoded data removed]",
      "text/plain": [
       "<Figure size 432x288 with 1 Axes>"
      ]
     },
     "metadata": {
      "needs_background": "light"
     },
     "output_type": "display_data"
    }
   ],
   "source": [
    "williamsburg_array = reject_outliers(df2_williamsburg_apt[ df2_williamsburg_apt['price']>0 ]['price'])\n",
    "array = reject_outliers(williamsburg_array)\n",
    "array.name = 'log_price'\n",
    "\n",
    "sb.histplot(np.log(array), binwidth=0.5)\n",
    "plt.title('Williamsburg Entire Home/ Apt'+\\\n",
    "    '\\n histogram of log of price of central 95%')\n",
    "plt.show()"
   ]
  },
  {
   "cell_type": "code",
   "execution_count": 42,
   "metadata": {},
   "outputs": [
    {
     "name": "stdout",
     "output_type": "stream",
     "text": [
      "Williamsburg Entire Home/ Apt\n",
      "\n",
      "mean of log of prices: 5.31\n",
      "median of log of prices: 5.32 ≠ log(median)\n",
      "mode of log of prices: 5.01\n",
      "count: 141\n"
     ]
    }
   ],
   "source": [
    "log_array = np.log(array)\n",
    "williamsburg_mean = np.mean(log_array)\n",
    "williamsburg_median = np.median(log_array)\n",
    "williamsburg_mode = st.mode(log_array)\n",
    "\n",
    "print('Williamsburg Entire Home/ Apt\\n')\n",
    "print(f'mean of log of prices: {round(williamsburg_mean,2)}')\n",
    "print(f'median of log of prices: {round(williamsburg_median,2)} ≠ log(median)')\n",
    "print(f'mode of log of prices: {round(williamsburg_mode.mode[0],2)}')\n",
    "print(f'count: {len(array)}')"
   ]
  },
  {
   "cell_type": "markdown",
   "metadata": {},
   "source": [
    "#### Harlem"
   ]
  },
  {
   "cell_type": "code",
   "execution_count": 43,
   "metadata": {},
   "outputs": [
    {
     "data": {
      "image/png": "[encoded data removed]",
      "text/plain": [
       "<Figure size 432x288 with 1 Axes>"
      ]
     },
     "metadata": {
      "needs_background": "light"
     },
     "output_type": "display_data"
    }
   ],
   "source": [
    "plt.hist(df2_s3.price,bins = 20)\n",
    "plt.xlabel('Harlem')\n",
    "plt.ylabel(\"Price\");"
   ]
  },
  {
   "cell_type": "markdown",
   "metadata": {},
   "source": [
    "#### Examine extreme of prices - Harlem"
   ]
  },
  {
   "cell_type": "code",
   "execution_count": 44,
   "metadata": {},
   "outputs": [
    {
     "name": "stdout",
     "output_type": "stream",
     "text": [
      "Log of outlier for uncorrected prices: (3.56, 7.31)\n",
      "Log of outlier for corrected prices: (3.56, 7.31)\n"
     ]
    },
    {
     "data": {
      "image/png": "[encoded data removed]",
      "text/plain": [
       "<Figure size 432x288 with 1 Axes>"
      ]
     },
     "metadata": {
      "needs_background": "light"
     },
     "output_type": "display_data"
    }
   ],
   "source": [
    "top_out = np.log(df2_s3.price).max()\n",
    "bot_out = np.log(df2_s3.price).min()\n",
    "print(f'Log of outlier for uncorrected prices: {round(bot_out,2),round(top_out,2)}')\n",
    "\n",
    "#prices greater than a dollar ($1)\n",
    "df2_s3_corrected = df2_s3[df2_s3['price']>1]\n",
    "top_out = np.log(df2_s3_corrected.price).max()\n",
    "bot_out = np.log(df2_s3_corrected.price).min()\n",
    "print(f'Log of outlier for corrected prices: {round(bot_out,2),round(top_out,2)}')\n",
    "\n",
    "plt.hist(np.log(df2_s3_corrected.price))\n",
    "plt.title('Harlem histogram analysis \\n log of prices > \\$1')\n",
    "plt.xlabel('log(price)');"
   ]
  },
  {
   "cell_type": "code",
   "execution_count": 45,
   "metadata": {},
   "outputs": [
    {
     "data": {
      "image/png": "[encoded data removed]",
      "text/plain": [
       "<Figure size 432x288 with 1 Axes>"
      ]
     },
     "metadata": {
      "needs_background": "light"
     },
     "output_type": "display_data"
    },
    {
     "data": {
      "image/png": "[encoded data removed]",
      "text/plain": [
       "<Figure size 432x288 with 1 Axes>"
      ]
     },
     "metadata": {
      "needs_background": "light"
     },
     "output_type": "display_data"
    }
   ],
   "source": [
    "sb.histplot(reject_outliers(df2_s3[ df2_s3['price']>0 ]['price']))\n",
    "plt.title('Harlem count \\n of central 95%')\n",
    "plt.show()\n",
    "\n",
    "array = reject_outliers(reject_outliers(df2_s3[ df2_s3['price']>0 ]['price']))\n",
    "array.name = 'log_price'\n",
    "\n",
    "sb.histplot(np.log(array), binwidth=0.5)\n",
    "plt.title('Harlem histogram of \\n log of price of central 95%')\n",
    "plt.show()"
   ]
  },
  {
   "cell_type": "code",
   "execution_count": 46,
   "metadata": {},
   "outputs": [
    {
     "name": "stdout",
     "output_type": "stream",
     "text": [
      "Harlem\n",
      "\n",
      "mean: $119\n",
      "median: $102\n",
      "mode: $100\n",
      "\n",
      "\n",
      "mean of natural log of prices: 4.69\n",
      "median of natural log of prices: 4.63 ≠ ln(median)\n",
      "mode of natural log of prices: 4.61\n",
      "count: 306\n"
     ]
    }
   ],
   "source": [
    "harlem_mean = np.mean(array)\n",
    "harlem_median = np.median(array)\n",
    "harlem_mode = st.mode(array)\n",
    "\n",
    "print('Harlem\\n')\n",
    "print(f'mean: ${int(harlem_mean)}')\n",
    "print(f'median: ${int(harlem_median)}')\n",
    "print(f'mode: ${harlem_mode.mode[0]}')\n",
    "#print(f'count: {len(array)}')\n",
    "\n",
    "log_array = np.log(array)\n",
    "harlem_mean = np.mean(log_array)\n",
    "harlem_median = np.median(log_array)\n",
    "harlem_mode = st.mode(log_array)\n",
    "print('\\n')\n",
    "print(f'mean of natural log of prices: {round(harlem_mean,2)}')\n",
    "print(f'median of natural log of prices: {round(harlem_median,2)} ≠ ln(median)')\n",
    "print(f'mode of natural log of prices: {round(harlem_mode.mode[0],2)}')\n",
    "print(f'count: {len(array)}')"
   ]
  },
  {
   "cell_type": "markdown",
   "metadata": {},
   "source": [
    "### Harlem \"Entire Home/ Apt\""
   ]
  },
  {
   "cell_type": "code",
   "execution_count": 47,
   "metadata": {},
   "outputs": [
    {
     "data": {
      "image/png": "[encoded data removed]",
      "text/plain": [
       "<Figure size 432x288 with 1 Axes>"
      ]
     },
     "metadata": {
      "needs_background": "light"
     },
     "output_type": "display_data"
    }
   ],
   "source": [
    "df2_harlem = df2.groupby('ZipCodes').get_group(11206)\n",
    "df2_harlem_apt = df2_harlem.groupby('room_type').get_group('Entire home/apt')\n",
    "plt.hist(df2_harlem_apt.price, bins=50)\n",
    "plt.title('Harlem- Entire home/apt')\n",
    "plt.xlabel('price')\n",
    "plt.ylabel(\"Count\");"
   ]
  },
  {
   "cell_type": "code",
   "execution_count": 48,
   "metadata": {},
   "outputs": [
    {
     "data": {
      "image/png": "[encoded data removed]",
      "text/plain": [
       "<Figure size 432x288 with 1 Axes>"
      ]
     },
     "metadata": {
      "needs_background": "light"
     },
     "output_type": "display_data"
    }
   ],
   "source": [
    "harlem_array = reject_outliers(df2_harlem_apt[ df2_harlem_apt['price']>0 ]['price'])\n",
    "array = reject_outliers(harlem_array)\n",
    "array.name = 'log_price'\n",
    "\n",
    "sb.histplot(np.log(array), binwidth=0.5)\n",
    "plt.title('Harlem Entire Home/ Apt'+\\\n",
    "    '\\n histogram of log of price of central 95%')\n",
    "plt.show()"
   ]
  },
  {
   "cell_type": "code",
   "execution_count": 49,
   "metadata": {},
   "outputs": [
    {
     "name": "stdout",
     "output_type": "stream",
     "text": [
      "Harlem Entire Home/ Apt\n",
      "\n",
      "mean of log of prices: 5.31\n",
      "median of log of prices: 5.32 ≠ log(median)\n",
      "mode of log of prices: 5.01\n",
      "count: 141\n"
     ]
    }
   ],
   "source": [
    "log_array = np.log(array)\n",
    "harlem_mean = np.mean(log_array)\n",
    "harlem_median = np.median(log_array)\n",
    "harlem_mode = st.mode(log_array)\n",
    "\n",
    "print('Harlem Entire Home/ Apt\\n')\n",
    "print(f'mean of log of prices: {round(harlem_mean,2)}')\n",
    "print(f'median of log of prices: {round(harlem_median,2)} ≠ log(median)')\n",
    "print(f'mode of log of prices: {round(harlem_mode.mode[0],2)}')\n",
    "print(f'count: {len(array)}')"
   ]
  },
  {
   "cell_type": "markdown",
   "metadata": {},
   "source": [
    "#### Interpretation\n",
    "\n",
    "The aim was to get a normally distributed curve for our assumptions in obtaining a mean price per night. Without correcting for outliers, the data seems to approach a logarithmic or skewed normally distributed curve, in which case taking the median or mode for the optimum price would be most appropriate. We choose the mode, since this measure is more stable as it directly depends on the y-axis of the histogram where as the mean and median directly depends on the x-axis."
   ]
  },
  {
   "cell_type": "markdown",
   "metadata": {},
   "source": [
    "### Proportion of AirBNB Listings by Borough and Room Type in NYC"
   ]
  },
  {
   "cell_type": "markdown",
   "metadata": {},
   "source": [
    "The 1st pie chart shows 95% of the AirBnB listings are in Manhattan, Brooklyn and Queens. Brooklyn and Staten Island make up the remaining listings. Manhattan and Brooklyn alone make up neary 80% of the listings.\n",
    "\n",
    "The 2nd pie chart shows the listings distributed by room type. Most of the observations consist of entire home / apartments, or private rooms. Hotel and shared rooms are an insignificant proportion of the distribution."
   ]
  },
  {
   "cell_type": "code",
   "execution_count": 50,
   "metadata": {},
   "outputs": [
    {
     "data": {
      "image/png": "[encoded data removed]",
      "text/plain": [
       "<Figure size 432x288 with 1 Axes>"
      ]
     },
     "metadata": {},
     "output_type": "display_data"
    },
    {
     "data": {
      "image/png": "[encoded data removed]",
      "text/plain": [
       "<Figure size 432x288 with 1 Axes>"
      ]
     },
     "metadata": {},
     "output_type": "display_data"
    }
   ],
   "source": [
    "#Create a pie chart showing the percentage of listings per bourrough.\n",
    "df1 = df.neighbourhood_group.value_counts()\n",
    "df1.plot.pie(autopct=\"%.1f%%\")\n",
    "plt.show()\n",
    "\n",
    "df2 = df.room_type.value_counts()\n",
    "df2.plot.pie(autopct=\"%.1f%%\")\n",
    "plt.show()"
   ]
  },
  {
   "cell_type": "markdown",
   "metadata": {},
   "source": [
    "### NYC AirBNB Listing Price Statistics by Borough"
   ]
  },
  {
   "cell_type": "markdown",
   "metadata": {},
   "source": [
    "The table and box/whisker plots above provide illustration of the frequency, price statistics, and price distribution by neighborhood group or burrough in New York City. There is wide variability in the observations, with standard deviations consistently higher than the mean for each burrough. Mean prices are consistently higher than the median price, which suggest the prevalance of high values or outliers in the dataset that are pulling up the average. Average prices are highest in Manhattan, Brooklyn, and Queens respectively."
   ]
  },
  {
   "cell_type": "code",
   "execution_count": 51,
   "metadata": {},
   "outputs": [
    {
     "data": {
      "text/html": [
       "<div>\n",
       "<style scoped>\n",
       "    .dataframe tbody tr th:only-of-type {\n",
       "        vertical-align: middle;\n",
       "    }\n",
       "\n",
       "    .dataframe tbody tr th {\n",
       "        vertical-align: top;\n",
       "    }\n",
       "\n",
       "    .dataframe thead tr th {\n",
       "        text-align: left;\n",
       "    }\n",
       "\n",
       "    .dataframe thead tr:last-of-type th {\n",
       "        text-align: right;\n",
       "    }\n",
       "</style>\n",
       "<table border=\"1\" class=\"dataframe\">\n",
       "  <thead>\n",
       "    <tr>\n",
       "      <th></th>\n",
       "      <th>neighbourhood_group</th>\n",
       "      <th colspan=\"5\" halign=\"left\">price</th>\n",
       "    </tr>\n",
       "    <tr>\n",
       "      <th></th>\n",
       "      <th>count</th>\n",
       "      <th>mean</th>\n",
       "      <th>median</th>\n",
       "      <th>std</th>\n",
       "      <th>min</th>\n",
       "      <th>max</th>\n",
       "    </tr>\n",
       "    <tr>\n",
       "      <th>neighbourhood_group</th>\n",
       "      <th></th>\n",
       "      <th></th>\n",
       "      <th></th>\n",
       "      <th></th>\n",
       "      <th></th>\n",
       "      <th></th>\n",
       "    </tr>\n",
       "  </thead>\n",
       "  <tbody>\n",
       "    <tr>\n",
       "      <th>Bronx</th>\n",
       "      <td>1568</td>\n",
       "      <td>124.737245</td>\n",
       "      <td>90.0</td>\n",
       "      <td>278.572839</td>\n",
       "      <td>0</td>\n",
       "      <td>9994</td>\n",
       "    </tr>\n",
       "    <tr>\n",
       "      <th>Brooklyn</th>\n",
       "      <td>14845</td>\n",
       "      <td>157.927114</td>\n",
       "      <td>115.0</td>\n",
       "      <td>209.526092</td>\n",
       "      <td>0</td>\n",
       "      <td>10000</td>\n",
       "    </tr>\n",
       "    <tr>\n",
       "      <th>Manhattan</th>\n",
       "      <td>16847</td>\n",
       "      <td>264.933341</td>\n",
       "      <td>175.0</td>\n",
       "      <td>473.171623</td>\n",
       "      <td>0</td>\n",
       "      <td>16500</td>\n",
       "    </tr>\n",
       "    <tr>\n",
       "      <th>Queens</th>\n",
       "      <td>6175</td>\n",
       "      <td>131.365506</td>\n",
       "      <td>94.0</td>\n",
       "      <td>213.120396</td>\n",
       "      <td>0</td>\n",
       "      <td>10000</td>\n",
       "    </tr>\n",
       "    <tr>\n",
       "      <th>Staten Island</th>\n",
       "      <td>446</td>\n",
       "      <td>143.163677</td>\n",
       "      <td>103.5</td>\n",
       "      <td>194.997315</td>\n",
       "      <td>33</td>\n",
       "      <td>2500</td>\n",
       "    </tr>\n",
       "  </tbody>\n",
       "</table>\n",
       "</div>"
      ],
      "text/plain": [
       "                    neighbourhood_group       price                         \\\n",
       "                                  count        mean median         std min   \n",
       "neighbourhood_group                                                          \n",
       "Bronx                              1568  124.737245   90.0  278.572839   0   \n",
       "Brooklyn                          14845  157.927114  115.0  209.526092   0   \n",
       "Manhattan                         16847  264.933341  175.0  473.171623   0   \n",
       "Queens                             6175  131.365506   94.0  213.120396   0   \n",
       "Staten Island                       446  143.163677  103.5  194.997315  33   \n",
       "\n",
       "                            \n",
       "                       max  \n",
       "neighbourhood_group         \n",
       "Bronx                 9994  \n",
       "Brooklyn             10000  \n",
       "Manhattan            16500  \n",
       "Queens               10000  \n",
       "Staten Island         2500  "
      ]
     },
     "metadata": {},
     "output_type": "display_data"
    },
    {
     "data": {
      "image/png": "[encoded data removed]",
      "text/plain": [
       "<Figure size 432x288 with 1 Axes>"
      ]
     },
     "metadata": {
      "needs_background": "light"
     },
     "output_type": "display_data"
    },
    {
     "data": {
      "image/png": "[encoded data removed]",
      "text/plain": [
       "<Figure size 432x288 with 1 Axes>"
      ]
     },
     "metadata": {
      "needs_background": "light"
     },
     "output_type": "display_data"
    }
   ],
   "source": [
    "#Display the table of price statistics and counts by New York City burrough.\n",
    "display(df.groupby('neighbourhood_group').aggregate({'neighbourhood_group':'count',\n",
    "                                    'price':['mean','median','std','min','max']}))\n",
    "\n",
    "#Plot boxplot with outliers turned off.\n",
    "sb.boxplot(y = df['price'], \n",
    "            x = df['neighbourhood_group'], \n",
    "            showfliers = False)\n",
    "plt.title('Borough boxplot corrected \\n for interquartile rule')\n",
    "plt.show()\n",
    "\n",
    "sb.boxplot(y = df['price'], x = df['neighbourhood_group'], showfliers = True)\n",
    "plt.title('Borough boxplot uncorrected')\n",
    "plt.show()"
   ]
  },
  {
   "cell_type": "markdown",
   "metadata": {},
   "source": [
    "### NYC AirBNB Listing Price Statistics by Room Type\n",
    "The table and box/whisker plots above provide illustration of the frequency, price statistics, and price distribution by room type in New York City. As in the distribution by borough section, there is wide variuability with standard deviations consistently higher than the mean for each burrough (Hotel rooms being the exception). Mean prices are also consistently higher than the median price, which suggest the prevalance of high values or outliers in the dataset that are pulling up the average. Comparisons of the 1st boxplot (corrected for outliers) with the second (not corrected for outliers bear this out.\n",
    "\n",
    "#### Major Room Type Categories\n",
    "These categories encompass 98% of the listings and are likely to be more useful for informing business decisions.\n",
    "- Entire home/apt: Entire residences make up 57% of the dataset and are the category with the second highest average price. Prices range from \\\\$10 to \\\\$15K which could be indicative of data errors and/ or outliers.\n",
    "- Private room: Private rooms constitute 42% of the listings in the data and are the category with the third highest average price. Prices range from \\\\$10 to \\\\$16.5K which could be indicative of data errors and/ or outliers.\n",
    "\n",
    "#### Minor Room Type Categories\n",
    "Categories that are a significantly smaller number of the overall listings in the dataset. They are less likely to be useful for informing business decisions.\n",
    "- Shared room: Shared rooms constitute 1.4% of the listings with the lowest average price of all room type categories. Prices range from \\\\$10 to \\\\$10K which seems to indicate data entry errors and/or outliers.\n",
    "- Hotel room: Hotel rooms seem to have the highest average price and the least number of observations. This is the only category where the standard deviation is less than the mean, which suggest a more limited number of high priced outliers.\n"
   ]
  },
  {
   "cell_type": "code",
   "execution_count": 52,
   "metadata": {},
   "outputs": [
    {
     "data": {
      "text/html": [
       "<div>\n",
       "<style scoped>\n",
       "    .dataframe tbody tr th:only-of-type {\n",
       "        vertical-align: middle;\n",
       "    }\n",
       "\n",
       "    .dataframe tbody tr th {\n",
       "        vertical-align: top;\n",
       "    }\n",
       "\n",
       "    .dataframe thead tr th {\n",
       "        text-align: left;\n",
       "    }\n",
       "\n",
       "    .dataframe thead tr:last-of-type th {\n",
       "        text-align: right;\n",
       "    }\n",
       "</style>\n",
       "<table border=\"1\" class=\"dataframe\">\n",
       "  <thead>\n",
       "    <tr>\n",
       "      <th></th>\n",
       "      <th>room_type</th>\n",
       "      <th colspan=\"5\" halign=\"left\">price</th>\n",
       "    </tr>\n",
       "    <tr>\n",
       "      <th></th>\n",
       "      <th>count</th>\n",
       "      <th>mean</th>\n",
       "      <th>median</th>\n",
       "      <th>std</th>\n",
       "      <th>min</th>\n",
       "      <th>max</th>\n",
       "    </tr>\n",
       "    <tr>\n",
       "      <th>room_type</th>\n",
       "      <th></th>\n",
       "      <th></th>\n",
       "      <th></th>\n",
       "      <th></th>\n",
       "      <th></th>\n",
       "      <th></th>\n",
       "    </tr>\n",
       "  </thead>\n",
       "  <tbody>\n",
       "    <tr>\n",
       "      <th>Entire home/apt</th>\n",
       "      <td>22761</td>\n",
       "      <td>251.546022</td>\n",
       "      <td>180</td>\n",
       "      <td>338.044654</td>\n",
       "      <td>10</td>\n",
       "      <td>15000</td>\n",
       "    </tr>\n",
       "    <tr>\n",
       "      <th>Hotel room</th>\n",
       "      <td>202</td>\n",
       "      <td>371.648515</td>\n",
       "      <td>291</td>\n",
       "      <td>303.482491</td>\n",
       "      <td>0</td>\n",
       "      <td>1998</td>\n",
       "    </tr>\n",
       "    <tr>\n",
       "      <th>Private room</th>\n",
       "      <td>16361</td>\n",
       "      <td>122.936495</td>\n",
       "      <td>75</td>\n",
       "      <td>356.373737</td>\n",
       "      <td>10</td>\n",
       "      <td>16500</td>\n",
       "    </tr>\n",
       "    <tr>\n",
       "      <th>Shared room</th>\n",
       "      <td>557</td>\n",
       "      <td>119.398564</td>\n",
       "      <td>66</td>\n",
       "      <td>454.106078</td>\n",
       "      <td>10</td>\n",
       "      <td>10000</td>\n",
       "    </tr>\n",
       "  </tbody>\n",
       "</table>\n",
       "</div>"
      ],
      "text/plain": [
       "                room_type       price                              \n",
       "                    count        mean median         std min    max\n",
       "room_type                                                          \n",
       "Entire home/apt     22761  251.546022    180  338.044654  10  15000\n",
       "Hotel room            202  371.648515    291  303.482491   0   1998\n",
       "Private room        16361  122.936495     75  356.373737  10  16500\n",
       "Shared room           557  119.398564     66  454.106078  10  10000"
      ]
     },
     "metadata": {},
     "output_type": "display_data"
    },
    {
     "data": {
      "image/png": "[encoded data removed]",
      "text/plain": [
       "<Figure size 432x288 with 1 Axes>"
      ]
     },
     "metadata": {
      "needs_background": "light"
     },
     "output_type": "display_data"
    },
    {
     "data": {
      "image/png": "[encoded data removed]",
      "text/plain": [
       "<Figure size 432x288 with 1 Axes>"
      ]
     },
     "metadata": {
      "needs_background": "light"
     },
     "output_type": "display_data"
    }
   ],
   "source": [
    "#Display the table of price statistics and counts by New York City burrough.\n",
    "display(df.groupby('room_type').aggregate({'room_type':'count','price':['mean', 'median','std','min','max']}))\n",
    "\n",
    "#Plot boxplot with outliers turned off.\n",
    "sb.boxplot(y = df['price'], x = df['room_type'], showfliers = False)\n",
    "plt.title('Room Type boxplot corrected \\n for interquartile rule')\n",
    "plt.show()\n",
    "sb.boxplot(y = df['price'], x = df['room_type'], showfliers = True,saturation=0.75)\n",
    "plt.title('Room Type boxplot uncorrected')\n",
    "plt.show()"
   ]
  },
  {
   "cell_type": "markdown",
   "metadata": {},
   "source": [
    "### AirBNB Listings Statistics by Borough and Room Type in NYC\n",
    "The listings dataset was aggregated by borough and room type for statistical analysis. The results underscore the need to remove outliers and illogical values from the data."
   ]
  },
  {
   "cell_type": "code",
   "execution_count": 53,
   "metadata": {},
   "outputs": [
    {
     "data": {
      "text/html": [
       "<div>\n",
       "<style scoped>\n",
       "    .dataframe tbody tr th:only-of-type {\n",
       "        vertical-align: middle;\n",
       "    }\n",
       "\n",
       "    .dataframe tbody tr th {\n",
       "        vertical-align: top;\n",
       "    }\n",
       "\n",
       "    .dataframe thead tr th {\n",
       "        text-align: left;\n",
       "    }\n",
       "\n",
       "    .dataframe thead tr:last-of-type th {\n",
       "        text-align: right;\n",
       "    }\n",
       "</style>\n",
       "<table border=\"1\" class=\"dataframe\">\n",
       "  <thead>\n",
       "    <tr>\n",
       "      <th></th>\n",
       "      <th></th>\n",
       "      <th colspan=\"6\" halign=\"left\">price</th>\n",
       "    </tr>\n",
       "    <tr>\n",
       "      <th></th>\n",
       "      <th></th>\n",
       "      <th>median</th>\n",
       "      <th>count</th>\n",
       "      <th>mean</th>\n",
       "      <th>max</th>\n",
       "      <th>std</th>\n",
       "      <th>min</th>\n",
       "    </tr>\n",
       "    <tr>\n",
       "      <th>neighbourhood_group</th>\n",
       "      <th>room_type</th>\n",
       "      <th></th>\n",
       "      <th></th>\n",
       "      <th></th>\n",
       "      <th></th>\n",
       "      <th></th>\n",
       "      <th></th>\n",
       "    </tr>\n",
       "  </thead>\n",
       "  <tbody>\n",
       "    <tr>\n",
       "      <th rowspan=\"4\" valign=\"top\">Bronx</th>\n",
       "      <th>Entire home/apt</th>\n",
       "      <td>130</td>\n",
       "      <td>736</td>\n",
       "      <td>164.569293</td>\n",
       "      <td>2000</td>\n",
       "      <td>156.115405</td>\n",
       "      <td>28</td>\n",
       "    </tr>\n",
       "    <tr>\n",
       "      <th>Hotel room</th>\n",
       "      <td>0</td>\n",
       "      <td>1</td>\n",
       "      <td>0.000000</td>\n",
       "      <td>0</td>\n",
       "      <td>NaN</td>\n",
       "      <td>0</td>\n",
       "    </tr>\n",
       "    <tr>\n",
       "      <th>Private room</th>\n",
       "      <td>65</td>\n",
       "      <td>793</td>\n",
       "      <td>90.527112</td>\n",
       "      <td>9994</td>\n",
       "      <td>356.925302</td>\n",
       "      <td>11</td>\n",
       "    </tr>\n",
       "    <tr>\n",
       "      <th>Shared room</th>\n",
       "      <td>35</td>\n",
       "      <td>38</td>\n",
       "      <td>70.447368</td>\n",
       "      <td>775</td>\n",
       "      <td>124.059423</td>\n",
       "      <td>10</td>\n",
       "    </tr>\n",
       "    <tr>\n",
       "      <th rowspan=\"4\" valign=\"top\">Brooklyn</th>\n",
       "      <th>Entire home/apt</th>\n",
       "      <td>169</td>\n",
       "      <td>8154</td>\n",
       "      <td>216.452539</td>\n",
       "      <td>7184</td>\n",
       "      <td>228.702022</td>\n",
       "      <td>30</td>\n",
       "    </tr>\n",
       "    <tr>\n",
       "      <th>Hotel room</th>\n",
       "      <td>145</td>\n",
       "      <td>9</td>\n",
       "      <td>177.555556</td>\n",
       "      <td>529</td>\n",
       "      <td>194.204860</td>\n",
       "      <td>0</td>\n",
       "    </tr>\n",
       "    <tr>\n",
       "      <th>Private room</th>\n",
       "      <td>69</td>\n",
       "      <td>6510</td>\n",
       "      <td>86.907680</td>\n",
       "      <td>10000</td>\n",
       "      <td>157.575675</td>\n",
       "      <td>10</td>\n",
       "    </tr>\n",
       "    <tr>\n",
       "      <th>Shared room</th>\n",
       "      <td>45</td>\n",
       "      <td>172</td>\n",
       "      <td>70.389535</td>\n",
       "      <td>1000</td>\n",
       "      <td>84.576582</td>\n",
       "      <td>15</td>\n",
       "    </tr>\n",
       "    <tr>\n",
       "      <th rowspan=\"4\" valign=\"top\">Manhattan</th>\n",
       "      <th>Entire home/apt</th>\n",
       "      <td>205</td>\n",
       "      <td>10862</td>\n",
       "      <td>300.645829</td>\n",
       "      <td>15000</td>\n",
       "      <td>420.865138</td>\n",
       "      <td>29</td>\n",
       "    </tr>\n",
       "    <tr>\n",
       "      <th>Hotel room</th>\n",
       "      <td>307</td>\n",
       "      <td>183</td>\n",
       "      <td>392.163934</td>\n",
       "      <td>1998</td>\n",
       "      <td>308.268374</td>\n",
       "      <td>0</td>\n",
       "    </tr>\n",
       "    <tr>\n",
       "      <th>Private room</th>\n",
       "      <td>100</td>\n",
       "      <td>5552</td>\n",
       "      <td>194.915346</td>\n",
       "      <td>16500</td>\n",
       "      <td>549.384274</td>\n",
       "      <td>10</td>\n",
       "    </tr>\n",
       "    <tr>\n",
       "      <th>Shared room</th>\n",
       "      <td>82</td>\n",
       "      <td>250</td>\n",
       "      <td>175.124000</td>\n",
       "      <td>10000</td>\n",
       "      <td>662.012440</td>\n",
       "      <td>29</td>\n",
       "    </tr>\n",
       "    <tr>\n",
       "      <th rowspan=\"4\" valign=\"top\">Queens</th>\n",
       "      <th>Entire home/apt</th>\n",
       "      <td>150</td>\n",
       "      <td>2736</td>\n",
       "      <td>191.693713</td>\n",
       "      <td>10000</td>\n",
       "      <td>245.295887</td>\n",
       "      <td>10</td>\n",
       "    </tr>\n",
       "    <tr>\n",
       "      <th>Hotel room</th>\n",
       "      <td>209</td>\n",
       "      <td>9</td>\n",
       "      <td>189.888889</td>\n",
       "      <td>282</td>\n",
       "      <td>89.324471</td>\n",
       "      <td>0</td>\n",
       "    </tr>\n",
       "    <tr>\n",
       "      <th>Private room</th>\n",
       "      <td>65</td>\n",
       "      <td>3334</td>\n",
       "      <td>83.118776</td>\n",
       "      <td>9000</td>\n",
       "      <td>169.268863</td>\n",
       "      <td>19</td>\n",
       "    </tr>\n",
       "    <tr>\n",
       "      <th>Shared room</th>\n",
       "      <td>50</td>\n",
       "      <td>96</td>\n",
       "      <td>82.093750</td>\n",
       "      <td>1250</td>\n",
       "      <td>156.164089</td>\n",
       "      <td>16</td>\n",
       "    </tr>\n",
       "    <tr>\n",
       "      <th rowspan=\"3\" valign=\"top\">Staten Island</th>\n",
       "      <th>Entire home/apt</th>\n",
       "      <td>129</td>\n",
       "      <td>273</td>\n",
       "      <td>180.487179</td>\n",
       "      <td>2500</td>\n",
       "      <td>236.437035</td>\n",
       "      <td>39</td>\n",
       "    </tr>\n",
       "    <tr>\n",
       "      <th>Private room</th>\n",
       "      <td>68</td>\n",
       "      <td>172</td>\n",
       "      <td>84.412791</td>\n",
       "      <td>500</td>\n",
       "      <td>65.521555</td>\n",
       "      <td>33</td>\n",
       "    </tr>\n",
       "    <tr>\n",
       "      <th>Shared room</th>\n",
       "      <td>59</td>\n",
       "      <td>1</td>\n",
       "      <td>59.000000</td>\n",
       "      <td>59</td>\n",
       "      <td>NaN</td>\n",
       "      <td>59</td>\n",
       "    </tr>\n",
       "  </tbody>\n",
       "</table>\n",
       "</div>"
      ],
      "text/plain": [
       "                                     price                            \\\n",
       "                                    median  count        mean    max   \n",
       "neighbourhood_group room_type                                          \n",
       "Bronx               Entire home/apt    130    736  164.569293   2000   \n",
       "                    Hotel room           0      1    0.000000      0   \n",
       "                    Private room        65    793   90.527112   9994   \n",
       "                    Shared room         35     38   70.447368    775   \n",
       "Brooklyn            Entire home/apt    169   8154  216.452539   7184   \n",
       "                    Hotel room         145      9  177.555556    529   \n",
       "                    Private room        69   6510   86.907680  10000   \n",
       "                    Shared room         45    172   70.389535   1000   \n",
       "Manhattan           Entire home/apt    205  10862  300.645829  15000   \n",
       "                    Hotel room         307    183  392.163934   1998   \n",
       "                    Private room       100   5552  194.915346  16500   \n",
       "                    Shared room         82    250  175.124000  10000   \n",
       "Queens              Entire home/apt    150   2736  191.693713  10000   \n",
       "                    Hotel room         209      9  189.888889    282   \n",
       "                    Private room        65   3334   83.118776   9000   \n",
       "                    Shared room         50     96   82.093750   1250   \n",
       "Staten Island       Entire home/apt    129    273  180.487179   2500   \n",
       "                    Private room        68    172   84.412791    500   \n",
       "                    Shared room         59      1   59.000000     59   \n",
       "\n",
       "                                                     \n",
       "                                            std min  \n",
       "neighbourhood_group room_type                        \n",
       "Bronx               Entire home/apt  156.115405  28  \n",
       "                    Hotel room              NaN   0  \n",
       "                    Private room     356.925302  11  \n",
       "                    Shared room      124.059423  10  \n",
       "Brooklyn            Entire home/apt  228.702022  30  \n",
       "                    Hotel room       194.204860   0  \n",
       "                    Private room     157.575675  10  \n",
       "                    Shared room       84.576582  15  \n",
       "Manhattan           Entire home/apt  420.865138  29  \n",
       "                    Hotel room       308.268374   0  \n",
       "                    Private room     549.384274  10  \n",
       "                    Shared room      662.012440  29  \n",
       "Queens              Entire home/apt  245.295887  10  \n",
       "                    Hotel room        89.324471   0  \n",
       "                    Private room     169.268863  19  \n",
       "                    Shared room      156.164089  16  \n",
       "Staten Island       Entire home/apt  236.437035  39  \n",
       "                    Private room      65.521555  33  \n",
       "                    Shared room             NaN  59  "
      ]
     },
     "metadata": {},
     "output_type": "display_data"
    }
   ],
   "source": [
    "#Show price statistics by neighborhood group and room type\n",
    "df_borrough = df[[ 'neighbourhood_group', 'room_type','price']]\n",
    "display(df_borrough.groupby(['neighbourhood_group', 'room_type']).aggregate({'count',\n",
    "    'mean', 'median','std', 'min', 'max'}))"
   ]
  },
  {
   "cell_type": "markdown",
   "metadata": {},
   "source": [
    "### Correlation Matrix\n",
    "A correlation matrix was conducted for the listings data. At this point, most of the factors appear to be weakly correlated with price, which is the primary variable of concern."
   ]
  },
  {
   "cell_type": "code",
   "execution_count": 54,
   "metadata": {},
   "outputs": [
    {
     "data": {
      "text/html": [
       "<div>\n",
       "<style scoped>\n",
       "    .dataframe tbody tr th:only-of-type {\n",
       "        vertical-align: middle;\n",
       "    }\n",
       "\n",
       "    .dataframe tbody tr th {\n",
       "        vertical-align: top;\n",
       "    }\n",
       "\n",
       "    .dataframe thead th {\n",
       "        text-align: right;\n",
       "    }\n",
       "</style>\n",
       "<table border=\"1\" class=\"dataframe\">\n",
       "  <thead>\n",
       "    <tr style=\"text-align: right;\">\n",
       "      <th></th>\n",
       "      <th>id</th>\n",
       "      <th>host_id</th>\n",
       "      <th>latitude</th>\n",
       "      <th>longitude</th>\n",
       "      <th>price</th>\n",
       "      <th>minimum_nights</th>\n",
       "      <th>number_of_reviews</th>\n",
       "      <th>reviews_per_month</th>\n",
       "      <th>calculated_host_listings_count</th>\n",
       "      <th>availability_365</th>\n",
       "      <th>number_of_reviews_ltm</th>\n",
       "    </tr>\n",
       "  </thead>\n",
       "  <tbody>\n",
       "    <tr>\n",
       "      <th>id</th>\n",
       "      <td>1.000000</td>\n",
       "      <td>0.335359</td>\n",
       "      <td>-0.004366</td>\n",
       "      <td>0.079277</td>\n",
       "      <td>0.047596</td>\n",
       "      <td>-0.119177</td>\n",
       "      <td>-0.185724</td>\n",
       "      <td>0.246370</td>\n",
       "      <td>0.040260</td>\n",
       "      <td>0.286508</td>\n",
       "      <td>-0.080899</td>\n",
       "    </tr>\n",
       "    <tr>\n",
       "      <th>host_id</th>\n",
       "      <td>0.335359</td>\n",
       "      <td>1.000000</td>\n",
       "      <td>0.027405</td>\n",
       "      <td>0.144694</td>\n",
       "      <td>0.039558</td>\n",
       "      <td>-0.147641</td>\n",
       "      <td>-0.095511</td>\n",
       "      <td>0.271079</td>\n",
       "      <td>-0.024191</td>\n",
       "      <td>0.247358</td>\n",
       "      <td>0.126596</td>\n",
       "    </tr>\n",
       "    <tr>\n",
       "      <th>latitude</th>\n",
       "      <td>-0.004366</td>\n",
       "      <td>0.027405</td>\n",
       "      <td>1.000000</td>\n",
       "      <td>0.048995</td>\n",
       "      <td>0.027974</td>\n",
       "      <td>0.030504</td>\n",
       "      <td>-0.033748</td>\n",
       "      <td>-0.037751</td>\n",
       "      <td>0.033737</td>\n",
       "      <td>-0.018182</td>\n",
       "      <td>-0.034825</td>\n",
       "    </tr>\n",
       "    <tr>\n",
       "      <th>longitude</th>\n",
       "      <td>0.079277</td>\n",
       "      <td>0.144694</td>\n",
       "      <td>0.048995</td>\n",
       "      <td>1.000000</td>\n",
       "      <td>-0.123122</td>\n",
       "      <td>-0.083799</td>\n",
       "      <td>0.041505</td>\n",
       "      <td>0.102208</td>\n",
       "      <td>-0.071354</td>\n",
       "      <td>0.123042</td>\n",
       "      <td>0.057616</td>\n",
       "    </tr>\n",
       "    <tr>\n",
       "      <th>price</th>\n",
       "      <td>0.047596</td>\n",
       "      <td>0.039558</td>\n",
       "      <td>0.027974</td>\n",
       "      <td>-0.123122</td>\n",
       "      <td>1.000000</td>\n",
       "      <td>-0.035304</td>\n",
       "      <td>-0.032691</td>\n",
       "      <td>0.019562</td>\n",
       "      <td>0.042761</td>\n",
       "      <td>0.095482</td>\n",
       "      <td>-0.002458</td>\n",
       "    </tr>\n",
       "    <tr>\n",
       "      <th>minimum_nights</th>\n",
       "      <td>-0.119177</td>\n",
       "      <td>-0.147641</td>\n",
       "      <td>0.030504</td>\n",
       "      <td>-0.083799</td>\n",
       "      <td>-0.035304</td>\n",
       "      <td>1.000000</td>\n",
       "      <td>-0.138135</td>\n",
       "      <td>-0.227912</td>\n",
       "      <td>0.117108</td>\n",
       "      <td>-0.061480</td>\n",
       "      <td>-0.201601</td>\n",
       "    </tr>\n",
       "    <tr>\n",
       "      <th>number_of_reviews</th>\n",
       "      <td>-0.185724</td>\n",
       "      <td>-0.095511</td>\n",
       "      <td>-0.033748</td>\n",
       "      <td>0.041505</td>\n",
       "      <td>-0.032691</td>\n",
       "      <td>-0.138135</td>\n",
       "      <td>1.000000</td>\n",
       "      <td>0.520748</td>\n",
       "      <td>-0.092435</td>\n",
       "      <td>0.085598</td>\n",
       "      <td>0.640901</td>\n",
       "    </tr>\n",
       "    <tr>\n",
       "      <th>reviews_per_month</th>\n",
       "      <td>0.246370</td>\n",
       "      <td>0.271079</td>\n",
       "      <td>-0.037751</td>\n",
       "      <td>0.102208</td>\n",
       "      <td>0.019562</td>\n",
       "      <td>-0.227912</td>\n",
       "      <td>0.520748</td>\n",
       "      <td>1.000000</td>\n",
       "      <td>-0.029656</td>\n",
       "      <td>0.209944</td>\n",
       "      <td>0.815119</td>\n",
       "    </tr>\n",
       "    <tr>\n",
       "      <th>calculated_host_listings_count</th>\n",
       "      <td>0.040260</td>\n",
       "      <td>-0.024191</td>\n",
       "      <td>0.033737</td>\n",
       "      <td>-0.071354</td>\n",
       "      <td>0.042761</td>\n",
       "      <td>0.117108</td>\n",
       "      <td>-0.092435</td>\n",
       "      <td>-0.029656</td>\n",
       "      <td>1.000000</td>\n",
       "      <td>0.125885</td>\n",
       "      <td>-0.051553</td>\n",
       "    </tr>\n",
       "    <tr>\n",
       "      <th>availability_365</th>\n",
       "      <td>0.286508</td>\n",
       "      <td>0.247358</td>\n",
       "      <td>-0.018182</td>\n",
       "      <td>0.123042</td>\n",
       "      <td>0.095482</td>\n",
       "      <td>-0.061480</td>\n",
       "      <td>0.085598</td>\n",
       "      <td>0.209944</td>\n",
       "      <td>0.125885</td>\n",
       "      <td>1.000000</td>\n",
       "      <td>0.144143</td>\n",
       "    </tr>\n",
       "    <tr>\n",
       "      <th>number_of_reviews_ltm</th>\n",
       "      <td>-0.080899</td>\n",
       "      <td>0.126596</td>\n",
       "      <td>-0.034825</td>\n",
       "      <td>0.057616</td>\n",
       "      <td>-0.002458</td>\n",
       "      <td>-0.201601</td>\n",
       "      <td>0.640901</td>\n",
       "      <td>0.815119</td>\n",
       "      <td>-0.051553</td>\n",
       "      <td>0.144143</td>\n",
       "      <td>1.000000</td>\n",
       "    </tr>\n",
       "  </tbody>\n",
       "</table>\n",
       "</div>"
      ],
      "text/plain": [
       "                                      id   host_id  latitude  longitude  \\\n",
       "id                              1.000000  0.335359 -0.004366   0.079277   \n",
       "host_id                         0.335359  1.000000  0.027405   0.144694   \n",
       "latitude                       -0.004366  0.027405  1.000000   0.048995   \n",
       "longitude                       0.079277  0.144694  0.048995   1.000000   \n",
       "price                           0.047596  0.039558  0.027974  -0.123122   \n",
       "minimum_nights                 -0.119177 -0.147641  0.030504  -0.083799   \n",
       "number_of_reviews              -0.185724 -0.095511 -0.033748   0.041505   \n",
       "reviews_per_month               0.246370  0.271079 -0.037751   0.102208   \n",
       "calculated_host_listings_count  0.040260 -0.024191  0.033737  -0.071354   \n",
       "availability_365                0.286508  0.247358 -0.018182   0.123042   \n",
       "number_of_reviews_ltm          -0.080899  0.126596 -0.034825   0.057616   \n",
       "\n",
       "                                   price  minimum_nights  number_of_reviews  \\\n",
       "id                              0.047596       -0.119177          -0.185724   \n",
       "host_id                         0.039558       -0.147641          -0.095511   \n",
       "latitude                        0.027974        0.030504          -0.033748   \n",
       "longitude                      -0.123122       -0.083799           0.041505   \n",
       "price                           1.000000       -0.035304          -0.032691   \n",
       "minimum_nights                 -0.035304        1.000000          -0.138135   \n",
       "number_of_reviews              -0.032691       -0.138135           1.000000   \n",
       "reviews_per_month               0.019562       -0.227912           0.520748   \n",
       "calculated_host_listings_count  0.042761        0.117108          -0.092435   \n",
       "availability_365                0.095482       -0.061480           0.085598   \n",
       "number_of_reviews_ltm          -0.002458       -0.201601           0.640901   \n",
       "\n",
       "                                reviews_per_month  \\\n",
       "id                                       0.246370   \n",
       "host_id                                  0.271079   \n",
       "latitude                                -0.037751   \n",
       "longitude                                0.102208   \n",
       "price                                    0.019562   \n",
       "minimum_nights                          -0.227912   \n",
       "number_of_reviews                        0.520748   \n",
       "reviews_per_month                        1.000000   \n",
       "calculated_host_listings_count          -0.029656   \n",
       "availability_365                         0.209944   \n",
       "number_of_reviews_ltm                    0.815119   \n",
       "\n",
       "                                calculated_host_listings_count  \\\n",
       "id                                                    0.040260   \n",
       "host_id                                              -0.024191   \n",
       "latitude                                              0.033737   \n",
       "longitude                                            -0.071354   \n",
       "price                                                 0.042761   \n",
       "minimum_nights                                        0.117108   \n",
       "number_of_reviews                                    -0.092435   \n",
       "reviews_per_month                                    -0.029656   \n",
       "calculated_host_listings_count                        1.000000   \n",
       "availability_365                                      0.125885   \n",
       "number_of_reviews_ltm                                -0.051553   \n",
       "\n",
       "                                availability_365  number_of_reviews_ltm  \n",
       "id                                      0.286508              -0.080899  \n",
       "host_id                                 0.247358               0.126596  \n",
       "latitude                               -0.018182              -0.034825  \n",
       "longitude                               0.123042               0.057616  \n",
       "price                                   0.095482              -0.002458  \n",
       "minimum_nights                         -0.061480              -0.201601  \n",
       "number_of_reviews                       0.085598               0.640901  \n",
       "reviews_per_month                       0.209944               0.815119  \n",
       "calculated_host_listings_count          0.125885              -0.051553  \n",
       "availability_365                        1.000000               0.144143  \n",
       "number_of_reviews_ltm                   0.144143               1.000000  "
      ]
     },
     "execution_count": 54,
     "metadata": {},
     "output_type": "execute_result"
    }
   ],
   "source": [
    "df.corr(method='pearson')"
   ]
  },
  {
   "cell_type": "markdown",
   "metadata": {},
   "source": [
    "## Map Visualization of the Distribution of Price by Neighborhood in NYC\n",
    "\n",
    "This section provides analysis on the distribution of price by neighborhood. The mean price by neighborhood was computed from the data, keyed on a geojson file and incorporated into a folium map. There are several clusters of relatively higher prices, but the most significant one is around the Manhattan area."
   ]
  },
  {
   "cell_type": "markdown",
   "metadata": {},
   "source": [
    "## Conclusion and TakeAways\n",
    "\n",
    "- Average listing prices for Manhattan tend to be the highest, followed by Brooklyn, Queens, Staten Island, and the Bronx. Most of the listings are in Manhattan, Brooklyn, and Queens.\n",
    "\n",
    "- Entire residences/apartments and private rooms comprise ~97% of the listings here. Hotels and shared rooms are less than 2% of the dataset. Hotels tend to have the highest average price followed by residences, private rooms, and lastly shared rooms. Any predictive model underlying algorithms should be differentiated by room type. In terms of business analytics utility, residences and private rooms seem to be the most promising, while hotels and shared rooms may be less useful due to the relatively limited amount of data.\n",
    "- The variability in the data is significant. The data should be disaggregated by room type, and all values greater than the 3rd quartile + (1.5 * IQR) should be removed. also, all zero values should also be removed.\n",
    "- It is hypothesized that properties closer to either Manhattan or other significant attractions will have higher list prices ceteris paribus."
   ]
  }
 ],
 "metadata": {
  "kernelspec": {
   "display_name": "Python 3",
   "language": "python",
   "name": "python3"
  },
  "language_info": {
   "codemirror_mode": {
    "name": "ipython",
    "version": 3
   },
   "file_extension": ".py",
   "mimetype": "text/x-python",
   "name": "python",
   "nbconvert_exporter": "python",
   "pygments_lexer": "ipython3",
   "version": "3.8.8"
  }
 },
 "nbformat": 4,
 "nbformat_minor": 4
}
